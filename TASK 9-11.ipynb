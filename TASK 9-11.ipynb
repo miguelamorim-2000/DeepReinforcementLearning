{
  "cells": [
    {
      "cell_type": "code",
      "source": [
        "!pip install ray"
      ],
      "metadata": {
        "id": "cTOvOOQk-tho",
        "colab": {
          "base_uri": "https://localhost:8080/"
        },
        "outputId": "e16f7f9f-113d-4f1f-ef8f-1760baa9ebb2"
      },
      "execution_count": 3,
      "outputs": [
        {
          "output_type": "stream",
          "name": "stdout",
          "text": [
            "Collecting ray\n",
            "  Downloading ray-2.21.0-cp310-cp310-manylinux2014_x86_64.whl (65.6 MB)\n",
            "\u001b[2K     \u001b[90m━━━━━━━━━━━━━━━━━━━━━━━━━━━━━━━━━━━━━━━━\u001b[0m \u001b[32m65.6/65.6 MB\u001b[0m \u001b[31m8.7 MB/s\u001b[0m eta \u001b[36m0:00:00\u001b[0m\n",
            "\u001b[?25hRequirement already satisfied: click>=7.0 in /usr/local/lib/python3.10/dist-packages (from ray) (8.1.7)\n",
            "Requirement already satisfied: filelock in /usr/local/lib/python3.10/dist-packages (from ray) (3.14.0)\n",
            "Requirement already satisfied: jsonschema in /usr/local/lib/python3.10/dist-packages (from ray) (4.19.2)\n",
            "Requirement already satisfied: msgpack<2.0.0,>=1.0.0 in /usr/local/lib/python3.10/dist-packages (from ray) (1.0.8)\n",
            "Requirement already satisfied: packaging in /usr/local/lib/python3.10/dist-packages (from ray) (24.0)\n",
            "Requirement already satisfied: protobuf!=3.19.5,>=3.15.3 in /usr/local/lib/python3.10/dist-packages (from ray) (3.20.3)\n",
            "Requirement already satisfied: pyyaml in /usr/local/lib/python3.10/dist-packages (from ray) (6.0.1)\n",
            "Requirement already satisfied: aiosignal in /usr/local/lib/python3.10/dist-packages (from ray) (1.3.1)\n",
            "Requirement already satisfied: frozenlist in /usr/local/lib/python3.10/dist-packages (from ray) (1.4.1)\n",
            "Requirement already satisfied: requests in /usr/local/lib/python3.10/dist-packages (from ray) (2.31.0)\n",
            "Requirement already satisfied: attrs>=22.2.0 in /usr/local/lib/python3.10/dist-packages (from jsonschema->ray) (23.2.0)\n",
            "Requirement already satisfied: jsonschema-specifications>=2023.03.6 in /usr/local/lib/python3.10/dist-packages (from jsonschema->ray) (2023.12.1)\n",
            "Requirement already satisfied: referencing>=0.28.4 in /usr/local/lib/python3.10/dist-packages (from jsonschema->ray) (0.35.1)\n",
            "Requirement already satisfied: rpds-py>=0.7.1 in /usr/local/lib/python3.10/dist-packages (from jsonschema->ray) (0.18.1)\n",
            "Requirement already satisfied: charset-normalizer<4,>=2 in /usr/local/lib/python3.10/dist-packages (from requests->ray) (3.3.2)\n",
            "Requirement already satisfied: idna<4,>=2.5 in /usr/local/lib/python3.10/dist-packages (from requests->ray) (3.7)\n",
            "Requirement already satisfied: urllib3<3,>=1.21.1 in /usr/local/lib/python3.10/dist-packages (from requests->ray) (2.0.7)\n",
            "Requirement already satisfied: certifi>=2017.4.17 in /usr/local/lib/python3.10/dist-packages (from requests->ray) (2024.2.2)\n",
            "Installing collected packages: ray\n",
            "Successfully installed ray-2.21.0\n"
          ]
        }
      ]
    },
    {
      "cell_type": "code",
      "source": [
        "!pip install gymnasium"
      ],
      "metadata": {
        "colab": {
          "base_uri": "https://localhost:8080/"
        },
        "id": "1qExIzgqRBG_",
        "outputId": "9c2b97e2-ab04-490a-9672-d15dbe49ea25"
      },
      "execution_count": 2,
      "outputs": [
        {
          "output_type": "stream",
          "name": "stdout",
          "text": [
            "Collecting gymnasium\n",
            "  Downloading gymnasium-0.29.1-py3-none-any.whl (953 kB)\n",
            "\u001b[2K     \u001b[90m━━━━━━━━━━━━━━━━━━━━━━━━━━━━━━━━━━━━━━━━\u001b[0m \u001b[32m953.9/953.9 kB\u001b[0m \u001b[31m5.8 MB/s\u001b[0m eta \u001b[36m0:00:00\u001b[0m\n",
            "\u001b[?25hRequirement already satisfied: numpy>=1.21.0 in /usr/local/lib/python3.10/dist-packages (from gymnasium) (1.25.2)\n",
            "Requirement already satisfied: cloudpickle>=1.2.0 in /usr/local/lib/python3.10/dist-packages (from gymnasium) (2.2.1)\n",
            "Requirement already satisfied: typing-extensions>=4.3.0 in /usr/local/lib/python3.10/dist-packages (from gymnasium) (4.11.0)\n",
            "Collecting farama-notifications>=0.0.1 (from gymnasium)\n",
            "  Downloading Farama_Notifications-0.0.4-py3-none-any.whl (2.5 kB)\n",
            "Installing collected packages: farama-notifications, gymnasium\n",
            "Successfully installed farama-notifications-0.0.4 gymnasium-0.29.1\n"
          ]
        }
      ]
    },
    {
      "cell_type": "markdown",
      "source": [
        "TASK 10"
      ],
      "metadata": {
        "id": "XPEQQ726Szd-"
      }
    },
    {
      "cell_type": "code",
      "source": [
        "import ray\n",
        "from ray import tune\n",
        "import matplotlib.pyplot as plt\n",
        "\n",
        "#initialize with gpu - not able\n",
        "ray.shutdown()\n",
        "ray.init(num_gpus=1)\n",
        "\n",
        "rewards = []\n",
        "episodes = []\n",
        "\n",
        "# function collect episode statistics\n",
        "def episode_statistics(info):\n",
        "    episode_reward_mean = info[\"episode_reward_mean\"]\n",
        "    episodes_total = info[\"episodes_total\"]\n",
        "\n",
        "    rewards.append(episode_reward_mean)\n",
        "    episodes.append(episodes_total)\n",
        "\n",
        "# callback class to get statistics\n",
        "\n",
        "class CustomCallbacks(tune.Callback):\n",
        "    def on_episode_end(self, *, worker, base_env, policies, episode, env_index, **kwargs):\n",
        "        episode_statistics(episode.custom_metrics)\n",
        "        print(f\"Episode {episode.episode_id}: Reward = {episode.total_reward}\")\n",
        "\n",
        "\n",
        "# define the training configuration\n",
        "config = {\n",
        "    \"env\": \"Breakout-v0\",\n",
        "    \"framework\": \"torch\",\n",
        "    \"lr\": 0.0005,\n",
        "    \"gamma\": 0.99,\n",
        "    \"adam_epsilon\": 1e-8,\n",
        "    \"num_atoms\": 51,\n",
        "    \"v_min\": -10,\n",
        "    \"v_max\": 10,\n",
        "    \"num_workers\": 2,\n",
        "    \"num_gpus\": 1,\n",
        "    \"max_episodes\": 100,\n",
        "    \"callbacks\": CustomCallbacks\n",
        "}\n",
        "\n",
        "# run the training with Rainbow algorithm\n",
        "analysis = tune.run(\"DQN\", name=\"Rainbow_Atari_Breakout\", config=config, stop={\"training_iteration\": 100})\n",
        "\n",
        "# plot rewards and episodes\n",
        "plt.figure(figsize=(10, 5))\n",
        "plt.plot(episodes, rewards, label=\"Mean Episode Reward\")\n",
        "plt.xlabel(\"Episodes\")\n",
        "plt.ylabel(\"Mean Episode Reward\")\n",
        "plt.title(\"Training Progress\")\n",
        "plt.legend()\n",
        "plt.grid(True)\n",
        "plt.show()\n"
      ],
      "metadata": {
        "id": "m2AwRsmz-n0S"
      },
      "execution_count": null,
      "outputs": []
    },
    {
      "cell_type": "markdown",
      "source": [
        "TASK 11"
      ],
      "metadata": {
        "id": "8AH2u6KMSwtj"
      }
    },
    {
      "cell_type": "code",
      "execution_count": null,
      "metadata": {
        "id": "mkrLXBMyTJG0",
        "colab": {
          "base_uri": "https://localhost:8080/"
        },
        "outputId": "c06b4ba8-9884-4449-e2d7-6f13cae390be"
      },
      "outputs": [
        {
          "metadata": {
            "tags": null
          },
          "name": "stderr",
          "output_type": "stream",
          "text": [
            "/usr/lib/python3.10/subprocess.py:1796: RuntimeWarning: os.fork() was called. os.fork() is incompatible with multithreaded code, and JAX is multithreaded, so this will likely lead to a deadlock.\n",
            "  self.pid = _posixsubprocess.fork_exec(\n",
            "2024-05-12 03:55:30,261\tINFO worker.py:1749 -- Started a local Ray instance.\n",
            "2024-05-12 03:55:33,417\tWARNING callback.py:136 -- The TensorboardX logger cannot be instantiated because either TensorboardX or one of it's dependencies is not installed. Please make sure you have the latest version of TensorboardX installed: `pip install -U tensorboardx`\n"
          ]
        },
        {
          "metadata": {
            "tags": null
          },
          "name": "stdout",
          "output_type": "stream",
          "text": [
            "+------------------------------------------------------------+\n",
            "| Configuration for experiment     PPO_2024-05-12_03-55-33   |\n",
            "+------------------------------------------------------------+\n",
            "| Search algorithm                 BasicVariantGenerator     |\n",
            "| Scheduler                        FIFOScheduler             |\n",
            "| Number of trials                 1                         |\n",
            "+------------------------------------------------------------+\n",
            "\n",
            "View detailed results here: /root/ray_results/PPO_2024-05-12_03-55-33\n",
            "\n",
            "Trial status: 1 PENDING\n",
            "Current time: 2024-05-12 03:55:33. Total running time: 0s\n",
            "Logical resource usage: 0/2 CPUs, 0/1 GPUs\n",
            "+-----------------------------------+\n",
            "| Trial name               status   |\n",
            "+-----------------------------------+\n",
            "| PPO_my_env_7b7f7_00000   PENDING  |\n",
            "+-----------------------------------+\n",
            "Trial status: 1 PENDING\n",
            "Current time: 2024-05-12 03:56:03. Total running time: 30s\n",
            "Logical resource usage: 0/2 CPUs, 0/1 GPUs\n",
            "+-----------------------------------+\n",
            "| Trial name               status   |\n",
            "+-----------------------------------+\n",
            "| PPO_my_env_7b7f7_00000   PENDING  |\n",
            "+-----------------------------------+\n"
          ]
        },
        {
          "metadata": {
            "tags": null
          },
          "name": "stderr",
          "output_type": "stream",
          "text": [
            "2024-05-12 03:56:33,784\tWARNING insufficient_resources_manager.py:163 -- Ignore this message if the cluster is autoscaling. No trial is running and no new trial has been started within the last 60 seconds. This could be due to the cluster not having enough resources available. You asked for 5.0 CPUs and 1.0 GPUs per trial, but the cluster only has 2.0 CPUs and 1.0 GPUs available. Stop the tuning and adjust the required resources (e.g. via the `ScalingConfig` or `resources_per_trial`, or `num_workers` for rllib), or add more resources to your cluster.\n"
          ]
        },
        {
          "metadata": {
            "tags": null
          },
          "name": "stdout",
          "output_type": "stream",
          "text": [
            "Trial status: 1 PENDING\n",
            "Current time: 2024-05-12 03:56:33. Total running time: 1min 0s\n",
            "Logical resource usage: 0/2 CPUs, 0/1 GPUs\n",
            "+-----------------------------------+\n",
            "| Trial name               status   |\n",
            "+-----------------------------------+\n",
            "| PPO_my_env_7b7f7_00000   PENDING  |\n",
            "+-----------------------------------+\n",
            "Trial status: 1 PENDING\n",
            "Current time: 2024-05-12 03:57:03. Total running time: 1min 30s\n",
            "Logical resource usage: 0/2 CPUs, 0/1 GPUs\n",
            "+-----------------------------------+\n",
            "| Trial name               status   |\n",
            "+-----------------------------------+\n",
            "| PPO_my_env_7b7f7_00000   PENDING  |\n",
            "+-----------------------------------+\n"
          ]
        },
        {
          "metadata": {
            "tags": null
          },
          "name": "stderr",
          "output_type": "stream",
          "text": [
            "2024-05-12 03:57:33,862\tWARNING insufficient_resources_manager.py:163 -- Ignore this message if the cluster is autoscaling. No trial is running and no new trial has been started within the last 60 seconds. This could be due to the cluster not having enough resources available. You asked for 5.0 CPUs and 1.0 GPUs per trial, but the cluster only has 2.0 CPUs and 1.0 GPUs available. Stop the tuning and adjust the required resources (e.g. via the `ScalingConfig` or `resources_per_trial`, or `num_workers` for rllib), or add more resources to your cluster.\n"
          ]
        },
        {
          "metadata": {
            "tags": null
          },
          "name": "stdout",
          "output_type": "stream",
          "text": [
            "Trial status: 1 PENDING\n",
            "Current time: 2024-05-12 03:57:33. Total running time: 2min 0s\n",
            "Logical resource usage: 0/2 CPUs, 0/1 GPUs\n",
            "+-----------------------------------+\n",
            "| Trial name               status   |\n",
            "+-----------------------------------+\n",
            "| PPO_my_env_7b7f7_00000   PENDING  |\n",
            "+-----------------------------------+\n",
            "Trial status: 1 PENDING\n",
            "Current time: 2024-05-12 03:58:04. Total running time: 2min 30s\n",
            "Logical resource usage: 0/2 CPUs, 0/1 GPUs\n",
            "+-----------------------------------+\n",
            "| Trial name               status   |\n",
            "+-----------------------------------+\n",
            "| PPO_my_env_7b7f7_00000   PENDING  |\n",
            "+-----------------------------------+\n"
          ]
        },
        {
          "metadata": {
            "tags": null
          },
          "name": "stderr",
          "output_type": "stream",
          "text": [
            "2024-05-12 03:58:33,953\tWARNING insufficient_resources_manager.py:163 -- Ignore this message if the cluster is autoscaling. No trial is running and no new trial has been started within the last 60 seconds. This could be due to the cluster not having enough resources available. You asked for 5.0 CPUs and 1.0 GPUs per trial, but the cluster only has 2.0 CPUs and 1.0 GPUs available. Stop the tuning and adjust the required resources (e.g. via the `ScalingConfig` or `resources_per_trial`, or `num_workers` for rllib), or add more resources to your cluster.\n"
          ]
        },
        {
          "metadata": {
            "tags": null
          },
          "name": "stdout",
          "output_type": "stream",
          "text": [
            "Trial status: 1 PENDING\n",
            "Current time: 2024-05-12 03:58:34. Total running time: 3min 0s\n",
            "Logical resource usage: 0/2 CPUs, 0/1 GPUs\n",
            "+-----------------------------------+\n",
            "| Trial name               status   |\n",
            "+-----------------------------------+\n",
            "| PPO_my_env_7b7f7_00000   PENDING  |\n",
            "+-----------------------------------+\n",
            "Trial status: 1 PENDING\n",
            "Current time: 2024-05-12 03:59:04. Total running time: 3min 30s\n",
            "Logical resource usage: 0/2 CPUs, 0/1 GPUs\n",
            "+-----------------------------------+\n",
            "| Trial name               status   |\n",
            "+-----------------------------------+\n",
            "| PPO_my_env_7b7f7_00000   PENDING  |\n",
            "+-----------------------------------+\n"
          ]
        },
        {
          "metadata": {
            "tags": null
          },
          "name": "stderr",
          "output_type": "stream",
          "text": [
            "2024-05-12 03:59:33,985\tWARNING insufficient_resources_manager.py:163 -- Ignore this message if the cluster is autoscaling. No trial is running and no new trial has been started within the last 60 seconds. This could be due to the cluster not having enough resources available. You asked for 5.0 CPUs and 1.0 GPUs per trial, but the cluster only has 2.0 CPUs and 1.0 GPUs available. Stop the tuning and adjust the required resources (e.g. via the `ScalingConfig` or `resources_per_trial`, or `num_workers` for rllib), or add more resources to your cluster.\n"
          ]
        },
        {
          "metadata": {
            "tags": null
          },
          "name": "stdout",
          "output_type": "stream",
          "text": [
            "Trial status: 1 PENDING\n",
            "Current time: 2024-05-12 03:59:34. Total running time: 4min 0s\n",
            "Logical resource usage: 0/2 CPUs, 0/1 GPUs\n",
            "+-----------------------------------+\n",
            "| Trial name               status   |\n",
            "+-----------------------------------+\n",
            "| PPO_my_env_7b7f7_00000   PENDING  |\n",
            "+-----------------------------------+\n",
            "Trial status: 1 PENDING\n",
            "Current time: 2024-05-12 04:00:04. Total running time: 4min 30s\n",
            "Logical resource usage: 0/2 CPUs, 0/1 GPUs\n",
            "+-----------------------------------+\n",
            "| Trial name               status   |\n",
            "+-----------------------------------+\n",
            "| PPO_my_env_7b7f7_00000   PENDING  |\n",
            "+-----------------------------------+\n"
          ]
        },
        {
          "metadata": {
            "tags": null
          },
          "name": "stderr",
          "output_type": "stream",
          "text": [
            "2024-05-12 04:00:34,086\tWARNING insufficient_resources_manager.py:163 -- Ignore this message if the cluster is autoscaling. No trial is running and no new trial has been started within the last 60 seconds. This could be due to the cluster not having enough resources available. You asked for 5.0 CPUs and 1.0 GPUs per trial, but the cluster only has 2.0 CPUs and 1.0 GPUs available. Stop the tuning and adjust the required resources (e.g. via the `ScalingConfig` or `resources_per_trial`, or `num_workers` for rllib), or add more resources to your cluster.\n"
          ]
        },
        {
          "metadata": {
            "tags": null
          },
          "name": "stdout",
          "output_type": "stream",
          "text": [
            "Trial status: 1 PENDING\n",
            "Current time: 2024-05-12 04:00:34. Total running time: 5min 0s\n",
            "Logical resource usage: 0/2 CPUs, 0/1 GPUs\n",
            "+-----------------------------------+\n",
            "| Trial name               status   |\n",
            "+-----------------------------------+\n",
            "| PPO_my_env_7b7f7_00000   PENDING  |\n",
            "+-----------------------------------+\n",
            "Trial status: 1 PENDING\n",
            "Current time: 2024-05-12 04:01:04. Total running time: 5min 31s\n",
            "Logical resource usage: 0/2 CPUs, 0/1 GPUs\n",
            "+-----------------------------------+\n",
            "| Trial name               status   |\n",
            "+-----------------------------------+\n",
            "| PPO_my_env_7b7f7_00000   PENDING  |\n",
            "+-----------------------------------+\n"
          ]
        },
        {
          "metadata": {
            "tags": null
          },
          "name": "stderr",
          "output_type": "stream",
          "text": [
            "2024-05-12 04:01:34,157\tWARNING insufficient_resources_manager.py:163 -- Ignore this message if the cluster is autoscaling. No trial is running and no new trial has been started within the last 60 seconds. This could be due to the cluster not having enough resources available. You asked for 5.0 CPUs and 1.0 GPUs per trial, but the cluster only has 2.0 CPUs and 1.0 GPUs available. Stop the tuning and adjust the required resources (e.g. via the `ScalingConfig` or `resources_per_trial`, or `num_workers` for rllib), or add more resources to your cluster.\n"
          ]
        },
        {
          "metadata": {
            "tags": null
          },
          "name": "stdout",
          "output_type": "stream",
          "text": [
            "Trial status: 1 PENDING\n",
            "Current time: 2024-05-12 04:01:34. Total running time: 6min 1s\n",
            "Logical resource usage: 0/2 CPUs, 0/1 GPUs\n",
            "+-----------------------------------+\n",
            "| Trial name               status   |\n",
            "+-----------------------------------+\n",
            "| PPO_my_env_7b7f7_00000   PENDING  |\n",
            "+-----------------------------------+\n",
            "Trial status: 1 PENDING\n",
            "Current time: 2024-05-12 04:02:04. Total running time: 6min 31s\n",
            "Logical resource usage: 0/2 CPUs, 0/1 GPUs\n",
            "+-----------------------------------+\n",
            "| Trial name               status   |\n",
            "+-----------------------------------+\n",
            "| PPO_my_env_7b7f7_00000   PENDING  |\n",
            "+-----------------------------------+\n"
          ]
        },
        {
          "metadata": {
            "tags": null
          },
          "name": "stderr",
          "output_type": "stream",
          "text": [
            "2024-05-12 04:02:34,237\tWARNING insufficient_resources_manager.py:163 -- Ignore this message if the cluster is autoscaling. No trial is running and no new trial has been started within the last 60 seconds. This could be due to the cluster not having enough resources available. You asked for 5.0 CPUs and 1.0 GPUs per trial, but the cluster only has 2.0 CPUs and 1.0 GPUs available. Stop the tuning and adjust the required resources (e.g. via the `ScalingConfig` or `resources_per_trial`, or `num_workers` for rllib), or add more resources to your cluster.\n"
          ]
        },
        {
          "metadata": {
            "tags": null
          },
          "name": "stdout",
          "output_type": "stream",
          "text": [
            "Trial status: 1 PENDING\n",
            "Current time: 2024-05-12 04:02:34. Total running time: 7min 1s\n",
            "Logical resource usage: 0/2 CPUs, 0/1 GPUs\n",
            "+-----------------------------------+\n",
            "| Trial name               status   |\n",
            "+-----------------------------------+\n",
            "| PPO_my_env_7b7f7_00000   PENDING  |\n",
            "+-----------------------------------+\n",
            "Trial status: 1 PENDING\n",
            "Current time: 2024-05-12 04:03:04. Total running time: 7min 31s\n",
            "Logical resource usage: 0/2 CPUs, 0/1 GPUs\n",
            "+-----------------------------------+\n",
            "| Trial name               status   |\n",
            "+-----------------------------------+\n",
            "| PPO_my_env_7b7f7_00000   PENDING  |\n",
            "+-----------------------------------+\n"
          ]
        },
        {
          "metadata": {
            "tags": null
          },
          "name": "stderr",
          "output_type": "stream",
          "text": [
            "2024-05-12 04:03:34,287\tWARNING insufficient_resources_manager.py:163 -- Ignore this message if the cluster is autoscaling. No trial is running and no new trial has been started within the last 60 seconds. This could be due to the cluster not having enough resources available. You asked for 5.0 CPUs and 1.0 GPUs per trial, but the cluster only has 2.0 CPUs and 1.0 GPUs available. Stop the tuning and adjust the required resources (e.g. via the `ScalingConfig` or `resources_per_trial`, or `num_workers` for rllib), or add more resources to your cluster.\n"
          ]
        },
        {
          "metadata": {
            "tags": null
          },
          "name": "stdout",
          "output_type": "stream",
          "text": [
            "Trial status: 1 PENDING\n",
            "Current time: 2024-05-12 04:03:34. Total running time: 8min 1s\n",
            "Logical resource usage: 0/2 CPUs, 0/1 GPUs\n",
            "+-----------------------------------+\n",
            "| Trial name               status   |\n",
            "+-----------------------------------+\n",
            "| PPO_my_env_7b7f7_00000   PENDING  |\n",
            "+-----------------------------------+\n",
            "Trial status: 1 PENDING\n",
            "Current time: 2024-05-12 04:04:04. Total running time: 8min 31s\n",
            "Logical resource usage: 0/2 CPUs, 0/1 GPUs\n",
            "+-----------------------------------+\n",
            "| Trial name               status   |\n",
            "+-----------------------------------+\n",
            "| PPO_my_env_7b7f7_00000   PENDING  |\n",
            "+-----------------------------------+\n"
          ]
        },
        {
          "metadata": {
            "tags": null
          },
          "name": "stderr",
          "output_type": "stream",
          "text": [
            "2024-05-12 04:04:34,362\tWARNING insufficient_resources_manager.py:163 -- Ignore this message if the cluster is autoscaling. No trial is running and no new trial has been started within the last 60 seconds. This could be due to the cluster not having enough resources available. You asked for 5.0 CPUs and 1.0 GPUs per trial, but the cluster only has 2.0 CPUs and 1.0 GPUs available. Stop the tuning and adjust the required resources (e.g. via the `ScalingConfig` or `resources_per_trial`, or `num_workers` for rllib), or add more resources to your cluster.\n"
          ]
        },
        {
          "metadata": {
            "tags": null
          },
          "name": "stdout",
          "output_type": "stream",
          "text": [
            "Trial status: 1 PENDING\n",
            "Current time: 2024-05-12 04:04:35. Total running time: 9min 1s\n",
            "Logical resource usage: 0/2 CPUs, 0/1 GPUs\n",
            "+-----------------------------------+\n",
            "| Trial name               status   |\n",
            "+-----------------------------------+\n",
            "| PPO_my_env_7b7f7_00000   PENDING  |\n",
            "+-----------------------------------+\n",
            "Trial status: 1 PENDING\n",
            "Current time: 2024-05-12 04:05:05. Total running time: 9min 31s\n",
            "Logical resource usage: 0/2 CPUs, 0/1 GPUs\n",
            "+-----------------------------------+\n",
            "| Trial name               status   |\n",
            "+-----------------------------------+\n",
            "| PPO_my_env_7b7f7_00000   PENDING  |\n",
            "+-----------------------------------+\n"
          ]
        },
        {
          "metadata": {
            "tags": null
          },
          "name": "stderr",
          "output_type": "stream",
          "text": [
            "2024-05-12 04:05:34,458\tWARNING insufficient_resources_manager.py:163 -- Ignore this message if the cluster is autoscaling. No trial is running and no new trial has been started within the last 60 seconds. This could be due to the cluster not having enough resources available. You asked for 5.0 CPUs and 1.0 GPUs per trial, but the cluster only has 2.0 CPUs and 1.0 GPUs available. Stop the tuning and adjust the required resources (e.g. via the `ScalingConfig` or `resources_per_trial`, or `num_workers` for rllib), or add more resources to your cluster.\n"
          ]
        },
        {
          "metadata": {
            "tags": null
          },
          "name": "stdout",
          "output_type": "stream",
          "text": [
            "Trial status: 1 PENDING\n",
            "Current time: 2024-05-12 04:05:35. Total running time: 10min 1s\n",
            "Logical resource usage: 0/2 CPUs, 0/1 GPUs\n",
            "+-----------------------------------+\n",
            "| Trial name               status   |\n",
            "+-----------------------------------+\n",
            "| PPO_my_env_7b7f7_00000   PENDING  |\n",
            "+-----------------------------------+\n",
            "Trial status: 1 PENDING\n",
            "Current time: 2024-05-12 04:06:05. Total running time: 10min 31s\n",
            "Logical resource usage: 0/2 CPUs, 0/1 GPUs\n",
            "+-----------------------------------+\n",
            "| Trial name               status   |\n",
            "+-----------------------------------+\n",
            "| PPO_my_env_7b7f7_00000   PENDING  |\n",
            "+-----------------------------------+\n"
          ]
        },
        {
          "metadata": {
            "tags": null
          },
          "name": "stderr",
          "output_type": "stream",
          "text": [
            "2024-05-12 04:06:34,543\tWARNING insufficient_resources_manager.py:163 -- Ignore this message if the cluster is autoscaling. No trial is running and no new trial has been started within the last 60 seconds. This could be due to the cluster not having enough resources available. You asked for 5.0 CPUs and 1.0 GPUs per trial, but the cluster only has 2.0 CPUs and 1.0 GPUs available. Stop the tuning and adjust the required resources (e.g. via the `ScalingConfig` or `resources_per_trial`, or `num_workers` for rllib), or add more resources to your cluster.\n"
          ]
        },
        {
          "metadata": {
            "tags": null
          },
          "name": "stdout",
          "output_type": "stream",
          "text": [
            "Trial status: 1 PENDING\n",
            "Current time: 2024-05-12 04:06:35. Total running time: 11min 1s\n",
            "Logical resource usage: 0/2 CPUs, 0/1 GPUs\n",
            "+-----------------------------------+\n",
            "| Trial name               status   |\n",
            "+-----------------------------------+\n",
            "| PPO_my_env_7b7f7_00000   PENDING  |\n",
            "+-----------------------------------+\n",
            "Trial status: 1 PENDING\n",
            "Current time: 2024-05-12 04:07:05. Total running time: 11min 31s\n",
            "Logical resource usage: 0/2 CPUs, 0/1 GPUs\n",
            "+-----------------------------------+\n",
            "| Trial name               status   |\n",
            "+-----------------------------------+\n",
            "| PPO_my_env_7b7f7_00000   PENDING  |\n",
            "+-----------------------------------+\n"
          ]
        },
        {
          "metadata": {
            "tags": null
          },
          "name": "stderr",
          "output_type": "stream",
          "text": [
            "2024-05-12 04:07:34,614\tWARNING insufficient_resources_manager.py:163 -- Ignore this message if the cluster is autoscaling. No trial is running and no new trial has been started within the last 60 seconds. This could be due to the cluster not having enough resources available. You asked for 5.0 CPUs and 1.0 GPUs per trial, but the cluster only has 2.0 CPUs and 1.0 GPUs available. Stop the tuning and adjust the required resources (e.g. via the `ScalingConfig` or `resources_per_trial`, or `num_workers` for rllib), or add more resources to your cluster.\n"
          ]
        },
        {
          "metadata": {
            "tags": null
          },
          "name": "stdout",
          "output_type": "stream",
          "text": [
            "Trial status: 1 PENDING\n",
            "Current time: 2024-05-12 04:07:35. Total running time: 12min 2s\n",
            "Logical resource usage: 0/2 CPUs, 0/1 GPUs\n",
            "+-----------------------------------+\n",
            "| Trial name               status   |\n",
            "+-----------------------------------+\n",
            "| PPO_my_env_7b7f7_00000   PENDING  |\n",
            "+-----------------------------------+\n",
            "Trial status: 1 PENDING\n",
            "Current time: 2024-05-12 04:08:05. Total running time: 12min 32s\n",
            "Logical resource usage: 0/2 CPUs, 0/1 GPUs\n",
            "+-----------------------------------+\n",
            "| Trial name               status   |\n",
            "+-----------------------------------+\n",
            "| PPO_my_env_7b7f7_00000   PENDING  |\n",
            "+-----------------------------------+\n"
          ]
        },
        {
          "metadata": {
            "tags": null
          },
          "name": "stderr",
          "output_type": "stream",
          "text": [
            "2024-05-12 04:08:34,706\tWARNING insufficient_resources_manager.py:163 -- Ignore this message if the cluster is autoscaling. No trial is running and no new trial has been started within the last 60 seconds. This could be due to the cluster not having enough resources available. You asked for 5.0 CPUs and 1.0 GPUs per trial, but the cluster only has 2.0 CPUs and 1.0 GPUs available. Stop the tuning and adjust the required resources (e.g. via the `ScalingConfig` or `resources_per_trial`, or `num_workers` for rllib), or add more resources to your cluster.\n"
          ]
        },
        {
          "metadata": {
            "tags": null
          },
          "name": "stdout",
          "output_type": "stream",
          "text": [
            "Trial status: 1 PENDING\n",
            "Current time: 2024-05-12 04:08:35. Total running time: 13min 2s\n",
            "Logical resource usage: 0/2 CPUs, 0/1 GPUs\n",
            "+-----------------------------------+\n",
            "| Trial name               status   |\n",
            "+-----------------------------------+\n",
            "| PPO_my_env_7b7f7_00000   PENDING  |\n",
            "+-----------------------------------+\n",
            "Trial status: 1 PENDING\n",
            "Current time: 2024-05-12 04:09:05. Total running time: 13min 32s\n",
            "Logical resource usage: 0/2 CPUs, 0/1 GPUs\n",
            "+-----------------------------------+\n",
            "| Trial name               status   |\n",
            "+-----------------------------------+\n",
            "| PPO_my_env_7b7f7_00000   PENDING  |\n",
            "+-----------------------------------+\n"
          ]
        },
        {
          "metadata": {
            "tags": null
          },
          "name": "stderr",
          "output_type": "stream",
          "text": [
            "2024-05-12 04:09:34,785\tWARNING insufficient_resources_manager.py:163 -- Ignore this message if the cluster is autoscaling. No trial is running and no new trial has been started within the last 60 seconds. This could be due to the cluster not having enough resources available. You asked for 5.0 CPUs and 1.0 GPUs per trial, but the cluster only has 2.0 CPUs and 1.0 GPUs available. Stop the tuning and adjust the required resources (e.g. via the `ScalingConfig` or `resources_per_trial`, or `num_workers` for rllib), or add more resources to your cluster.\n"
          ]
        },
        {
          "metadata": {
            "tags": null
          },
          "name": "stdout",
          "output_type": "stream",
          "text": [
            "Trial status: 1 PENDING\n",
            "Current time: 2024-05-12 04:09:35. Total running time: 14min 2s\n",
            "Logical resource usage: 0/2 CPUs, 0/1 GPUs\n",
            "+-----------------------------------+\n",
            "| Trial name               status   |\n",
            "+-----------------------------------+\n",
            "| PPO_my_env_7b7f7_00000   PENDING  |\n",
            "+-----------------------------------+\n",
            "Trial status: 1 PENDING\n",
            "Current time: 2024-05-12 04:10:05. Total running time: 14min 32s\n",
            "Logical resource usage: 0/2 CPUs, 0/1 GPUs\n",
            "+-----------------------------------+\n",
            "| Trial name               status   |\n",
            "+-----------------------------------+\n",
            "| PPO_my_env_7b7f7_00000   PENDING  |\n",
            "+-----------------------------------+\n"
          ]
        },
        {
          "metadata": {
            "tags": null
          },
          "name": "stderr",
          "output_type": "stream",
          "text": [
            "2024-05-12 04:10:34,861\tWARNING insufficient_resources_manager.py:163 -- Ignore this message if the cluster is autoscaling. No trial is running and no new trial has been started within the last 60 seconds. This could be due to the cluster not having enough resources available. You asked for 5.0 CPUs and 1.0 GPUs per trial, but the cluster only has 2.0 CPUs and 1.0 GPUs available. Stop the tuning and adjust the required resources (e.g. via the `ScalingConfig` or `resources_per_trial`, or `num_workers` for rllib), or add more resources to your cluster.\n"
          ]
        },
        {
          "metadata": {
            "tags": null
          },
          "name": "stdout",
          "output_type": "stream",
          "text": [
            "Trial status: 1 PENDING\n",
            "Current time: 2024-05-12 04:10:35. Total running time: 15min 2s\n",
            "Logical resource usage: 0/2 CPUs, 0/1 GPUs\n",
            "+-----------------------------------+\n",
            "| Trial name               status   |\n",
            "+-----------------------------------+\n",
            "| PPO_my_env_7b7f7_00000   PENDING  |\n",
            "+-----------------------------------+\n",
            "Trial status: 1 PENDING\n",
            "Current time: 2024-05-12 04:11:06. Total running time: 15min 32s\n",
            "Logical resource usage: 0/2 CPUs, 0/1 GPUs\n",
            "+-----------------------------------+\n",
            "| Trial name               status   |\n",
            "+-----------------------------------+\n",
            "| PPO_my_env_7b7f7_00000   PENDING  |\n",
            "+-----------------------------------+\n"
          ]
        },
        {
          "metadata": {
            "tags": null
          },
          "name": "stderr",
          "output_type": "stream",
          "text": [
            "2024-05-12 04:11:34,936\tWARNING insufficient_resources_manager.py:163 -- Ignore this message if the cluster is autoscaling. No trial is running and no new trial has been started within the last 60 seconds. This could be due to the cluster not having enough resources available. You asked for 5.0 CPUs and 1.0 GPUs per trial, but the cluster only has 2.0 CPUs and 1.0 GPUs available. Stop the tuning and adjust the required resources (e.g. via the `ScalingConfig` or `resources_per_trial`, or `num_workers` for rllib), or add more resources to your cluster.\n"
          ]
        },
        {
          "metadata": {
            "tags": null
          },
          "name": "stdout",
          "output_type": "stream",
          "text": [
            "Trial status: 1 PENDING\n",
            "Current time: 2024-05-12 04:11:36. Total running time: 16min 2s\n",
            "Logical resource usage: 0/2 CPUs, 0/1 GPUs\n",
            "+-----------------------------------+\n",
            "| Trial name               status   |\n",
            "+-----------------------------------+\n",
            "| PPO_my_env_7b7f7_00000   PENDING  |\n",
            "+-----------------------------------+\n",
            "Trial status: 1 PENDING\n",
            "Current time: 2024-05-12 04:12:06. Total running time: 16min 32s\n",
            "Logical resource usage: 0/2 CPUs, 0/1 GPUs\n",
            "+-----------------------------------+\n",
            "| Trial name               status   |\n",
            "+-----------------------------------+\n",
            "| PPO_my_env_7b7f7_00000   PENDING  |\n",
            "+-----------------------------------+\n"
          ]
        },
        {
          "metadata": {
            "tags": null
          },
          "name": "stderr",
          "output_type": "stream",
          "text": [
            "2024-05-12 04:12:34,971\tWARNING insufficient_resources_manager.py:163 -- Ignore this message if the cluster is autoscaling. No trial is running and no new trial has been started within the last 60 seconds. This could be due to the cluster not having enough resources available. You asked for 5.0 CPUs and 1.0 GPUs per trial, but the cluster only has 2.0 CPUs and 1.0 GPUs available. Stop the tuning and adjust the required resources (e.g. via the `ScalingConfig` or `resources_per_trial`, or `num_workers` for rllib), or add more resources to your cluster.\n"
          ]
        },
        {
          "metadata": {
            "tags": null
          },
          "name": "stdout",
          "output_type": "stream",
          "text": [
            "Trial status: 1 PENDING\n",
            "Current time: 2024-05-12 04:12:36. Total running time: 17min 2s\n",
            "Logical resource usage: 0/2 CPUs, 0/1 GPUs\n",
            "+-----------------------------------+\n",
            "| Trial name               status   |\n",
            "+-----------------------------------+\n",
            "| PPO_my_env_7b7f7_00000   PENDING  |\n",
            "+-----------------------------------+\n",
            "Trial status: 1 PENDING\n",
            "Current time: 2024-05-12 04:13:06. Total running time: 17min 32s\n",
            "Logical resource usage: 0/2 CPUs, 0/1 GPUs\n",
            "+-----------------------------------+\n",
            "| Trial name               status   |\n",
            "+-----------------------------------+\n",
            "| PPO_my_env_7b7f7_00000   PENDING  |\n",
            "+-----------------------------------+\n"
          ]
        },
        {
          "metadata": {
            "tags": null
          },
          "name": "stderr",
          "output_type": "stream",
          "text": [
            "2024-05-12 04:13:35,019\tWARNING insufficient_resources_manager.py:163 -- Ignore this message if the cluster is autoscaling. No trial is running and no new trial has been started within the last 60 seconds. This could be due to the cluster not having enough resources available. You asked for 5.0 CPUs and 1.0 GPUs per trial, but the cluster only has 2.0 CPUs and 1.0 GPUs available. Stop the tuning and adjust the required resources (e.g. via the `ScalingConfig` or `resources_per_trial`, or `num_workers` for rllib), or add more resources to your cluster.\n"
          ]
        },
        {
          "metadata": {
            "tags": null
          },
          "name": "stdout",
          "output_type": "stream",
          "text": [
            "Trial status: 1 PENDING\n",
            "Current time: 2024-05-12 04:13:36. Total running time: 18min 2s\n",
            "Logical resource usage: 0/2 CPUs, 0/1 GPUs\n",
            "+-----------------------------------+\n",
            "| Trial name               status   |\n",
            "+-----------------------------------+\n",
            "| PPO_my_env_7b7f7_00000   PENDING  |\n",
            "+-----------------------------------+\n",
            "Trial status: 1 PENDING\n",
            "Current time: 2024-05-12 04:14:06. Total running time: 18min 32s\n",
            "Logical resource usage: 0/2 CPUs, 0/1 GPUs\n",
            "+-----------------------------------+\n",
            "| Trial name               status   |\n",
            "+-----------------------------------+\n",
            "| PPO_my_env_7b7f7_00000   PENDING  |\n",
            "+-----------------------------------+\n"
          ]
        },
        {
          "metadata": {
            "tags": null
          },
          "name": "stderr",
          "output_type": "stream",
          "text": [
            "2024-05-12 04:14:35,033\tWARNING insufficient_resources_manager.py:163 -- Ignore this message if the cluster is autoscaling. No trial is running and no new trial has been started within the last 60 seconds. This could be due to the cluster not having enough resources available. You asked for 5.0 CPUs and 1.0 GPUs per trial, but the cluster only has 2.0 CPUs and 1.0 GPUs available. Stop the tuning and adjust the required resources (e.g. via the `ScalingConfig` or `resources_per_trial`, or `num_workers` for rllib), or add more resources to your cluster.\n"
          ]
        },
        {
          "metadata": {
            "tags": null
          },
          "name": "stdout",
          "output_type": "stream",
          "text": [
            "Trial status: 1 PENDING\n",
            "Current time: 2024-05-12 04:14:36. Total running time: 19min 2s\n",
            "Logical resource usage: 0/2 CPUs, 0/1 GPUs\n",
            "+-----------------------------------+\n",
            "| Trial name               status   |\n",
            "+-----------------------------------+\n",
            "| PPO_my_env_7b7f7_00000   PENDING  |\n",
            "+-----------------------------------+\n",
            "Trial status: 1 PENDING\n",
            "Current time: 2024-05-12 04:15:06. Total running time: 19min 32s\n",
            "Logical resource usage: 0/2 CPUs, 0/1 GPUs\n",
            "+-----------------------------------+\n",
            "| Trial name               status   |\n",
            "+-----------------------------------+\n",
            "| PPO_my_env_7b7f7_00000   PENDING  |\n",
            "+-----------------------------------+\n"
          ]
        },
        {
          "metadata": {
            "tags": null
          },
          "name": "stderr",
          "output_type": "stream",
          "text": [
            "2024-05-12 04:15:35,054\tWARNING insufficient_resources_manager.py:163 -- Ignore this message if the cluster is autoscaling. No trial is running and no new trial has been started within the last 60 seconds. This could be due to the cluster not having enough resources available. You asked for 5.0 CPUs and 1.0 GPUs per trial, but the cluster only has 2.0 CPUs and 1.0 GPUs available. Stop the tuning and adjust the required resources (e.g. via the `ScalingConfig` or `resources_per_trial`, or `num_workers` for rllib), or add more resources to your cluster.\n"
          ]
        },
        {
          "metadata": {
            "tags": null
          },
          "name": "stdout",
          "output_type": "stream",
          "text": [
            "Trial status: 1 PENDING\n",
            "Current time: 2024-05-12 04:15:36. Total running time: 20min 2s\n",
            "Logical resource usage: 0/2 CPUs, 0/1 GPUs\n",
            "+-----------------------------------+\n",
            "| Trial name               status   |\n",
            "+-----------------------------------+\n",
            "| PPO_my_env_7b7f7_00000   PENDING  |\n",
            "+-----------------------------------+\n",
            "Trial status: 1 PENDING\n",
            "Current time: 2024-05-12 04:16:06. Total running time: 20min 32s\n",
            "Logical resource usage: 0/2 CPUs, 0/1 GPUs\n",
            "+-----------------------------------+\n",
            "| Trial name               status   |\n",
            "+-----------------------------------+\n",
            "| PPO_my_env_7b7f7_00000   PENDING  |\n",
            "+-----------------------------------+\n"
          ]
        },
        {
          "metadata": {
            "tags": null
          },
          "name": "stderr",
          "output_type": "stream",
          "text": [
            "2024-05-12 04:16:35,075\tWARNING insufficient_resources_manager.py:163 -- Ignore this message if the cluster is autoscaling. No trial is running and no new trial has been started within the last 60 seconds. This could be due to the cluster not having enough resources available. You asked for 5.0 CPUs and 1.0 GPUs per trial, but the cluster only has 2.0 CPUs and 1.0 GPUs available. Stop the tuning and adjust the required resources (e.g. via the `ScalingConfig` or `resources_per_trial`, or `num_workers` for rllib), or add more resources to your cluster.\n"
          ]
        },
        {
          "metadata": {
            "tags": null
          },
          "name": "stdout",
          "output_type": "stream",
          "text": [
            "Trial status: 1 PENDING\n",
            "Current time: 2024-05-12 04:16:36. Total running time: 21min 2s\n",
            "Logical resource usage: 0/2 CPUs, 0/1 GPUs\n",
            "+-----------------------------------+\n",
            "| Trial name               status   |\n",
            "+-----------------------------------+\n",
            "| PPO_my_env_7b7f7_00000   PENDING  |\n",
            "+-----------------------------------+\n",
            "Trial status: 1 PENDING\n",
            "Current time: 2024-05-12 04:17:06. Total running time: 21min 32s\n",
            "Logical resource usage: 0/2 CPUs, 0/1 GPUs\n",
            "+-----------------------------------+\n",
            "| Trial name               status   |\n",
            "+-----------------------------------+\n",
            "| PPO_my_env_7b7f7_00000   PENDING  |\n",
            "+-----------------------------------+\n"
          ]
        },
        {
          "metadata": {
            "tags": null
          },
          "name": "stderr",
          "output_type": "stream",
          "text": [
            "2024-05-12 04:17:35,096\tWARNING insufficient_resources_manager.py:163 -- Ignore this message if the cluster is autoscaling. No trial is running and no new trial has been started within the last 60 seconds. This could be due to the cluster not having enough resources available. You asked for 5.0 CPUs and 1.0 GPUs per trial, but the cluster only has 2.0 CPUs and 1.0 GPUs available. Stop the tuning and adjust the required resources (e.g. via the `ScalingConfig` or `resources_per_trial`, or `num_workers` for rllib), or add more resources to your cluster.\n"
          ]
        },
        {
          "metadata": {
            "tags": null
          },
          "name": "stdout",
          "output_type": "stream",
          "text": [
            "Trial status: 1 PENDING\n",
            "Current time: 2024-05-12 04:17:36. Total running time: 22min 2s\n",
            "Logical resource usage: 0/2 CPUs, 0/1 GPUs\n",
            "+-----------------------------------+\n",
            "| Trial name               status   |\n",
            "+-----------------------------------+\n",
            "| PPO_my_env_7b7f7_00000   PENDING  |\n",
            "+-----------------------------------+\n",
            "Trial status: 1 PENDING\n",
            "Current time: 2024-05-12 04:18:06. Total running time: 22min 32s\n",
            "Logical resource usage: 0/2 CPUs, 0/1 GPUs\n",
            "+-----------------------------------+\n",
            "| Trial name               status   |\n",
            "+-----------------------------------+\n",
            "| PPO_my_env_7b7f7_00000   PENDING  |\n",
            "+-----------------------------------+\n"
          ]
        },
        {
          "metadata": {
            "tags": null
          },
          "name": "stderr",
          "output_type": "stream",
          "text": [
            "2024-05-12 04:18:35,103\tWARNING insufficient_resources_manager.py:163 -- Ignore this message if the cluster is autoscaling. No trial is running and no new trial has been started within the last 60 seconds. This could be due to the cluster not having enough resources available. You asked for 5.0 CPUs and 1.0 GPUs per trial, but the cluster only has 2.0 CPUs and 1.0 GPUs available. Stop the tuning and adjust the required resources (e.g. via the `ScalingConfig` or `resources_per_trial`, or `num_workers` for rllib), or add more resources to your cluster.\n"
          ]
        },
        {
          "metadata": {
            "tags": null
          },
          "name": "stdout",
          "output_type": "stream",
          "text": [
            "Trial status: 1 PENDING\n",
            "Current time: 2024-05-12 04:18:36. Total running time: 23min 2s\n",
            "Logical resource usage: 0/2 CPUs, 0/1 GPUs\n",
            "+-----------------------------------+\n",
            "| Trial name               status   |\n",
            "+-----------------------------------+\n",
            "| PPO_my_env_7b7f7_00000   PENDING  |\n",
            "+-----------------------------------+\n",
            "Trial status: 1 PENDING\n",
            "Current time: 2024-05-12 04:19:06. Total running time: 23min 32s\n",
            "Logical resource usage: 0/2 CPUs, 0/1 GPUs\n",
            "+-----------------------------------+\n",
            "| Trial name               status   |\n",
            "+-----------------------------------+\n",
            "| PPO_my_env_7b7f7_00000   PENDING  |\n",
            "+-----------------------------------+\n"
          ]
        },
        {
          "metadata": {
            "tags": null
          },
          "name": "stderr",
          "output_type": "stream",
          "text": [
            "2024-05-12 04:19:35,108\tWARNING insufficient_resources_manager.py:163 -- Ignore this message if the cluster is autoscaling. No trial is running and no new trial has been started within the last 60 seconds. This could be due to the cluster not having enough resources available. You asked for 5.0 CPUs and 1.0 GPUs per trial, but the cluster only has 2.0 CPUs and 1.0 GPUs available. Stop the tuning and adjust the required resources (e.g. via the `ScalingConfig` or `resources_per_trial`, or `num_workers` for rllib), or add more resources to your cluster.\n"
          ]
        },
        {
          "metadata": {
            "tags": null
          },
          "name": "stdout",
          "output_type": "stream",
          "text": [
            "Trial status: 1 PENDING\n",
            "Current time: 2024-05-12 04:19:36. Total running time: 24min 2s\n",
            "Logical resource usage: 0/2 CPUs, 0/1 GPUs\n",
            "+-----------------------------------+\n",
            "| Trial name               status   |\n",
            "+-----------------------------------+\n",
            "| PPO_my_env_7b7f7_00000   PENDING  |\n",
            "+-----------------------------------+\n",
            "Trial status: 1 PENDING\n",
            "Current time: 2024-05-12 04:20:06. Total running time: 24min 33s\n",
            "Logical resource usage: 0/2 CPUs, 0/1 GPUs\n",
            "+-----------------------------------+\n",
            "| Trial name               status   |\n",
            "+-----------------------------------+\n",
            "| PPO_my_env_7b7f7_00000   PENDING  |\n",
            "+-----------------------------------+\n"
          ]
        },
        {
          "metadata": {
            "tags": null
          },
          "name": "stderr",
          "output_type": "stream",
          "text": [
            "2024-05-12 04:20:35,113\tWARNING insufficient_resources_manager.py:163 -- Ignore this message if the cluster is autoscaling. No trial is running and no new trial has been started within the last 60 seconds. This could be due to the cluster not having enough resources available. You asked for 5.0 CPUs and 1.0 GPUs per trial, but the cluster only has 2.0 CPUs and 1.0 GPUs available. Stop the tuning and adjust the required resources (e.g. via the `ScalingConfig` or `resources_per_trial`, or `num_workers` for rllib), or add more resources to your cluster.\n"
          ]
        },
        {
          "metadata": {
            "tags": null
          },
          "name": "stdout",
          "output_type": "stream",
          "text": [
            "Trial status: 1 PENDING\n",
            "Current time: 2024-05-12 04:20:36. Total running time: 25min 3s\n",
            "Logical resource usage: 0/2 CPUs, 0/1 GPUs\n",
            "+-----------------------------------+\n",
            "| Trial name               status   |\n",
            "+-----------------------------------+\n",
            "| PPO_my_env_7b7f7_00000   PENDING  |\n",
            "+-----------------------------------+\n",
            "Trial status: 1 PENDING\n",
            "Current time: 2024-05-12 04:21:06. Total running time: 25min 33s\n",
            "Logical resource usage: 0/2 CPUs, 0/1 GPUs\n",
            "+-----------------------------------+\n",
            "| Trial name               status   |\n",
            "+-----------------------------------+\n",
            "| PPO_my_env_7b7f7_00000   PENDING  |\n",
            "+-----------------------------------+\n"
          ]
        },
        {
          "metadata": {
            "tags": null
          },
          "name": "stderr",
          "output_type": "stream",
          "text": [
            "2024-05-12 04:21:35,119\tWARNING insufficient_resources_manager.py:163 -- Ignore this message if the cluster is autoscaling. No trial is running and no new trial has been started within the last 60 seconds. This could be due to the cluster not having enough resources available. You asked for 5.0 CPUs and 1.0 GPUs per trial, but the cluster only has 2.0 CPUs and 1.0 GPUs available. Stop the tuning and adjust the required resources (e.g. via the `ScalingConfig` or `resources_per_trial`, or `num_workers` for rllib), or add more resources to your cluster.\n"
          ]
        },
        {
          "metadata": {
            "tags": null
          },
          "name": "stdout",
          "output_type": "stream",
          "text": [
            "Trial status: 1 PENDING\n",
            "Current time: 2024-05-12 04:21:36. Total running time: 26min 3s\n",
            "Logical resource usage: 0/2 CPUs, 0/1 GPUs\n",
            "+-----------------------------------+\n",
            "| Trial name               status   |\n",
            "+-----------------------------------+\n",
            "| PPO_my_env_7b7f7_00000   PENDING  |\n",
            "+-----------------------------------+\n",
            "Trial status: 1 PENDING\n",
            "Current time: 2024-05-12 04:22:06. Total running time: 26min 33s\n",
            "Logical resource usage: 0/2 CPUs, 0/1 GPUs\n",
            "+-----------------------------------+\n",
            "| Trial name               status   |\n",
            "+-----------------------------------+\n",
            "| PPO_my_env_7b7f7_00000   PENDING  |\n",
            "+-----------------------------------+\n"
          ]
        },
        {
          "metadata": {
            "tags": null
          },
          "name": "stderr",
          "output_type": "stream",
          "text": [
            "2024-05-12 04:22:35,186\tWARNING insufficient_resources_manager.py:163 -- Ignore this message if the cluster is autoscaling. No trial is running and no new trial has been started within the last 60 seconds. This could be due to the cluster not having enough resources available. You asked for 5.0 CPUs and 1.0 GPUs per trial, but the cluster only has 2.0 CPUs and 1.0 GPUs available. Stop the tuning and adjust the required resources (e.g. via the `ScalingConfig` or `resources_per_trial`, or `num_workers` for rllib), or add more resources to your cluster.\n"
          ]
        },
        {
          "metadata": {
            "tags": null
          },
          "name": "stdout",
          "output_type": "stream",
          "text": [
            "Trial status: 1 PENDING\n",
            "Current time: 2024-05-12 04:22:36. Total running time: 27min 3s\n",
            "Logical resource usage: 0/2 CPUs, 0/1 GPUs\n",
            "+-----------------------------------+\n",
            "| Trial name               status   |\n",
            "+-----------------------------------+\n",
            "| PPO_my_env_7b7f7_00000   PENDING  |\n",
            "+-----------------------------------+\n",
            "Trial status: 1 PENDING\n",
            "Current time: 2024-05-12 04:23:06. Total running time: 27min 33s\n",
            "Logical resource usage: 0/2 CPUs, 0/1 GPUs\n",
            "+-----------------------------------+\n",
            "| Trial name               status   |\n",
            "+-----------------------------------+\n",
            "| PPO_my_env_7b7f7_00000   PENDING  |\n",
            "+-----------------------------------+\n"
          ]
        },
        {
          "metadata": {
            "tags": null
          },
          "name": "stderr",
          "output_type": "stream",
          "text": [
            "2024-05-12 04:23:35,234\tWARNING insufficient_resources_manager.py:163 -- Ignore this message if the cluster is autoscaling. No trial is running and no new trial has been started within the last 60 seconds. This could be due to the cluster not having enough resources available. You asked for 5.0 CPUs and 1.0 GPUs per trial, but the cluster only has 2.0 CPUs and 1.0 GPUs available. Stop the tuning and adjust the required resources (e.g. via the `ScalingConfig` or `resources_per_trial`, or `num_workers` for rllib), or add more resources to your cluster.\n"
          ]
        },
        {
          "metadata": {
            "tags": null
          },
          "name": "stdout",
          "output_type": "stream",
          "text": [
            "Trial status: 1 PENDING\n",
            "Current time: 2024-05-12 04:23:36. Total running time: 28min 3s\n",
            "Logical resource usage: 0/2 CPUs, 0/1 GPUs\n",
            "+-----------------------------------+\n",
            "| Trial name               status   |\n",
            "+-----------------------------------+\n",
            "| PPO_my_env_7b7f7_00000   PENDING  |\n",
            "+-----------------------------------+\n",
            "Trial status: 1 PENDING\n",
            "Current time: 2024-05-12 04:24:07. Total running time: 28min 33s\n",
            "Logical resource usage: 0/2 CPUs, 0/1 GPUs\n",
            "+-----------------------------------+\n",
            "| Trial name               status   |\n",
            "+-----------------------------------+\n",
            "| PPO_my_env_7b7f7_00000   PENDING  |\n",
            "+-----------------------------------+\n"
          ]
        },
        {
          "metadata": {
            "tags": null
          },
          "name": "stderr",
          "output_type": "stream",
          "text": [
            "2024-05-12 04:24:35,314\tWARNING insufficient_resources_manager.py:163 -- Ignore this message if the cluster is autoscaling. No trial is running and no new trial has been started within the last 60 seconds. This could be due to the cluster not having enough resources available. You asked for 5.0 CPUs and 1.0 GPUs per trial, but the cluster only has 2.0 CPUs and 1.0 GPUs available. Stop the tuning and adjust the required resources (e.g. via the `ScalingConfig` or `resources_per_trial`, or `num_workers` for rllib), or add more resources to your cluster.\n"
          ]
        },
        {
          "metadata": {
            "tags": null
          },
          "name": "stdout",
          "output_type": "stream",
          "text": [
            "Trial status: 1 PENDING\n",
            "Current time: 2024-05-12 04:24:37. Total running time: 29min 3s\n",
            "Logical resource usage: 0/2 CPUs, 0/1 GPUs\n",
            "+-----------------------------------+\n",
            "| Trial name               status   |\n",
            "+-----------------------------------+\n",
            "| PPO_my_env_7b7f7_00000   PENDING  |\n",
            "+-----------------------------------+\n",
            "Trial status: 1 PENDING\n",
            "Current time: 2024-05-12 04:25:07. Total running time: 29min 33s\n",
            "Logical resource usage: 0/2 CPUs, 0/1 GPUs\n",
            "+-----------------------------------+\n",
            "| Trial name               status   |\n",
            "+-----------------------------------+\n",
            "| PPO_my_env_7b7f7_00000   PENDING  |\n",
            "+-----------------------------------+\n"
          ]
        },
        {
          "metadata": {
            "tags": null
          },
          "name": "stderr",
          "output_type": "stream",
          "text": [
            "2024-05-12 04:25:35,349\tWARNING insufficient_resources_manager.py:163 -- Ignore this message if the cluster is autoscaling. No trial is running and no new trial has been started within the last 60 seconds. This could be due to the cluster not having enough resources available. You asked for 5.0 CPUs and 1.0 GPUs per trial, but the cluster only has 2.0 CPUs and 1.0 GPUs available. Stop the tuning and adjust the required resources (e.g. via the `ScalingConfig` or `resources_per_trial`, or `num_workers` for rllib), or add more resources to your cluster.\n"
          ]
        },
        {
          "metadata": {
            "tags": null
          },
          "name": "stdout",
          "output_type": "stream",
          "text": [
            "Trial status: 1 PENDING\n",
            "Current time: 2024-05-12 04:25:37. Total running time: 30min 3s\n",
            "Logical resource usage: 0/2 CPUs, 0/1 GPUs\n",
            "+-----------------------------------+\n",
            "| Trial name               status   |\n",
            "+-----------------------------------+\n",
            "| PPO_my_env_7b7f7_00000   PENDING  |\n",
            "+-----------------------------------+\n",
            "Trial status: 1 PENDING\n",
            "Current time: 2024-05-12 04:26:07. Total running time: 30min 33s\n",
            "Logical resource usage: 0/2 CPUs, 0/1 GPUs\n",
            "+-----------------------------------+\n",
            "| Trial name               status   |\n",
            "+-----------------------------------+\n",
            "| PPO_my_env_7b7f7_00000   PENDING  |\n",
            "+-----------------------------------+\n"
          ]
        },
        {
          "metadata": {
            "tags": null
          },
          "name": "stderr",
          "output_type": "stream",
          "text": [
            "2024-05-12 04:26:35,370\tWARNING insufficient_resources_manager.py:163 -- Ignore this message if the cluster is autoscaling. No trial is running and no new trial has been started within the last 60 seconds. This could be due to the cluster not having enough resources available. You asked for 5.0 CPUs and 1.0 GPUs per trial, but the cluster only has 2.0 CPUs and 1.0 GPUs available. Stop the tuning and adjust the required resources (e.g. via the `ScalingConfig` or `resources_per_trial`, or `num_workers` for rllib), or add more resources to your cluster.\n"
          ]
        },
        {
          "metadata": {
            "tags": null
          },
          "name": "stdout",
          "output_type": "stream",
          "text": [
            "Trial status: 1 PENDING\n",
            "Current time: 2024-05-12 04:26:37. Total running time: 31min 3s\n",
            "Logical resource usage: 0/2 CPUs, 0/1 GPUs\n",
            "+-----------------------------------+\n",
            "| Trial name               status   |\n",
            "+-----------------------------------+\n",
            "| PPO_my_env_7b7f7_00000   PENDING  |\n",
            "+-----------------------------------+\n",
            "Trial status: 1 PENDING\n",
            "Current time: 2024-05-12 04:27:07. Total running time: 31min 33s\n",
            "Logical resource usage: 0/2 CPUs, 0/1 GPUs\n",
            "+-----------------------------------+\n",
            "| Trial name               status   |\n",
            "+-----------------------------------+\n",
            "| PPO_my_env_7b7f7_00000   PENDING  |\n",
            "+-----------------------------------+\n"
          ]
        },
        {
          "metadata": {
            "tags": null
          },
          "name": "stderr",
          "output_type": "stream",
          "text": [
            "2024-05-12 04:27:35,390\tWARNING insufficient_resources_manager.py:163 -- Ignore this message if the cluster is autoscaling. No trial is running and no new trial has been started within the last 60 seconds. This could be due to the cluster not having enough resources available. You asked for 5.0 CPUs and 1.0 GPUs per trial, but the cluster only has 2.0 CPUs and 1.0 GPUs available. Stop the tuning and adjust the required resources (e.g. via the `ScalingConfig` or `resources_per_trial`, or `num_workers` for rllib), or add more resources to your cluster.\n"
          ]
        },
        {
          "metadata": {
            "tags": null
          },
          "name": "stdout",
          "output_type": "stream",
          "text": [
            "Trial status: 1 PENDING\n",
            "Current time: 2024-05-12 04:27:37. Total running time: 32min 3s\n",
            "Logical resource usage: 0/2 CPUs, 0/1 GPUs\n",
            "+-----------------------------------+\n",
            "| Trial name               status   |\n",
            "+-----------------------------------+\n",
            "| PPO_my_env_7b7f7_00000   PENDING  |\n",
            "+-----------------------------------+\n",
            "Trial status: 1 PENDING\n",
            "Current time: 2024-05-12 04:28:07. Total running time: 32min 33s\n",
            "Logical resource usage: 0/2 CPUs, 0/1 GPUs\n",
            "+-----------------------------------+\n",
            "| Trial name               status   |\n",
            "+-----------------------------------+\n",
            "| PPO_my_env_7b7f7_00000   PENDING  |\n",
            "+-----------------------------------+\n"
          ]
        },
        {
          "metadata": {
            "tags": null
          },
          "name": "stderr",
          "output_type": "stream",
          "text": [
            "2024-05-12 04:28:35,409\tWARNING insufficient_resources_manager.py:163 -- Ignore this message if the cluster is autoscaling. No trial is running and no new trial has been started within the last 60 seconds. This could be due to the cluster not having enough resources available. You asked for 5.0 CPUs and 1.0 GPUs per trial, but the cluster only has 2.0 CPUs and 1.0 GPUs available. Stop the tuning and adjust the required resources (e.g. via the `ScalingConfig` or `resources_per_trial`, or `num_workers` for rllib), or add more resources to your cluster.\n"
          ]
        },
        {
          "metadata": {
            "tags": null
          },
          "name": "stdout",
          "output_type": "stream",
          "text": [
            "Trial status: 1 PENDING\n",
            "Current time: 2024-05-12 04:28:37. Total running time: 33min 3s\n",
            "Logical resource usage: 0/2 CPUs, 0/1 GPUs\n",
            "+-----------------------------------+\n",
            "| Trial name               status   |\n",
            "+-----------------------------------+\n",
            "| PPO_my_env_7b7f7_00000   PENDING  |\n",
            "+-----------------------------------+\n",
            "Trial status: 1 PENDING\n",
            "Current time: 2024-05-12 04:29:07. Total running time: 33min 33s\n",
            "Logical resource usage: 0/2 CPUs, 0/1 GPUs\n",
            "+-----------------------------------+\n",
            "| Trial name               status   |\n",
            "+-----------------------------------+\n",
            "| PPO_my_env_7b7f7_00000   PENDING  |\n",
            "+-----------------------------------+\n"
          ]
        },
        {
          "metadata": {
            "tags": null
          },
          "name": "stderr",
          "output_type": "stream",
          "text": [
            "2024-05-12 04:29:35,513\tWARNING insufficient_resources_manager.py:163 -- Ignore this message if the cluster is autoscaling. No trial is running and no new trial has been started within the last 60 seconds. This could be due to the cluster not having enough resources available. You asked for 5.0 CPUs and 1.0 GPUs per trial, but the cluster only has 2.0 CPUs and 1.0 GPUs available. Stop the tuning and adjust the required resources (e.g. via the `ScalingConfig` or `resources_per_trial`, or `num_workers` for rllib), or add more resources to your cluster.\n"
          ]
        },
        {
          "metadata": {
            "tags": null
          },
          "name": "stdout",
          "output_type": "stream",
          "text": [
            "Trial status: 1 PENDING\n",
            "Current time: 2024-05-12 04:29:37. Total running time: 34min 3s\n",
            "Logical resource usage: 0/2 CPUs, 0/1 GPUs\n",
            "+-----------------------------------+\n",
            "| Trial name               status   |\n",
            "+-----------------------------------+\n",
            "| PPO_my_env_7b7f7_00000   PENDING  |\n",
            "+-----------------------------------+\n",
            "Trial status: 1 PENDING\n",
            "Current time: 2024-05-12 04:30:07. Total running time: 34min 33s\n",
            "Logical resource usage: 0/2 CPUs, 0/1 GPUs\n",
            "+-----------------------------------+\n",
            "| Trial name               status   |\n",
            "+-----------------------------------+\n",
            "| PPO_my_env_7b7f7_00000   PENDING  |\n",
            "+-----------------------------------+\n"
          ]
        },
        {
          "metadata": {
            "tags": null
          },
          "name": "stderr",
          "output_type": "stream",
          "text": [
            "2024-05-12 04:30:35,523\tWARNING insufficient_resources_manager.py:163 -- Ignore this message if the cluster is autoscaling. No trial is running and no new trial has been started within the last 60 seconds. This could be due to the cluster not having enough resources available. You asked for 5.0 CPUs and 1.0 GPUs per trial, but the cluster only has 2.0 CPUs and 1.0 GPUs available. Stop the tuning and adjust the required resources (e.g. via the `ScalingConfig` or `resources_per_trial`, or `num_workers` for rllib), or add more resources to your cluster.\n"
          ]
        },
        {
          "metadata": {
            "tags": null
          },
          "name": "stdout",
          "output_type": "stream",
          "text": [
            "Trial status: 1 PENDING\n",
            "Current time: 2024-05-12 04:30:37. Total running time: 35min 3s\n",
            "Logical resource usage: 0/2 CPUs, 0/1 GPUs\n",
            "+-----------------------------------+\n",
            "| Trial name               status   |\n",
            "+-----------------------------------+\n",
            "| PPO_my_env_7b7f7_00000   PENDING  |\n",
            "+-----------------------------------+\n",
            "Trial status: 1 PENDING\n",
            "Current time: 2024-05-12 04:31:07. Total running time: 35min 33s\n",
            "Logical resource usage: 0/2 CPUs, 0/1 GPUs\n",
            "+-----------------------------------+\n",
            "| Trial name               status   |\n",
            "+-----------------------------------+\n",
            "| PPO_my_env_7b7f7_00000   PENDING  |\n",
            "+-----------------------------------+\n"
          ]
        },
        {
          "metadata": {
            "tags": null
          },
          "name": "stderr",
          "output_type": "stream",
          "text": [
            "2024-05-12 04:31:35,550\tWARNING insufficient_resources_manager.py:163 -- Ignore this message if the cluster is autoscaling. No trial is running and no new trial has been started within the last 60 seconds. This could be due to the cluster not having enough resources available. You asked for 5.0 CPUs and 1.0 GPUs per trial, but the cluster only has 2.0 CPUs and 1.0 GPUs available. Stop the tuning and adjust the required resources (e.g. via the `ScalingConfig` or `resources_per_trial`, or `num_workers` for rllib), or add more resources to your cluster.\n"
          ]
        },
        {
          "metadata": {
            "tags": null
          },
          "name": "stdout",
          "output_type": "stream",
          "text": [
            "Trial status: 1 PENDING\n",
            "Current time: 2024-05-12 04:31:37. Total running time: 36min 3s\n",
            "Logical resource usage: 0/2 CPUs, 0/1 GPUs\n",
            "+-----------------------------------+\n",
            "| Trial name               status   |\n",
            "+-----------------------------------+\n",
            "| PPO_my_env_7b7f7_00000   PENDING  |\n",
            "+-----------------------------------+\n",
            "Trial status: 1 PENDING\n",
            "Current time: 2024-05-12 04:32:07. Total running time: 36min 34s\n",
            "Logical resource usage: 0/2 CPUs, 0/1 GPUs\n",
            "+-----------------------------------+\n",
            "| Trial name               status   |\n",
            "+-----------------------------------+\n",
            "| PPO_my_env_7b7f7_00000   PENDING  |\n",
            "+-----------------------------------+\n"
          ]
        },
        {
          "metadata": {
            "tags": null
          },
          "name": "stderr",
          "output_type": "stream",
          "text": [
            "2024-05-12 04:32:35,640\tWARNING insufficient_resources_manager.py:163 -- Ignore this message if the cluster is autoscaling. No trial is running and no new trial has been started within the last 60 seconds. This could be due to the cluster not having enough resources available. You asked for 5.0 CPUs and 1.0 GPUs per trial, but the cluster only has 2.0 CPUs and 1.0 GPUs available. Stop the tuning and adjust the required resources (e.g. via the `ScalingConfig` or `resources_per_trial`, or `num_workers` for rllib), or add more resources to your cluster.\n"
          ]
        },
        {
          "metadata": {
            "tags": null
          },
          "name": "stdout",
          "output_type": "stream",
          "text": [
            "Trial status: 1 PENDING\n",
            "Current time: 2024-05-12 04:32:37. Total running time: 37min 4s\n",
            "Logical resource usage: 0/2 CPUs, 0/1 GPUs\n",
            "+-----------------------------------+\n",
            "| Trial name               status   |\n",
            "+-----------------------------------+\n",
            "| PPO_my_env_7b7f7_00000   PENDING  |\n",
            "+-----------------------------------+\n",
            "Trial status: 1 PENDING\n",
            "Current time: 2024-05-12 04:33:07. Total running time: 37min 34s\n",
            "Logical resource usage: 0/2 CPUs, 0/1 GPUs\n",
            "+-----------------------------------+\n",
            "| Trial name               status   |\n",
            "+-----------------------------------+\n",
            "| PPO_my_env_7b7f7_00000   PENDING  |\n",
            "+-----------------------------------+\n"
          ]
        },
        {
          "metadata": {
            "tags": null
          },
          "name": "stderr",
          "output_type": "stream",
          "text": [
            "2024-05-12 04:33:35,698\tWARNING insufficient_resources_manager.py:163 -- Ignore this message if the cluster is autoscaling. No trial is running and no new trial has been started within the last 60 seconds. This could be due to the cluster not having enough resources available. You asked for 5.0 CPUs and 1.0 GPUs per trial, but the cluster only has 2.0 CPUs and 1.0 GPUs available. Stop the tuning and adjust the required resources (e.g. via the `ScalingConfig` or `resources_per_trial`, or `num_workers` for rllib), or add more resources to your cluster.\n"
          ]
        },
        {
          "metadata": {
            "tags": null
          },
          "name": "stdout",
          "output_type": "stream",
          "text": [
            "Trial status: 1 PENDING\n",
            "Current time: 2024-05-12 04:33:37. Total running time: 38min 4s\n",
            "Logical resource usage: 0/2 CPUs, 0/1 GPUs\n",
            "+-----------------------------------+\n",
            "| Trial name               status   |\n",
            "+-----------------------------------+\n",
            "| PPO_my_env_7b7f7_00000   PENDING  |\n",
            "+-----------------------------------+\n",
            "Trial status: 1 PENDING\n",
            "Current time: 2024-05-12 04:34:07. Total running time: 38min 34s\n",
            "Logical resource usage: 0/2 CPUs, 0/1 GPUs\n",
            "+-----------------------------------+\n",
            "| Trial name               status   |\n",
            "+-----------------------------------+\n",
            "| PPO_my_env_7b7f7_00000   PENDING  |\n",
            "+-----------------------------------+\n"
          ]
        },
        {
          "metadata": {
            "tags": null
          },
          "name": "stderr",
          "output_type": "stream",
          "text": [
            "2024-05-12 04:34:35,785\tWARNING insufficient_resources_manager.py:163 -- Ignore this message if the cluster is autoscaling. No trial is running and no new trial has been started within the last 60 seconds. This could be due to the cluster not having enough resources available. You asked for 5.0 CPUs and 1.0 GPUs per trial, but the cluster only has 2.0 CPUs and 1.0 GPUs available. Stop the tuning and adjust the required resources (e.g. via the `ScalingConfig` or `resources_per_trial`, or `num_workers` for rllib), or add more resources to your cluster.\n"
          ]
        },
        {
          "metadata": {
            "tags": null
          },
          "name": "stdout",
          "output_type": "stream",
          "text": [
            "Trial status: 1 PENDING\n",
            "Current time: 2024-05-12 04:34:37. Total running time: 39min 4s\n",
            "Logical resource usage: 0/2 CPUs, 0/1 GPUs\n",
            "+-----------------------------------+\n",
            "| Trial name               status   |\n",
            "+-----------------------------------+\n",
            "| PPO_my_env_7b7f7_00000   PENDING  |\n",
            "+-----------------------------------+\n",
            "Trial status: 1 PENDING\n",
            "Current time: 2024-05-12 04:35:07. Total running time: 39min 34s\n",
            "Logical resource usage: 0/2 CPUs, 0/1 GPUs\n",
            "+-----------------------------------+\n",
            "| Trial name               status   |\n",
            "+-----------------------------------+\n",
            "| PPO_my_env_7b7f7_00000   PENDING  |\n",
            "+-----------------------------------+\n"
          ]
        },
        {
          "metadata": {
            "tags": null
          },
          "name": "stderr",
          "output_type": "stream",
          "text": [
            "2024-05-12 04:35:35,846\tWARNING insufficient_resources_manager.py:163 -- Ignore this message if the cluster is autoscaling. No trial is running and no new trial has been started within the last 60 seconds. This could be due to the cluster not having enough resources available. You asked for 5.0 CPUs and 1.0 GPUs per trial, but the cluster only has 2.0 CPUs and 1.0 GPUs available. Stop the tuning and adjust the required resources (e.g. via the `ScalingConfig` or `resources_per_trial`, or `num_workers` for rllib), or add more resources to your cluster.\n"
          ]
        },
        {
          "metadata": {
            "tags": null
          },
          "name": "stdout",
          "output_type": "stream",
          "text": [
            "Trial status: 1 PENDING\n",
            "Current time: 2024-05-12 04:35:37. Total running time: 40min 4s\n",
            "Logical resource usage: 0/2 CPUs, 0/1 GPUs\n",
            "+-----------------------------------+\n",
            "| Trial name               status   |\n",
            "+-----------------------------------+\n",
            "| PPO_my_env_7b7f7_00000   PENDING  |\n",
            "+-----------------------------------+\n",
            "Trial status: 1 PENDING\n",
            "Current time: 2024-05-12 04:36:08. Total running time: 40min 34s\n",
            "Logical resource usage: 0/2 CPUs, 0/1 GPUs\n",
            "+-----------------------------------+\n",
            "| Trial name               status   |\n",
            "+-----------------------------------+\n",
            "| PPO_my_env_7b7f7_00000   PENDING  |\n",
            "+-----------------------------------+\n"
          ]
        },
        {
          "metadata": {
            "tags": null
          },
          "name": "stderr",
          "output_type": "stream",
          "text": [
            "2024-05-12 04:36:35,912\tWARNING insufficient_resources_manager.py:163 -- Ignore this message if the cluster is autoscaling. No trial is running and no new trial has been started within the last 60 seconds. This could be due to the cluster not having enough resources available. You asked for 5.0 CPUs and 1.0 GPUs per trial, but the cluster only has 2.0 CPUs and 1.0 GPUs available. Stop the tuning and adjust the required resources (e.g. via the `ScalingConfig` or `resources_per_trial`, or `num_workers` for rllib), or add more resources to your cluster.\n"
          ]
        },
        {
          "metadata": {
            "tags": null
          },
          "name": "stdout",
          "output_type": "stream",
          "text": [
            "Trial status: 1 PENDING\n",
            "Current time: 2024-05-12 04:36:38. Total running time: 41min 4s\n",
            "Logical resource usage: 0/2 CPUs, 0/1 GPUs\n",
            "+-----------------------------------+\n",
            "| Trial name               status   |\n",
            "+-----------------------------------+\n",
            "| PPO_my_env_7b7f7_00000   PENDING  |\n",
            "+-----------------------------------+\n",
            "Trial status: 1 PENDING\n",
            "Current time: 2024-05-12 04:37:08. Total running time: 41min 34s\n",
            "Logical resource usage: 0/2 CPUs, 0/1 GPUs\n",
            "+-----------------------------------+\n",
            "| Trial name               status   |\n",
            "+-----------------------------------+\n",
            "| PPO_my_env_7b7f7_00000   PENDING  |\n",
            "+-----------------------------------+\n"
          ]
        },
        {
          "metadata": {
            "tags": null
          },
          "name": "stderr",
          "output_type": "stream",
          "text": [
            "2024-05-12 04:37:35,975\tWARNING insufficient_resources_manager.py:163 -- Ignore this message if the cluster is autoscaling. No trial is running and no new trial has been started within the last 60 seconds. This could be due to the cluster not having enough resources available. You asked for 5.0 CPUs and 1.0 GPUs per trial, but the cluster only has 2.0 CPUs and 1.0 GPUs available. Stop the tuning and adjust the required resources (e.g. via the `ScalingConfig` or `resources_per_trial`, or `num_workers` for rllib), or add more resources to your cluster.\n"
          ]
        },
        {
          "metadata": {
            "tags": null
          },
          "name": "stdout",
          "output_type": "stream",
          "text": [
            "Trial status: 1 PENDING\n",
            "Current time: 2024-05-12 04:37:38. Total running time: 42min 4s\n",
            "Logical resource usage: 0/2 CPUs, 0/1 GPUs\n",
            "+-----------------------------------+\n",
            "| Trial name               status   |\n",
            "+-----------------------------------+\n",
            "| PPO_my_env_7b7f7_00000   PENDING  |\n",
            "+-----------------------------------+\n",
            "Trial status: 1 PENDING\n",
            "Current time: 2024-05-12 04:38:08. Total running time: 42min 34s\n",
            "Logical resource usage: 0/2 CPUs, 0/1 GPUs\n",
            "+-----------------------------------+\n",
            "| Trial name               status   |\n",
            "+-----------------------------------+\n",
            "| PPO_my_env_7b7f7_00000   PENDING  |\n",
            "+-----------------------------------+\n"
          ]
        },
        {
          "metadata": {
            "tags": null
          },
          "name": "stderr",
          "output_type": "stream",
          "text": [
            "2024-05-12 04:38:36,032\tWARNING insufficient_resources_manager.py:163 -- Ignore this message if the cluster is autoscaling. No trial is running and no new trial has been started within the last 60 seconds. This could be due to the cluster not having enough resources available. You asked for 5.0 CPUs and 1.0 GPUs per trial, but the cluster only has 2.0 CPUs and 1.0 GPUs available. Stop the tuning and adjust the required resources (e.g. via the `ScalingConfig` or `resources_per_trial`, or `num_workers` for rllib), or add more resources to your cluster.\n"
          ]
        },
        {
          "metadata": {
            "tags": null
          },
          "name": "stdout",
          "output_type": "stream",
          "text": [
            "Trial status: 1 PENDING\n",
            "Current time: 2024-05-12 04:38:38. Total running time: 43min 5s\n",
            "Logical resource usage: 0/2 CPUs, 0/1 GPUs\n",
            "+-----------------------------------+\n",
            "| Trial name               status   |\n",
            "+-----------------------------------+\n",
            "| PPO_my_env_7b7f7_00000   PENDING  |\n",
            "+-----------------------------------+\n",
            "Trial status: 1 PENDING\n",
            "Current time: 2024-05-12 04:39:08. Total running time: 43min 35s\n",
            "Logical resource usage: 0/2 CPUs, 0/1 GPUs\n",
            "+-----------------------------------+\n",
            "| Trial name               status   |\n",
            "+-----------------------------------+\n",
            "| PPO_my_env_7b7f7_00000   PENDING  |\n",
            "+-----------------------------------+\n"
          ]
        },
        {
          "metadata": {
            "tags": null
          },
          "name": "stderr",
          "output_type": "stream",
          "text": [
            "2024-05-12 04:39:36,121\tWARNING insufficient_resources_manager.py:163 -- Ignore this message if the cluster is autoscaling. No trial is running and no new trial has been started within the last 60 seconds. This could be due to the cluster not having enough resources available. You asked for 5.0 CPUs and 1.0 GPUs per trial, but the cluster only has 2.0 CPUs and 1.0 GPUs available. Stop the tuning and adjust the required resources (e.g. via the `ScalingConfig` or `resources_per_trial`, or `num_workers` for rllib), or add more resources to your cluster.\n"
          ]
        },
        {
          "metadata": {
            "tags": null
          },
          "name": "stdout",
          "output_type": "stream",
          "text": [
            "Trial status: 1 PENDING\n",
            "Current time: 2024-05-12 04:39:38. Total running time: 44min 5s\n",
            "Logical resource usage: 0/2 CPUs, 0/1 GPUs\n",
            "+-----------------------------------+\n",
            "| Trial name               status   |\n",
            "+-----------------------------------+\n",
            "| PPO_my_env_7b7f7_00000   PENDING  |\n",
            "+-----------------------------------+\n",
            "Trial status: 1 PENDING\n",
            "Current time: 2024-05-12 04:40:08. Total running time: 44min 35s\n",
            "Logical resource usage: 0/2 CPUs, 0/1 GPUs\n",
            "+-----------------------------------+\n",
            "| Trial name               status   |\n",
            "+-----------------------------------+\n",
            "| PPO_my_env_7b7f7_00000   PENDING  |\n",
            "+-----------------------------------+\n"
          ]
        },
        {
          "metadata": {
            "tags": null
          },
          "name": "stderr",
          "output_type": "stream",
          "text": [
            "2024-05-12 04:40:36,221\tWARNING insufficient_resources_manager.py:163 -- Ignore this message if the cluster is autoscaling. No trial is running and no new trial has been started within the last 60 seconds. This could be due to the cluster not having enough resources available. You asked for 5.0 CPUs and 1.0 GPUs per trial, but the cluster only has 2.0 CPUs and 1.0 GPUs available. Stop the tuning and adjust the required resources (e.g. via the `ScalingConfig` or `resources_per_trial`, or `num_workers` for rllib), or add more resources to your cluster.\n"
          ]
        },
        {
          "metadata": {
            "tags": null
          },
          "name": "stdout",
          "output_type": "stream",
          "text": [
            "Trial status: 1 PENDING\n",
            "Current time: 2024-05-12 04:40:38. Total running time: 45min 5s\n",
            "Logical resource usage: 0/2 CPUs, 0/1 GPUs\n",
            "+-----------------------------------+\n",
            "| Trial name               status   |\n",
            "+-----------------------------------+\n",
            "| PPO_my_env_7b7f7_00000   PENDING  |\n",
            "+-----------------------------------+\n",
            "Trial status: 1 PENDING\n",
            "Current time: 2024-05-12 04:41:08. Total running time: 45min 35s\n",
            "Logical resource usage: 0/2 CPUs, 0/1 GPUs\n",
            "+-----------------------------------+\n",
            "| Trial name               status   |\n",
            "+-----------------------------------+\n",
            "| PPO_my_env_7b7f7_00000   PENDING  |\n",
            "+-----------------------------------+\n"
          ]
        },
        {
          "metadata": {
            "tags": null
          },
          "name": "stderr",
          "output_type": "stream",
          "text": [
            "2024-05-12 04:41:36,298\tWARNING insufficient_resources_manager.py:163 -- Ignore this message if the cluster is autoscaling. No trial is running and no new trial has been started within the last 60 seconds. This could be due to the cluster not having enough resources available. You asked for 5.0 CPUs and 1.0 GPUs per trial, but the cluster only has 2.0 CPUs and 1.0 GPUs available. Stop the tuning and adjust the required resources (e.g. via the `ScalingConfig` or `resources_per_trial`, or `num_workers` for rllib), or add more resources to your cluster.\n"
          ]
        },
        {
          "metadata": {
            "tags": null
          },
          "name": "stdout",
          "output_type": "stream",
          "text": [
            "Trial status: 1 PENDING\n",
            "Current time: 2024-05-12 04:41:39. Total running time: 46min 5s\n",
            "Logical resource usage: 0/2 CPUs, 0/1 GPUs\n",
            "+-----------------------------------+\n",
            "| Trial name               status   |\n",
            "+-----------------------------------+\n",
            "| PPO_my_env_7b7f7_00000   PENDING  |\n",
            "+-----------------------------------+\n",
            "Trial status: 1 PENDING\n",
            "Current time: 2024-05-12 04:42:09. Total running time: 46min 35s\n",
            "Logical resource usage: 0/2 CPUs, 0/1 GPUs\n",
            "+-----------------------------------+\n",
            "| Trial name               status   |\n",
            "+-----------------------------------+\n",
            "| PPO_my_env_7b7f7_00000   PENDING  |\n",
            "+-----------------------------------+\n"
          ]
        },
        {
          "metadata": {
            "tags": null
          },
          "name": "stderr",
          "output_type": "stream",
          "text": [
            "2024-05-12 04:42:36,363\tWARNING insufficient_resources_manager.py:163 -- Ignore this message if the cluster is autoscaling. No trial is running and no new trial has been started within the last 60 seconds. This could be due to the cluster not having enough resources available. You asked for 5.0 CPUs and 1.0 GPUs per trial, but the cluster only has 2.0 CPUs and 1.0 GPUs available. Stop the tuning and adjust the required resources (e.g. via the `ScalingConfig` or `resources_per_trial`, or `num_workers` for rllib), or add more resources to your cluster.\n"
          ]
        },
        {
          "metadata": {
            "tags": null
          },
          "name": "stdout",
          "output_type": "stream",
          "text": [
            "Trial status: 1 PENDING\n",
            "Current time: 2024-05-12 04:42:39. Total running time: 47min 5s\n",
            "Logical resource usage: 0/2 CPUs, 0/1 GPUs\n",
            "+-----------------------------------+\n",
            "| Trial name               status   |\n",
            "+-----------------------------------+\n",
            "| PPO_my_env_7b7f7_00000   PENDING  |\n",
            "+-----------------------------------+\n",
            "Trial status: 1 PENDING\n",
            "Current time: 2024-05-12 04:43:09. Total running time: 47min 35s\n",
            "Logical resource usage: 0/2 CPUs, 0/1 GPUs\n",
            "+-----------------------------------+\n",
            "| Trial name               status   |\n",
            "+-----------------------------------+\n",
            "| PPO_my_env_7b7f7_00000   PENDING  |\n",
            "+-----------------------------------+\n"
          ]
        },
        {
          "metadata": {
            "tags": null
          },
          "name": "stderr",
          "output_type": "stream",
          "text": [
            "2024-05-12 04:43:36,459\tWARNING insufficient_resources_manager.py:163 -- Ignore this message if the cluster is autoscaling. No trial is running and no new trial has been started within the last 60 seconds. This could be due to the cluster not having enough resources available. You asked for 5.0 CPUs and 1.0 GPUs per trial, but the cluster only has 2.0 CPUs and 1.0 GPUs available. Stop the tuning and adjust the required resources (e.g. via the `ScalingConfig` or `resources_per_trial`, or `num_workers` for rllib), or add more resources to your cluster.\n"
          ]
        },
        {
          "metadata": {
            "tags": null
          },
          "name": "stdout",
          "output_type": "stream",
          "text": [
            "Trial status: 1 PENDING\n",
            "Current time: 2024-05-12 04:43:39. Total running time: 48min 5s\n",
            "Logical resource usage: 0/2 CPUs, 0/1 GPUs\n",
            "+-----------------------------------+\n",
            "| Trial name               status   |\n",
            "+-----------------------------------+\n",
            "| PPO_my_env_7b7f7_00000   PENDING  |\n",
            "+-----------------------------------+\n",
            "Trial status: 1 PENDING\n",
            "Current time: 2024-05-12 04:44:09. Total running time: 48min 35s\n",
            "Logical resource usage: 0/2 CPUs, 0/1 GPUs\n",
            "+-----------------------------------+\n",
            "| Trial name               status   |\n",
            "+-----------------------------------+\n",
            "| PPO_my_env_7b7f7_00000   PENDING  |\n",
            "+-----------------------------------+\n"
          ]
        },
        {
          "metadata": {
            "tags": null
          },
          "name": "stderr",
          "output_type": "stream",
          "text": [
            "2024-05-12 04:44:36,473\tWARNING insufficient_resources_manager.py:163 -- Ignore this message if the cluster is autoscaling. No trial is running and no new trial has been started within the last 60 seconds. This could be due to the cluster not having enough resources available. You asked for 5.0 CPUs and 1.0 GPUs per trial, but the cluster only has 2.0 CPUs and 1.0 GPUs available. Stop the tuning and adjust the required resources (e.g. via the `ScalingConfig` or `resources_per_trial`, or `num_workers` for rllib), or add more resources to your cluster.\n"
          ]
        },
        {
          "metadata": {
            "tags": null
          },
          "name": "stdout",
          "output_type": "stream",
          "text": [
            "Trial status: 1 PENDING\n",
            "Current time: 2024-05-12 04:44:39. Total running time: 49min 5s\n",
            "Logical resource usage: 0/2 CPUs, 0/1 GPUs\n",
            "+-----------------------------------+\n",
            "| Trial name               status   |\n",
            "+-----------------------------------+\n",
            "| PPO_my_env_7b7f7_00000   PENDING  |\n",
            "+-----------------------------------+\n",
            "Trial status: 1 PENDING\n",
            "Current time: 2024-05-12 04:45:09. Total running time: 49min 35s\n",
            "Logical resource usage: 0/2 CPUs, 0/1 GPUs\n",
            "+-----------------------------------+\n",
            "| Trial name               status   |\n",
            "+-----------------------------------+\n",
            "| PPO_my_env_7b7f7_00000   PENDING  |\n",
            "+-----------------------------------+\n"
          ]
        },
        {
          "metadata": {
            "tags": null
          },
          "name": "stderr",
          "output_type": "stream",
          "text": [
            "2024-05-12 04:45:36,554\tWARNING insufficient_resources_manager.py:163 -- Ignore this message if the cluster is autoscaling. No trial is running and no new trial has been started within the last 60 seconds. This could be due to the cluster not having enough resources available. You asked for 5.0 CPUs and 1.0 GPUs per trial, but the cluster only has 2.0 CPUs and 1.0 GPUs available. Stop the tuning and adjust the required resources (e.g. via the `ScalingConfig` or `resources_per_trial`, or `num_workers` for rllib), or add more resources to your cluster.\n"
          ]
        },
        {
          "metadata": {
            "tags": null
          },
          "name": "stdout",
          "output_type": "stream",
          "text": [
            "Trial status: 1 PENDING\n",
            "Current time: 2024-05-12 04:45:39. Total running time: 50min 6s\n",
            "Logical resource usage: 0/2 CPUs, 0/1 GPUs\n",
            "+-----------------------------------+\n",
            "| Trial name               status   |\n",
            "+-----------------------------------+\n",
            "| PPO_my_env_7b7f7_00000   PENDING  |\n",
            "+-----------------------------------+\n",
            "Trial status: 1 PENDING\n",
            "Current time: 2024-05-12 04:46:09. Total running time: 50min 36s\n",
            "Logical resource usage: 0/2 CPUs, 0/1 GPUs\n",
            "+-----------------------------------+\n",
            "| Trial name               status   |\n",
            "+-----------------------------------+\n",
            "| PPO_my_env_7b7f7_00000   PENDING  |\n",
            "+-----------------------------------+\n"
          ]
        },
        {
          "metadata": {
            "tags": null
          },
          "name": "stderr",
          "output_type": "stream",
          "text": [
            "2024-05-12 04:46:36,639\tWARNING insufficient_resources_manager.py:163 -- Ignore this message if the cluster is autoscaling. No trial is running and no new trial has been started within the last 60 seconds. This could be due to the cluster not having enough resources available. You asked for 5.0 CPUs and 1.0 GPUs per trial, but the cluster only has 2.0 CPUs and 1.0 GPUs available. Stop the tuning and adjust the required resources (e.g. via the `ScalingConfig` or `resources_per_trial`, or `num_workers` for rllib), or add more resources to your cluster.\n"
          ]
        },
        {
          "metadata": {
            "tags": null
          },
          "name": "stdout",
          "output_type": "stream",
          "text": [
            "Trial status: 1 PENDING\n",
            "Current time: 2024-05-12 04:46:39. Total running time: 51min 6s\n",
            "Logical resource usage: 0/2 CPUs, 0/1 GPUs\n",
            "+-----------------------------------+\n",
            "| Trial name               status   |\n",
            "+-----------------------------------+\n",
            "| PPO_my_env_7b7f7_00000   PENDING  |\n",
            "+-----------------------------------+\n",
            "Trial status: 1 PENDING\n",
            "Current time: 2024-05-12 04:47:09. Total running time: 51min 36s\n",
            "Logical resource usage: 0/2 CPUs, 0/1 GPUs\n",
            "+-----------------------------------+\n",
            "| Trial name               status   |\n",
            "+-----------------------------------+\n",
            "| PPO_my_env_7b7f7_00000   PENDING  |\n",
            "+-----------------------------------+\n"
          ]
        },
        {
          "metadata": {
            "tags": null
          },
          "name": "stderr",
          "output_type": "stream",
          "text": [
            "2024-05-12 04:47:36,740\tWARNING insufficient_resources_manager.py:163 -- Ignore this message if the cluster is autoscaling. No trial is running and no new trial has been started within the last 60 seconds. This could be due to the cluster not having enough resources available. You asked for 5.0 CPUs and 1.0 GPUs per trial, but the cluster only has 2.0 CPUs and 1.0 GPUs available. Stop the tuning and adjust the required resources (e.g. via the `ScalingConfig` or `resources_per_trial`, or `num_workers` for rllib), or add more resources to your cluster.\n"
          ]
        },
        {
          "metadata": {
            "tags": null
          },
          "name": "stdout",
          "output_type": "stream",
          "text": [
            "Trial status: 1 PENDING\n",
            "Current time: 2024-05-12 04:47:39. Total running time: 52min 6s\n",
            "Logical resource usage: 0/2 CPUs, 0/1 GPUs\n",
            "+-----------------------------------+\n",
            "| Trial name               status   |\n",
            "+-----------------------------------+\n",
            "| PPO_my_env_7b7f7_00000   PENDING  |\n",
            "+-----------------------------------+\n",
            "Trial status: 1 PENDING\n",
            "Current time: 2024-05-12 04:48:09. Total running time: 52min 36s\n",
            "Logical resource usage: 0/2 CPUs, 0/1 GPUs\n",
            "+-----------------------------------+\n",
            "| Trial name               status   |\n",
            "+-----------------------------------+\n",
            "| PPO_my_env_7b7f7_00000   PENDING  |\n",
            "+-----------------------------------+\n"
          ]
        },
        {
          "metadata": {
            "tags": null
          },
          "name": "stderr",
          "output_type": "stream",
          "text": [
            "2024-05-12 04:48:36,814\tWARNING insufficient_resources_manager.py:163 -- Ignore this message if the cluster is autoscaling. No trial is running and no new trial has been started within the last 60 seconds. This could be due to the cluster not having enough resources available. You asked for 5.0 CPUs and 1.0 GPUs per trial, but the cluster only has 2.0 CPUs and 1.0 GPUs available. Stop the tuning and adjust the required resources (e.g. via the `ScalingConfig` or `resources_per_trial`, or `num_workers` for rllib), or add more resources to your cluster.\n"
          ]
        },
        {
          "metadata": {
            "tags": null
          },
          "name": "stdout",
          "output_type": "stream",
          "text": [
            "Trial status: 1 PENDING\n",
            "Current time: 2024-05-12 04:48:39. Total running time: 53min 6s\n",
            "Logical resource usage: 0/2 CPUs, 0/1 GPUs\n",
            "+-----------------------------------+\n",
            "| Trial name               status   |\n",
            "+-----------------------------------+\n",
            "| PPO_my_env_7b7f7_00000   PENDING  |\n",
            "+-----------------------------------+\n",
            "Trial status: 1 PENDING\n",
            "Current time: 2024-05-12 04:49:10. Total running time: 53min 36s\n",
            "Logical resource usage: 0/2 CPUs, 0/1 GPUs\n",
            "+-----------------------------------+\n",
            "| Trial name               status   |\n",
            "+-----------------------------------+\n",
            "| PPO_my_env_7b7f7_00000   PENDING  |\n",
            "+-----------------------------------+\n"
          ]
        },
        {
          "metadata": {
            "tags": null
          },
          "name": "stderr",
          "output_type": "stream",
          "text": [
            "2024-05-12 04:49:36,910\tWARNING insufficient_resources_manager.py:163 -- Ignore this message if the cluster is autoscaling. No trial is running and no new trial has been started within the last 60 seconds. This could be due to the cluster not having enough resources available. You asked for 5.0 CPUs and 1.0 GPUs per trial, but the cluster only has 2.0 CPUs and 1.0 GPUs available. Stop the tuning and adjust the required resources (e.g. via the `ScalingConfig` or `resources_per_trial`, or `num_workers` for rllib), or add more resources to your cluster.\n"
          ]
        },
        {
          "metadata": {
            "tags": null
          },
          "name": "stdout",
          "output_type": "stream",
          "text": [
            "Trial status: 1 PENDING\n",
            "Current time: 2024-05-12 04:49:40. Total running time: 54min 6s\n",
            "Logical resource usage: 0/2 CPUs, 0/1 GPUs\n",
            "+-----------------------------------+\n",
            "| Trial name               status   |\n",
            "+-----------------------------------+\n",
            "| PPO_my_env_7b7f7_00000   PENDING  |\n",
            "+-----------------------------------+\n",
            "Trial status: 1 PENDING\n",
            "Current time: 2024-05-12 04:50:10. Total running time: 54min 36s\n",
            "Logical resource usage: 0/2 CPUs, 0/1 GPUs\n",
            "+-----------------------------------+\n",
            "| Trial name               status   |\n",
            "+-----------------------------------+\n",
            "| PPO_my_env_7b7f7_00000   PENDING  |\n",
            "+-----------------------------------+\n"
          ]
        },
        {
          "metadata": {
            "tags": null
          },
          "name": "stderr",
          "output_type": "stream",
          "text": [
            "2024-05-12 04:50:36,987\tWARNING insufficient_resources_manager.py:163 -- Ignore this message if the cluster is autoscaling. No trial is running and no new trial has been started within the last 60 seconds. This could be due to the cluster not having enough resources available. You asked for 5.0 CPUs and 1.0 GPUs per trial, but the cluster only has 2.0 CPUs and 1.0 GPUs available. Stop the tuning and adjust the required resources (e.g. via the `ScalingConfig` or `resources_per_trial`, or `num_workers` for rllib), or add more resources to your cluster.\n"
          ]
        },
        {
          "metadata": {
            "tags": null
          },
          "name": "stdout",
          "output_type": "stream",
          "text": [
            "Trial status: 1 PENDING\n",
            "Current time: 2024-05-12 04:50:40. Total running time: 55min 6s\n",
            "Logical resource usage: 0/2 CPUs, 0/1 GPUs\n",
            "+-----------------------------------+\n",
            "| Trial name               status   |\n",
            "+-----------------------------------+\n",
            "| PPO_my_env_7b7f7_00000   PENDING  |\n",
            "+-----------------------------------+\n",
            "Trial status: 1 PENDING\n",
            "Current time: 2024-05-12 04:51:10. Total running time: 55min 36s\n",
            "Logical resource usage: 0/2 CPUs, 0/1 GPUs\n",
            "+-----------------------------------+\n",
            "| Trial name               status   |\n",
            "+-----------------------------------+\n",
            "| PPO_my_env_7b7f7_00000   PENDING  |\n",
            "+-----------------------------------+\n"
          ]
        },
        {
          "metadata": {
            "tags": null
          },
          "name": "stderr",
          "output_type": "stream",
          "text": [
            "2024-05-12 04:51:37,084\tWARNING insufficient_resources_manager.py:163 -- Ignore this message if the cluster is autoscaling. No trial is running and no new trial has been started within the last 60 seconds. This could be due to the cluster not having enough resources available. You asked for 5.0 CPUs and 1.0 GPUs per trial, but the cluster only has 2.0 CPUs and 1.0 GPUs available. Stop the tuning and adjust the required resources (e.g. via the `ScalingConfig` or `resources_per_trial`, or `num_workers` for rllib), or add more resources to your cluster.\n"
          ]
        },
        {
          "metadata": {
            "tags": null
          },
          "name": "stdout",
          "output_type": "stream",
          "text": [
            "Trial status: 1 PENDING\n",
            "Current time: 2024-05-12 04:51:40. Total running time: 56min 6s\n",
            "Logical resource usage: 0/2 CPUs, 0/1 GPUs\n",
            "+-----------------------------------+\n",
            "| Trial name               status   |\n",
            "+-----------------------------------+\n",
            "| PPO_my_env_7b7f7_00000   PENDING  |\n",
            "+-----------------------------------+\n",
            "Trial status: 1 PENDING\n",
            "Current time: 2024-05-12 04:52:10. Total running time: 56min 37s\n",
            "Logical resource usage: 0/2 CPUs, 0/1 GPUs\n",
            "+-----------------------------------+\n",
            "| Trial name               status   |\n",
            "+-----------------------------------+\n",
            "| PPO_my_env_7b7f7_00000   PENDING  |\n",
            "+-----------------------------------+\n"
          ]
        },
        {
          "metadata": {
            "tags": null
          },
          "name": "stderr",
          "output_type": "stream",
          "text": [
            "2024-05-12 04:52:37,173\tWARNING insufficient_resources_manager.py:163 -- Ignore this message if the cluster is autoscaling. No trial is running and no new trial has been started within the last 60 seconds. This could be due to the cluster not having enough resources available. You asked for 5.0 CPUs and 1.0 GPUs per trial, but the cluster only has 2.0 CPUs and 1.0 GPUs available. Stop the tuning and adjust the required resources (e.g. via the `ScalingConfig` or `resources_per_trial`, or `num_workers` for rllib), or add more resources to your cluster.\n"
          ]
        },
        {
          "metadata": {
            "tags": null
          },
          "name": "stdout",
          "output_type": "stream",
          "text": [
            "Trial status: 1 PENDING\n",
            "Current time: 2024-05-12 04:52:40. Total running time: 57min 7s\n",
            "Logical resource usage: 0/2 CPUs, 0/1 GPUs\n",
            "+-----------------------------------+\n",
            "| Trial name               status   |\n",
            "+-----------------------------------+\n",
            "| PPO_my_env_7b7f7_00000   PENDING  |\n",
            "+-----------------------------------+\n",
            "Trial status: 1 PENDING\n",
            "Current time: 2024-05-12 04:53:10. Total running time: 57min 37s\n",
            "Logical resource usage: 0/2 CPUs, 0/1 GPUs\n",
            "+-----------------------------------+\n",
            "| Trial name               status   |\n",
            "+-----------------------------------+\n",
            "| PPO_my_env_7b7f7_00000   PENDING  |\n",
            "+-----------------------------------+\n"
          ]
        },
        {
          "metadata": {
            "tags": null
          },
          "name": "stderr",
          "output_type": "stream",
          "text": [
            "2024-05-12 04:53:37,249\tWARNING insufficient_resources_manager.py:163 -- Ignore this message if the cluster is autoscaling. No trial is running and no new trial has been started within the last 60 seconds. This could be due to the cluster not having enough resources available. You asked for 5.0 CPUs and 1.0 GPUs per trial, but the cluster only has 2.0 CPUs and 1.0 GPUs available. Stop the tuning and adjust the required resources (e.g. via the `ScalingConfig` or `resources_per_trial`, or `num_workers` for rllib), or add more resources to your cluster.\n"
          ]
        },
        {
          "metadata": {
            "tags": null
          },
          "name": "stdout",
          "output_type": "stream",
          "text": [
            "Trial status: 1 PENDING\n",
            "Current time: 2024-05-12 04:53:40. Total running time: 58min 7s\n",
            "Logical resource usage: 0/2 CPUs, 0/1 GPUs\n",
            "+-----------------------------------+\n",
            "| Trial name               status   |\n",
            "+-----------------------------------+\n",
            "| PPO_my_env_7b7f7_00000   PENDING  |\n",
            "+-----------------------------------+\n",
            "Trial status: 1 PENDING\n",
            "Current time: 2024-05-12 04:54:10. Total running time: 58min 37s\n",
            "Logical resource usage: 0/2 CPUs, 0/1 GPUs\n",
            "+-----------------------------------+\n",
            "| Trial name               status   |\n",
            "+-----------------------------------+\n",
            "| PPO_my_env_7b7f7_00000   PENDING  |\n",
            "+-----------------------------------+\n"
          ]
        },
        {
          "metadata": {
            "tags": null
          },
          "name": "stderr",
          "output_type": "stream",
          "text": [
            "2024-05-12 04:54:37,342\tWARNING insufficient_resources_manager.py:163 -- Ignore this message if the cluster is autoscaling. No trial is running and no new trial has been started within the last 60 seconds. This could be due to the cluster not having enough resources available. You asked for 5.0 CPUs and 1.0 GPUs per trial, but the cluster only has 2.0 CPUs and 1.0 GPUs available. Stop the tuning and adjust the required resources (e.g. via the `ScalingConfig` or `resources_per_trial`, or `num_workers` for rllib), or add more resources to your cluster.\n"
          ]
        },
        {
          "metadata": {
            "tags": null
          },
          "name": "stdout",
          "output_type": "stream",
          "text": [
            "Trial status: 1 PENDING\n",
            "Current time: 2024-05-12 04:54:40. Total running time: 59min 7s\n",
            "Logical resource usage: 0/2 CPUs, 0/1 GPUs\n",
            "+-----------------------------------+\n",
            "| Trial name               status   |\n",
            "+-----------------------------------+\n",
            "| PPO_my_env_7b7f7_00000   PENDING  |\n",
            "+-----------------------------------+\n",
            "Trial status: 1 PENDING\n",
            "Current time: 2024-05-12 04:55:10. Total running time: 59min 37s\n",
            "Logical resource usage: 0/2 CPUs, 0/1 GPUs\n",
            "+-----------------------------------+\n",
            "| Trial name               status   |\n",
            "+-----------------------------------+\n",
            "| PPO_my_env_7b7f7_00000   PENDING  |\n",
            "+-----------------------------------+\n"
          ]
        },
        {
          "metadata": {
            "tags": null
          },
          "name": "stderr",
          "output_type": "stream",
          "text": [
            "2024-05-12 04:55:37,397\tWARNING insufficient_resources_manager.py:163 -- Ignore this message if the cluster is autoscaling. No trial is running and no new trial has been started within the last 60 seconds. This could be due to the cluster not having enough resources available. You asked for 5.0 CPUs and 1.0 GPUs per trial, but the cluster only has 2.0 CPUs and 1.0 GPUs available. Stop the tuning and adjust the required resources (e.g. via the `ScalingConfig` or `resources_per_trial`, or `num_workers` for rllib), or add more resources to your cluster.\n"
          ]
        },
        {
          "metadata": {
            "tags": null
          },
          "name": "stdout",
          "output_type": "stream",
          "text": [
            "Trial status: 1 PENDING\n",
            "Current time: 2024-05-12 04:55:41. Total running time: 1hr 0min 7s\n",
            "Logical resource usage: 0/2 CPUs, 0/1 GPUs\n",
            "+-----------------------------------+\n",
            "| Trial name               status   |\n",
            "+-----------------------------------+\n",
            "| PPO_my_env_7b7f7_00000   PENDING  |\n",
            "+-----------------------------------+\n",
            "Trial status: 1 PENDING\n",
            "Current time: 2024-05-12 04:56:11. Total running time: 1hr 0min 37s\n",
            "Logical resource usage: 0/2 CPUs, 0/1 GPUs\n",
            "+-----------------------------------+\n",
            "| Trial name               status   |\n",
            "+-----------------------------------+\n",
            "| PPO_my_env_7b7f7_00000   PENDING  |\n",
            "+-----------------------------------+\n"
          ]
        },
        {
          "metadata": {
            "tags": null
          },
          "name": "stderr",
          "output_type": "stream",
          "text": [
            "2024-05-12 04:56:37,464\tWARNING insufficient_resources_manager.py:163 -- Ignore this message if the cluster is autoscaling. No trial is running and no new trial has been started within the last 60 seconds. This could be due to the cluster not having enough resources available. You asked for 5.0 CPUs and 1.0 GPUs per trial, but the cluster only has 2.0 CPUs and 1.0 GPUs available. Stop the tuning and adjust the required resources (e.g. via the `ScalingConfig` or `resources_per_trial`, or `num_workers` for rllib), or add more resources to your cluster.\n"
          ]
        },
        {
          "metadata": {
            "tags": null
          },
          "name": "stdout",
          "output_type": "stream",
          "text": [
            "Trial status: 1 PENDING\n",
            "Current time: 2024-05-12 04:56:41. Total running time: 1hr 1min 7s\n",
            "Logical resource usage: 0/2 CPUs, 0/1 GPUs\n",
            "+-----------------------------------+\n",
            "| Trial name               status   |\n",
            "+-----------------------------------+\n",
            "| PPO_my_env_7b7f7_00000   PENDING  |\n",
            "+-----------------------------------+\n",
            "Trial status: 1 PENDING\n",
            "Current time: 2024-05-12 04:57:11. Total running time: 1hr 1min 37s\n",
            "Logical resource usage: 0/2 CPUs, 0/1 GPUs\n",
            "+-----------------------------------+\n",
            "| Trial name               status   |\n",
            "+-----------------------------------+\n",
            "| PPO_my_env_7b7f7_00000   PENDING  |\n",
            "+-----------------------------------+\n"
          ]
        },
        {
          "metadata": {
            "tags": null
          },
          "name": "stderr",
          "output_type": "stream",
          "text": [
            "2024-05-12 04:57:37,504\tWARNING insufficient_resources_manager.py:163 -- Ignore this message if the cluster is autoscaling. No trial is running and no new trial has been started within the last 60 seconds. This could be due to the cluster not having enough resources available. You asked for 5.0 CPUs and 1.0 GPUs per trial, but the cluster only has 2.0 CPUs and 1.0 GPUs available. Stop the tuning and adjust the required resources (e.g. via the `ScalingConfig` or `resources_per_trial`, or `num_workers` for rllib), or add more resources to your cluster.\n"
          ]
        },
        {
          "metadata": {
            "tags": null
          },
          "name": "stdout",
          "output_type": "stream",
          "text": [
            "Trial status: 1 PENDING\n",
            "Current time: 2024-05-12 04:57:41. Total running time: 1hr 2min 7s\n",
            "Logical resource usage: 0/2 CPUs, 0/1 GPUs\n",
            "+-----------------------------------+\n",
            "| Trial name               status   |\n",
            "+-----------------------------------+\n",
            "| PPO_my_env_7b7f7_00000   PENDING  |\n",
            "+-----------------------------------+\n",
            "Trial status: 1 PENDING\n",
            "Current time: 2024-05-12 04:58:11. Total running time: 1hr 2min 37s\n",
            "Logical resource usage: 0/2 CPUs, 0/1 GPUs\n",
            "+-----------------------------------+\n",
            "| Trial name               status   |\n",
            "+-----------------------------------+\n",
            "| PPO_my_env_7b7f7_00000   PENDING  |\n",
            "+-----------------------------------+\n"
          ]
        },
        {
          "metadata": {
            "tags": null
          },
          "name": "stderr",
          "output_type": "stream",
          "text": [
            "2024-05-12 04:58:37,562\tWARNING insufficient_resources_manager.py:163 -- Ignore this message if the cluster is autoscaling. No trial is running and no new trial has been started within the last 60 seconds. This could be due to the cluster not having enough resources available. You asked for 5.0 CPUs and 1.0 GPUs per trial, but the cluster only has 2.0 CPUs and 1.0 GPUs available. Stop the tuning and adjust the required resources (e.g. via the `ScalingConfig` or `resources_per_trial`, or `num_workers` for rllib), or add more resources to your cluster.\n"
          ]
        },
        {
          "metadata": {
            "tags": null
          },
          "name": "stdout",
          "output_type": "stream",
          "text": [
            "Trial status: 1 PENDING\n",
            "Current time: 2024-05-12 04:58:41. Total running time: 1hr 3min 8s\n",
            "Logical resource usage: 0/2 CPUs, 0/1 GPUs\n",
            "+-----------------------------------+\n",
            "| Trial name               status   |\n",
            "+-----------------------------------+\n",
            "| PPO_my_env_7b7f7_00000   PENDING  |\n",
            "+-----------------------------------+\n",
            "Trial status: 1 PENDING\n",
            "Current time: 2024-05-12 04:59:11. Total running time: 1hr 3min 38s\n",
            "Logical resource usage: 0/2 CPUs, 0/1 GPUs\n",
            "+-----------------------------------+\n",
            "| Trial name               status   |\n",
            "+-----------------------------------+\n",
            "| PPO_my_env_7b7f7_00000   PENDING  |\n",
            "+-----------------------------------+\n"
          ]
        },
        {
          "metadata": {
            "tags": null
          },
          "name": "stderr",
          "output_type": "stream",
          "text": [
            "2024-05-12 04:59:37,610\tWARNING insufficient_resources_manager.py:163 -- Ignore this message if the cluster is autoscaling. No trial is running and no new trial has been started within the last 60 seconds. This could be due to the cluster not having enough resources available. You asked for 5.0 CPUs and 1.0 GPUs per trial, but the cluster only has 2.0 CPUs and 1.0 GPUs available. Stop the tuning and adjust the required resources (e.g. via the `ScalingConfig` or `resources_per_trial`, or `num_workers` for rllib), or add more resources to your cluster.\n"
          ]
        },
        {
          "metadata": {
            "tags": null
          },
          "name": "stdout",
          "output_type": "stream",
          "text": [
            "Trial status: 1 PENDING\n",
            "Current time: 2024-05-12 04:59:41. Total running time: 1hr 4min 8s\n",
            "Logical resource usage: 0/2 CPUs, 0/1 GPUs\n",
            "+-----------------------------------+\n",
            "| Trial name               status   |\n",
            "+-----------------------------------+\n",
            "| PPO_my_env_7b7f7_00000   PENDING  |\n",
            "+-----------------------------------+\n",
            "Trial status: 1 PENDING\n",
            "Current time: 2024-05-12 05:00:11. Total running time: 1hr 4min 38s\n",
            "Logical resource usage: 0/2 CPUs, 0/1 GPUs\n",
            "+-----------------------------------+\n",
            "| Trial name               status   |\n",
            "+-----------------------------------+\n",
            "| PPO_my_env_7b7f7_00000   PENDING  |\n",
            "+-----------------------------------+\n"
          ]
        },
        {
          "metadata": {
            "tags": null
          },
          "name": "stderr",
          "output_type": "stream",
          "text": [
            "2024-05-12 05:00:37,670\tWARNING insufficient_resources_manager.py:163 -- Ignore this message if the cluster is autoscaling. No trial is running and no new trial has been started within the last 60 seconds. This could be due to the cluster not having enough resources available. You asked for 5.0 CPUs and 1.0 GPUs per trial, but the cluster only has 2.0 CPUs and 1.0 GPUs available. Stop the tuning and adjust the required resources (e.g. via the `ScalingConfig` or `resources_per_trial`, or `num_workers` for rllib), or add more resources to your cluster.\n"
          ]
        },
        {
          "metadata": {
            "tags": null
          },
          "name": "stdout",
          "output_type": "stream",
          "text": [
            "Trial status: 1 PENDING\n",
            "Current time: 2024-05-12 05:00:41. Total running time: 1hr 5min 8s\n",
            "Logical resource usage: 0/2 CPUs, 0/1 GPUs\n",
            "+-----------------------------------+\n",
            "| Trial name               status   |\n",
            "+-----------------------------------+\n",
            "| PPO_my_env_7b7f7_00000   PENDING  |\n",
            "+-----------------------------------+\n",
            "Trial status: 1 PENDING\n",
            "Current time: 2024-05-12 05:01:11. Total running time: 1hr 5min 38s\n",
            "Logical resource usage: 0/2 CPUs, 0/1 GPUs\n",
            "+-----------------------------------+\n",
            "| Trial name               status   |\n",
            "+-----------------------------------+\n",
            "| PPO_my_env_7b7f7_00000   PENDING  |\n",
            "+-----------------------------------+\n"
          ]
        },
        {
          "metadata": {
            "tags": null
          },
          "name": "stderr",
          "output_type": "stream",
          "text": [
            "2024-05-12 05:01:37,720\tWARNING insufficient_resources_manager.py:163 -- Ignore this message if the cluster is autoscaling. No trial is running and no new trial has been started within the last 60 seconds. This could be due to the cluster not having enough resources available. You asked for 5.0 CPUs and 1.0 GPUs per trial, but the cluster only has 2.0 CPUs and 1.0 GPUs available. Stop the tuning and adjust the required resources (e.g. via the `ScalingConfig` or `resources_per_trial`, or `num_workers` for rllib), or add more resources to your cluster.\n"
          ]
        },
        {
          "metadata": {
            "tags": null
          },
          "name": "stdout",
          "output_type": "stream",
          "text": [
            "Trial status: 1 PENDING\n",
            "Current time: 2024-05-12 05:01:41. Total running time: 1hr 6min 8s\n",
            "Logical resource usage: 0/2 CPUs, 0/1 GPUs\n",
            "+-----------------------------------+\n",
            "| Trial name               status   |\n",
            "+-----------------------------------+\n",
            "| PPO_my_env_7b7f7_00000   PENDING  |\n",
            "+-----------------------------------+\n",
            "Trial status: 1 PENDING\n",
            "Current time: 2024-05-12 05:02:12. Total running time: 1hr 6min 38s\n",
            "Logical resource usage: 0/2 CPUs, 0/1 GPUs\n",
            "+-----------------------------------+\n",
            "| Trial name               status   |\n",
            "+-----------------------------------+\n",
            "| PPO_my_env_7b7f7_00000   PENDING  |\n",
            "+-----------------------------------+\n"
          ]
        },
        {
          "metadata": {
            "tags": null
          },
          "name": "stderr",
          "output_type": "stream",
          "text": [
            "2024-05-12 05:02:37,782\tWARNING insufficient_resources_manager.py:163 -- Ignore this message if the cluster is autoscaling. No trial is running and no new trial has been started within the last 60 seconds. This could be due to the cluster not having enough resources available. You asked for 5.0 CPUs and 1.0 GPUs per trial, but the cluster only has 2.0 CPUs and 1.0 GPUs available. Stop the tuning and adjust the required resources (e.g. via the `ScalingConfig` or `resources_per_trial`, or `num_workers` for rllib), or add more resources to your cluster.\n"
          ]
        },
        {
          "metadata": {
            "tags": null
          },
          "name": "stdout",
          "output_type": "stream",
          "text": [
            "Trial status: 1 PENDING\n",
            "Current time: 2024-05-12 05:02:42. Total running time: 1hr 7min 8s\n",
            "Logical resource usage: 0/2 CPUs, 0/1 GPUs\n",
            "+-----------------------------------+\n",
            "| Trial name               status   |\n",
            "+-----------------------------------+\n",
            "| PPO_my_env_7b7f7_00000   PENDING  |\n",
            "+-----------------------------------+\n",
            "Trial status: 1 PENDING\n",
            "Current time: 2024-05-12 05:03:12. Total running time: 1hr 7min 38s\n",
            "Logical resource usage: 0/2 CPUs, 0/1 GPUs\n",
            "+-----------------------------------+\n",
            "| Trial name               status   |\n",
            "+-----------------------------------+\n",
            "| PPO_my_env_7b7f7_00000   PENDING  |\n",
            "+-----------------------------------+\n"
          ]
        },
        {
          "metadata": {
            "tags": null
          },
          "name": "stderr",
          "output_type": "stream",
          "text": [
            "2024-05-12 05:03:37,839\tWARNING insufficient_resources_manager.py:163 -- Ignore this message if the cluster is autoscaling. No trial is running and no new trial has been started within the last 60 seconds. This could be due to the cluster not having enough resources available. You asked for 5.0 CPUs and 1.0 GPUs per trial, but the cluster only has 2.0 CPUs and 1.0 GPUs available. Stop the tuning and adjust the required resources (e.g. via the `ScalingConfig` or `resources_per_trial`, or `num_workers` for rllib), or add more resources to your cluster.\n"
          ]
        },
        {
          "metadata": {
            "tags": null
          },
          "name": "stdout",
          "output_type": "stream",
          "text": [
            "Trial status: 1 PENDING\n",
            "Current time: 2024-05-12 05:03:42. Total running time: 1hr 8min 8s\n",
            "Logical resource usage: 0/2 CPUs, 0/1 GPUs\n",
            "+-----------------------------------+\n",
            "| Trial name               status   |\n",
            "+-----------------------------------+\n",
            "| PPO_my_env_7b7f7_00000   PENDING  |\n",
            "+-----------------------------------+\n",
            "Trial status: 1 PENDING\n",
            "Current time: 2024-05-12 05:04:12. Total running time: 1hr 8min 38s\n",
            "Logical resource usage: 0/2 CPUs, 0/1 GPUs\n",
            "+-----------------------------------+\n",
            "| Trial name               status   |\n",
            "+-----------------------------------+\n",
            "| PPO_my_env_7b7f7_00000   PENDING  |\n",
            "+-----------------------------------+\n"
          ]
        },
        {
          "metadata": {
            "tags": null
          },
          "name": "stderr",
          "output_type": "stream",
          "text": [
            "2024-05-12 05:04:37,890\tWARNING insufficient_resources_manager.py:163 -- Ignore this message if the cluster is autoscaling. No trial is running and no new trial has been started within the last 60 seconds. This could be due to the cluster not having enough resources available. You asked for 5.0 CPUs and 1.0 GPUs per trial, but the cluster only has 2.0 CPUs and 1.0 GPUs available. Stop the tuning and adjust the required resources (e.g. via the `ScalingConfig` or `resources_per_trial`, or `num_workers` for rllib), or add more resources to your cluster.\n"
          ]
        },
        {
          "metadata": {
            "tags": null
          },
          "name": "stdout",
          "output_type": "stream",
          "text": [
            "Trial status: 1 PENDING\n",
            "Current time: 2024-05-12 05:04:42. Total running time: 1hr 9min 8s\n",
            "Logical resource usage: 0/2 CPUs, 0/1 GPUs\n",
            "+-----------------------------------+\n",
            "| Trial name               status   |\n",
            "+-----------------------------------+\n",
            "| PPO_my_env_7b7f7_00000   PENDING  |\n",
            "+-----------------------------------+\n",
            "Trial status: 1 PENDING\n",
            "Current time: 2024-05-12 05:05:12. Total running time: 1hr 9min 39s\n",
            "Logical resource usage: 0/2 CPUs, 0/1 GPUs\n",
            "+-----------------------------------+\n",
            "| Trial name               status   |\n",
            "+-----------------------------------+\n",
            "| PPO_my_env_7b7f7_00000   PENDING  |\n",
            "+-----------------------------------+\n"
          ]
        },
        {
          "metadata": {
            "tags": null
          },
          "name": "stderr",
          "output_type": "stream",
          "text": [
            "2024-05-12 05:05:37,968\tWARNING insufficient_resources_manager.py:163 -- Ignore this message if the cluster is autoscaling. No trial is running and no new trial has been started within the last 60 seconds. This could be due to the cluster not having enough resources available. You asked for 5.0 CPUs and 1.0 GPUs per trial, but the cluster only has 2.0 CPUs and 1.0 GPUs available. Stop the tuning and adjust the required resources (e.g. via the `ScalingConfig` or `resources_per_trial`, or `num_workers` for rllib), or add more resources to your cluster.\n"
          ]
        },
        {
          "metadata": {
            "tags": null
          },
          "name": "stdout",
          "output_type": "stream",
          "text": [
            "Trial status: 1 PENDING\n",
            "Current time: 2024-05-12 05:05:42. Total running time: 1hr 10min 9s\n",
            "Logical resource usage: 0/2 CPUs, 0/1 GPUs\n",
            "+-----------------------------------+\n",
            "| Trial name               status   |\n",
            "+-----------------------------------+\n",
            "| PPO_my_env_7b7f7_00000   PENDING  |\n",
            "+-----------------------------------+\n",
            "Trial status: 1 PENDING\n",
            "Current time: 2024-05-12 05:06:12. Total running time: 1hr 10min 39s\n",
            "Logical resource usage: 0/2 CPUs, 0/1 GPUs\n",
            "+-----------------------------------+\n",
            "| Trial name               status   |\n",
            "+-----------------------------------+\n",
            "| PPO_my_env_7b7f7_00000   PENDING  |\n",
            "+-----------------------------------+\n"
          ]
        },
        {
          "metadata": {
            "tags": null
          },
          "name": "stderr",
          "output_type": "stream",
          "text": [
            "2024-05-12 05:06:37,974\tWARNING insufficient_resources_manager.py:163 -- Ignore this message if the cluster is autoscaling. No trial is running and no new trial has been started within the last 60 seconds. This could be due to the cluster not having enough resources available. You asked for 5.0 CPUs and 1.0 GPUs per trial, but the cluster only has 2.0 CPUs and 1.0 GPUs available. Stop the tuning and adjust the required resources (e.g. via the `ScalingConfig` or `resources_per_trial`, or `num_workers` for rllib), or add more resources to your cluster.\n"
          ]
        },
        {
          "metadata": {
            "tags": null
          },
          "name": "stdout",
          "output_type": "stream",
          "text": [
            "Trial status: 1 PENDING\n",
            "Current time: 2024-05-12 05:06:42. Total running time: 1hr 11min 9s\n",
            "Logical resource usage: 0/2 CPUs, 0/1 GPUs\n",
            "+-----------------------------------+\n",
            "| Trial name               status   |\n",
            "+-----------------------------------+\n",
            "| PPO_my_env_7b7f7_00000   PENDING  |\n",
            "+-----------------------------------+\n",
            "Trial status: 1 PENDING\n",
            "Current time: 2024-05-12 05:07:12. Total running time: 1hr 11min 39s\n",
            "Logical resource usage: 0/2 CPUs, 0/1 GPUs\n",
            "+-----------------------------------+\n",
            "| Trial name               status   |\n",
            "+-----------------------------------+\n",
            "| PPO_my_env_7b7f7_00000   PENDING  |\n",
            "+-----------------------------------+\n"
          ]
        },
        {
          "metadata": {
            "tags": null
          },
          "name": "stderr",
          "output_type": "stream",
          "text": [
            "2024-05-12 05:07:38,068\tWARNING insufficient_resources_manager.py:163 -- Ignore this message if the cluster is autoscaling. No trial is running and no new trial has been started within the last 60 seconds. This could be due to the cluster not having enough resources available. You asked for 5.0 CPUs and 1.0 GPUs per trial, but the cluster only has 2.0 CPUs and 1.0 GPUs available. Stop the tuning and adjust the required resources (e.g. via the `ScalingConfig` or `resources_per_trial`, or `num_workers` for rllib), or add more resources to your cluster.\n"
          ]
        },
        {
          "metadata": {
            "tags": null
          },
          "name": "stdout",
          "output_type": "stream",
          "text": [
            "Trial status: 1 PENDING\n",
            "Current time: 2024-05-12 05:07:42. Total running time: 1hr 12min 9s\n",
            "Logical resource usage: 0/2 CPUs, 0/1 GPUs\n",
            "+-----------------------------------+\n",
            "| Trial name               status   |\n",
            "+-----------------------------------+\n",
            "| PPO_my_env_7b7f7_00000   PENDING  |\n",
            "+-----------------------------------+\n",
            "Trial status: 1 PENDING\n",
            "Current time: 2024-05-12 05:08:12. Total running time: 1hr 12min 39s\n",
            "Logical resource usage: 0/2 CPUs, 0/1 GPUs\n",
            "+-----------------------------------+\n",
            "| Trial name               status   |\n",
            "+-----------------------------------+\n",
            "| PPO_my_env_7b7f7_00000   PENDING  |\n",
            "+-----------------------------------+\n"
          ]
        },
        {
          "metadata": {
            "tags": null
          },
          "name": "stderr",
          "output_type": "stream",
          "text": [
            "2024-05-12 05:08:38,089\tWARNING insufficient_resources_manager.py:163 -- Ignore this message if the cluster is autoscaling. No trial is running and no new trial has been started within the last 60 seconds. This could be due to the cluster not having enough resources available. You asked for 5.0 CPUs and 1.0 GPUs per trial, but the cluster only has 2.0 CPUs and 1.0 GPUs available. Stop the tuning and adjust the required resources (e.g. via the `ScalingConfig` or `resources_per_trial`, or `num_workers` for rllib), or add more resources to your cluster.\n"
          ]
        },
        {
          "metadata": {
            "tags": null
          },
          "name": "stdout",
          "output_type": "stream",
          "text": [
            "Trial status: 1 PENDING\n",
            "Current time: 2024-05-12 05:08:42. Total running time: 1hr 13min 9s\n",
            "Logical resource usage: 0/2 CPUs, 0/1 GPUs\n",
            "+-----------------------------------+\n",
            "| Trial name               status   |\n",
            "+-----------------------------------+\n",
            "| PPO_my_env_7b7f7_00000   PENDING  |\n",
            "+-----------------------------------+\n",
            "Trial status: 1 PENDING\n",
            "Current time: 2024-05-12 05:09:12. Total running time: 1hr 13min 39s\n",
            "Logical resource usage: 0/2 CPUs, 0/1 GPUs\n",
            "+-----------------------------------+\n",
            "| Trial name               status   |\n",
            "+-----------------------------------+\n",
            "| PPO_my_env_7b7f7_00000   PENDING  |\n",
            "+-----------------------------------+\n"
          ]
        },
        {
          "metadata": {
            "tags": null
          },
          "name": "stderr",
          "output_type": "stream",
          "text": [
            "2024-05-12 05:09:38,181\tWARNING insufficient_resources_manager.py:163 -- Ignore this message if the cluster is autoscaling. No trial is running and no new trial has been started within the last 60 seconds. This could be due to the cluster not having enough resources available. You asked for 5.0 CPUs and 1.0 GPUs per trial, but the cluster only has 2.0 CPUs and 1.0 GPUs available. Stop the tuning and adjust the required resources (e.g. via the `ScalingConfig` or `resources_per_trial`, or `num_workers` for rllib), or add more resources to your cluster.\n"
          ]
        },
        {
          "metadata": {
            "tags": null
          },
          "name": "stdout",
          "output_type": "stream",
          "text": [
            "Trial status: 1 PENDING\n",
            "Current time: 2024-05-12 05:09:43. Total running time: 1hr 14min 9s\n",
            "Logical resource usage: 0/2 CPUs, 0/1 GPUs\n",
            "+-----------------------------------+\n",
            "| Trial name               status   |\n",
            "+-----------------------------------+\n",
            "| PPO_my_env_7b7f7_00000   PENDING  |\n",
            "+-----------------------------------+\n",
            "Trial status: 1 PENDING\n",
            "Current time: 2024-05-12 05:10:13. Total running time: 1hr 14min 39s\n",
            "Logical resource usage: 0/2 CPUs, 0/1 GPUs\n",
            "+-----------------------------------+\n",
            "| Trial name               status   |\n",
            "+-----------------------------------+\n",
            "| PPO_my_env_7b7f7_00000   PENDING  |\n",
            "+-----------------------------------+\n"
          ]
        },
        {
          "metadata": {
            "tags": null
          },
          "name": "stderr",
          "output_type": "stream",
          "text": [
            "2024-05-12 05:10:38,276\tWARNING insufficient_resources_manager.py:163 -- Ignore this message if the cluster is autoscaling. No trial is running and no new trial has been started within the last 60 seconds. This could be due to the cluster not having enough resources available. You asked for 5.0 CPUs and 1.0 GPUs per trial, but the cluster only has 2.0 CPUs and 1.0 GPUs available. Stop the tuning and adjust the required resources (e.g. via the `ScalingConfig` or `resources_per_trial`, or `num_workers` for rllib), or add more resources to your cluster.\n"
          ]
        },
        {
          "metadata": {
            "tags": null
          },
          "name": "stdout",
          "output_type": "stream",
          "text": [
            "Trial status: 1 PENDING\n",
            "Current time: 2024-05-12 05:10:43. Total running time: 1hr 15min 9s\n",
            "Logical resource usage: 0/2 CPUs, 0/1 GPUs\n",
            "+-----------------------------------+\n",
            "| Trial name               status   |\n",
            "+-----------------------------------+\n",
            "| PPO_my_env_7b7f7_00000   PENDING  |\n",
            "+-----------------------------------+\n",
            "Trial status: 1 PENDING\n",
            "Current time: 2024-05-12 05:11:13. Total running time: 1hr 15min 39s\n",
            "Logical resource usage: 0/2 CPUs, 0/1 GPUs\n",
            "+-----------------------------------+\n",
            "| Trial name               status   |\n",
            "+-----------------------------------+\n",
            "| PPO_my_env_7b7f7_00000   PENDING  |\n",
            "+-----------------------------------+\n"
          ]
        },
        {
          "metadata": {
            "tags": null
          },
          "name": "stderr",
          "output_type": "stream",
          "text": [
            "2024-05-12 05:11:38,369\tWARNING insufficient_resources_manager.py:163 -- Ignore this message if the cluster is autoscaling. No trial is running and no new trial has been started within the last 60 seconds. This could be due to the cluster not having enough resources available. You asked for 5.0 CPUs and 1.0 GPUs per trial, but the cluster only has 2.0 CPUs and 1.0 GPUs available. Stop the tuning and adjust the required resources (e.g. via the `ScalingConfig` or `resources_per_trial`, or `num_workers` for rllib), or add more resources to your cluster.\n"
          ]
        },
        {
          "metadata": {
            "tags": null
          },
          "name": "stdout",
          "output_type": "stream",
          "text": [
            "Trial status: 1 PENDING\n",
            "Current time: 2024-05-12 05:11:43. Total running time: 1hr 16min 9s\n",
            "Logical resource usage: 0/2 CPUs, 0/1 GPUs\n",
            "+-----------------------------------+\n",
            "| Trial name               status   |\n",
            "+-----------------------------------+\n",
            "| PPO_my_env_7b7f7_00000   PENDING  |\n",
            "+-----------------------------------+\n",
            "Trial status: 1 PENDING\n",
            "Current time: 2024-05-12 05:12:13. Total running time: 1hr 16min 39s\n",
            "Logical resource usage: 0/2 CPUs, 0/1 GPUs\n",
            "+-----------------------------------+\n",
            "| Trial name               status   |\n",
            "+-----------------------------------+\n",
            "| PPO_my_env_7b7f7_00000   PENDING  |\n",
            "+-----------------------------------+\n"
          ]
        },
        {
          "metadata": {
            "tags": null
          },
          "name": "stderr",
          "output_type": "stream",
          "text": [
            "2024-05-12 05:12:38,466\tWARNING insufficient_resources_manager.py:163 -- Ignore this message if the cluster is autoscaling. No trial is running and no new trial has been started within the last 60 seconds. This could be due to the cluster not having enough resources available. You asked for 5.0 CPUs and 1.0 GPUs per trial, but the cluster only has 2.0 CPUs and 1.0 GPUs available. Stop the tuning and adjust the required resources (e.g. via the `ScalingConfig` or `resources_per_trial`, or `num_workers` for rllib), or add more resources to your cluster.\n"
          ]
        },
        {
          "metadata": {
            "tags": null
          },
          "name": "stdout",
          "output_type": "stream",
          "text": [
            "Trial status: 1 PENDING\n",
            "Current time: 2024-05-12 05:12:43. Total running time: 1hr 17min 9s\n",
            "Logical resource usage: 0/2 CPUs, 0/1 GPUs\n",
            "+-----------------------------------+\n",
            "| Trial name               status   |\n",
            "+-----------------------------------+\n",
            "| PPO_my_env_7b7f7_00000   PENDING  |\n",
            "+-----------------------------------+\n",
            "Trial status: 1 PENDING\n",
            "Current time: 2024-05-12 05:13:13. Total running time: 1hr 17min 40s\n",
            "Logical resource usage: 0/2 CPUs, 0/1 GPUs\n",
            "+-----------------------------------+\n",
            "| Trial name               status   |\n",
            "+-----------------------------------+\n",
            "| PPO_my_env_7b7f7_00000   PENDING  |\n",
            "+-----------------------------------+\n"
          ]
        },
        {
          "metadata": {
            "tags": null
          },
          "name": "stderr",
          "output_type": "stream",
          "text": [
            "2024-05-12 05:13:38,473\tWARNING insufficient_resources_manager.py:163 -- Ignore this message if the cluster is autoscaling. No trial is running and no new trial has been started within the last 60 seconds. This could be due to the cluster not having enough resources available. You asked for 5.0 CPUs and 1.0 GPUs per trial, but the cluster only has 2.0 CPUs and 1.0 GPUs available. Stop the tuning and adjust the required resources (e.g. via the `ScalingConfig` or `resources_per_trial`, or `num_workers` for rllib), or add more resources to your cluster.\n"
          ]
        },
        {
          "metadata": {
            "tags": null
          },
          "name": "stdout",
          "output_type": "stream",
          "text": [
            "Trial status: 1 PENDING\n",
            "Current time: 2024-05-12 05:13:43. Total running time: 1hr 18min 10s\n",
            "Logical resource usage: 0/2 CPUs, 0/1 GPUs\n",
            "+-----------------------------------+\n",
            "| Trial name               status   |\n",
            "+-----------------------------------+\n",
            "| PPO_my_env_7b7f7_00000   PENDING  |\n",
            "+-----------------------------------+\n",
            "Trial status: 1 PENDING\n",
            "Current time: 2024-05-12 05:14:13. Total running time: 1hr 18min 40s\n",
            "Logical resource usage: 0/2 CPUs, 0/1 GPUs\n",
            "+-----------------------------------+\n",
            "| Trial name               status   |\n",
            "+-----------------------------------+\n",
            "| PPO_my_env_7b7f7_00000   PENDING  |\n",
            "+-----------------------------------+\n"
          ]
        },
        {
          "metadata": {
            "tags": null
          },
          "name": "stderr",
          "output_type": "stream",
          "text": [
            "2024-05-12 05:14:38,573\tWARNING insufficient_resources_manager.py:163 -- Ignore this message if the cluster is autoscaling. No trial is running and no new trial has been started within the last 60 seconds. This could be due to the cluster not having enough resources available. You asked for 5.0 CPUs and 1.0 GPUs per trial, but the cluster only has 2.0 CPUs and 1.0 GPUs available. Stop the tuning and adjust the required resources (e.g. via the `ScalingConfig` or `resources_per_trial`, or `num_workers` for rllib), or add more resources to your cluster.\n"
          ]
        },
        {
          "metadata": {
            "tags": null
          },
          "name": "stdout",
          "output_type": "stream",
          "text": [
            "Trial status: 1 PENDING\n",
            "Current time: 2024-05-12 05:14:43. Total running time: 1hr 19min 10s\n",
            "Logical resource usage: 0/2 CPUs, 0/1 GPUs\n",
            "+-----------------------------------+\n",
            "| Trial name               status   |\n",
            "+-----------------------------------+\n",
            "| PPO_my_env_7b7f7_00000   PENDING  |\n",
            "+-----------------------------------+\n",
            "Trial status: 1 PENDING\n",
            "Current time: 2024-05-12 05:15:13. Total running time: 1hr 19min 40s\n",
            "Logical resource usage: 0/2 CPUs, 0/1 GPUs\n",
            "+-----------------------------------+\n",
            "| Trial name               status   |\n",
            "+-----------------------------------+\n",
            "| PPO_my_env_7b7f7_00000   PENDING  |\n",
            "+-----------------------------------+\n"
          ]
        },
        {
          "metadata": {
            "tags": null
          },
          "name": "stderr",
          "output_type": "stream",
          "text": [
            "2024-05-12 05:15:38,658\tWARNING insufficient_resources_manager.py:163 -- Ignore this message if the cluster is autoscaling. No trial is running and no new trial has been started within the last 60 seconds. This could be due to the cluster not having enough resources available. You asked for 5.0 CPUs and 1.0 GPUs per trial, but the cluster only has 2.0 CPUs and 1.0 GPUs available. Stop the tuning and adjust the required resources (e.g. via the `ScalingConfig` or `resources_per_trial`, or `num_workers` for rllib), or add more resources to your cluster.\n"
          ]
        },
        {
          "metadata": {
            "tags": null
          },
          "name": "stdout",
          "output_type": "stream",
          "text": [
            "Trial status: 1 PENDING\n",
            "Current time: 2024-05-12 05:15:43. Total running time: 1hr 20min 10s\n",
            "Logical resource usage: 0/2 CPUs, 0/1 GPUs\n",
            "+-----------------------------------+\n",
            "| Trial name               status   |\n",
            "+-----------------------------------+\n",
            "| PPO_my_env_7b7f7_00000   PENDING  |\n",
            "+-----------------------------------+\n",
            "Trial status: 1 PENDING\n",
            "Current time: 2024-05-12 05:16:14. Total running time: 1hr 20min 40s\n",
            "Logical resource usage: 0/2 CPUs, 0/1 GPUs\n",
            "+-----------------------------------+\n",
            "| Trial name               status   |\n",
            "+-----------------------------------+\n",
            "| PPO_my_env_7b7f7_00000   PENDING  |\n",
            "+-----------------------------------+\n"
          ]
        },
        {
          "metadata": {
            "tags": null
          },
          "name": "stderr",
          "output_type": "stream",
          "text": [
            "2024-05-12 05:16:38,755\tWARNING insufficient_resources_manager.py:163 -- Ignore this message if the cluster is autoscaling. No trial is running and no new trial has been started within the last 60 seconds. This could be due to the cluster not having enough resources available. You asked for 5.0 CPUs and 1.0 GPUs per trial, but the cluster only has 2.0 CPUs and 1.0 GPUs available. Stop the tuning and adjust the required resources (e.g. via the `ScalingConfig` or `resources_per_trial`, or `num_workers` for rllib), or add more resources to your cluster.\n"
          ]
        },
        {
          "metadata": {
            "tags": null
          },
          "name": "stdout",
          "output_type": "stream",
          "text": [
            "Trial status: 1 PENDING\n",
            "Current time: 2024-05-12 05:16:44. Total running time: 1hr 21min 10s\n",
            "Logical resource usage: 0/2 CPUs, 0/1 GPUs\n",
            "+-----------------------------------+\n",
            "| Trial name               status   |\n",
            "+-----------------------------------+\n",
            "| PPO_my_env_7b7f7_00000   PENDING  |\n",
            "+-----------------------------------+\n",
            "Trial status: 1 PENDING\n",
            "Current time: 2024-05-12 05:17:14. Total running time: 1hr 21min 40s\n",
            "Logical resource usage: 0/2 CPUs, 0/1 GPUs\n",
            "+-----------------------------------+\n",
            "| Trial name               status   |\n",
            "+-----------------------------------+\n",
            "| PPO_my_env_7b7f7_00000   PENDING  |\n",
            "+-----------------------------------+\n"
          ]
        },
        {
          "metadata": {
            "tags": null
          },
          "name": "stderr",
          "output_type": "stream",
          "text": [
            "2024-05-12 05:17:38,832\tWARNING insufficient_resources_manager.py:163 -- Ignore this message if the cluster is autoscaling. No trial is running and no new trial has been started within the last 60 seconds. This could be due to the cluster not having enough resources available. You asked for 5.0 CPUs and 1.0 GPUs per trial, but the cluster only has 2.0 CPUs and 1.0 GPUs available. Stop the tuning and adjust the required resources (e.g. via the `ScalingConfig` or `resources_per_trial`, or `num_workers` for rllib), or add more resources to your cluster.\n"
          ]
        },
        {
          "metadata": {
            "tags": null
          },
          "name": "stdout",
          "output_type": "stream",
          "text": [
            "Trial status: 1 PENDING\n",
            "Current time: 2024-05-12 05:17:44. Total running time: 1hr 22min 10s\n",
            "Logical resource usage: 0/2 CPUs, 0/1 GPUs\n",
            "+-----------------------------------+\n",
            "| Trial name               status   |\n",
            "+-----------------------------------+\n",
            "| PPO_my_env_7b7f7_00000   PENDING  |\n",
            "+-----------------------------------+\n",
            "Trial status: 1 PENDING\n",
            "Current time: 2024-05-12 05:18:14. Total running time: 1hr 22min 40s\n",
            "Logical resource usage: 0/2 CPUs, 0/1 GPUs\n",
            "+-----------------------------------+\n",
            "| Trial name               status   |\n",
            "+-----------------------------------+\n",
            "| PPO_my_env_7b7f7_00000   PENDING  |\n",
            "+-----------------------------------+\n"
          ]
        },
        {
          "metadata": {
            "tags": null
          },
          "name": "stderr",
          "output_type": "stream",
          "text": [
            "2024-05-12 05:18:38,838\tWARNING insufficient_resources_manager.py:163 -- Ignore this message if the cluster is autoscaling. No trial is running and no new trial has been started within the last 60 seconds. This could be due to the cluster not having enough resources available. You asked for 5.0 CPUs and 1.0 GPUs per trial, but the cluster only has 2.0 CPUs and 1.0 GPUs available. Stop the tuning and adjust the required resources (e.g. via the `ScalingConfig` or `resources_per_trial`, or `num_workers` for rllib), or add more resources to your cluster.\n"
          ]
        },
        {
          "metadata": {
            "tags": null
          },
          "name": "stdout",
          "output_type": "stream",
          "text": [
            "Trial status: 1 PENDING\n",
            "Current time: 2024-05-12 05:18:44. Total running time: 1hr 23min 10s\n",
            "Logical resource usage: 0/2 CPUs, 0/1 GPUs\n",
            "+-----------------------------------+\n",
            "| Trial name               status   |\n",
            "+-----------------------------------+\n",
            "| PPO_my_env_7b7f7_00000   PENDING  |\n",
            "+-----------------------------------+\n",
            "Trial status: 1 PENDING\n",
            "Current time: 2024-05-12 05:19:14. Total running time: 1hr 23min 41s\n",
            "Logical resource usage: 0/2 CPUs, 0/1 GPUs\n",
            "+-----------------------------------+\n",
            "| Trial name               status   |\n",
            "+-----------------------------------+\n",
            "| PPO_my_env_7b7f7_00000   PENDING  |\n",
            "+-----------------------------------+\n"
          ]
        },
        {
          "metadata": {
            "tags": null
          },
          "name": "stderr",
          "output_type": "stream",
          "text": [
            "2024-05-12 05:19:38,929\tWARNING insufficient_resources_manager.py:163 -- Ignore this message if the cluster is autoscaling. No trial is running and no new trial has been started within the last 60 seconds. This could be due to the cluster not having enough resources available. You asked for 5.0 CPUs and 1.0 GPUs per trial, but the cluster only has 2.0 CPUs and 1.0 GPUs available. Stop the tuning and adjust the required resources (e.g. via the `ScalingConfig` or `resources_per_trial`, or `num_workers` for rllib), or add more resources to your cluster.\n"
          ]
        },
        {
          "metadata": {
            "tags": null
          },
          "name": "stdout",
          "output_type": "stream",
          "text": [
            "Trial status: 1 PENDING\n",
            "Current time: 2024-05-12 05:19:44. Total running time: 1hr 24min 11s\n",
            "Logical resource usage: 0/2 CPUs, 0/1 GPUs\n",
            "+-----------------------------------+\n",
            "| Trial name               status   |\n",
            "+-----------------------------------+\n",
            "| PPO_my_env_7b7f7_00000   PENDING  |\n",
            "+-----------------------------------+\n",
            "Trial status: 1 PENDING\n",
            "Current time: 2024-05-12 05:20:14. Total running time: 1hr 24min 41s\n",
            "Logical resource usage: 0/2 CPUs, 0/1 GPUs\n",
            "+-----------------------------------+\n",
            "| Trial name               status   |\n",
            "+-----------------------------------+\n",
            "| PPO_my_env_7b7f7_00000   PENDING  |\n",
            "+-----------------------------------+\n"
          ]
        },
        {
          "metadata": {
            "tags": null
          },
          "name": "stderr",
          "output_type": "stream",
          "text": [
            "2024-05-12 05:20:39,002\tWARNING insufficient_resources_manager.py:163 -- Ignore this message if the cluster is autoscaling. No trial is running and no new trial has been started within the last 60 seconds. This could be due to the cluster not having enough resources available. You asked for 5.0 CPUs and 1.0 GPUs per trial, but the cluster only has 2.0 CPUs and 1.0 GPUs available. Stop the tuning and adjust the required resources (e.g. via the `ScalingConfig` or `resources_per_trial`, or `num_workers` for rllib), or add more resources to your cluster.\n"
          ]
        },
        {
          "metadata": {
            "tags": null
          },
          "name": "stdout",
          "output_type": "stream",
          "text": [
            "Trial status: 1 PENDING\n",
            "Current time: 2024-05-12 05:20:44. Total running time: 1hr 25min 11s\n",
            "Logical resource usage: 0/2 CPUs, 0/1 GPUs\n",
            "+-----------------------------------+\n",
            "| Trial name               status   |\n",
            "+-----------------------------------+\n",
            "| PPO_my_env_7b7f7_00000   PENDING  |\n",
            "+-----------------------------------+\n",
            "Trial status: 1 PENDING\n",
            "Current time: 2024-05-12 05:21:14. Total running time: 1hr 25min 41s\n",
            "Logical resource usage: 0/2 CPUs, 0/1 GPUs\n",
            "+-----------------------------------+\n",
            "| Trial name               status   |\n",
            "+-----------------------------------+\n",
            "| PPO_my_env_7b7f7_00000   PENDING  |\n",
            "+-----------------------------------+\n"
          ]
        },
        {
          "metadata": {
            "tags": null
          },
          "name": "stderr",
          "output_type": "stream",
          "text": [
            "2024-05-12 05:21:39,079\tWARNING insufficient_resources_manager.py:163 -- Ignore this message if the cluster is autoscaling. No trial is running and no new trial has been started within the last 60 seconds. This could be due to the cluster not having enough resources available. You asked for 5.0 CPUs and 1.0 GPUs per trial, but the cluster only has 2.0 CPUs and 1.0 GPUs available. Stop the tuning and adjust the required resources (e.g. via the `ScalingConfig` or `resources_per_trial`, or `num_workers` for rllib), or add more resources to your cluster.\n"
          ]
        },
        {
          "metadata": {
            "tags": null
          },
          "name": "stdout",
          "output_type": "stream",
          "text": [
            "Trial status: 1 PENDING\n",
            "Current time: 2024-05-12 05:21:44. Total running time: 1hr 26min 11s\n",
            "Logical resource usage: 0/2 CPUs, 0/1 GPUs\n",
            "+-----------------------------------+\n",
            "| Trial name               status   |\n",
            "+-----------------------------------+\n",
            "| PPO_my_env_7b7f7_00000   PENDING  |\n",
            "+-----------------------------------+\n",
            "Trial status: 1 PENDING\n",
            "Current time: 2024-05-12 05:22:15. Total running time: 1hr 26min 41s\n",
            "Logical resource usage: 0/2 CPUs, 0/1 GPUs\n",
            "+-----------------------------------+\n",
            "| Trial name               status   |\n",
            "+-----------------------------------+\n",
            "| PPO_my_env_7b7f7_00000   PENDING  |\n",
            "+-----------------------------------+\n"
          ]
        },
        {
          "metadata": {
            "tags": null
          },
          "name": "stderr",
          "output_type": "stream",
          "text": [
            "2024-05-12 05:22:39,136\tWARNING insufficient_resources_manager.py:163 -- Ignore this message if the cluster is autoscaling. No trial is running and no new trial has been started within the last 60 seconds. This could be due to the cluster not having enough resources available. You asked for 5.0 CPUs and 1.0 GPUs per trial, but the cluster only has 2.0 CPUs and 1.0 GPUs available. Stop the tuning and adjust the required resources (e.g. via the `ScalingConfig` or `resources_per_trial`, or `num_workers` for rllib), or add more resources to your cluster.\n"
          ]
        },
        {
          "metadata": {
            "tags": null
          },
          "name": "stdout",
          "output_type": "stream",
          "text": [
            "Trial status: 1 PENDING\n",
            "Current time: 2024-05-12 05:22:45. Total running time: 1hr 27min 11s\n",
            "Logical resource usage: 0/2 CPUs, 0/1 GPUs\n",
            "+-----------------------------------+\n",
            "| Trial name               status   |\n",
            "+-----------------------------------+\n",
            "| PPO_my_env_7b7f7_00000   PENDING  |\n",
            "+-----------------------------------+\n",
            "Trial status: 1 PENDING\n",
            "Current time: 2024-05-12 05:23:15. Total running time: 1hr 27min 41s\n",
            "Logical resource usage: 0/2 CPUs, 0/1 GPUs\n",
            "+-----------------------------------+\n",
            "| Trial name               status   |\n",
            "+-----------------------------------+\n",
            "| PPO_my_env_7b7f7_00000   PENDING  |\n",
            "+-----------------------------------+\n"
          ]
        },
        {
          "metadata": {
            "tags": null
          },
          "name": "stderr",
          "output_type": "stream",
          "text": [
            "2024-05-12 05:23:39,233\tWARNING insufficient_resources_manager.py:163 -- Ignore this message if the cluster is autoscaling. No trial is running and no new trial has been started within the last 60 seconds. This could be due to the cluster not having enough resources available. You asked for 5.0 CPUs and 1.0 GPUs per trial, but the cluster only has 2.0 CPUs and 1.0 GPUs available. Stop the tuning and adjust the required resources (e.g. via the `ScalingConfig` or `resources_per_trial`, or `num_workers` for rllib), or add more resources to your cluster.\n"
          ]
        },
        {
          "metadata": {
            "tags": null
          },
          "name": "stdout",
          "output_type": "stream",
          "text": [
            "Trial status: 1 PENDING\n",
            "Current time: 2024-05-12 05:23:45. Total running time: 1hr 28min 11s\n",
            "Logical resource usage: 0/2 CPUs, 0/1 GPUs\n",
            "+-----------------------------------+\n",
            "| Trial name               status   |\n",
            "+-----------------------------------+\n",
            "| PPO_my_env_7b7f7_00000   PENDING  |\n",
            "+-----------------------------------+\n",
            "Trial status: 1 PENDING\n",
            "Current time: 2024-05-12 05:24:15. Total running time: 1hr 28min 41s\n",
            "Logical resource usage: 0/2 CPUs, 0/1 GPUs\n",
            "+-----------------------------------+\n",
            "| Trial name               status   |\n",
            "+-----------------------------------+\n",
            "| PPO_my_env_7b7f7_00000   PENDING  |\n",
            "+-----------------------------------+\n"
          ]
        },
        {
          "metadata": {
            "tags": null
          },
          "name": "stderr",
          "output_type": "stream",
          "text": [
            "2024-05-12 05:24:39,329\tWARNING insufficient_resources_manager.py:163 -- Ignore this message if the cluster is autoscaling. No trial is running and no new trial has been started within the last 60 seconds. This could be due to the cluster not having enough resources available. You asked for 5.0 CPUs and 1.0 GPUs per trial, but the cluster only has 2.0 CPUs and 1.0 GPUs available. Stop the tuning and adjust the required resources (e.g. via the `ScalingConfig` or `resources_per_trial`, or `num_workers` for rllib), or add more resources to your cluster.\n"
          ]
        },
        {
          "metadata": {
            "tags": null
          },
          "name": "stdout",
          "output_type": "stream",
          "text": [
            "Trial status: 1 PENDING\n",
            "Current time: 2024-05-12 05:24:45. Total running time: 1hr 29min 12s\n",
            "Logical resource usage: 0/2 CPUs, 0/1 GPUs\n",
            "+-----------------------------------+\n",
            "| Trial name               status   |\n",
            "+-----------------------------------+\n",
            "| PPO_my_env_7b7f7_00000   PENDING  |\n",
            "+-----------------------------------+\n",
            "Trial status: 1 PENDING\n",
            "Current time: 2024-05-12 05:25:15. Total running time: 1hr 29min 42s\n",
            "Logical resource usage: 0/2 CPUs, 0/1 GPUs\n",
            "+-----------------------------------+\n",
            "| Trial name               status   |\n",
            "+-----------------------------------+\n",
            "| PPO_my_env_7b7f7_00000   PENDING  |\n",
            "+-----------------------------------+\n"
          ]
        },
        {
          "metadata": {
            "tags": null
          },
          "name": "stderr",
          "output_type": "stream",
          "text": [
            "2024-05-12 05:25:39,416\tWARNING insufficient_resources_manager.py:163 -- Ignore this message if the cluster is autoscaling. No trial is running and no new trial has been started within the last 60 seconds. This could be due to the cluster not having enough resources available. You asked for 5.0 CPUs and 1.0 GPUs per trial, but the cluster only has 2.0 CPUs and 1.0 GPUs available. Stop the tuning and adjust the required resources (e.g. via the `ScalingConfig` or `resources_per_trial`, or `num_workers` for rllib), or add more resources to your cluster.\n"
          ]
        },
        {
          "metadata": {
            "tags": null
          },
          "name": "stdout",
          "output_type": "stream",
          "text": [
            "Trial status: 1 PENDING\n",
            "Current time: 2024-05-12 05:25:45. Total running time: 1hr 30min 12s\n",
            "Logical resource usage: 0/2 CPUs, 0/1 GPUs\n",
            "+-----------------------------------+\n",
            "| Trial name               status   |\n",
            "+-----------------------------------+\n",
            "| PPO_my_env_7b7f7_00000   PENDING  |\n",
            "+-----------------------------------+\n",
            "Trial status: 1 PENDING\n",
            "Current time: 2024-05-12 05:26:15. Total running time: 1hr 30min 42s\n",
            "Logical resource usage: 0/2 CPUs, 0/1 GPUs\n",
            "+-----------------------------------+\n",
            "| Trial name               status   |\n",
            "+-----------------------------------+\n",
            "| PPO_my_env_7b7f7_00000   PENDING  |\n",
            "+-----------------------------------+\n"
          ]
        },
        {
          "metadata": {
            "tags": null
          },
          "name": "stderr",
          "output_type": "stream",
          "text": [
            "2024-05-12 05:26:39,435\tWARNING insufficient_resources_manager.py:163 -- Ignore this message if the cluster is autoscaling. No trial is running and no new trial has been started within the last 60 seconds. This could be due to the cluster not having enough resources available. You asked for 5.0 CPUs and 1.0 GPUs per trial, but the cluster only has 2.0 CPUs and 1.0 GPUs available. Stop the tuning and adjust the required resources (e.g. via the `ScalingConfig` or `resources_per_trial`, or `num_workers` for rllib), or add more resources to your cluster.\n"
          ]
        },
        {
          "metadata": {
            "tags": null
          },
          "name": "stdout",
          "output_type": "stream",
          "text": [
            "Trial status: 1 PENDING\n",
            "Current time: 2024-05-12 05:26:45. Total running time: 1hr 31min 12s\n",
            "Logical resource usage: 0/2 CPUs, 0/1 GPUs\n",
            "+-----------------------------------+\n",
            "| Trial name               status   |\n",
            "+-----------------------------------+\n",
            "| PPO_my_env_7b7f7_00000   PENDING  |\n",
            "+-----------------------------------+\n",
            "Trial status: 1 PENDING\n",
            "Current time: 2024-05-12 05:27:15. Total running time: 1hr 31min 42s\n",
            "Logical resource usage: 0/2 CPUs, 0/1 GPUs\n",
            "+-----------------------------------+\n",
            "| Trial name               status   |\n",
            "+-----------------------------------+\n",
            "| PPO_my_env_7b7f7_00000   PENDING  |\n",
            "+-----------------------------------+\n"
          ]
        },
        {
          "metadata": {
            "tags": null
          },
          "name": "stderr",
          "output_type": "stream",
          "text": [
            "2024-05-12 05:27:39,509\tWARNING insufficient_resources_manager.py:163 -- Ignore this message if the cluster is autoscaling. No trial is running and no new trial has been started within the last 60 seconds. This could be due to the cluster not having enough resources available. You asked for 5.0 CPUs and 1.0 GPUs per trial, but the cluster only has 2.0 CPUs and 1.0 GPUs available. Stop the tuning and adjust the required resources (e.g. via the `ScalingConfig` or `resources_per_trial`, or `num_workers` for rllib), or add more resources to your cluster.\n"
          ]
        },
        {
          "metadata": {
            "tags": null
          },
          "name": "stdout",
          "output_type": "stream",
          "text": [
            "Trial status: 1 PENDING\n",
            "Current time: 2024-05-12 05:27:45. Total running time: 1hr 32min 12s\n",
            "Logical resource usage: 0/2 CPUs, 0/1 GPUs\n",
            "+-----------------------------------+\n",
            "| Trial name               status   |\n",
            "+-----------------------------------+\n",
            "| PPO_my_env_7b7f7_00000   PENDING  |\n",
            "+-----------------------------------+\n",
            "Trial status: 1 PENDING\n",
            "Current time: 2024-05-12 05:28:15. Total running time: 1hr 32min 42s\n",
            "Logical resource usage: 0/2 CPUs, 0/1 GPUs\n",
            "+-----------------------------------+\n",
            "| Trial name               status   |\n",
            "+-----------------------------------+\n",
            "| PPO_my_env_7b7f7_00000   PENDING  |\n",
            "+-----------------------------------+\n"
          ]
        },
        {
          "metadata": {
            "tags": null
          },
          "name": "stderr",
          "output_type": "stream",
          "text": [
            "2024-05-12 05:28:39,609\tWARNING insufficient_resources_manager.py:163 -- Ignore this message if the cluster is autoscaling. No trial is running and no new trial has been started within the last 60 seconds. This could be due to the cluster not having enough resources available. You asked for 5.0 CPUs and 1.0 GPUs per trial, but the cluster only has 2.0 CPUs and 1.0 GPUs available. Stop the tuning and adjust the required resources (e.g. via the `ScalingConfig` or `resources_per_trial`, or `num_workers` for rllib), or add more resources to your cluster.\n"
          ]
        },
        {
          "metadata": {
            "tags": null
          },
          "name": "stdout",
          "output_type": "stream",
          "text": [
            "Trial status: 1 PENDING\n",
            "Current time: 2024-05-12 05:28:45. Total running time: 1hr 33min 12s\n",
            "Logical resource usage: 0/2 CPUs, 0/1 GPUs\n",
            "+-----------------------------------+\n",
            "| Trial name               status   |\n",
            "+-----------------------------------+\n",
            "| PPO_my_env_7b7f7_00000   PENDING  |\n",
            "+-----------------------------------+\n",
            "Trial status: 1 PENDING\n",
            "Current time: 2024-05-12 05:29:15. Total running time: 1hr 33min 42s\n",
            "Logical resource usage: 0/2 CPUs, 0/1 GPUs\n",
            "+-----------------------------------+\n",
            "| Trial name               status   |\n",
            "+-----------------------------------+\n",
            "| PPO_my_env_7b7f7_00000   PENDING  |\n",
            "+-----------------------------------+\n"
          ]
        },
        {
          "metadata": {
            "tags": null
          },
          "name": "stderr",
          "output_type": "stream",
          "text": [
            "2024-05-12 05:29:39,704\tWARNING insufficient_resources_manager.py:163 -- Ignore this message if the cluster is autoscaling. No trial is running and no new trial has been started within the last 60 seconds. This could be due to the cluster not having enough resources available. You asked for 5.0 CPUs and 1.0 GPUs per trial, but the cluster only has 2.0 CPUs and 1.0 GPUs available. Stop the tuning and adjust the required resources (e.g. via the `ScalingConfig` or `resources_per_trial`, or `num_workers` for rllib), or add more resources to your cluster.\n"
          ]
        },
        {
          "metadata": {
            "tags": null
          },
          "name": "stdout",
          "output_type": "stream",
          "text": [
            "Trial status: 1 PENDING\n",
            "Current time: 2024-05-12 05:29:46. Total running time: 1hr 34min 12s\n",
            "Logical resource usage: 0/2 CPUs, 0/1 GPUs\n",
            "+-----------------------------------+\n",
            "| Trial name               status   |\n",
            "+-----------------------------------+\n",
            "| PPO_my_env_7b7f7_00000   PENDING  |\n",
            "+-----------------------------------+\n",
            "Trial status: 1 PENDING\n",
            "Current time: 2024-05-12 05:30:16. Total running time: 1hr 34min 42s\n",
            "Logical resource usage: 0/2 CPUs, 0/1 GPUs\n",
            "+-----------------------------------+\n",
            "| Trial name               status   |\n",
            "+-----------------------------------+\n",
            "| PPO_my_env_7b7f7_00000   PENDING  |\n",
            "+-----------------------------------+\n"
          ]
        },
        {
          "metadata": {
            "tags": null
          },
          "name": "stderr",
          "output_type": "stream",
          "text": [
            "2024-05-12 05:30:39,708\tWARNING insufficient_resources_manager.py:163 -- Ignore this message if the cluster is autoscaling. No trial is running and no new trial has been started within the last 60 seconds. This could be due to the cluster not having enough resources available. You asked for 5.0 CPUs and 1.0 GPUs per trial, but the cluster only has 2.0 CPUs and 1.0 GPUs available. Stop the tuning and adjust the required resources (e.g. via the `ScalingConfig` or `resources_per_trial`, or `num_workers` for rllib), or add more resources to your cluster.\n"
          ]
        },
        {
          "metadata": {
            "tags": null
          },
          "name": "stdout",
          "output_type": "stream",
          "text": [
            "Trial status: 1 PENDING\n",
            "Current time: 2024-05-12 05:30:46. Total running time: 1hr 35min 12s\n",
            "Logical resource usage: 0/2 CPUs, 0/1 GPUs\n",
            "+-----------------------------------+\n",
            "| Trial name               status   |\n",
            "+-----------------------------------+\n",
            "| PPO_my_env_7b7f7_00000   PENDING  |\n",
            "+-----------------------------------+\n",
            "Trial status: 1 PENDING\n",
            "Current time: 2024-05-12 05:31:16. Total running time: 1hr 35min 42s\n",
            "Logical resource usage: 0/2 CPUs, 0/1 GPUs\n",
            "+-----------------------------------+\n",
            "| Trial name               status   |\n",
            "+-----------------------------------+\n",
            "| PPO_my_env_7b7f7_00000   PENDING  |\n",
            "+-----------------------------------+\n"
          ]
        },
        {
          "metadata": {
            "tags": null
          },
          "name": "stderr",
          "output_type": "stream",
          "text": [
            "2024-05-12 05:31:39,713\tWARNING insufficient_resources_manager.py:163 -- Ignore this message if the cluster is autoscaling. No trial is running and no new trial has been started within the last 60 seconds. This could be due to the cluster not having enough resources available. You asked for 5.0 CPUs and 1.0 GPUs per trial, but the cluster only has 2.0 CPUs and 1.0 GPUs available. Stop the tuning and adjust the required resources (e.g. via the `ScalingConfig` or `resources_per_trial`, or `num_workers` for rllib), or add more resources to your cluster.\n"
          ]
        },
        {
          "metadata": {
            "tags": null
          },
          "name": "stdout",
          "output_type": "stream",
          "text": [
            "Trial status: 1 PENDING\n",
            "Current time: 2024-05-12 05:31:46. Total running time: 1hr 36min 12s\n",
            "Logical resource usage: 0/2 CPUs, 0/1 GPUs\n",
            "+-----------------------------------+\n",
            "| Trial name               status   |\n",
            "+-----------------------------------+\n",
            "| PPO_my_env_7b7f7_00000   PENDING  |\n",
            "+-----------------------------------+\n",
            "Trial status: 1 PENDING\n",
            "Current time: 2024-05-12 05:32:16. Total running time: 1hr 36min 42s\n",
            "Logical resource usage: 0/2 CPUs, 0/1 GPUs\n",
            "+-----------------------------------+\n",
            "| Trial name               status   |\n",
            "+-----------------------------------+\n",
            "| PPO_my_env_7b7f7_00000   PENDING  |\n",
            "+-----------------------------------+\n"
          ]
        },
        {
          "metadata": {
            "tags": null
          },
          "name": "stderr",
          "output_type": "stream",
          "text": [
            "2024-05-12 05:32:39,811\tWARNING insufficient_resources_manager.py:163 -- Ignore this message if the cluster is autoscaling. No trial is running and no new trial has been started within the last 60 seconds. This could be due to the cluster not having enough resources available. You asked for 5.0 CPUs and 1.0 GPUs per trial, but the cluster only has 2.0 CPUs and 1.0 GPUs available. Stop the tuning and adjust the required resources (e.g. via the `ScalingConfig` or `resources_per_trial`, or `num_workers` for rllib), or add more resources to your cluster.\n"
          ]
        },
        {
          "metadata": {
            "tags": null
          },
          "name": "stdout",
          "output_type": "stream",
          "text": [
            "Trial status: 1 PENDING\n",
            "Current time: 2024-05-12 05:32:46. Total running time: 1hr 37min 12s\n",
            "Logical resource usage: 0/2 CPUs, 0/1 GPUs\n",
            "+-----------------------------------+\n",
            "| Trial name               status   |\n",
            "+-----------------------------------+\n",
            "| PPO_my_env_7b7f7_00000   PENDING  |\n",
            "+-----------------------------------+\n",
            "Trial status: 1 PENDING\n",
            "Current time: 2024-05-12 05:33:16. Total running time: 1hr 37min 43s\n",
            "Logical resource usage: 0/2 CPUs, 0/1 GPUs\n",
            "+-----------------------------------+\n",
            "| Trial name               status   |\n",
            "+-----------------------------------+\n",
            "| PPO_my_env_7b7f7_00000   PENDING  |\n",
            "+-----------------------------------+\n"
          ]
        },
        {
          "metadata": {
            "tags": null
          },
          "name": "stderr",
          "output_type": "stream",
          "text": [
            "2024-05-12 05:33:39,888\tWARNING insufficient_resources_manager.py:163 -- Ignore this message if the cluster is autoscaling. No trial is running and no new trial has been started within the last 60 seconds. This could be due to the cluster not having enough resources available. You asked for 5.0 CPUs and 1.0 GPUs per trial, but the cluster only has 2.0 CPUs and 1.0 GPUs available. Stop the tuning and adjust the required resources (e.g. via the `ScalingConfig` or `resources_per_trial`, or `num_workers` for rllib), or add more resources to your cluster.\n"
          ]
        },
        {
          "metadata": {
            "tags": null
          },
          "name": "stdout",
          "output_type": "stream",
          "text": [
            "Trial status: 1 PENDING\n",
            "Current time: 2024-05-12 05:33:46. Total running time: 1hr 38min 13s\n",
            "Logical resource usage: 0/2 CPUs, 0/1 GPUs\n",
            "+-----------------------------------+\n",
            "| Trial name               status   |\n",
            "+-----------------------------------+\n",
            "| PPO_my_env_7b7f7_00000   PENDING  |\n",
            "+-----------------------------------+\n",
            "Trial status: 1 PENDING\n",
            "Current time: 2024-05-12 05:34:16. Total running time: 1hr 38min 43s\n",
            "Logical resource usage: 0/2 CPUs, 0/1 GPUs\n",
            "+-----------------------------------+\n",
            "| Trial name               status   |\n",
            "+-----------------------------------+\n",
            "| PPO_my_env_7b7f7_00000   PENDING  |\n",
            "+-----------------------------------+\n"
          ]
        },
        {
          "metadata": {
            "tags": null
          },
          "name": "stderr",
          "output_type": "stream",
          "text": [
            "2024-05-12 05:34:39,982\tWARNING insufficient_resources_manager.py:163 -- Ignore this message if the cluster is autoscaling. No trial is running and no new trial has been started within the last 60 seconds. This could be due to the cluster not having enough resources available. You asked for 5.0 CPUs and 1.0 GPUs per trial, but the cluster only has 2.0 CPUs and 1.0 GPUs available. Stop the tuning and adjust the required resources (e.g. via the `ScalingConfig` or `resources_per_trial`, or `num_workers` for rllib), or add more resources to your cluster.\n"
          ]
        },
        {
          "metadata": {
            "tags": null
          },
          "name": "stdout",
          "output_type": "stream",
          "text": [
            "Trial status: 1 PENDING\n",
            "Current time: 2024-05-12 05:34:46. Total running time: 1hr 39min 13s\n",
            "Logical resource usage: 0/2 CPUs, 0/1 GPUs\n",
            "+-----------------------------------+\n",
            "| Trial name               status   |\n",
            "+-----------------------------------+\n",
            "| PPO_my_env_7b7f7_00000   PENDING  |\n",
            "+-----------------------------------+\n",
            "Trial status: 1 PENDING\n",
            "Current time: 2024-05-12 05:35:16. Total running time: 1hr 39min 43s\n",
            "Logical resource usage: 0/2 CPUs, 0/1 GPUs\n",
            "+-----------------------------------+\n",
            "| Trial name               status   |\n",
            "+-----------------------------------+\n",
            "| PPO_my_env_7b7f7_00000   PENDING  |\n",
            "+-----------------------------------+\n"
          ]
        },
        {
          "metadata": {
            "tags": null
          },
          "name": "stderr",
          "output_type": "stream",
          "text": [
            "2024-05-12 05:35:40,056\tWARNING insufficient_resources_manager.py:163 -- Ignore this message if the cluster is autoscaling. No trial is running and no new trial has been started within the last 60 seconds. This could be due to the cluster not having enough resources available. You asked for 5.0 CPUs and 1.0 GPUs per trial, but the cluster only has 2.0 CPUs and 1.0 GPUs available. Stop the tuning and adjust the required resources (e.g. via the `ScalingConfig` or `resources_per_trial`, or `num_workers` for rllib), or add more resources to your cluster.\n"
          ]
        },
        {
          "metadata": {
            "tags": null
          },
          "name": "stdout",
          "output_type": "stream",
          "text": [
            "Trial status: 1 PENDING\n",
            "Current time: 2024-05-12 05:35:46. Total running time: 1hr 40min 13s\n",
            "Logical resource usage: 0/2 CPUs, 0/1 GPUs\n",
            "+-----------------------------------+\n",
            "| Trial name               status   |\n",
            "+-----------------------------------+\n",
            "| PPO_my_env_7b7f7_00000   PENDING  |\n",
            "+-----------------------------------+\n",
            "Trial status: 1 PENDING\n",
            "Current time: 2024-05-12 05:36:17. Total running time: 1hr 40min 43s\n",
            "Logical resource usage: 0/2 CPUs, 0/1 GPUs\n",
            "+-----------------------------------+\n",
            "| Trial name               status   |\n",
            "+-----------------------------------+\n",
            "| PPO_my_env_7b7f7_00000   PENDING  |\n",
            "+-----------------------------------+\n"
          ]
        },
        {
          "metadata": {
            "tags": null
          },
          "name": "stderr",
          "output_type": "stream",
          "text": [
            "2024-05-12 05:36:40,129\tWARNING insufficient_resources_manager.py:163 -- Ignore this message if the cluster is autoscaling. No trial is running and no new trial has been started within the last 60 seconds. This could be due to the cluster not having enough resources available. You asked for 5.0 CPUs and 1.0 GPUs per trial, but the cluster only has 2.0 CPUs and 1.0 GPUs available. Stop the tuning and adjust the required resources (e.g. via the `ScalingConfig` or `resources_per_trial`, or `num_workers` for rllib), or add more resources to your cluster.\n"
          ]
        },
        {
          "metadata": {
            "tags": null
          },
          "name": "stdout",
          "output_type": "stream",
          "text": [
            "Trial status: 1 PENDING\n",
            "Current time: 2024-05-12 05:36:47. Total running time: 1hr 41min 13s\n",
            "Logical resource usage: 0/2 CPUs, 0/1 GPUs\n",
            "+-----------------------------------+\n",
            "| Trial name               status   |\n",
            "+-----------------------------------+\n",
            "| PPO_my_env_7b7f7_00000   PENDING  |\n",
            "+-----------------------------------+\n",
            "Trial status: 1 PENDING\n",
            "Current time: 2024-05-12 05:37:17. Total running time: 1hr 41min 43s\n",
            "Logical resource usage: 0/2 CPUs, 0/1 GPUs\n",
            "+-----------------------------------+\n",
            "| Trial name               status   |\n",
            "+-----------------------------------+\n",
            "| PPO_my_env_7b7f7_00000   PENDING  |\n",
            "+-----------------------------------+\n"
          ]
        },
        {
          "metadata": {
            "tags": null
          },
          "name": "stderr",
          "output_type": "stream",
          "text": [
            "2024-05-12 05:37:40,210\tWARNING insufficient_resources_manager.py:163 -- Ignore this message if the cluster is autoscaling. No trial is running and no new trial has been started within the last 60 seconds. This could be due to the cluster not having enough resources available. You asked for 5.0 CPUs and 1.0 GPUs per trial, but the cluster only has 2.0 CPUs and 1.0 GPUs available. Stop the tuning and adjust the required resources (e.g. via the `ScalingConfig` or `resources_per_trial`, or `num_workers` for rllib), or add more resources to your cluster.\n"
          ]
        },
        {
          "metadata": {
            "tags": null
          },
          "name": "stdout",
          "output_type": "stream",
          "text": [
            "Trial status: 1 PENDING\n",
            "Current time: 2024-05-12 05:37:47. Total running time: 1hr 42min 13s\n",
            "Logical resource usage: 0/2 CPUs, 0/1 GPUs\n",
            "+-----------------------------------+\n",
            "| Trial name               status   |\n",
            "+-----------------------------------+\n",
            "| PPO_my_env_7b7f7_00000   PENDING  |\n",
            "+-----------------------------------+\n",
            "Trial status: 1 PENDING\n",
            "Current time: 2024-05-12 05:38:17. Total running time: 1hr 42min 43s\n",
            "Logical resource usage: 0/2 CPUs, 0/1 GPUs\n",
            "+-----------------------------------+\n",
            "| Trial name               status   |\n",
            "+-----------------------------------+\n",
            "| PPO_my_env_7b7f7_00000   PENDING  |\n",
            "+-----------------------------------+\n"
          ]
        },
        {
          "metadata": {
            "tags": null
          },
          "name": "stderr",
          "output_type": "stream",
          "text": [
            "2024-05-12 05:38:40,284\tWARNING insufficient_resources_manager.py:163 -- Ignore this message if the cluster is autoscaling. No trial is running and no new trial has been started within the last 60 seconds. This could be due to the cluster not having enough resources available. You asked for 5.0 CPUs and 1.0 GPUs per trial, but the cluster only has 2.0 CPUs and 1.0 GPUs available. Stop the tuning and adjust the required resources (e.g. via the `ScalingConfig` or `resources_per_trial`, or `num_workers` for rllib), or add more resources to your cluster.\n"
          ]
        },
        {
          "metadata": {
            "tags": null
          },
          "name": "stdout",
          "output_type": "stream",
          "text": [
            "Trial status: 1 PENDING\n",
            "Current time: 2024-05-12 05:38:47. Total running time: 1hr 43min 14s\n",
            "Logical resource usage: 0/2 CPUs, 0/1 GPUs\n",
            "+-----------------------------------+\n",
            "| Trial name               status   |\n",
            "+-----------------------------------+\n",
            "| PPO_my_env_7b7f7_00000   PENDING  |\n",
            "+-----------------------------------+\n",
            "Trial status: 1 PENDING\n",
            "Current time: 2024-05-12 05:39:17. Total running time: 1hr 43min 44s\n",
            "Logical resource usage: 0/2 CPUs, 0/1 GPUs\n",
            "+-----------------------------------+\n",
            "| Trial name               status   |\n",
            "+-----------------------------------+\n",
            "| PPO_my_env_7b7f7_00000   PENDING  |\n",
            "+-----------------------------------+\n"
          ]
        },
        {
          "metadata": {
            "tags": null
          },
          "name": "stderr",
          "output_type": "stream",
          "text": [
            "2024-05-12 05:39:40,331\tWARNING insufficient_resources_manager.py:163 -- Ignore this message if the cluster is autoscaling. No trial is running and no new trial has been started within the last 60 seconds. This could be due to the cluster not having enough resources available. You asked for 5.0 CPUs and 1.0 GPUs per trial, but the cluster only has 2.0 CPUs and 1.0 GPUs available. Stop the tuning and adjust the required resources (e.g. via the `ScalingConfig` or `resources_per_trial`, or `num_workers` for rllib), or add more resources to your cluster.\n"
          ]
        },
        {
          "metadata": {
            "tags": null
          },
          "name": "stdout",
          "output_type": "stream",
          "text": [
            "Trial status: 1 PENDING\n",
            "Current time: 2024-05-12 05:39:47. Total running time: 1hr 44min 14s\n",
            "Logical resource usage: 0/2 CPUs, 0/1 GPUs\n",
            "+-----------------------------------+\n",
            "| Trial name               status   |\n",
            "+-----------------------------------+\n",
            "| PPO_my_env_7b7f7_00000   PENDING  |\n",
            "+-----------------------------------+\n",
            "Trial status: 1 PENDING\n",
            "Current time: 2024-05-12 05:40:17. Total running time: 1hr 44min 44s\n",
            "Logical resource usage: 0/2 CPUs, 0/1 GPUs\n",
            "+-----------------------------------+\n",
            "| Trial name               status   |\n",
            "+-----------------------------------+\n",
            "| PPO_my_env_7b7f7_00000   PENDING  |\n",
            "+-----------------------------------+\n"
          ]
        },
        {
          "metadata": {
            "tags": null
          },
          "name": "stderr",
          "output_type": "stream",
          "text": [
            "2024-05-12 05:40:40,401\tWARNING insufficient_resources_manager.py:163 -- Ignore this message if the cluster is autoscaling. No trial is running and no new trial has been started within the last 60 seconds. This could be due to the cluster not having enough resources available. You asked for 5.0 CPUs and 1.0 GPUs per trial, but the cluster only has 2.0 CPUs and 1.0 GPUs available. Stop the tuning and adjust the required resources (e.g. via the `ScalingConfig` or `resources_per_trial`, or `num_workers` for rllib), or add more resources to your cluster.\n"
          ]
        },
        {
          "metadata": {
            "tags": null
          },
          "name": "stdout",
          "output_type": "stream",
          "text": [
            "Trial status: 1 PENDING\n",
            "Current time: 2024-05-12 05:40:47. Total running time: 1hr 45min 14s\n",
            "Logical resource usage: 0/2 CPUs, 0/1 GPUs\n",
            "+-----------------------------------+\n",
            "| Trial name               status   |\n",
            "+-----------------------------------+\n",
            "| PPO_my_env_7b7f7_00000   PENDING  |\n",
            "+-----------------------------------+\n",
            "Trial status: 1 PENDING\n",
            "Current time: 2024-05-12 05:41:17. Total running time: 1hr 45min 44s\n",
            "Logical resource usage: 0/2 CPUs, 0/1 GPUs\n",
            "+-----------------------------------+\n",
            "| Trial name               status   |\n",
            "+-----------------------------------+\n",
            "| PPO_my_env_7b7f7_00000   PENDING  |\n",
            "+-----------------------------------+\n"
          ]
        },
        {
          "metadata": {
            "tags": null
          },
          "name": "stderr",
          "output_type": "stream",
          "text": [
            "2024-05-12 05:41:40,473\tWARNING insufficient_resources_manager.py:163 -- Ignore this message if the cluster is autoscaling. No trial is running and no new trial has been started within the last 60 seconds. This could be due to the cluster not having enough resources available. You asked for 5.0 CPUs and 1.0 GPUs per trial, but the cluster only has 2.0 CPUs and 1.0 GPUs available. Stop the tuning and adjust the required resources (e.g. via the `ScalingConfig` or `resources_per_trial`, or `num_workers` for rllib), or add more resources to your cluster.\n"
          ]
        },
        {
          "metadata": {
            "tags": null
          },
          "name": "stdout",
          "output_type": "stream",
          "text": [
            "Trial status: 1 PENDING\n",
            "Current time: 2024-05-12 05:41:47. Total running time: 1hr 46min 14s\n",
            "Logical resource usage: 0/2 CPUs, 0/1 GPUs\n",
            "+-----------------------------------+\n",
            "| Trial name               status   |\n",
            "+-----------------------------------+\n",
            "| PPO_my_env_7b7f7_00000   PENDING  |\n",
            "+-----------------------------------+\n",
            "Trial status: 1 PENDING\n",
            "Current time: 2024-05-12 05:42:18. Total running time: 1hr 46min 44s\n",
            "Logical resource usage: 0/2 CPUs, 0/1 GPUs\n",
            "+-----------------------------------+\n",
            "| Trial name               status   |\n",
            "+-----------------------------------+\n",
            "| PPO_my_env_7b7f7_00000   PENDING  |\n",
            "+-----------------------------------+\n"
          ]
        },
        {
          "metadata": {
            "tags": null
          },
          "name": "stderr",
          "output_type": "stream",
          "text": [
            "2024-05-12 05:42:40,565\tWARNING insufficient_resources_manager.py:163 -- Ignore this message if the cluster is autoscaling. No trial is running and no new trial has been started within the last 60 seconds. This could be due to the cluster not having enough resources available. You asked for 5.0 CPUs and 1.0 GPUs per trial, but the cluster only has 2.0 CPUs and 1.0 GPUs available. Stop the tuning and adjust the required resources (e.g. via the `ScalingConfig` or `resources_per_trial`, or `num_workers` for rllib), or add more resources to your cluster.\n"
          ]
        },
        {
          "metadata": {
            "tags": null
          },
          "name": "stdout",
          "output_type": "stream",
          "text": [
            "Trial status: 1 PENDING\n",
            "Current time: 2024-05-12 05:42:48. Total running time: 1hr 47min 14s\n",
            "Logical resource usage: 0/2 CPUs, 0/1 GPUs\n",
            "+-----------------------------------+\n",
            "| Trial name               status   |\n",
            "+-----------------------------------+\n",
            "| PPO_my_env_7b7f7_00000   PENDING  |\n",
            "+-----------------------------------+\n",
            "Trial status: 1 PENDING\n",
            "Current time: 2024-05-12 05:43:18. Total running time: 1hr 47min 44s\n",
            "Logical resource usage: 0/2 CPUs, 0/1 GPUs\n",
            "+-----------------------------------+\n",
            "| Trial name               status   |\n",
            "+-----------------------------------+\n",
            "| PPO_my_env_7b7f7_00000   PENDING  |\n",
            "+-----------------------------------+\n"
          ]
        },
        {
          "metadata": {
            "tags": null
          },
          "name": "stderr",
          "output_type": "stream",
          "text": [
            "2024-05-12 05:43:40,635\tWARNING insufficient_resources_manager.py:163 -- Ignore this message if the cluster is autoscaling. No trial is running and no new trial has been started within the last 60 seconds. This could be due to the cluster not having enough resources available. You asked for 5.0 CPUs and 1.0 GPUs per trial, but the cluster only has 2.0 CPUs and 1.0 GPUs available. Stop the tuning and adjust the required resources (e.g. via the `ScalingConfig` or `resources_per_trial`, or `num_workers` for rllib), or add more resources to your cluster.\n"
          ]
        },
        {
          "metadata": {
            "tags": null
          },
          "name": "stdout",
          "output_type": "stream",
          "text": [
            "Trial status: 1 PENDING\n",
            "Current time: 2024-05-12 05:43:48. Total running time: 1hr 48min 14s\n",
            "Logical resource usage: 0/2 CPUs, 0/1 GPUs\n",
            "+-----------------------------------+\n",
            "| Trial name               status   |\n",
            "+-----------------------------------+\n",
            "| PPO_my_env_7b7f7_00000   PENDING  |\n",
            "+-----------------------------------+\n",
            "Trial status: 1 PENDING\n",
            "Current time: 2024-05-12 05:44:18. Total running time: 1hr 48min 44s\n",
            "Logical resource usage: 0/2 CPUs, 0/1 GPUs\n",
            "+-----------------------------------+\n",
            "| Trial name               status   |\n",
            "+-----------------------------------+\n",
            "| PPO_my_env_7b7f7_00000   PENDING  |\n",
            "+-----------------------------------+\n"
          ]
        },
        {
          "metadata": {
            "tags": null
          },
          "name": "stderr",
          "output_type": "stream",
          "text": [
            "2024-05-12 05:44:40,711\tWARNING insufficient_resources_manager.py:163 -- Ignore this message if the cluster is autoscaling. No trial is running and no new trial has been started within the last 60 seconds. This could be due to the cluster not having enough resources available. You asked for 5.0 CPUs and 1.0 GPUs per trial, but the cluster only has 2.0 CPUs and 1.0 GPUs available. Stop the tuning and adjust the required resources (e.g. via the `ScalingConfig` or `resources_per_trial`, or `num_workers` for rllib), or add more resources to your cluster.\n"
          ]
        },
        {
          "metadata": {
            "tags": null
          },
          "name": "stdout",
          "output_type": "stream",
          "text": [
            "Trial status: 1 PENDING\n",
            "Current time: 2024-05-12 05:44:48. Total running time: 1hr 49min 15s\n",
            "Logical resource usage: 0/2 CPUs, 0/1 GPUs\n",
            "+-----------------------------------+\n",
            "| Trial name               status   |\n",
            "+-----------------------------------+\n",
            "| PPO_my_env_7b7f7_00000   PENDING  |\n",
            "+-----------------------------------+\n",
            "Trial status: 1 PENDING\n",
            "Current time: 2024-05-12 05:45:18. Total running time: 1hr 49min 45s\n",
            "Logical resource usage: 0/2 CPUs, 0/1 GPUs\n",
            "+-----------------------------------+\n",
            "| Trial name               status   |\n",
            "+-----------------------------------+\n",
            "| PPO_my_env_7b7f7_00000   PENDING  |\n",
            "+-----------------------------------+\n"
          ]
        },
        {
          "metadata": {
            "tags": null
          },
          "name": "stderr",
          "output_type": "stream",
          "text": [
            "2024-05-12 05:45:40,807\tWARNING insufficient_resources_manager.py:163 -- Ignore this message if the cluster is autoscaling. No trial is running and no new trial has been started within the last 60 seconds. This could be due to the cluster not having enough resources available. You asked for 5.0 CPUs and 1.0 GPUs per trial, but the cluster only has 2.0 CPUs and 1.0 GPUs available. Stop the tuning and adjust the required resources (e.g. via the `ScalingConfig` or `resources_per_trial`, or `num_workers` for rllib), or add more resources to your cluster.\n"
          ]
        },
        {
          "metadata": {
            "tags": null
          },
          "name": "stdout",
          "output_type": "stream",
          "text": [
            "Trial status: 1 PENDING\n",
            "Current time: 2024-05-12 05:45:48. Total running time: 1hr 50min 15s\n",
            "Logical resource usage: 0/2 CPUs, 0/1 GPUs\n",
            "+-----------------------------------+\n",
            "| Trial name               status   |\n",
            "+-----------------------------------+\n",
            "| PPO_my_env_7b7f7_00000   PENDING  |\n",
            "+-----------------------------------+\n",
            "Trial status: 1 PENDING\n",
            "Current time: 2024-05-12 05:46:18. Total running time: 1hr 50min 45s\n",
            "Logical resource usage: 0/2 CPUs, 0/1 GPUs\n",
            "+-----------------------------------+\n",
            "| Trial name               status   |\n",
            "+-----------------------------------+\n",
            "| PPO_my_env_7b7f7_00000   PENDING  |\n",
            "+-----------------------------------+\n"
          ]
        },
        {
          "metadata": {
            "tags": null
          },
          "name": "stderr",
          "output_type": "stream",
          "text": [
            "2024-05-12 05:46:40,830\tWARNING insufficient_resources_manager.py:163 -- Ignore this message if the cluster is autoscaling. No trial is running and no new trial has been started within the last 60 seconds. This could be due to the cluster not having enough resources available. You asked for 5.0 CPUs and 1.0 GPUs per trial, but the cluster only has 2.0 CPUs and 1.0 GPUs available. Stop the tuning and adjust the required resources (e.g. via the `ScalingConfig` or `resources_per_trial`, or `num_workers` for rllib), or add more resources to your cluster.\n"
          ]
        },
        {
          "metadata": {
            "tags": null
          },
          "name": "stdout",
          "output_type": "stream",
          "text": [
            "Trial status: 1 PENDING\n",
            "Current time: 2024-05-12 05:46:48. Total running time: 1hr 51min 15s\n",
            "Logical resource usage: 0/2 CPUs, 0/1 GPUs\n",
            "+-----------------------------------+\n",
            "| Trial name               status   |\n",
            "+-----------------------------------+\n",
            "| PPO_my_env_7b7f7_00000   PENDING  |\n",
            "+-----------------------------------+\n",
            "Trial status: 1 PENDING\n",
            "Current time: 2024-05-12 05:47:18. Total running time: 1hr 51min 45s\n",
            "Logical resource usage: 0/2 CPUs, 0/1 GPUs\n",
            "+-----------------------------------+\n",
            "| Trial name               status   |\n",
            "+-----------------------------------+\n",
            "| PPO_my_env_7b7f7_00000   PENDING  |\n",
            "+-----------------------------------+\n"
          ]
        },
        {
          "metadata": {
            "tags": null
          },
          "name": "stderr",
          "output_type": "stream",
          "text": [
            "2024-05-12 05:47:40,910\tWARNING insufficient_resources_manager.py:163 -- Ignore this message if the cluster is autoscaling. No trial is running and no new trial has been started within the last 60 seconds. This could be due to the cluster not having enough resources available. You asked for 5.0 CPUs and 1.0 GPUs per trial, but the cluster only has 2.0 CPUs and 1.0 GPUs available. Stop the tuning and adjust the required resources (e.g. via the `ScalingConfig` or `resources_per_trial`, or `num_workers` for rllib), or add more resources to your cluster.\n"
          ]
        },
        {
          "metadata": {
            "tags": null
          },
          "name": "stdout",
          "output_type": "stream",
          "text": [
            "Trial status: 1 PENDING\n",
            "Current time: 2024-05-12 05:47:48. Total running time: 1hr 52min 15s\n",
            "Logical resource usage: 0/2 CPUs, 0/1 GPUs\n",
            "+-----------------------------------+\n",
            "| Trial name               status   |\n",
            "+-----------------------------------+\n",
            "| PPO_my_env_7b7f7_00000   PENDING  |\n",
            "+-----------------------------------+\n",
            "Trial status: 1 PENDING\n",
            "Current time: 2024-05-12 05:48:18. Total running time: 1hr 52min 45s\n",
            "Logical resource usage: 0/2 CPUs, 0/1 GPUs\n",
            "+-----------------------------------+\n",
            "| Trial name               status   |\n",
            "+-----------------------------------+\n",
            "| PPO_my_env_7b7f7_00000   PENDING  |\n",
            "+-----------------------------------+\n"
          ]
        },
        {
          "metadata": {
            "tags": null
          },
          "name": "stderr",
          "output_type": "stream",
          "text": [
            "2024-05-12 05:48:40,927\tWARNING insufficient_resources_manager.py:163 -- Ignore this message if the cluster is autoscaling. No trial is running and no new trial has been started within the last 60 seconds. This could be due to the cluster not having enough resources available. You asked for 5.0 CPUs and 1.0 GPUs per trial, but the cluster only has 2.0 CPUs and 1.0 GPUs available. Stop the tuning and adjust the required resources (e.g. via the `ScalingConfig` or `resources_per_trial`, or `num_workers` for rllib), or add more resources to your cluster.\n"
          ]
        },
        {
          "metadata": {
            "tags": null
          },
          "name": "stdout",
          "output_type": "stream",
          "text": [
            "Trial status: 1 PENDING\n",
            "Current time: 2024-05-12 05:48:48. Total running time: 1hr 53min 15s\n",
            "Logical resource usage: 0/2 CPUs, 0/1 GPUs\n",
            "+-----------------------------------+\n",
            "| Trial name               status   |\n",
            "+-----------------------------------+\n",
            "| PPO_my_env_7b7f7_00000   PENDING  |\n",
            "+-----------------------------------+\n",
            "Trial status: 1 PENDING\n",
            "Current time: 2024-05-12 05:49:18. Total running time: 1hr 53min 45s\n",
            "Logical resource usage: 0/2 CPUs, 0/1 GPUs\n",
            "+-----------------------------------+\n",
            "| Trial name               status   |\n",
            "+-----------------------------------+\n",
            "| PPO_my_env_7b7f7_00000   PENDING  |\n",
            "+-----------------------------------+\n"
          ]
        },
        {
          "metadata": {
            "tags": null
          },
          "name": "stderr",
          "output_type": "stream",
          "text": [
            "2024-05-12 05:49:41,026\tWARNING insufficient_resources_manager.py:163 -- Ignore this message if the cluster is autoscaling. No trial is running and no new trial has been started within the last 60 seconds. This could be due to the cluster not having enough resources available. You asked for 5.0 CPUs and 1.0 GPUs per trial, but the cluster only has 2.0 CPUs and 1.0 GPUs available. Stop the tuning and adjust the required resources (e.g. via the `ScalingConfig` or `resources_per_trial`, or `num_workers` for rllib), or add more resources to your cluster.\n"
          ]
        },
        {
          "metadata": {
            "tags": null
          },
          "name": "stdout",
          "output_type": "stream",
          "text": [
            "Trial status: 1 PENDING\n",
            "Current time: 2024-05-12 05:49:49. Total running time: 1hr 54min 15s\n",
            "Logical resource usage: 0/2 CPUs, 0/1 GPUs\n",
            "+-----------------------------------+\n",
            "| Trial name               status   |\n",
            "+-----------------------------------+\n",
            "| PPO_my_env_7b7f7_00000   PENDING  |\n",
            "+-----------------------------------+\n",
            "Trial status: 1 PENDING\n",
            "Current time: 2024-05-12 05:50:19. Total running time: 1hr 54min 45s\n",
            "Logical resource usage: 0/2 CPUs, 0/1 GPUs\n",
            "+-----------------------------------+\n",
            "| Trial name               status   |\n",
            "+-----------------------------------+\n",
            "| PPO_my_env_7b7f7_00000   PENDING  |\n",
            "+-----------------------------------+\n"
          ]
        },
        {
          "metadata": {
            "tags": null
          },
          "name": "stderr",
          "output_type": "stream",
          "text": [
            "2024-05-12 05:50:41,123\tWARNING insufficient_resources_manager.py:163 -- Ignore this message if the cluster is autoscaling. No trial is running and no new trial has been started within the last 60 seconds. This could be due to the cluster not having enough resources available. You asked for 5.0 CPUs and 1.0 GPUs per trial, but the cluster only has 2.0 CPUs and 1.0 GPUs available. Stop the tuning and adjust the required resources (e.g. via the `ScalingConfig` or `resources_per_trial`, or `num_workers` for rllib), or add more resources to your cluster.\n"
          ]
        },
        {
          "metadata": {
            "tags": null
          },
          "name": "stdout",
          "output_type": "stream",
          "text": [
            "Trial status: 1 PENDING\n",
            "Current time: 2024-05-12 05:50:49. Total running time: 1hr 55min 15s\n",
            "Logical resource usage: 0/2 CPUs, 0/1 GPUs\n",
            "+-----------------------------------+\n",
            "| Trial name               status   |\n",
            "+-----------------------------------+\n",
            "| PPO_my_env_7b7f7_00000   PENDING  |\n",
            "+-----------------------------------+\n",
            "Trial status: 1 PENDING\n",
            "Current time: 2024-05-12 05:51:19. Total running time: 1hr 55min 45s\n",
            "Logical resource usage: 0/2 CPUs, 0/1 GPUs\n",
            "+-----------------------------------+\n",
            "| Trial name               status   |\n",
            "+-----------------------------------+\n",
            "| PPO_my_env_7b7f7_00000   PENDING  |\n",
            "+-----------------------------------+\n"
          ]
        },
        {
          "metadata": {
            "tags": null
          },
          "name": "stderr",
          "output_type": "stream",
          "text": [
            "2024-05-12 05:51:41,129\tWARNING insufficient_resources_manager.py:163 -- Ignore this message if the cluster is autoscaling. No trial is running and no new trial has been started within the last 60 seconds. This could be due to the cluster not having enough resources available. You asked for 5.0 CPUs and 1.0 GPUs per trial, but the cluster only has 2.0 CPUs and 1.0 GPUs available. Stop the tuning and adjust the required resources (e.g. via the `ScalingConfig` or `resources_per_trial`, or `num_workers` for rllib), or add more resources to your cluster.\n"
          ]
        },
        {
          "metadata": {
            "tags": null
          },
          "name": "stdout",
          "output_type": "stream",
          "text": [
            "Trial status: 1 PENDING\n",
            "Current time: 2024-05-12 05:51:49. Total running time: 1hr 56min 15s\n",
            "Logical resource usage: 0/2 CPUs, 0/1 GPUs\n",
            "+-----------------------------------+\n",
            "| Trial name               status   |\n",
            "+-----------------------------------+\n",
            "| PPO_my_env_7b7f7_00000   PENDING  |\n",
            "+-----------------------------------+\n",
            "Trial status: 1 PENDING\n",
            "Current time: 2024-05-12 05:52:19. Total running time: 1hr 56min 45s\n",
            "Logical resource usage: 0/2 CPUs, 0/1 GPUs\n",
            "+-----------------------------------+\n",
            "| Trial name               status   |\n",
            "+-----------------------------------+\n",
            "| PPO_my_env_7b7f7_00000   PENDING  |\n",
            "+-----------------------------------+\n"
          ]
        },
        {
          "metadata": {
            "tags": null
          },
          "name": "stderr",
          "output_type": "stream",
          "text": [
            "2024-05-12 05:52:41,226\tWARNING insufficient_resources_manager.py:163 -- Ignore this message if the cluster is autoscaling. No trial is running and no new trial has been started within the last 60 seconds. This could be due to the cluster not having enough resources available. You asked for 5.0 CPUs and 1.0 GPUs per trial, but the cluster only has 2.0 CPUs and 1.0 GPUs available. Stop the tuning and adjust the required resources (e.g. via the `ScalingConfig` or `resources_per_trial`, or `num_workers` for rllib), or add more resources to your cluster.\n"
          ]
        },
        {
          "metadata": {
            "tags": null
          },
          "name": "stdout",
          "output_type": "stream",
          "text": [
            "Trial status: 1 PENDING\n",
            "Current time: 2024-05-12 05:52:49. Total running time: 1hr 57min 15s\n",
            "Logical resource usage: 0/2 CPUs, 0/1 GPUs\n",
            "+-----------------------------------+\n",
            "| Trial name               status   |\n",
            "+-----------------------------------+\n",
            "| PPO_my_env_7b7f7_00000   PENDING  |\n",
            "+-----------------------------------+\n",
            "Trial status: 1 PENDING\n",
            "Current time: 2024-05-12 05:53:19. Total running time: 1hr 57min 45s\n",
            "Logical resource usage: 0/2 CPUs, 0/1 GPUs\n",
            "+-----------------------------------+\n",
            "| Trial name               status   |\n",
            "+-----------------------------------+\n",
            "| PPO_my_env_7b7f7_00000   PENDING  |\n",
            "+-----------------------------------+\n"
          ]
        },
        {
          "metadata": {
            "tags": null
          },
          "name": "stderr",
          "output_type": "stream",
          "text": [
            "2024-05-12 05:53:41,322\tWARNING insufficient_resources_manager.py:163 -- Ignore this message if the cluster is autoscaling. No trial is running and no new trial has been started within the last 60 seconds. This could be due to the cluster not having enough resources available. You asked for 5.0 CPUs and 1.0 GPUs per trial, but the cluster only has 2.0 CPUs and 1.0 GPUs available. Stop the tuning and adjust the required resources (e.g. via the `ScalingConfig` or `resources_per_trial`, or `num_workers` for rllib), or add more resources to your cluster.\n"
          ]
        },
        {
          "metadata": {
            "tags": null
          },
          "name": "stdout",
          "output_type": "stream",
          "text": [
            "Trial status: 1 PENDING\n",
            "Current time: 2024-05-12 05:53:49. Total running time: 1hr 58min 16s\n",
            "Logical resource usage: 0/2 CPUs, 0/1 GPUs\n",
            "+-----------------------------------+\n",
            "| Trial name               status   |\n",
            "+-----------------------------------+\n",
            "| PPO_my_env_7b7f7_00000   PENDING  |\n",
            "+-----------------------------------+\n",
            "Trial status: 1 PENDING\n",
            "Current time: 2024-05-12 05:54:19. Total running time: 1hr 58min 46s\n",
            "Logical resource usage: 0/2 CPUs, 0/1 GPUs\n",
            "+-----------------------------------+\n",
            "| Trial name               status   |\n",
            "+-----------------------------------+\n",
            "| PPO_my_env_7b7f7_00000   PENDING  |\n",
            "+-----------------------------------+\n"
          ]
        },
        {
          "metadata": {
            "tags": null
          },
          "name": "stderr",
          "output_type": "stream",
          "text": [
            "2024-05-12 05:54:41,397\tWARNING insufficient_resources_manager.py:163 -- Ignore this message if the cluster is autoscaling. No trial is running and no new trial has been started within the last 60 seconds. This could be due to the cluster not having enough resources available. You asked for 5.0 CPUs and 1.0 GPUs per trial, but the cluster only has 2.0 CPUs and 1.0 GPUs available. Stop the tuning and adjust the required resources (e.g. via the `ScalingConfig` or `resources_per_trial`, or `num_workers` for rllib), or add more resources to your cluster.\n"
          ]
        },
        {
          "metadata": {
            "tags": null
          },
          "name": "stdout",
          "output_type": "stream",
          "text": [
            "Trial status: 1 PENDING\n",
            "Current time: 2024-05-12 05:54:49. Total running time: 1hr 59min 16s\n",
            "Logical resource usage: 0/2 CPUs, 0/1 GPUs\n",
            "+-----------------------------------+\n",
            "| Trial name               status   |\n",
            "+-----------------------------------+\n",
            "| PPO_my_env_7b7f7_00000   PENDING  |\n",
            "+-----------------------------------+\n",
            "Trial status: 1 PENDING\n",
            "Current time: 2024-05-12 05:55:19. Total running time: 1hr 59min 46s\n",
            "Logical resource usage: 0/2 CPUs, 0/1 GPUs\n",
            "+-----------------------------------+\n",
            "| Trial name               status   |\n",
            "+-----------------------------------+\n",
            "| PPO_my_env_7b7f7_00000   PENDING  |\n",
            "+-----------------------------------+\n"
          ]
        },
        {
          "metadata": {
            "tags": null
          },
          "name": "stderr",
          "output_type": "stream",
          "text": [
            "2024-05-12 05:55:41,469\tWARNING insufficient_resources_manager.py:163 -- Ignore this message if the cluster is autoscaling. No trial is running and no new trial has been started within the last 60 seconds. This could be due to the cluster not having enough resources available. You asked for 5.0 CPUs and 1.0 GPUs per trial, but the cluster only has 2.0 CPUs and 1.0 GPUs available. Stop the tuning and adjust the required resources (e.g. via the `ScalingConfig` or `resources_per_trial`, or `num_workers` for rllib), or add more resources to your cluster.\n"
          ]
        },
        {
          "metadata": {
            "tags": null
          },
          "name": "stdout",
          "output_type": "stream",
          "text": [
            "Trial status: 1 PENDING\n",
            "Current time: 2024-05-12 05:55:49. Total running time: 2hr 0min 16s\n",
            "Logical resource usage: 0/2 CPUs, 0/1 GPUs\n",
            "+-----------------------------------+\n",
            "| Trial name               status   |\n",
            "+-----------------------------------+\n",
            "| PPO_my_env_7b7f7_00000   PENDING  |\n",
            "+-----------------------------------+\n",
            "Trial status: 1 PENDING\n",
            "Current time: 2024-05-12 05:56:19. Total running time: 2hr 0min 46s\n",
            "Logical resource usage: 0/2 CPUs, 0/1 GPUs\n",
            "+-----------------------------------+\n",
            "| Trial name               status   |\n",
            "+-----------------------------------+\n",
            "| PPO_my_env_7b7f7_00000   PENDING  |\n",
            "+-----------------------------------+\n"
          ]
        },
        {
          "metadata": {
            "tags": null
          },
          "name": "stderr",
          "output_type": "stream",
          "text": [
            "2024-05-12 05:56:41,540\tWARNING insufficient_resources_manager.py:163 -- Ignore this message if the cluster is autoscaling. No trial is running and no new trial has been started within the last 60 seconds. This could be due to the cluster not having enough resources available. You asked for 5.0 CPUs and 1.0 GPUs per trial, but the cluster only has 2.0 CPUs and 1.0 GPUs available. Stop the tuning and adjust the required resources (e.g. via the `ScalingConfig` or `resources_per_trial`, or `num_workers` for rllib), or add more resources to your cluster.\n"
          ]
        },
        {
          "metadata": {
            "tags": null
          },
          "name": "stdout",
          "output_type": "stream",
          "text": [
            "Trial status: 1 PENDING\n",
            "Current time: 2024-05-12 05:56:50. Total running time: 2hr 1min 16s\n",
            "Logical resource usage: 0/2 CPUs, 0/1 GPUs\n",
            "+-----------------------------------+\n",
            "| Trial name               status   |\n",
            "+-----------------------------------+\n",
            "| PPO_my_env_7b7f7_00000   PENDING  |\n",
            "+-----------------------------------+\n",
            "Trial status: 1 PENDING\n",
            "Current time: 2024-05-12 05:57:20. Total running time: 2hr 1min 46s\n",
            "Logical resource usage: 0/2 CPUs, 0/1 GPUs\n",
            "+-----------------------------------+\n",
            "| Trial name               status   |\n",
            "+-----------------------------------+\n",
            "| PPO_my_env_7b7f7_00000   PENDING  |\n",
            "+-----------------------------------+\n"
          ]
        },
        {
          "metadata": {
            "tags": null
          },
          "name": "stderr",
          "output_type": "stream",
          "text": [
            "2024-05-12 05:57:41,589\tWARNING insufficient_resources_manager.py:163 -- Ignore this message if the cluster is autoscaling. No trial is running and no new trial has been started within the last 60 seconds. This could be due to the cluster not having enough resources available. You asked for 5.0 CPUs and 1.0 GPUs per trial, but the cluster only has 2.0 CPUs and 1.0 GPUs available. Stop the tuning and adjust the required resources (e.g. via the `ScalingConfig` or `resources_per_trial`, or `num_workers` for rllib), or add more resources to your cluster.\n"
          ]
        },
        {
          "metadata": {
            "tags": null
          },
          "name": "stdout",
          "output_type": "stream",
          "text": [
            "Trial status: 1 PENDING\n",
            "Current time: 2024-05-12 05:57:50. Total running time: 2hr 2min 16s\n",
            "Logical resource usage: 0/2 CPUs, 0/1 GPUs\n",
            "+-----------------------------------+\n",
            "| Trial name               status   |\n",
            "+-----------------------------------+\n",
            "| PPO_my_env_7b7f7_00000   PENDING  |\n",
            "+-----------------------------------+\n",
            "Trial status: 1 PENDING\n",
            "Current time: 2024-05-12 05:58:20. Total running time: 2hr 2min 46s\n",
            "Logical resource usage: 0/2 CPUs, 0/1 GPUs\n",
            "+-----------------------------------+\n",
            "| Trial name               status   |\n",
            "+-----------------------------------+\n",
            "| PPO_my_env_7b7f7_00000   PENDING  |\n",
            "+-----------------------------------+\n"
          ]
        },
        {
          "metadata": {
            "tags": null
          },
          "name": "stderr",
          "output_type": "stream",
          "text": [
            "2024-05-12 05:58:41,656\tWARNING insufficient_resources_manager.py:163 -- Ignore this message if the cluster is autoscaling. No trial is running and no new trial has been started within the last 60 seconds. This could be due to the cluster not having enough resources available. You asked for 5.0 CPUs and 1.0 GPUs per trial, but the cluster only has 2.0 CPUs and 1.0 GPUs available. Stop the tuning and adjust the required resources (e.g. via the `ScalingConfig` or `resources_per_trial`, or `num_workers` for rllib), or add more resources to your cluster.\n"
          ]
        },
        {
          "metadata": {
            "tags": null
          },
          "name": "stdout",
          "output_type": "stream",
          "text": [
            "Trial status: 1 PENDING\n",
            "Current time: 2024-05-12 05:58:50. Total running time: 2hr 3min 16s\n",
            "Logical resource usage: 0/2 CPUs, 0/1 GPUs\n",
            "+-----------------------------------+\n",
            "| Trial name               status   |\n",
            "+-----------------------------------+\n",
            "| PPO_my_env_7b7f7_00000   PENDING  |\n",
            "+-----------------------------------+\n",
            "Trial status: 1 PENDING\n",
            "Current time: 2024-05-12 05:59:20. Total running time: 2hr 3min 46s\n",
            "Logical resource usage: 0/2 CPUs, 0/1 GPUs\n",
            "+-----------------------------------+\n",
            "| Trial name               status   |\n",
            "+-----------------------------------+\n",
            "| PPO_my_env_7b7f7_00000   PENDING  |\n",
            "+-----------------------------------+\n"
          ]
        },
        {
          "metadata": {
            "tags": null
          },
          "name": "stderr",
          "output_type": "stream",
          "text": [
            "2024-05-12 05:59:41,707\tWARNING insufficient_resources_manager.py:163 -- Ignore this message if the cluster is autoscaling. No trial is running and no new trial has been started within the last 60 seconds. This could be due to the cluster not having enough resources available. You asked for 5.0 CPUs and 1.0 GPUs per trial, but the cluster only has 2.0 CPUs and 1.0 GPUs available. Stop the tuning and adjust the required resources (e.g. via the `ScalingConfig` or `resources_per_trial`, or `num_workers` for rllib), or add more resources to your cluster.\n"
          ]
        },
        {
          "metadata": {
            "tags": null
          },
          "name": "stdout",
          "output_type": "stream",
          "text": [
            "Trial status: 1 PENDING\n",
            "Current time: 2024-05-12 05:59:50. Total running time: 2hr 4min 17s\n",
            "Logical resource usage: 0/2 CPUs, 0/1 GPUs\n",
            "+-----------------------------------+\n",
            "| Trial name               status   |\n",
            "+-----------------------------------+\n",
            "| PPO_my_env_7b7f7_00000   PENDING  |\n",
            "+-----------------------------------+\n",
            "Trial status: 1 PENDING\n",
            "Current time: 2024-05-12 06:00:20. Total running time: 2hr 4min 47s\n",
            "Logical resource usage: 0/2 CPUs, 0/1 GPUs\n",
            "+-----------------------------------+\n",
            "| Trial name               status   |\n",
            "+-----------------------------------+\n",
            "| PPO_my_env_7b7f7_00000   PENDING  |\n",
            "+-----------------------------------+\n"
          ]
        },
        {
          "metadata": {
            "tags": null
          },
          "name": "stderr",
          "output_type": "stream",
          "text": [
            "2024-05-12 06:00:41,766\tWARNING insufficient_resources_manager.py:163 -- Ignore this message if the cluster is autoscaling. No trial is running and no new trial has been started within the last 60 seconds. This could be due to the cluster not having enough resources available. You asked for 5.0 CPUs and 1.0 GPUs per trial, but the cluster only has 2.0 CPUs and 1.0 GPUs available. Stop the tuning and adjust the required resources (e.g. via the `ScalingConfig` or `resources_per_trial`, or `num_workers` for rllib), or add more resources to your cluster.\n"
          ]
        },
        {
          "metadata": {
            "tags": null
          },
          "name": "stdout",
          "output_type": "stream",
          "text": [
            "Trial status: 1 PENDING\n",
            "Current time: 2024-05-12 06:00:50. Total running time: 2hr 5min 17s\n",
            "Logical resource usage: 0/2 CPUs, 0/1 GPUs\n",
            "+-----------------------------------+\n",
            "| Trial name               status   |\n",
            "+-----------------------------------+\n",
            "| PPO_my_env_7b7f7_00000   PENDING  |\n",
            "+-----------------------------------+\n",
            "Trial status: 1 PENDING\n",
            "Current time: 2024-05-12 06:01:20. Total running time: 2hr 5min 47s\n",
            "Logical resource usage: 0/2 CPUs, 0/1 GPUs\n",
            "+-----------------------------------+\n",
            "| Trial name               status   |\n",
            "+-----------------------------------+\n",
            "| PPO_my_env_7b7f7_00000   PENDING  |\n",
            "+-----------------------------------+\n"
          ]
        },
        {
          "metadata": {
            "tags": null
          },
          "name": "stderr",
          "output_type": "stream",
          "text": [
            "2024-05-12 06:01:41,773\tWARNING insufficient_resources_manager.py:163 -- Ignore this message if the cluster is autoscaling. No trial is running and no new trial has been started within the last 60 seconds. This could be due to the cluster not having enough resources available. You asked for 5.0 CPUs and 1.0 GPUs per trial, but the cluster only has 2.0 CPUs and 1.0 GPUs available. Stop the tuning and adjust the required resources (e.g. via the `ScalingConfig` or `resources_per_trial`, or `num_workers` for rllib), or add more resources to your cluster.\n"
          ]
        },
        {
          "metadata": {
            "tags": null
          },
          "name": "stdout",
          "output_type": "stream",
          "text": [
            "Trial status: 1 PENDING\n",
            "Current time: 2024-05-12 06:01:50. Total running time: 2hr 6min 17s\n",
            "Logical resource usage: 0/2 CPUs, 0/1 GPUs\n",
            "+-----------------------------------+\n",
            "| Trial name               status   |\n",
            "+-----------------------------------+\n",
            "| PPO_my_env_7b7f7_00000   PENDING  |\n",
            "+-----------------------------------+\n",
            "Trial status: 1 PENDING\n",
            "Current time: 2024-05-12 06:02:20. Total running time: 2hr 6min 47s\n",
            "Logical resource usage: 0/2 CPUs, 0/1 GPUs\n",
            "+-----------------------------------+\n",
            "| Trial name               status   |\n",
            "+-----------------------------------+\n",
            "| PPO_my_env_7b7f7_00000   PENDING  |\n",
            "+-----------------------------------+\n"
          ]
        },
        {
          "metadata": {
            "tags": null
          },
          "name": "stderr",
          "output_type": "stream",
          "text": [
            "2024-05-12 06:02:41,780\tWARNING insufficient_resources_manager.py:163 -- Ignore this message if the cluster is autoscaling. No trial is running and no new trial has been started within the last 60 seconds. This could be due to the cluster not having enough resources available. You asked for 5.0 CPUs and 1.0 GPUs per trial, but the cluster only has 2.0 CPUs and 1.0 GPUs available. Stop the tuning and adjust the required resources (e.g. via the `ScalingConfig` or `resources_per_trial`, or `num_workers` for rllib), or add more resources to your cluster.\n"
          ]
        },
        {
          "metadata": {
            "tags": null
          },
          "name": "stdout",
          "output_type": "stream",
          "text": [
            "Trial status: 1 PENDING\n",
            "Current time: 2024-05-12 06:02:50. Total running time: 2hr 7min 17s\n",
            "Logical resource usage: 0/2 CPUs, 0/1 GPUs\n",
            "+-----------------------------------+\n",
            "| Trial name               status   |\n",
            "+-----------------------------------+\n",
            "| PPO_my_env_7b7f7_00000   PENDING  |\n",
            "+-----------------------------------+\n",
            "Trial status: 1 PENDING\n",
            "Current time: 2024-05-12 06:03:20. Total running time: 2hr 7min 47s\n",
            "Logical resource usage: 0/2 CPUs, 0/1 GPUs\n",
            "+-----------------------------------+\n",
            "| Trial name               status   |\n",
            "+-----------------------------------+\n",
            "| PPO_my_env_7b7f7_00000   PENDING  |\n",
            "+-----------------------------------+\n"
          ]
        },
        {
          "metadata": {
            "tags": null
          },
          "name": "stderr",
          "output_type": "stream",
          "text": [
            "2024-05-12 06:03:41,799\tWARNING insufficient_resources_manager.py:163 -- Ignore this message if the cluster is autoscaling. No trial is running and no new trial has been started within the last 60 seconds. This could be due to the cluster not having enough resources available. You asked for 5.0 CPUs and 1.0 GPUs per trial, but the cluster only has 2.0 CPUs and 1.0 GPUs available. Stop the tuning and adjust the required resources (e.g. via the `ScalingConfig` or `resources_per_trial`, or `num_workers` for rllib), or add more resources to your cluster.\n"
          ]
        },
        {
          "metadata": {
            "tags": null
          },
          "name": "stdout",
          "output_type": "stream",
          "text": [
            "Trial status: 1 PENDING\n",
            "Current time: 2024-05-12 06:03:50. Total running time: 2hr 8min 17s\n",
            "Logical resource usage: 0/2 CPUs, 0/1 GPUs\n",
            "+-----------------------------------+\n",
            "| Trial name               status   |\n",
            "+-----------------------------------+\n",
            "| PPO_my_env_7b7f7_00000   PENDING  |\n",
            "+-----------------------------------+\n",
            "Trial status: 1 PENDING\n",
            "Current time: 2024-05-12 06:04:21. Total running time: 2hr 8min 47s\n",
            "Logical resource usage: 0/2 CPUs, 0/1 GPUs\n",
            "+-----------------------------------+\n",
            "| Trial name               status   |\n",
            "+-----------------------------------+\n",
            "| PPO_my_env_7b7f7_00000   PENDING  |\n",
            "+-----------------------------------+\n"
          ]
        },
        {
          "metadata": {
            "tags": null
          },
          "name": "stderr",
          "output_type": "stream",
          "text": [
            "2024-05-12 06:04:41,877\tWARNING insufficient_resources_manager.py:163 -- Ignore this message if the cluster is autoscaling. No trial is running and no new trial has been started within the last 60 seconds. This could be due to the cluster not having enough resources available. You asked for 5.0 CPUs and 1.0 GPUs per trial, but the cluster only has 2.0 CPUs and 1.0 GPUs available. Stop the tuning and adjust the required resources (e.g. via the `ScalingConfig` or `resources_per_trial`, or `num_workers` for rllib), or add more resources to your cluster.\n"
          ]
        },
        {
          "metadata": {
            "tags": null
          },
          "name": "stdout",
          "output_type": "stream",
          "text": [
            "Trial status: 1 PENDING\n",
            "Current time: 2024-05-12 06:04:51. Total running time: 2hr 9min 17s\n",
            "Logical resource usage: 0/2 CPUs, 0/1 GPUs\n",
            "+-----------------------------------+\n",
            "| Trial name               status   |\n",
            "+-----------------------------------+\n",
            "| PPO_my_env_7b7f7_00000   PENDING  |\n",
            "+-----------------------------------+\n",
            "Trial status: 1 PENDING\n",
            "Current time: 2024-05-12 06:05:21. Total running time: 2hr 9min 47s\n",
            "Logical resource usage: 0/2 CPUs, 0/1 GPUs\n",
            "+-----------------------------------+\n",
            "| Trial name               status   |\n",
            "+-----------------------------------+\n",
            "| PPO_my_env_7b7f7_00000   PENDING  |\n",
            "+-----------------------------------+\n"
          ]
        },
        {
          "metadata": {
            "tags": null
          },
          "name": "stderr",
          "output_type": "stream",
          "text": [
            "2024-05-12 06:05:41,974\tWARNING insufficient_resources_manager.py:163 -- Ignore this message if the cluster is autoscaling. No trial is running and no new trial has been started within the last 60 seconds. This could be due to the cluster not having enough resources available. You asked for 5.0 CPUs and 1.0 GPUs per trial, but the cluster only has 2.0 CPUs and 1.0 GPUs available. Stop the tuning and adjust the required resources (e.g. via the `ScalingConfig` or `resources_per_trial`, or `num_workers` for rllib), or add more resources to your cluster.\n"
          ]
        },
        {
          "metadata": {
            "tags": null
          },
          "name": "stdout",
          "output_type": "stream",
          "text": [
            "Trial status: 1 PENDING\n",
            "Current time: 2024-05-12 06:05:51. Total running time: 2hr 10min 17s\n",
            "Logical resource usage: 0/2 CPUs, 0/1 GPUs\n",
            "+-----------------------------------+\n",
            "| Trial name               status   |\n",
            "+-----------------------------------+\n",
            "| PPO_my_env_7b7f7_00000   PENDING  |\n",
            "+-----------------------------------+\n",
            "Trial status: 1 PENDING\n",
            "Current time: 2024-05-12 06:06:21. Total running time: 2hr 10min 47s\n",
            "Logical resource usage: 0/2 CPUs, 0/1 GPUs\n",
            "+-----------------------------------+\n",
            "| Trial name               status   |\n",
            "+-----------------------------------+\n",
            "| PPO_my_env_7b7f7_00000   PENDING  |\n",
            "+-----------------------------------+\n"
          ]
        },
        {
          "metadata": {
            "tags": null
          },
          "name": "stderr",
          "output_type": "stream",
          "text": [
            "2024-05-12 06:06:42,075\tWARNING insufficient_resources_manager.py:163 -- Ignore this message if the cluster is autoscaling. No trial is running and no new trial has been started within the last 60 seconds. This could be due to the cluster not having enough resources available. You asked for 5.0 CPUs and 1.0 GPUs per trial, but the cluster only has 2.0 CPUs and 1.0 GPUs available. Stop the tuning and adjust the required resources (e.g. via the `ScalingConfig` or `resources_per_trial`, or `num_workers` for rllib), or add more resources to your cluster.\n"
          ]
        },
        {
          "metadata": {
            "tags": null
          },
          "name": "stdout",
          "output_type": "stream",
          "text": [
            "Trial status: 1 PENDING\n",
            "Current time: 2024-05-12 06:06:51. Total running time: 2hr 11min 17s\n",
            "Logical resource usage: 0/2 CPUs, 0/1 GPUs\n",
            "+-----------------------------------+\n",
            "| Trial name               status   |\n",
            "+-----------------------------------+\n",
            "| PPO_my_env_7b7f7_00000   PENDING  |\n",
            "+-----------------------------------+\n",
            "Trial status: 1 PENDING\n",
            "Current time: 2024-05-12 06:07:21. Total running time: 2hr 11min 48s\n",
            "Logical resource usage: 0/2 CPUs, 0/1 GPUs\n",
            "+-----------------------------------+\n",
            "| Trial name               status   |\n",
            "+-----------------------------------+\n",
            "| PPO_my_env_7b7f7_00000   PENDING  |\n",
            "+-----------------------------------+\n"
          ]
        },
        {
          "metadata": {
            "tags": null
          },
          "name": "stderr",
          "output_type": "stream",
          "text": [
            "2024-05-12 06:07:42,172\tWARNING insufficient_resources_manager.py:163 -- Ignore this message if the cluster is autoscaling. No trial is running and no new trial has been started within the last 60 seconds. This could be due to the cluster not having enough resources available. You asked for 5.0 CPUs and 1.0 GPUs per trial, but the cluster only has 2.0 CPUs and 1.0 GPUs available. Stop the tuning and adjust the required resources (e.g. via the `ScalingConfig` or `resources_per_trial`, or `num_workers` for rllib), or add more resources to your cluster.\n"
          ]
        },
        {
          "metadata": {
            "tags": null
          },
          "name": "stdout",
          "output_type": "stream",
          "text": [
            "Trial status: 1 PENDING\n",
            "Current time: 2024-05-12 06:07:51. Total running time: 2hr 12min 18s\n",
            "Logical resource usage: 0/2 CPUs, 0/1 GPUs\n",
            "+-----------------------------------+\n",
            "| Trial name               status   |\n",
            "+-----------------------------------+\n",
            "| PPO_my_env_7b7f7_00000   PENDING  |\n",
            "+-----------------------------------+\n",
            "Trial status: 1 PENDING\n",
            "Current time: 2024-05-12 06:08:21. Total running time: 2hr 12min 48s\n",
            "Logical resource usage: 0/2 CPUs, 0/1 GPUs\n",
            "+-----------------------------------+\n",
            "| Trial name               status   |\n",
            "+-----------------------------------+\n",
            "| PPO_my_env_7b7f7_00000   PENDING  |\n",
            "+-----------------------------------+\n"
          ]
        },
        {
          "metadata": {
            "tags": null
          },
          "name": "stderr",
          "output_type": "stream",
          "text": [
            "2024-05-12 06:08:42,254\tWARNING insufficient_resources_manager.py:163 -- Ignore this message if the cluster is autoscaling. No trial is running and no new trial has been started within the last 60 seconds. This could be due to the cluster not having enough resources available. You asked for 5.0 CPUs and 1.0 GPUs per trial, but the cluster only has 2.0 CPUs and 1.0 GPUs available. Stop the tuning and adjust the required resources (e.g. via the `ScalingConfig` or `resources_per_trial`, or `num_workers` for rllib), or add more resources to your cluster.\n"
          ]
        },
        {
          "metadata": {
            "tags": null
          },
          "name": "stdout",
          "output_type": "stream",
          "text": [
            "Trial status: 1 PENDING\n",
            "Current time: 2024-05-12 06:08:51. Total running time: 2hr 13min 18s\n",
            "Logical resource usage: 0/2 CPUs, 0/1 GPUs\n",
            "+-----------------------------------+\n",
            "| Trial name               status   |\n",
            "+-----------------------------------+\n",
            "| PPO_my_env_7b7f7_00000   PENDING  |\n",
            "+-----------------------------------+\n",
            "Trial status: 1 PENDING\n",
            "Current time: 2024-05-12 06:09:21. Total running time: 2hr 13min 48s\n",
            "Logical resource usage: 0/2 CPUs, 0/1 GPUs\n",
            "+-----------------------------------+\n",
            "| Trial name               status   |\n",
            "+-----------------------------------+\n",
            "| PPO_my_env_7b7f7_00000   PENDING  |\n",
            "+-----------------------------------+\n"
          ]
        },
        {
          "metadata": {
            "tags": null
          },
          "name": "stderr",
          "output_type": "stream",
          "text": [
            "2024-05-12 06:09:42,275\tWARNING insufficient_resources_manager.py:163 -- Ignore this message if the cluster is autoscaling. No trial is running and no new trial has been started within the last 60 seconds. This could be due to the cluster not having enough resources available. You asked for 5.0 CPUs and 1.0 GPUs per trial, but the cluster only has 2.0 CPUs and 1.0 GPUs available. Stop the tuning and adjust the required resources (e.g. via the `ScalingConfig` or `resources_per_trial`, or `num_workers` for rllib), or add more resources to your cluster.\n"
          ]
        },
        {
          "metadata": {
            "tags": null
          },
          "name": "stdout",
          "output_type": "stream",
          "text": [
            "Trial status: 1 PENDING\n",
            "Current time: 2024-05-12 06:09:51. Total running time: 2hr 14min 18s\n",
            "Logical resource usage: 0/2 CPUs, 0/1 GPUs\n",
            "+-----------------------------------+\n",
            "| Trial name               status   |\n",
            "+-----------------------------------+\n",
            "| PPO_my_env_7b7f7_00000   PENDING  |\n",
            "+-----------------------------------+\n",
            "Trial status: 1 PENDING\n",
            "Current time: 2024-05-12 06:10:21. Total running time: 2hr 14min 48s\n",
            "Logical resource usage: 0/2 CPUs, 0/1 GPUs\n",
            "+-----------------------------------+\n",
            "| Trial name               status   |\n",
            "+-----------------------------------+\n",
            "| PPO_my_env_7b7f7_00000   PENDING  |\n",
            "+-----------------------------------+\n"
          ]
        },
        {
          "metadata": {
            "tags": null
          },
          "name": "stderr",
          "output_type": "stream",
          "text": [
            "2024-05-12 06:10:42,301\tWARNING insufficient_resources_manager.py:163 -- Ignore this message if the cluster is autoscaling. No trial is running and no new trial has been started within the last 60 seconds. This could be due to the cluster not having enough resources available. You asked for 5.0 CPUs and 1.0 GPUs per trial, but the cluster only has 2.0 CPUs and 1.0 GPUs available. Stop the tuning and adjust the required resources (e.g. via the `ScalingConfig` or `resources_per_trial`, or `num_workers` for rllib), or add more resources to your cluster.\n"
          ]
        },
        {
          "metadata": {
            "tags": null
          },
          "name": "stdout",
          "output_type": "stream",
          "text": [
            "Trial status: 1 PENDING\n",
            "Current time: 2024-05-12 06:10:51. Total running time: 2hr 15min 18s\n",
            "Logical resource usage: 0/2 CPUs, 0/1 GPUs\n",
            "+-----------------------------------+\n",
            "| Trial name               status   |\n",
            "+-----------------------------------+\n",
            "| PPO_my_env_7b7f7_00000   PENDING  |\n",
            "+-----------------------------------+\n",
            "Trial status: 1 PENDING\n",
            "Current time: 2024-05-12 06:11:21. Total running time: 2hr 15min 48s\n",
            "Logical resource usage: 0/2 CPUs, 0/1 GPUs\n",
            "+-----------------------------------+\n",
            "| Trial name               status   |\n",
            "+-----------------------------------+\n",
            "| PPO_my_env_7b7f7_00000   PENDING  |\n",
            "+-----------------------------------+\n"
          ]
        },
        {
          "metadata": {
            "tags": null
          },
          "name": "stderr",
          "output_type": "stream",
          "text": [
            "2024-05-12 06:11:42,311\tWARNING insufficient_resources_manager.py:163 -- Ignore this message if the cluster is autoscaling. No trial is running and no new trial has been started within the last 60 seconds. This could be due to the cluster not having enough resources available. You asked for 5.0 CPUs and 1.0 GPUs per trial, but the cluster only has 2.0 CPUs and 1.0 GPUs available. Stop the tuning and adjust the required resources (e.g. via the `ScalingConfig` or `resources_per_trial`, or `num_workers` for rllib), or add more resources to your cluster.\n"
          ]
        },
        {
          "metadata": {
            "tags": null
          },
          "name": "stdout",
          "output_type": "stream",
          "text": [
            "Trial status: 1 PENDING\n",
            "Current time: 2024-05-12 06:11:51. Total running time: 2hr 16min 18s\n",
            "Logical resource usage: 0/2 CPUs, 0/1 GPUs\n",
            "+-----------------------------------+\n",
            "| Trial name               status   |\n",
            "+-----------------------------------+\n",
            "| PPO_my_env_7b7f7_00000   PENDING  |\n",
            "+-----------------------------------+\n",
            "Trial status: 1 PENDING\n",
            "Current time: 2024-05-12 06:12:21. Total running time: 2hr 16min 48s\n",
            "Logical resource usage: 0/2 CPUs, 0/1 GPUs\n",
            "+-----------------------------------+\n",
            "| Trial name               status   |\n",
            "+-----------------------------------+\n",
            "| PPO_my_env_7b7f7_00000   PENDING  |\n",
            "+-----------------------------------+\n"
          ]
        },
        {
          "metadata": {
            "tags": null
          },
          "name": "stderr",
          "output_type": "stream",
          "text": [
            "2024-05-12 06:12:42,413\tWARNING insufficient_resources_manager.py:163 -- Ignore this message if the cluster is autoscaling. No trial is running and no new trial has been started within the last 60 seconds. This could be due to the cluster not having enough resources available. You asked for 5.0 CPUs and 1.0 GPUs per trial, but the cluster only has 2.0 CPUs and 1.0 GPUs available. Stop the tuning and adjust the required resources (e.g. via the `ScalingConfig` or `resources_per_trial`, or `num_workers` for rllib), or add more resources to your cluster.\n"
          ]
        },
        {
          "metadata": {
            "tags": null
          },
          "name": "stdout",
          "output_type": "stream",
          "text": [
            "Trial status: 1 PENDING\n",
            "Current time: 2024-05-12 06:12:52. Total running time: 2hr 17min 18s\n",
            "Logical resource usage: 0/2 CPUs, 0/1 GPUs\n",
            "+-----------------------------------+\n",
            "| Trial name               status   |\n",
            "+-----------------------------------+\n",
            "| PPO_my_env_7b7f7_00000   PENDING  |\n",
            "+-----------------------------------+\n",
            "Trial status: 1 PENDING\n",
            "Current time: 2024-05-12 06:13:22. Total running time: 2hr 17min 48s\n",
            "Logical resource usage: 0/2 CPUs, 0/1 GPUs\n",
            "+-----------------------------------+\n",
            "| Trial name               status   |\n",
            "+-----------------------------------+\n",
            "| PPO_my_env_7b7f7_00000   PENDING  |\n",
            "+-----------------------------------+\n"
          ]
        },
        {
          "metadata": {
            "tags": null
          },
          "name": "stderr",
          "output_type": "stream",
          "text": [
            "2024-05-12 06:13:42,512\tWARNING insufficient_resources_manager.py:163 -- Ignore this message if the cluster is autoscaling. No trial is running and no new trial has been started within the last 60 seconds. This could be due to the cluster not having enough resources available. You asked for 5.0 CPUs and 1.0 GPUs per trial, but the cluster only has 2.0 CPUs and 1.0 GPUs available. Stop the tuning and adjust the required resources (e.g. via the `ScalingConfig` or `resources_per_trial`, or `num_workers` for rllib), or add more resources to your cluster.\n"
          ]
        },
        {
          "metadata": {
            "tags": null
          },
          "name": "stdout",
          "output_type": "stream",
          "text": [
            "Trial status: 1 PENDING\n",
            "Current time: 2024-05-12 06:13:52. Total running time: 2hr 18min 18s\n",
            "Logical resource usage: 0/2 CPUs, 0/1 GPUs\n",
            "+-----------------------------------+\n",
            "| Trial name               status   |\n",
            "+-----------------------------------+\n",
            "| PPO_my_env_7b7f7_00000   PENDING  |\n",
            "+-----------------------------------+\n",
            "Trial status: 1 PENDING\n",
            "Current time: 2024-05-12 06:14:22. Total running time: 2hr 18min 48s\n",
            "Logical resource usage: 0/2 CPUs, 0/1 GPUs\n",
            "+-----------------------------------+\n",
            "| Trial name               status   |\n",
            "+-----------------------------------+\n",
            "| PPO_my_env_7b7f7_00000   PENDING  |\n",
            "+-----------------------------------+\n"
          ]
        },
        {
          "metadata": {
            "tags": null
          },
          "name": "stderr",
          "output_type": "stream",
          "text": [
            "2024-05-12 06:14:42,578\tWARNING insufficient_resources_manager.py:163 -- Ignore this message if the cluster is autoscaling. No trial is running and no new trial has been started within the last 60 seconds. This could be due to the cluster not having enough resources available. You asked for 5.0 CPUs and 1.0 GPUs per trial, but the cluster only has 2.0 CPUs and 1.0 GPUs available. Stop the tuning and adjust the required resources (e.g. via the `ScalingConfig` or `resources_per_trial`, or `num_workers` for rllib), or add more resources to your cluster.\n"
          ]
        },
        {
          "metadata": {
            "tags": null
          },
          "name": "stdout",
          "output_type": "stream",
          "text": [
            "Trial status: 1 PENDING\n",
            "Current time: 2024-05-12 06:14:52. Total running time: 2hr 19min 18s\n",
            "Logical resource usage: 0/2 CPUs, 0/1 GPUs\n",
            "+-----------------------------------+\n",
            "| Trial name               status   |\n",
            "+-----------------------------------+\n",
            "| PPO_my_env_7b7f7_00000   PENDING  |\n",
            "+-----------------------------------+\n",
            "Trial status: 1 PENDING\n",
            "Current time: 2024-05-12 06:15:22. Total running time: 2hr 19min 48s\n",
            "Logical resource usage: 0/2 CPUs, 0/1 GPUs\n",
            "+-----------------------------------+\n",
            "| Trial name               status   |\n",
            "+-----------------------------------+\n",
            "| PPO_my_env_7b7f7_00000   PENDING  |\n",
            "+-----------------------------------+\n"
          ]
        },
        {
          "metadata": {
            "tags": null
          },
          "name": "stderr",
          "output_type": "stream",
          "text": [
            "2024-05-12 06:15:42,648\tWARNING insufficient_resources_manager.py:163 -- Ignore this message if the cluster is autoscaling. No trial is running and no new trial has been started within the last 60 seconds. This could be due to the cluster not having enough resources available. You asked for 5.0 CPUs and 1.0 GPUs per trial, but the cluster only has 2.0 CPUs and 1.0 GPUs available. Stop the tuning and adjust the required resources (e.g. via the `ScalingConfig` or `resources_per_trial`, or `num_workers` for rllib), or add more resources to your cluster.\n"
          ]
        },
        {
          "metadata": {
            "tags": null
          },
          "name": "stdout",
          "output_type": "stream",
          "text": [
            "Trial status: 1 PENDING\n",
            "Current time: 2024-05-12 06:15:52. Total running time: 2hr 20min 19s\n",
            "Logical resource usage: 0/2 CPUs, 0/1 GPUs\n",
            "+-----------------------------------+\n",
            "| Trial name               status   |\n",
            "+-----------------------------------+\n",
            "| PPO_my_env_7b7f7_00000   PENDING  |\n",
            "+-----------------------------------+\n",
            "Trial status: 1 PENDING\n",
            "Current time: 2024-05-12 06:16:22. Total running time: 2hr 20min 49s\n",
            "Logical resource usage: 0/2 CPUs, 0/1 GPUs\n",
            "+-----------------------------------+\n",
            "| Trial name               status   |\n",
            "+-----------------------------------+\n",
            "| PPO_my_env_7b7f7_00000   PENDING  |\n",
            "+-----------------------------------+\n"
          ]
        },
        {
          "metadata": {
            "tags": null
          },
          "name": "stderr",
          "output_type": "stream",
          "text": [
            "2024-05-12 06:16:42,707\tWARNING insufficient_resources_manager.py:163 -- Ignore this message if the cluster is autoscaling. No trial is running and no new trial has been started within the last 60 seconds. This could be due to the cluster not having enough resources available. You asked for 5.0 CPUs and 1.0 GPUs per trial, but the cluster only has 2.0 CPUs and 1.0 GPUs available. Stop the tuning and adjust the required resources (e.g. via the `ScalingConfig` or `resources_per_trial`, or `num_workers` for rllib), or add more resources to your cluster.\n"
          ]
        },
        {
          "metadata": {
            "tags": null
          },
          "name": "stdout",
          "output_type": "stream",
          "text": [
            "Trial status: 1 PENDING\n",
            "Current time: 2024-05-12 06:16:52. Total running time: 2hr 21min 19s\n",
            "Logical resource usage: 0/2 CPUs, 0/1 GPUs\n",
            "+-----------------------------------+\n",
            "| Trial name               status   |\n",
            "+-----------------------------------+\n",
            "| PPO_my_env_7b7f7_00000   PENDING  |\n",
            "+-----------------------------------+\n",
            "Trial status: 1 PENDING\n",
            "Current time: 2024-05-12 06:17:22. Total running time: 2hr 21min 49s\n",
            "Logical resource usage: 0/2 CPUs, 0/1 GPUs\n",
            "+-----------------------------------+\n",
            "| Trial name               status   |\n",
            "+-----------------------------------+\n",
            "| PPO_my_env_7b7f7_00000   PENDING  |\n",
            "+-----------------------------------+\n"
          ]
        },
        {
          "metadata": {
            "tags": null
          },
          "name": "stderr",
          "output_type": "stream",
          "text": [
            "2024-05-12 06:17:42,755\tWARNING insufficient_resources_manager.py:163 -- Ignore this message if the cluster is autoscaling. No trial is running and no new trial has been started within the last 60 seconds. This could be due to the cluster not having enough resources available. You asked for 5.0 CPUs and 1.0 GPUs per trial, but the cluster only has 2.0 CPUs and 1.0 GPUs available. Stop the tuning and adjust the required resources (e.g. via the `ScalingConfig` or `resources_per_trial`, or `num_workers` for rllib), or add more resources to your cluster.\n"
          ]
        },
        {
          "metadata": {
            "tags": null
          },
          "name": "stdout",
          "output_type": "stream",
          "text": [
            "Trial status: 1 PENDING\n",
            "Current time: 2024-05-12 06:17:52. Total running time: 2hr 22min 19s\n",
            "Logical resource usage: 0/2 CPUs, 0/1 GPUs\n",
            "+-----------------------------------+\n",
            "| Trial name               status   |\n",
            "+-----------------------------------+\n",
            "| PPO_my_env_7b7f7_00000   PENDING  |\n",
            "+-----------------------------------+\n",
            "Trial status: 1 PENDING\n",
            "Current time: 2024-05-12 06:18:22. Total running time: 2hr 22min 49s\n",
            "Logical resource usage: 0/2 CPUs, 0/1 GPUs\n",
            "+-----------------------------------+\n",
            "| Trial name               status   |\n",
            "+-----------------------------------+\n",
            "| PPO_my_env_7b7f7_00000   PENDING  |\n",
            "+-----------------------------------+\n"
          ]
        },
        {
          "metadata": {
            "tags": null
          },
          "name": "stderr",
          "output_type": "stream",
          "text": [
            "2024-05-12 06:18:42,824\tWARNING insufficient_resources_manager.py:163 -- Ignore this message if the cluster is autoscaling. No trial is running and no new trial has been started within the last 60 seconds. This could be due to the cluster not having enough resources available. You asked for 5.0 CPUs and 1.0 GPUs per trial, but the cluster only has 2.0 CPUs and 1.0 GPUs available. Stop the tuning and adjust the required resources (e.g. via the `ScalingConfig` or `resources_per_trial`, or `num_workers` for rllib), or add more resources to your cluster.\n"
          ]
        },
        {
          "metadata": {
            "tags": null
          },
          "name": "stdout",
          "output_type": "stream",
          "text": [
            "Trial status: 1 PENDING\n",
            "Current time: 2024-05-12 06:18:52. Total running time: 2hr 23min 19s\n",
            "Logical resource usage: 0/2 CPUs, 0/1 GPUs\n",
            "+-----------------------------------+\n",
            "| Trial name               status   |\n",
            "+-----------------------------------+\n",
            "| PPO_my_env_7b7f7_00000   PENDING  |\n",
            "+-----------------------------------+\n",
            "Trial status: 1 PENDING\n",
            "Current time: 2024-05-12 06:19:22. Total running time: 2hr 23min 49s\n",
            "Logical resource usage: 0/2 CPUs, 0/1 GPUs\n",
            "+-----------------------------------+\n",
            "| Trial name               status   |\n",
            "+-----------------------------------+\n",
            "| PPO_my_env_7b7f7_00000   PENDING  |\n",
            "+-----------------------------------+\n"
          ]
        },
        {
          "metadata": {
            "tags": null
          },
          "name": "stderr",
          "output_type": "stream",
          "text": [
            "2024-05-12 06:19:42,882\tWARNING insufficient_resources_manager.py:163 -- Ignore this message if the cluster is autoscaling. No trial is running and no new trial has been started within the last 60 seconds. This could be due to the cluster not having enough resources available. You asked for 5.0 CPUs and 1.0 GPUs per trial, but the cluster only has 2.0 CPUs and 1.0 GPUs available. Stop the tuning and adjust the required resources (e.g. via the `ScalingConfig` or `resources_per_trial`, or `num_workers` for rllib), or add more resources to your cluster.\n"
          ]
        },
        {
          "metadata": {
            "tags": null
          },
          "name": "stdout",
          "output_type": "stream",
          "text": [
            "Trial status: 1 PENDING\n",
            "Current time: 2024-05-12 06:19:53. Total running time: 2hr 24min 19s\n",
            "Logical resource usage: 0/2 CPUs, 0/1 GPUs\n",
            "+-----------------------------------+\n",
            "| Trial name               status   |\n",
            "+-----------------------------------+\n",
            "| PPO_my_env_7b7f7_00000   PENDING  |\n",
            "+-----------------------------------+\n",
            "Trial status: 1 PENDING\n",
            "Current time: 2024-05-12 06:20:23. Total running time: 2hr 24min 49s\n",
            "Logical resource usage: 0/2 CPUs, 0/1 GPUs\n",
            "+-----------------------------------+\n",
            "| Trial name               status   |\n",
            "+-----------------------------------+\n",
            "| PPO_my_env_7b7f7_00000   PENDING  |\n",
            "+-----------------------------------+\n"
          ]
        },
        {
          "metadata": {
            "tags": null
          },
          "name": "stderr",
          "output_type": "stream",
          "text": [
            "2024-05-12 06:20:42,967\tWARNING insufficient_resources_manager.py:163 -- Ignore this message if the cluster is autoscaling. No trial is running and no new trial has been started within the last 60 seconds. This could be due to the cluster not having enough resources available. You asked for 5.0 CPUs and 1.0 GPUs per trial, but the cluster only has 2.0 CPUs and 1.0 GPUs available. Stop the tuning and adjust the required resources (e.g. via the `ScalingConfig` or `resources_per_trial`, or `num_workers` for rllib), or add more resources to your cluster.\n"
          ]
        },
        {
          "metadata": {
            "tags": null
          },
          "name": "stdout",
          "output_type": "stream",
          "text": [
            "Trial status: 1 PENDING\n",
            "Current time: 2024-05-12 06:20:53. Total running time: 2hr 25min 19s\n",
            "Logical resource usage: 0/2 CPUs, 0/1 GPUs\n",
            "+-----------------------------------+\n",
            "| Trial name               status   |\n",
            "+-----------------------------------+\n",
            "| PPO_my_env_7b7f7_00000   PENDING  |\n",
            "+-----------------------------------+\n",
            "Trial status: 1 PENDING\n",
            "Current time: 2024-05-12 06:21:23. Total running time: 2hr 25min 49s\n",
            "Logical resource usage: 0/2 CPUs, 0/1 GPUs\n",
            "+-----------------------------------+\n",
            "| Trial name               status   |\n",
            "+-----------------------------------+\n",
            "| PPO_my_env_7b7f7_00000   PENDING  |\n",
            "+-----------------------------------+\n"
          ]
        },
        {
          "metadata": {
            "tags": null
          },
          "name": "stderr",
          "output_type": "stream",
          "text": [
            "2024-05-12 06:21:43,061\tWARNING insufficient_resources_manager.py:163 -- Ignore this message if the cluster is autoscaling. No trial is running and no new trial has been started within the last 60 seconds. This could be due to the cluster not having enough resources available. You asked for 5.0 CPUs and 1.0 GPUs per trial, but the cluster only has 2.0 CPUs and 1.0 GPUs available. Stop the tuning and adjust the required resources (e.g. via the `ScalingConfig` or `resources_per_trial`, or `num_workers` for rllib), or add more resources to your cluster.\n"
          ]
        },
        {
          "metadata": {
            "tags": null
          },
          "name": "stdout",
          "output_type": "stream",
          "text": [
            "Trial status: 1 PENDING\n",
            "Current time: 2024-05-12 06:21:53. Total running time: 2hr 26min 20s\n",
            "Logical resource usage: 0/2 CPUs, 0/1 GPUs\n",
            "+-----------------------------------+\n",
            "| Trial name               status   |\n",
            "+-----------------------------------+\n",
            "| PPO_my_env_7b7f7_00000   PENDING  |\n",
            "+-----------------------------------+\n",
            "Trial status: 1 PENDING\n",
            "Current time: 2024-05-12 06:22:23. Total running time: 2hr 26min 50s\n",
            "Logical resource usage: 0/2 CPUs, 0/1 GPUs\n",
            "+-----------------------------------+\n",
            "| Trial name               status   |\n",
            "+-----------------------------------+\n",
            "| PPO_my_env_7b7f7_00000   PENDING  |\n",
            "+-----------------------------------+\n"
          ]
        },
        {
          "metadata": {
            "tags": null
          },
          "name": "stderr",
          "output_type": "stream",
          "text": [
            "2024-05-12 06:22:43,138\tWARNING insufficient_resources_manager.py:163 -- Ignore this message if the cluster is autoscaling. No trial is running and no new trial has been started within the last 60 seconds. This could be due to the cluster not having enough resources available. You asked for 5.0 CPUs and 1.0 GPUs per trial, but the cluster only has 2.0 CPUs and 1.0 GPUs available. Stop the tuning and adjust the required resources (e.g. via the `ScalingConfig` or `resources_per_trial`, or `num_workers` for rllib), or add more resources to your cluster.\n"
          ]
        },
        {
          "metadata": {
            "tags": null
          },
          "name": "stdout",
          "output_type": "stream",
          "text": [
            "Trial status: 1 PENDING\n",
            "Current time: 2024-05-12 06:22:53. Total running time: 2hr 27min 20s\n",
            "Logical resource usage: 0/2 CPUs, 0/1 GPUs\n",
            "+-----------------------------------+\n",
            "| Trial name               status   |\n",
            "+-----------------------------------+\n",
            "| PPO_my_env_7b7f7_00000   PENDING  |\n",
            "+-----------------------------------+\n",
            "Trial status: 1 PENDING\n",
            "Current time: 2024-05-12 06:23:23. Total running time: 2hr 27min 50s\n",
            "Logical resource usage: 0/2 CPUs, 0/1 GPUs\n",
            "+-----------------------------------+\n",
            "| Trial name               status   |\n",
            "+-----------------------------------+\n",
            "| PPO_my_env_7b7f7_00000   PENDING  |\n",
            "+-----------------------------------+\n"
          ]
        },
        {
          "metadata": {
            "tags": null
          },
          "name": "stderr",
          "output_type": "stream",
          "text": [
            "2024-05-12 06:23:43,186\tWARNING insufficient_resources_manager.py:163 -- Ignore this message if the cluster is autoscaling. No trial is running and no new trial has been started within the last 60 seconds. This could be due to the cluster not having enough resources available. You asked for 5.0 CPUs and 1.0 GPUs per trial, but the cluster only has 2.0 CPUs and 1.0 GPUs available. Stop the tuning and adjust the required resources (e.g. via the `ScalingConfig` or `resources_per_trial`, or `num_workers` for rllib), or add more resources to your cluster.\n"
          ]
        },
        {
          "metadata": {
            "tags": null
          },
          "name": "stdout",
          "output_type": "stream",
          "text": [
            "Trial status: 1 PENDING\n",
            "Current time: 2024-05-12 06:23:53. Total running time: 2hr 28min 20s\n",
            "Logical resource usage: 0/2 CPUs, 0/1 GPUs\n",
            "+-----------------------------------+\n",
            "| Trial name               status   |\n",
            "+-----------------------------------+\n",
            "| PPO_my_env_7b7f7_00000   PENDING  |\n",
            "+-----------------------------------+\n",
            "Trial status: 1 PENDING\n",
            "Current time: 2024-05-12 06:24:23. Total running time: 2hr 28min 50s\n",
            "Logical resource usage: 0/2 CPUs, 0/1 GPUs\n",
            "+-----------------------------------+\n",
            "| Trial name               status   |\n",
            "+-----------------------------------+\n",
            "| PPO_my_env_7b7f7_00000   PENDING  |\n",
            "+-----------------------------------+\n"
          ]
        },
        {
          "metadata": {
            "tags": null
          },
          "name": "stderr",
          "output_type": "stream",
          "text": [
            "2024-05-12 06:24:43,205\tWARNING insufficient_resources_manager.py:163 -- Ignore this message if the cluster is autoscaling. No trial is running and no new trial has been started within the last 60 seconds. This could be due to the cluster not having enough resources available. You asked for 5.0 CPUs and 1.0 GPUs per trial, but the cluster only has 2.0 CPUs and 1.0 GPUs available. Stop the tuning and adjust the required resources (e.g. via the `ScalingConfig` or `resources_per_trial`, or `num_workers` for rllib), or add more resources to your cluster.\n"
          ]
        },
        {
          "metadata": {
            "tags": null
          },
          "name": "stdout",
          "output_type": "stream",
          "text": [
            "Trial status: 1 PENDING\n",
            "Current time: 2024-05-12 06:24:53. Total running time: 2hr 29min 20s\n",
            "Logical resource usage: 0/2 CPUs, 0/1 GPUs\n",
            "+-----------------------------------+\n",
            "| Trial name               status   |\n",
            "+-----------------------------------+\n",
            "| PPO_my_env_7b7f7_00000   PENDING  |\n",
            "+-----------------------------------+\n",
            "Trial status: 1 PENDING\n",
            "Current time: 2024-05-12 06:25:23. Total running time: 2hr 29min 50s\n",
            "Logical resource usage: 0/2 CPUs, 0/1 GPUs\n",
            "+-----------------------------------+\n",
            "| Trial name               status   |\n",
            "+-----------------------------------+\n",
            "| PPO_my_env_7b7f7_00000   PENDING  |\n",
            "+-----------------------------------+\n"
          ]
        },
        {
          "metadata": {
            "tags": null
          },
          "name": "stderr",
          "output_type": "stream",
          "text": [
            "2024-05-12 06:25:43,213\tWARNING insufficient_resources_manager.py:163 -- Ignore this message if the cluster is autoscaling. No trial is running and no new trial has been started within the last 60 seconds. This could be due to the cluster not having enough resources available. You asked for 5.0 CPUs and 1.0 GPUs per trial, but the cluster only has 2.0 CPUs and 1.0 GPUs available. Stop the tuning and adjust the required resources (e.g. via the `ScalingConfig` or `resources_per_trial`, or `num_workers` for rllib), or add more resources to your cluster.\n"
          ]
        },
        {
          "metadata": {
            "tags": null
          },
          "name": "stdout",
          "output_type": "stream",
          "text": [
            "Trial status: 1 PENDING\n",
            "Current time: 2024-05-12 06:25:53. Total running time: 2hr 30min 20s\n",
            "Logical resource usage: 0/2 CPUs, 0/1 GPUs\n",
            "+-----------------------------------+\n",
            "| Trial name               status   |\n",
            "+-----------------------------------+\n",
            "| PPO_my_env_7b7f7_00000   PENDING  |\n",
            "+-----------------------------------+\n",
            "Trial status: 1 PENDING\n",
            "Current time: 2024-05-12 06:26:23. Total running time: 2hr 30min 50s\n",
            "Logical resource usage: 0/2 CPUs, 0/1 GPUs\n",
            "+-----------------------------------+\n",
            "| Trial name               status   |\n",
            "+-----------------------------------+\n",
            "| PPO_my_env_7b7f7_00000   PENDING  |\n",
            "+-----------------------------------+\n"
          ]
        },
        {
          "metadata": {
            "tags": null
          },
          "name": "stderr",
          "output_type": "stream",
          "text": [
            "2024-05-12 06:26:43,216\tWARNING insufficient_resources_manager.py:163 -- Ignore this message if the cluster is autoscaling. No trial is running and no new trial has been started within the last 60 seconds. This could be due to the cluster not having enough resources available. You asked for 5.0 CPUs and 1.0 GPUs per trial, but the cluster only has 2.0 CPUs and 1.0 GPUs available. Stop the tuning and adjust the required resources (e.g. via the `ScalingConfig` or `resources_per_trial`, or `num_workers` for rllib), or add more resources to your cluster.\n"
          ]
        },
        {
          "metadata": {
            "tags": null
          },
          "name": "stdout",
          "output_type": "stream",
          "text": [
            "Trial status: 1 PENDING\n",
            "Current time: 2024-05-12 06:26:53. Total running time: 2hr 31min 20s\n",
            "Logical resource usage: 0/2 CPUs, 0/1 GPUs\n",
            "+-----------------------------------+\n",
            "| Trial name               status   |\n",
            "+-----------------------------------+\n",
            "| PPO_my_env_7b7f7_00000   PENDING  |\n",
            "+-----------------------------------+\n",
            "Trial status: 1 PENDING\n",
            "Current time: 2024-05-12 06:27:23. Total running time: 2hr 31min 50s\n",
            "Logical resource usage: 0/2 CPUs, 0/1 GPUs\n",
            "+-----------------------------------+\n",
            "| Trial name               status   |\n",
            "+-----------------------------------+\n",
            "| PPO_my_env_7b7f7_00000   PENDING  |\n",
            "+-----------------------------------+\n"
          ]
        },
        {
          "metadata": {
            "tags": null
          },
          "name": "stderr",
          "output_type": "stream",
          "text": [
            "2024-05-12 06:27:43,245\tWARNING insufficient_resources_manager.py:163 -- Ignore this message if the cluster is autoscaling. No trial is running and no new trial has been started within the last 60 seconds. This could be due to the cluster not having enough resources available. You asked for 5.0 CPUs and 1.0 GPUs per trial, but the cluster only has 2.0 CPUs and 1.0 GPUs available. Stop the tuning and adjust the required resources (e.g. via the `ScalingConfig` or `resources_per_trial`, or `num_workers` for rllib), or add more resources to your cluster.\n"
          ]
        },
        {
          "metadata": {
            "tags": null
          },
          "name": "stdout",
          "output_type": "stream",
          "text": [
            "Trial status: 1 PENDING\n",
            "Current time: 2024-05-12 06:27:53. Total running time: 2hr 32min 20s\n",
            "Logical resource usage: 0/2 CPUs, 0/1 GPUs\n",
            "+-----------------------------------+\n",
            "| Trial name               status   |\n",
            "+-----------------------------------+\n",
            "| PPO_my_env_7b7f7_00000   PENDING  |\n",
            "+-----------------------------------+\n",
            "Trial status: 1 PENDING\n",
            "Current time: 2024-05-12 06:28:24. Total running time: 2hr 32min 50s\n",
            "Logical resource usage: 0/2 CPUs, 0/1 GPUs\n",
            "+-----------------------------------+\n",
            "| Trial name               status   |\n",
            "+-----------------------------------+\n",
            "| PPO_my_env_7b7f7_00000   PENDING  |\n",
            "+-----------------------------------+\n"
          ]
        },
        {
          "metadata": {
            "tags": null
          },
          "name": "stderr",
          "output_type": "stream",
          "text": [
            "2024-05-12 06:28:43,310\tWARNING insufficient_resources_manager.py:163 -- Ignore this message if the cluster is autoscaling. No trial is running and no new trial has been started within the last 60 seconds. This could be due to the cluster not having enough resources available. You asked for 5.0 CPUs and 1.0 GPUs per trial, but the cluster only has 2.0 CPUs and 1.0 GPUs available. Stop the tuning and adjust the required resources (e.g. via the `ScalingConfig` or `resources_per_trial`, or `num_workers` for rllib), or add more resources to your cluster.\n"
          ]
        },
        {
          "metadata": {
            "tags": null
          },
          "name": "stdout",
          "output_type": "stream",
          "text": [
            "Trial status: 1 PENDING\n",
            "Current time: 2024-05-12 06:28:54. Total running time: 2hr 33min 20s\n",
            "Logical resource usage: 0/2 CPUs, 0/1 GPUs\n",
            "+-----------------------------------+\n",
            "| Trial name               status   |\n",
            "+-----------------------------------+\n",
            "| PPO_my_env_7b7f7_00000   PENDING  |\n",
            "+-----------------------------------+\n",
            "Trial status: 1 PENDING\n",
            "Current time: 2024-05-12 06:29:24. Total running time: 2hr 33min 50s\n",
            "Logical resource usage: 0/2 CPUs, 0/1 GPUs\n",
            "+-----------------------------------+\n",
            "| Trial name               status   |\n",
            "+-----------------------------------+\n",
            "| PPO_my_env_7b7f7_00000   PENDING  |\n",
            "+-----------------------------------+\n"
          ]
        },
        {
          "metadata": {
            "tags": null
          },
          "name": "stderr",
          "output_type": "stream",
          "text": [
            "2024-05-12 06:29:43,386\tWARNING insufficient_resources_manager.py:163 -- Ignore this message if the cluster is autoscaling. No trial is running and no new trial has been started within the last 60 seconds. This could be due to the cluster not having enough resources available. You asked for 5.0 CPUs and 1.0 GPUs per trial, but the cluster only has 2.0 CPUs and 1.0 GPUs available. Stop the tuning and adjust the required resources (e.g. via the `ScalingConfig` or `resources_per_trial`, or `num_workers` for rllib), or add more resources to your cluster.\n"
          ]
        },
        {
          "metadata": {
            "tags": null
          },
          "name": "stdout",
          "output_type": "stream",
          "text": [
            "Trial status: 1 PENDING\n",
            "Current time: 2024-05-12 06:29:54. Total running time: 2hr 34min 20s\n",
            "Logical resource usage: 0/2 CPUs, 0/1 GPUs\n",
            "+-----------------------------------+\n",
            "| Trial name               status   |\n",
            "+-----------------------------------+\n",
            "| PPO_my_env_7b7f7_00000   PENDING  |\n",
            "+-----------------------------------+\n",
            "Trial status: 1 PENDING\n",
            "Current time: 2024-05-12 06:30:24. Total running time: 2hr 34min 50s\n",
            "Logical resource usage: 0/2 CPUs, 0/1 GPUs\n",
            "+-----------------------------------+\n",
            "| Trial name               status   |\n",
            "+-----------------------------------+\n",
            "| PPO_my_env_7b7f7_00000   PENDING  |\n",
            "+-----------------------------------+\n"
          ]
        },
        {
          "metadata": {
            "tags": null
          },
          "name": "stderr",
          "output_type": "stream",
          "text": [
            "2024-05-12 06:30:43,461\tWARNING insufficient_resources_manager.py:163 -- Ignore this message if the cluster is autoscaling. No trial is running and no new trial has been started within the last 60 seconds. This could be due to the cluster not having enough resources available. You asked for 5.0 CPUs and 1.0 GPUs per trial, but the cluster only has 2.0 CPUs and 1.0 GPUs available. Stop the tuning and adjust the required resources (e.g. via the `ScalingConfig` or `resources_per_trial`, or `num_workers` for rllib), or add more resources to your cluster.\n"
          ]
        },
        {
          "metadata": {
            "tags": null
          },
          "name": "stdout",
          "output_type": "stream",
          "text": [
            "Trial status: 1 PENDING\n",
            "Current time: 2024-05-12 06:30:54. Total running time: 2hr 35min 21s\n",
            "Logical resource usage: 0/2 CPUs, 0/1 GPUs\n",
            "+-----------------------------------+\n",
            "| Trial name               status   |\n",
            "+-----------------------------------+\n",
            "| PPO_my_env_7b7f7_00000   PENDING  |\n",
            "+-----------------------------------+\n",
            "Trial status: 1 PENDING\n",
            "Current time: 2024-05-12 06:31:24. Total running time: 2hr 35min 51s\n",
            "Logical resource usage: 0/2 CPUs, 0/1 GPUs\n",
            "+-----------------------------------+\n",
            "| Trial name               status   |\n",
            "+-----------------------------------+\n",
            "| PPO_my_env_7b7f7_00000   PENDING  |\n",
            "+-----------------------------------+\n"
          ]
        },
        {
          "metadata": {
            "tags": null
          },
          "name": "stderr",
          "output_type": "stream",
          "text": [
            "2024-05-12 06:31:43,523\tWARNING insufficient_resources_manager.py:163 -- Ignore this message if the cluster is autoscaling. No trial is running and no new trial has been started within the last 60 seconds. This could be due to the cluster not having enough resources available. You asked for 5.0 CPUs and 1.0 GPUs per trial, but the cluster only has 2.0 CPUs and 1.0 GPUs available. Stop the tuning and adjust the required resources (e.g. via the `ScalingConfig` or `resources_per_trial`, or `num_workers` for rllib), or add more resources to your cluster.\n"
          ]
        },
        {
          "metadata": {
            "tags": null
          },
          "name": "stdout",
          "output_type": "stream",
          "text": [
            "Trial status: 1 PENDING\n",
            "Current time: 2024-05-12 06:31:54. Total running time: 2hr 36min 21s\n",
            "Logical resource usage: 0/2 CPUs, 0/1 GPUs\n",
            "+-----------------------------------+\n",
            "| Trial name               status   |\n",
            "+-----------------------------------+\n",
            "| PPO_my_env_7b7f7_00000   PENDING  |\n",
            "+-----------------------------------+\n",
            "Trial status: 1 PENDING\n",
            "Current time: 2024-05-12 06:32:24. Total running time: 2hr 36min 51s\n",
            "Logical resource usage: 0/2 CPUs, 0/1 GPUs\n",
            "+-----------------------------------+\n",
            "| Trial name               status   |\n",
            "+-----------------------------------+\n",
            "| PPO_my_env_7b7f7_00000   PENDING  |\n",
            "+-----------------------------------+\n"
          ]
        },
        {
          "metadata": {
            "tags": null
          },
          "name": "stderr",
          "output_type": "stream",
          "text": [
            "2024-05-12 06:32:43,600\tWARNING insufficient_resources_manager.py:163 -- Ignore this message if the cluster is autoscaling. No trial is running and no new trial has been started within the last 60 seconds. This could be due to the cluster not having enough resources available. You asked for 5.0 CPUs and 1.0 GPUs per trial, but the cluster only has 2.0 CPUs and 1.0 GPUs available. Stop the tuning and adjust the required resources (e.g. via the `ScalingConfig` or `resources_per_trial`, or `num_workers` for rllib), or add more resources to your cluster.\n"
          ]
        },
        {
          "metadata": {
            "tags": null
          },
          "name": "stdout",
          "output_type": "stream",
          "text": [
            "Trial status: 1 PENDING\n",
            "Current time: 2024-05-12 06:32:54. Total running time: 2hr 37min 21s\n",
            "Logical resource usage: 0/2 CPUs, 0/1 GPUs\n",
            "+-----------------------------------+\n",
            "| Trial name               status   |\n",
            "+-----------------------------------+\n",
            "| PPO_my_env_7b7f7_00000   PENDING  |\n",
            "+-----------------------------------+\n",
            "Trial status: 1 PENDING\n",
            "Current time: 2024-05-12 06:33:24. Total running time: 2hr 37min 51s\n",
            "Logical resource usage: 0/2 CPUs, 0/1 GPUs\n",
            "+-----------------------------------+\n",
            "| Trial name               status   |\n",
            "+-----------------------------------+\n",
            "| PPO_my_env_7b7f7_00000   PENDING  |\n",
            "+-----------------------------------+\n"
          ]
        },
        {
          "metadata": {
            "tags": null
          },
          "name": "stderr",
          "output_type": "stream",
          "text": [
            "2024-05-12 06:33:43,652\tWARNING insufficient_resources_manager.py:163 -- Ignore this message if the cluster is autoscaling. No trial is running and no new trial has been started within the last 60 seconds. This could be due to the cluster not having enough resources available. You asked for 5.0 CPUs and 1.0 GPUs per trial, but the cluster only has 2.0 CPUs and 1.0 GPUs available. Stop the tuning and adjust the required resources (e.g. via the `ScalingConfig` or `resources_per_trial`, or `num_workers` for rllib), or add more resources to your cluster.\n"
          ]
        },
        {
          "metadata": {
            "tags": null
          },
          "name": "stdout",
          "output_type": "stream",
          "text": [
            "Trial status: 1 PENDING\n",
            "Current time: 2024-05-12 06:33:54. Total running time: 2hr 38min 21s\n",
            "Logical resource usage: 0/2 CPUs, 0/1 GPUs\n",
            "+-----------------------------------+\n",
            "| Trial name               status   |\n",
            "+-----------------------------------+\n",
            "| PPO_my_env_7b7f7_00000   PENDING  |\n",
            "+-----------------------------------+\n",
            "Trial status: 1 PENDING\n",
            "Current time: 2024-05-12 06:34:25. Total running time: 2hr 38min 51s\n",
            "Logical resource usage: 0/2 CPUs, 0/1 GPUs\n",
            "+-----------------------------------+\n",
            "| Trial name               status   |\n",
            "+-----------------------------------+\n",
            "| PPO_my_env_7b7f7_00000   PENDING  |\n",
            "+-----------------------------------+\n"
          ]
        },
        {
          "metadata": {
            "tags": null
          },
          "name": "stderr",
          "output_type": "stream",
          "text": [
            "2024-05-12 06:34:43,717\tWARNING insufficient_resources_manager.py:163 -- Ignore this message if the cluster is autoscaling. No trial is running and no new trial has been started within the last 60 seconds. This could be due to the cluster not having enough resources available. You asked for 5.0 CPUs and 1.0 GPUs per trial, but the cluster only has 2.0 CPUs and 1.0 GPUs available. Stop the tuning and adjust the required resources (e.g. via the `ScalingConfig` or `resources_per_trial`, or `num_workers` for rllib), or add more resources to your cluster.\n"
          ]
        },
        {
          "metadata": {
            "tags": null
          },
          "name": "stdout",
          "output_type": "stream",
          "text": [
            "Trial status: 1 PENDING\n",
            "Current time: 2024-05-12 06:34:55. Total running time: 2hr 39min 21s\n",
            "Logical resource usage: 0/2 CPUs, 0/1 GPUs\n",
            "+-----------------------------------+\n",
            "| Trial name               status   |\n",
            "+-----------------------------------+\n",
            "| PPO_my_env_7b7f7_00000   PENDING  |\n",
            "+-----------------------------------+\n",
            "Trial status: 1 PENDING\n",
            "Current time: 2024-05-12 06:35:25. Total running time: 2hr 39min 51s\n",
            "Logical resource usage: 0/2 CPUs, 0/1 GPUs\n",
            "+-----------------------------------+\n",
            "| Trial name               status   |\n",
            "+-----------------------------------+\n",
            "| PPO_my_env_7b7f7_00000   PENDING  |\n",
            "+-----------------------------------+\n"
          ]
        },
        {
          "metadata": {
            "tags": null
          },
          "name": "stderr",
          "output_type": "stream",
          "text": [
            "2024-05-12 06:35:43,792\tWARNING insufficient_resources_manager.py:163 -- Ignore this message if the cluster is autoscaling. No trial is running and no new trial has been started within the last 60 seconds. This could be due to the cluster not having enough resources available. You asked for 5.0 CPUs and 1.0 GPUs per trial, but the cluster only has 2.0 CPUs and 1.0 GPUs available. Stop the tuning and adjust the required resources (e.g. via the `ScalingConfig` or `resources_per_trial`, or `num_workers` for rllib), or add more resources to your cluster.\n"
          ]
        },
        {
          "metadata": {
            "tags": null
          },
          "name": "stdout",
          "output_type": "stream",
          "text": [
            "Trial status: 1 PENDING\n",
            "Current time: 2024-05-12 06:35:55. Total running time: 2hr 40min 21s\n",
            "Logical resource usage: 0/2 CPUs, 0/1 GPUs\n",
            "+-----------------------------------+\n",
            "| Trial name               status   |\n",
            "+-----------------------------------+\n",
            "| PPO_my_env_7b7f7_00000   PENDING  |\n",
            "+-----------------------------------+\n",
            "Trial status: 1 PENDING\n",
            "Current time: 2024-05-12 06:36:25. Total running time: 2hr 40min 51s\n",
            "Logical resource usage: 0/2 CPUs, 0/1 GPUs\n",
            "+-----------------------------------+\n",
            "| Trial name               status   |\n",
            "+-----------------------------------+\n",
            "| PPO_my_env_7b7f7_00000   PENDING  |\n",
            "+-----------------------------------+\n"
          ]
        },
        {
          "metadata": {
            "tags": null
          },
          "name": "stderr",
          "output_type": "stream",
          "text": [
            "2024-05-12 06:36:43,860\tWARNING insufficient_resources_manager.py:163 -- Ignore this message if the cluster is autoscaling. No trial is running and no new trial has been started within the last 60 seconds. This could be due to the cluster not having enough resources available. You asked for 5.0 CPUs and 1.0 GPUs per trial, but the cluster only has 2.0 CPUs and 1.0 GPUs available. Stop the tuning and adjust the required resources (e.g. via the `ScalingConfig` or `resources_per_trial`, or `num_workers` for rllib), or add more resources to your cluster.\n"
          ]
        },
        {
          "metadata": {
            "tags": null
          },
          "name": "stdout",
          "output_type": "stream",
          "text": [
            "Trial status: 1 PENDING\n",
            "Current time: 2024-05-12 06:36:55. Total running time: 2hr 41min 22s\n",
            "Logical resource usage: 0/2 CPUs, 0/1 GPUs\n",
            "+-----------------------------------+\n",
            "| Trial name               status   |\n",
            "+-----------------------------------+\n",
            "| PPO_my_env_7b7f7_00000   PENDING  |\n",
            "+-----------------------------------+\n",
            "Trial status: 1 PENDING\n",
            "Current time: 2024-05-12 06:37:25. Total running time: 2hr 41min 52s\n",
            "Logical resource usage: 0/2 CPUs, 0/1 GPUs\n",
            "+-----------------------------------+\n",
            "| Trial name               status   |\n",
            "+-----------------------------------+\n",
            "| PPO_my_env_7b7f7_00000   PENDING  |\n",
            "+-----------------------------------+\n"
          ]
        },
        {
          "metadata": {
            "tags": null
          },
          "name": "stderr",
          "output_type": "stream",
          "text": [
            "2024-05-12 06:37:43,922\tWARNING insufficient_resources_manager.py:163 -- Ignore this message if the cluster is autoscaling. No trial is running and no new trial has been started within the last 60 seconds. This could be due to the cluster not having enough resources available. You asked for 5.0 CPUs and 1.0 GPUs per trial, but the cluster only has 2.0 CPUs and 1.0 GPUs available. Stop the tuning and adjust the required resources (e.g. via the `ScalingConfig` or `resources_per_trial`, or `num_workers` for rllib), or add more resources to your cluster.\n"
          ]
        },
        {
          "metadata": {
            "tags": null
          },
          "name": "stdout",
          "output_type": "stream",
          "text": [
            "Trial status: 1 PENDING\n",
            "Current time: 2024-05-12 06:37:55. Total running time: 2hr 42min 22s\n",
            "Logical resource usage: 0/2 CPUs, 0/1 GPUs\n",
            "+-----------------------------------+\n",
            "| Trial name               status   |\n",
            "+-----------------------------------+\n",
            "| PPO_my_env_7b7f7_00000   PENDING  |\n",
            "+-----------------------------------+\n",
            "Trial status: 1 PENDING\n",
            "Current time: 2024-05-12 06:38:25. Total running time: 2hr 42min 52s\n",
            "Logical resource usage: 0/2 CPUs, 0/1 GPUs\n",
            "+-----------------------------------+\n",
            "| Trial name               status   |\n",
            "+-----------------------------------+\n",
            "| PPO_my_env_7b7f7_00000   PENDING  |\n",
            "+-----------------------------------+\n"
          ]
        },
        {
          "metadata": {
            "tags": null
          },
          "name": "stderr",
          "output_type": "stream",
          "text": [
            "2024-05-12 06:38:43,988\tWARNING insufficient_resources_manager.py:163 -- Ignore this message if the cluster is autoscaling. No trial is running and no new trial has been started within the last 60 seconds. This could be due to the cluster not having enough resources available. You asked for 5.0 CPUs and 1.0 GPUs per trial, but the cluster only has 2.0 CPUs and 1.0 GPUs available. Stop the tuning and adjust the required resources (e.g. via the `ScalingConfig` or `resources_per_trial`, or `num_workers` for rllib), or add more resources to your cluster.\n"
          ]
        },
        {
          "metadata": {
            "tags": null
          },
          "name": "stdout",
          "output_type": "stream",
          "text": [
            "Trial status: 1 PENDING\n",
            "Current time: 2024-05-12 06:38:55. Total running time: 2hr 43min 22s\n",
            "Logical resource usage: 0/2 CPUs, 0/1 GPUs\n",
            "+-----------------------------------+\n",
            "| Trial name               status   |\n",
            "+-----------------------------------+\n",
            "| PPO_my_env_7b7f7_00000   PENDING  |\n",
            "+-----------------------------------+\n",
            "Trial status: 1 PENDING\n",
            "Current time: 2024-05-12 06:39:25. Total running time: 2hr 43min 52s\n",
            "Logical resource usage: 0/2 CPUs, 0/1 GPUs\n",
            "+-----------------------------------+\n",
            "| Trial name               status   |\n",
            "+-----------------------------------+\n",
            "| PPO_my_env_7b7f7_00000   PENDING  |\n",
            "+-----------------------------------+\n"
          ]
        },
        {
          "metadata": {
            "tags": null
          },
          "name": "stderr",
          "output_type": "stream",
          "text": [
            "2024-05-12 06:39:44,054\tWARNING insufficient_resources_manager.py:163 -- Ignore this message if the cluster is autoscaling. No trial is running and no new trial has been started within the last 60 seconds. This could be due to the cluster not having enough resources available. You asked for 5.0 CPUs and 1.0 GPUs per trial, but the cluster only has 2.0 CPUs and 1.0 GPUs available. Stop the tuning and adjust the required resources (e.g. via the `ScalingConfig` or `resources_per_trial`, or `num_workers` for rllib), or add more resources to your cluster.\n"
          ]
        },
        {
          "metadata": {
            "tags": null
          },
          "name": "stdout",
          "output_type": "stream",
          "text": [
            "Trial status: 1 PENDING\n",
            "Current time: 2024-05-12 06:39:55. Total running time: 2hr 44min 22s\n",
            "Logical resource usage: 0/2 CPUs, 0/1 GPUs\n",
            "+-----------------------------------+\n",
            "| Trial name               status   |\n",
            "+-----------------------------------+\n",
            "| PPO_my_env_7b7f7_00000   PENDING  |\n",
            "+-----------------------------------+\n",
            "Trial status: 1 PENDING\n",
            "Current time: 2024-05-12 06:40:26. Total running time: 2hr 44min 52s\n",
            "Logical resource usage: 0/2 CPUs, 0/1 GPUs\n",
            "+-----------------------------------+\n",
            "| Trial name               status   |\n",
            "+-----------------------------------+\n",
            "| PPO_my_env_7b7f7_00000   PENDING  |\n",
            "+-----------------------------------+\n"
          ]
        },
        {
          "metadata": {
            "tags": null
          },
          "name": "stderr",
          "output_type": "stream",
          "text": [
            "2024-05-12 06:40:44,144\tWARNING insufficient_resources_manager.py:163 -- Ignore this message if the cluster is autoscaling. No trial is running and no new trial has been started within the last 60 seconds. This could be due to the cluster not having enough resources available. You asked for 5.0 CPUs and 1.0 GPUs per trial, but the cluster only has 2.0 CPUs and 1.0 GPUs available. Stop the tuning and adjust the required resources (e.g. via the `ScalingConfig` or `resources_per_trial`, or `num_workers` for rllib), or add more resources to your cluster.\n"
          ]
        },
        {
          "metadata": {
            "tags": null
          },
          "name": "stdout",
          "output_type": "stream",
          "text": [
            "Trial status: 1 PENDING\n",
            "Current time: 2024-05-12 06:40:56. Total running time: 2hr 45min 22s\n",
            "Logical resource usage: 0/2 CPUs, 0/1 GPUs\n",
            "+-----------------------------------+\n",
            "| Trial name               status   |\n",
            "+-----------------------------------+\n",
            "| PPO_my_env_7b7f7_00000   PENDING  |\n",
            "+-----------------------------------+\n",
            "Trial status: 1 PENDING\n",
            "Current time: 2024-05-12 06:41:26. Total running time: 2hr 45min 52s\n",
            "Logical resource usage: 0/2 CPUs, 0/1 GPUs\n",
            "+-----------------------------------+\n",
            "| Trial name               status   |\n",
            "+-----------------------------------+\n",
            "| PPO_my_env_7b7f7_00000   PENDING  |\n",
            "+-----------------------------------+\n"
          ]
        },
        {
          "metadata": {
            "tags": null
          },
          "name": "stderr",
          "output_type": "stream",
          "text": [
            "2024-05-12 06:41:44,229\tWARNING insufficient_resources_manager.py:163 -- Ignore this message if the cluster is autoscaling. No trial is running and no new trial has been started within the last 60 seconds. This could be due to the cluster not having enough resources available. You asked for 5.0 CPUs and 1.0 GPUs per trial, but the cluster only has 2.0 CPUs and 1.0 GPUs available. Stop the tuning and adjust the required resources (e.g. via the `ScalingConfig` or `resources_per_trial`, or `num_workers` for rllib), or add more resources to your cluster.\n"
          ]
        },
        {
          "metadata": {
            "tags": null
          },
          "name": "stdout",
          "output_type": "stream",
          "text": [
            "Trial status: 1 PENDING\n",
            "Current time: 2024-05-12 06:41:56. Total running time: 2hr 46min 22s\n",
            "Logical resource usage: 0/2 CPUs, 0/1 GPUs\n",
            "+-----------------------------------+\n",
            "| Trial name               status   |\n",
            "+-----------------------------------+\n",
            "| PPO_my_env_7b7f7_00000   PENDING  |\n",
            "+-----------------------------------+\n",
            "Trial status: 1 PENDING\n",
            "Current time: 2024-05-12 06:42:26. Total running time: 2hr 46min 52s\n",
            "Logical resource usage: 0/2 CPUs, 0/1 GPUs\n",
            "+-----------------------------------+\n",
            "| Trial name               status   |\n",
            "+-----------------------------------+\n",
            "| PPO_my_env_7b7f7_00000   PENDING  |\n",
            "+-----------------------------------+\n"
          ]
        },
        {
          "metadata": {
            "tags": null
          },
          "name": "stderr",
          "output_type": "stream",
          "text": [
            "2024-05-12 06:42:44,323\tWARNING insufficient_resources_manager.py:163 -- Ignore this message if the cluster is autoscaling. No trial is running and no new trial has been started within the last 60 seconds. This could be due to the cluster not having enough resources available. You asked for 5.0 CPUs and 1.0 GPUs per trial, but the cluster only has 2.0 CPUs and 1.0 GPUs available. Stop the tuning and adjust the required resources (e.g. via the `ScalingConfig` or `resources_per_trial`, or `num_workers` for rllib), or add more resources to your cluster.\n"
          ]
        },
        {
          "metadata": {
            "tags": null
          },
          "name": "stdout",
          "output_type": "stream",
          "text": [
            "Trial status: 1 PENDING\n",
            "Current time: 2024-05-12 06:42:56. Total running time: 2hr 47min 23s\n",
            "Logical resource usage: 0/2 CPUs, 0/1 GPUs\n",
            "+-----------------------------------+\n",
            "| Trial name               status   |\n",
            "+-----------------------------------+\n",
            "| PPO_my_env_7b7f7_00000   PENDING  |\n",
            "+-----------------------------------+\n",
            "Trial status: 1 PENDING\n",
            "Current time: 2024-05-12 06:43:26. Total running time: 2hr 47min 53s\n",
            "Logical resource usage: 0/2 CPUs, 0/1 GPUs\n",
            "+-----------------------------------+\n",
            "| Trial name               status   |\n",
            "+-----------------------------------+\n",
            "| PPO_my_env_7b7f7_00000   PENDING  |\n",
            "+-----------------------------------+\n"
          ]
        },
        {
          "metadata": {
            "tags": null
          },
          "name": "stderr",
          "output_type": "stream",
          "text": [
            "2024-05-12 06:43:44,405\tWARNING insufficient_resources_manager.py:163 -- Ignore this message if the cluster is autoscaling. No trial is running and no new trial has been started within the last 60 seconds. This could be due to the cluster not having enough resources available. You asked for 5.0 CPUs and 1.0 GPUs per trial, but the cluster only has 2.0 CPUs and 1.0 GPUs available. Stop the tuning and adjust the required resources (e.g. via the `ScalingConfig` or `resources_per_trial`, or `num_workers` for rllib), or add more resources to your cluster.\n"
          ]
        },
        {
          "metadata": {
            "tags": null
          },
          "name": "stdout",
          "output_type": "stream",
          "text": [
            "Trial status: 1 PENDING\n",
            "Current time: 2024-05-12 06:43:56. Total running time: 2hr 48min 23s\n",
            "Logical resource usage: 0/2 CPUs, 0/1 GPUs\n",
            "+-----------------------------------+\n",
            "| Trial name               status   |\n",
            "+-----------------------------------+\n",
            "| PPO_my_env_7b7f7_00000   PENDING  |\n",
            "+-----------------------------------+\n",
            "Trial status: 1 PENDING\n",
            "Current time: 2024-05-12 06:44:26. Total running time: 2hr 48min 53s\n",
            "Logical resource usage: 0/2 CPUs, 0/1 GPUs\n",
            "+-----------------------------------+\n",
            "| Trial name               status   |\n",
            "+-----------------------------------+\n",
            "| PPO_my_env_7b7f7_00000   PENDING  |\n",
            "+-----------------------------------+\n"
          ]
        },
        {
          "metadata": {
            "tags": null
          },
          "name": "stderr",
          "output_type": "stream",
          "text": [
            "2024-05-12 06:44:44,496\tWARNING insufficient_resources_manager.py:163 -- Ignore this message if the cluster is autoscaling. No trial is running and no new trial has been started within the last 60 seconds. This could be due to the cluster not having enough resources available. You asked for 5.0 CPUs and 1.0 GPUs per trial, but the cluster only has 2.0 CPUs and 1.0 GPUs available. Stop the tuning and adjust the required resources (e.g. via the `ScalingConfig` or `resources_per_trial`, or `num_workers` for rllib), or add more resources to your cluster.\n"
          ]
        },
        {
          "metadata": {
            "tags": null
          },
          "name": "stdout",
          "output_type": "stream",
          "text": [
            "Trial status: 1 PENDING\n",
            "Current time: 2024-05-12 06:44:56. Total running time: 2hr 49min 23s\n",
            "Logical resource usage: 0/2 CPUs, 0/1 GPUs\n",
            "+-----------------------------------+\n",
            "| Trial name               status   |\n",
            "+-----------------------------------+\n",
            "| PPO_my_env_7b7f7_00000   PENDING  |\n",
            "+-----------------------------------+\n",
            "Trial status: 1 PENDING\n",
            "Current time: 2024-05-12 06:45:26. Total running time: 2hr 49min 53s\n",
            "Logical resource usage: 0/2 CPUs, 0/1 GPUs\n",
            "+-----------------------------------+\n",
            "| Trial name               status   |\n",
            "+-----------------------------------+\n",
            "| PPO_my_env_7b7f7_00000   PENDING  |\n",
            "+-----------------------------------+\n"
          ]
        },
        {
          "metadata": {
            "tags": null
          },
          "name": "stderr",
          "output_type": "stream",
          "text": [
            "2024-05-12 06:45:44,563\tWARNING insufficient_resources_manager.py:163 -- Ignore this message if the cluster is autoscaling. No trial is running and no new trial has been started within the last 60 seconds. This could be due to the cluster not having enough resources available. You asked for 5.0 CPUs and 1.0 GPUs per trial, but the cluster only has 2.0 CPUs and 1.0 GPUs available. Stop the tuning and adjust the required resources (e.g. via the `ScalingConfig` or `resources_per_trial`, or `num_workers` for rllib), or add more resources to your cluster.\n"
          ]
        },
        {
          "metadata": {
            "tags": null
          },
          "name": "stdout",
          "output_type": "stream",
          "text": [
            "Trial status: 1 PENDING\n",
            "Current time: 2024-05-12 06:45:56. Total running time: 2hr 50min 23s\n",
            "Logical resource usage: 0/2 CPUs, 0/1 GPUs\n",
            "+-----------------------------------+\n",
            "| Trial name               status   |\n",
            "+-----------------------------------+\n",
            "| PPO_my_env_7b7f7_00000   PENDING  |\n",
            "+-----------------------------------+\n",
            "Trial status: 1 PENDING\n",
            "Current time: 2024-05-12 06:46:27. Total running time: 2hr 50min 53s\n",
            "Logical resource usage: 0/2 CPUs, 0/1 GPUs\n",
            "+-----------------------------------+\n",
            "| Trial name               status   |\n",
            "+-----------------------------------+\n",
            "| PPO_my_env_7b7f7_00000   PENDING  |\n",
            "+-----------------------------------+\n"
          ]
        },
        {
          "metadata": {
            "tags": null
          },
          "name": "stderr",
          "output_type": "stream",
          "text": [
            "2024-05-12 06:46:44,641\tWARNING insufficient_resources_manager.py:163 -- Ignore this message if the cluster is autoscaling. No trial is running and no new trial has been started within the last 60 seconds. This could be due to the cluster not having enough resources available. You asked for 5.0 CPUs and 1.0 GPUs per trial, but the cluster only has 2.0 CPUs and 1.0 GPUs available. Stop the tuning and adjust the required resources (e.g. via the `ScalingConfig` or `resources_per_trial`, or `num_workers` for rllib), or add more resources to your cluster.\n"
          ]
        },
        {
          "metadata": {
            "tags": null
          },
          "name": "stdout",
          "output_type": "stream",
          "text": [
            "Trial status: 1 PENDING\n",
            "Current time: 2024-05-12 06:46:57. Total running time: 2hr 51min 23s\n",
            "Logical resource usage: 0/2 CPUs, 0/1 GPUs\n",
            "+-----------------------------------+\n",
            "| Trial name               status   |\n",
            "+-----------------------------------+\n",
            "| PPO_my_env_7b7f7_00000   PENDING  |\n",
            "+-----------------------------------+\n",
            "Trial status: 1 PENDING\n",
            "Current time: 2024-05-12 06:47:27. Total running time: 2hr 51min 53s\n",
            "Logical resource usage: 0/2 CPUs, 0/1 GPUs\n",
            "+-----------------------------------+\n",
            "| Trial name               status   |\n",
            "+-----------------------------------+\n",
            "| PPO_my_env_7b7f7_00000   PENDING  |\n",
            "+-----------------------------------+\n"
          ]
        },
        {
          "metadata": {
            "tags": null
          },
          "name": "stderr",
          "output_type": "stream",
          "text": [
            "2024-05-12 06:47:44,709\tWARNING insufficient_resources_manager.py:163 -- Ignore this message if the cluster is autoscaling. No trial is running and no new trial has been started within the last 60 seconds. This could be due to the cluster not having enough resources available. You asked for 5.0 CPUs and 1.0 GPUs per trial, but the cluster only has 2.0 CPUs and 1.0 GPUs available. Stop the tuning and adjust the required resources (e.g. via the `ScalingConfig` or `resources_per_trial`, or `num_workers` for rllib), or add more resources to your cluster.\n"
          ]
        },
        {
          "metadata": {
            "tags": null
          },
          "name": "stdout",
          "output_type": "stream",
          "text": [
            "Trial status: 1 PENDING\n",
            "Current time: 2024-05-12 06:47:57. Total running time: 2hr 52min 23s\n",
            "Logical resource usage: 0/2 CPUs, 0/1 GPUs\n",
            "+-----------------------------------+\n",
            "| Trial name               status   |\n",
            "+-----------------------------------+\n",
            "| PPO_my_env_7b7f7_00000   PENDING  |\n",
            "+-----------------------------------+\n",
            "Trial status: 1 PENDING\n",
            "Current time: 2024-05-12 06:48:27. Total running time: 2hr 52min 53s\n",
            "Logical resource usage: 0/2 CPUs, 0/1 GPUs\n",
            "+-----------------------------------+\n",
            "| Trial name               status   |\n",
            "+-----------------------------------+\n",
            "| PPO_my_env_7b7f7_00000   PENDING  |\n",
            "+-----------------------------------+\n"
          ]
        },
        {
          "metadata": {
            "tags": null
          },
          "name": "stderr",
          "output_type": "stream",
          "text": [
            "2024-05-12 06:48:44,783\tWARNING insufficient_resources_manager.py:163 -- Ignore this message if the cluster is autoscaling. No trial is running and no new trial has been started within the last 60 seconds. This could be due to the cluster not having enough resources available. You asked for 5.0 CPUs and 1.0 GPUs per trial, but the cluster only has 2.0 CPUs and 1.0 GPUs available. Stop the tuning and adjust the required resources (e.g. via the `ScalingConfig` or `resources_per_trial`, or `num_workers` for rllib), or add more resources to your cluster.\n"
          ]
        },
        {
          "metadata": {
            "tags": null
          },
          "name": "stdout",
          "output_type": "stream",
          "text": [
            "Trial status: 1 PENDING\n",
            "Current time: 2024-05-12 06:48:57. Total running time: 2hr 53min 24s\n",
            "Logical resource usage: 0/2 CPUs, 0/1 GPUs\n",
            "+-----------------------------------+\n",
            "| Trial name               status   |\n",
            "+-----------------------------------+\n",
            "| PPO_my_env_7b7f7_00000   PENDING  |\n",
            "+-----------------------------------+\n",
            "Trial status: 1 PENDING\n",
            "Current time: 2024-05-12 06:49:27. Total running time: 2hr 53min 54s\n",
            "Logical resource usage: 0/2 CPUs, 0/1 GPUs\n",
            "+-----------------------------------+\n",
            "| Trial name               status   |\n",
            "+-----------------------------------+\n",
            "| PPO_my_env_7b7f7_00000   PENDING  |\n",
            "+-----------------------------------+\n"
          ]
        },
        {
          "metadata": {
            "tags": null
          },
          "name": "stderr",
          "output_type": "stream",
          "text": [
            "2024-05-12 06:49:44,839\tWARNING insufficient_resources_manager.py:163 -- Ignore this message if the cluster is autoscaling. No trial is running and no new trial has been started within the last 60 seconds. This could be due to the cluster not having enough resources available. You asked for 5.0 CPUs and 1.0 GPUs per trial, but the cluster only has 2.0 CPUs and 1.0 GPUs available. Stop the tuning and adjust the required resources (e.g. via the `ScalingConfig` or `resources_per_trial`, or `num_workers` for rllib), or add more resources to your cluster.\n"
          ]
        },
        {
          "metadata": {
            "tags": null
          },
          "name": "stdout",
          "output_type": "stream",
          "text": [
            "Trial status: 1 PENDING\n",
            "Current time: 2024-05-12 06:49:57. Total running time: 2hr 54min 24s\n",
            "Logical resource usage: 0/2 CPUs, 0/1 GPUs\n",
            "+-----------------------------------+\n",
            "| Trial name               status   |\n",
            "+-----------------------------------+\n",
            "| PPO_my_env_7b7f7_00000   PENDING  |\n",
            "+-----------------------------------+\n",
            "Trial status: 1 PENDING\n",
            "Current time: 2024-05-12 06:50:27. Total running time: 2hr 54min 54s\n",
            "Logical resource usage: 0/2 CPUs, 0/1 GPUs\n",
            "+-----------------------------------+\n",
            "| Trial name               status   |\n",
            "+-----------------------------------+\n",
            "| PPO_my_env_7b7f7_00000   PENDING  |\n",
            "+-----------------------------------+\n"
          ]
        },
        {
          "metadata": {
            "tags": null
          },
          "name": "stderr",
          "output_type": "stream",
          "text": [
            "2024-05-12 06:50:44,912\tWARNING insufficient_resources_manager.py:163 -- Ignore this message if the cluster is autoscaling. No trial is running and no new trial has been started within the last 60 seconds. This could be due to the cluster not having enough resources available. You asked for 5.0 CPUs and 1.0 GPUs per trial, but the cluster only has 2.0 CPUs and 1.0 GPUs available. Stop the tuning and adjust the required resources (e.g. via the `ScalingConfig` or `resources_per_trial`, or `num_workers` for rllib), or add more resources to your cluster.\n"
          ]
        },
        {
          "metadata": {
            "tags": null
          },
          "name": "stdout",
          "output_type": "stream",
          "text": [
            "Trial status: 1 PENDING\n",
            "Current time: 2024-05-12 06:50:57. Total running time: 2hr 55min 24s\n",
            "Logical resource usage: 0/2 CPUs, 0/1 GPUs\n",
            "+-----------------------------------+\n",
            "| Trial name               status   |\n",
            "+-----------------------------------+\n",
            "| PPO_my_env_7b7f7_00000   PENDING  |\n",
            "+-----------------------------------+\n",
            "Trial status: 1 PENDING\n",
            "Current time: 2024-05-12 06:51:27. Total running time: 2hr 55min 54s\n",
            "Logical resource usage: 0/2 CPUs, 0/1 GPUs\n",
            "+-----------------------------------+\n",
            "| Trial name               status   |\n",
            "+-----------------------------------+\n",
            "| PPO_my_env_7b7f7_00000   PENDING  |\n",
            "+-----------------------------------+\n"
          ]
        },
        {
          "metadata": {
            "tags": null
          },
          "name": "stderr",
          "output_type": "stream",
          "text": [
            "2024-05-12 06:51:44,981\tWARNING insufficient_resources_manager.py:163 -- Ignore this message if the cluster is autoscaling. No trial is running and no new trial has been started within the last 60 seconds. This could be due to the cluster not having enough resources available. You asked for 5.0 CPUs and 1.0 GPUs per trial, but the cluster only has 2.0 CPUs and 1.0 GPUs available. Stop the tuning and adjust the required resources (e.g. via the `ScalingConfig` or `resources_per_trial`, or `num_workers` for rllib), or add more resources to your cluster.\n"
          ]
        },
        {
          "metadata": {
            "tags": null
          },
          "name": "stdout",
          "output_type": "stream",
          "text": [
            "Trial status: 1 PENDING\n",
            "Current time: 2024-05-12 06:51:58. Total running time: 2hr 56min 24s\n",
            "Logical resource usage: 0/2 CPUs, 0/1 GPUs\n",
            "+-----------------------------------+\n",
            "| Trial name               status   |\n",
            "+-----------------------------------+\n",
            "| PPO_my_env_7b7f7_00000   PENDING  |\n",
            "+-----------------------------------+\n",
            "Trial status: 1 PENDING\n",
            "Current time: 2024-05-12 06:52:28. Total running time: 2hr 56min 54s\n",
            "Logical resource usage: 0/2 CPUs, 0/1 GPUs\n",
            "+-----------------------------------+\n",
            "| Trial name               status   |\n",
            "+-----------------------------------+\n",
            "| PPO_my_env_7b7f7_00000   PENDING  |\n",
            "+-----------------------------------+\n"
          ]
        },
        {
          "metadata": {
            "tags": null
          },
          "name": "stderr",
          "output_type": "stream",
          "text": [
            "2024-05-12 06:52:45,044\tWARNING insufficient_resources_manager.py:163 -- Ignore this message if the cluster is autoscaling. No trial is running and no new trial has been started within the last 60 seconds. This could be due to the cluster not having enough resources available. You asked for 5.0 CPUs and 1.0 GPUs per trial, but the cluster only has 2.0 CPUs and 1.0 GPUs available. Stop the tuning and adjust the required resources (e.g. via the `ScalingConfig` or `resources_per_trial`, or `num_workers` for rllib), or add more resources to your cluster.\n"
          ]
        },
        {
          "metadata": {
            "tags": null
          },
          "name": "stdout",
          "output_type": "stream",
          "text": [
            "Trial status: 1 PENDING\n",
            "Current time: 2024-05-12 06:52:58. Total running time: 2hr 57min 24s\n",
            "Logical resource usage: 0/2 CPUs, 0/1 GPUs\n",
            "+-----------------------------------+\n",
            "| Trial name               status   |\n",
            "+-----------------------------------+\n",
            "| PPO_my_env_7b7f7_00000   PENDING  |\n",
            "+-----------------------------------+\n",
            "Trial status: 1 PENDING\n",
            "Current time: 2024-05-12 06:53:28. Total running time: 2hr 57min 54s\n",
            "Logical resource usage: 0/2 CPUs, 0/1 GPUs\n",
            "+-----------------------------------+\n",
            "| Trial name               status   |\n",
            "+-----------------------------------+\n",
            "| PPO_my_env_7b7f7_00000   PENDING  |\n",
            "+-----------------------------------+\n"
          ]
        },
        {
          "metadata": {
            "tags": null
          },
          "name": "stderr",
          "output_type": "stream",
          "text": [
            "2024-05-12 06:53:45,097\tWARNING insufficient_resources_manager.py:163 -- Ignore this message if the cluster is autoscaling. No trial is running and no new trial has been started within the last 60 seconds. This could be due to the cluster not having enough resources available. You asked for 5.0 CPUs and 1.0 GPUs per trial, but the cluster only has 2.0 CPUs and 1.0 GPUs available. Stop the tuning and adjust the required resources (e.g. via the `ScalingConfig` or `resources_per_trial`, or `num_workers` for rllib), or add more resources to your cluster.\n"
          ]
        },
        {
          "metadata": {
            "tags": null
          },
          "name": "stdout",
          "output_type": "stream",
          "text": [
            "Trial status: 1 PENDING\n",
            "Current time: 2024-05-12 06:53:58. Total running time: 2hr 58min 24s\n",
            "Logical resource usage: 0/2 CPUs, 0/1 GPUs\n",
            "+-----------------------------------+\n",
            "| Trial name               status   |\n",
            "+-----------------------------------+\n",
            "| PPO_my_env_7b7f7_00000   PENDING  |\n",
            "+-----------------------------------+\n",
            "Trial status: 1 PENDING\n",
            "Current time: 2024-05-12 06:54:28. Total running time: 2hr 58min 54s\n",
            "Logical resource usage: 0/2 CPUs, 0/1 GPUs\n",
            "+-----------------------------------+\n",
            "| Trial name               status   |\n",
            "+-----------------------------------+\n",
            "| PPO_my_env_7b7f7_00000   PENDING  |\n",
            "+-----------------------------------+\n"
          ]
        },
        {
          "metadata": {
            "tags": null
          },
          "name": "stderr",
          "output_type": "stream",
          "text": [
            "2024-05-12 06:54:45,151\tWARNING insufficient_resources_manager.py:163 -- Ignore this message if the cluster is autoscaling. No trial is running and no new trial has been started within the last 60 seconds. This could be due to the cluster not having enough resources available. You asked for 5.0 CPUs and 1.0 GPUs per trial, but the cluster only has 2.0 CPUs and 1.0 GPUs available. Stop the tuning and adjust the required resources (e.g. via the `ScalingConfig` or `resources_per_trial`, or `num_workers` for rllib), or add more resources to your cluster.\n"
          ]
        },
        {
          "metadata": {
            "tags": null
          },
          "name": "stdout",
          "output_type": "stream",
          "text": [
            "Trial status: 1 PENDING\n",
            "Current time: 2024-05-12 06:54:58. Total running time: 2hr 59min 25s\n",
            "Logical resource usage: 0/2 CPUs, 0/1 GPUs\n",
            "+-----------------------------------+\n",
            "| Trial name               status   |\n",
            "+-----------------------------------+\n",
            "| PPO_my_env_7b7f7_00000   PENDING  |\n",
            "+-----------------------------------+\n",
            "Trial status: 1 PENDING\n",
            "Current time: 2024-05-12 06:55:28. Total running time: 2hr 59min 55s\n",
            "Logical resource usage: 0/2 CPUs, 0/1 GPUs\n",
            "+-----------------------------------+\n",
            "| Trial name               status   |\n",
            "+-----------------------------------+\n",
            "| PPO_my_env_7b7f7_00000   PENDING  |\n",
            "+-----------------------------------+\n"
          ]
        },
        {
          "metadata": {
            "tags": null
          },
          "name": "stderr",
          "output_type": "stream",
          "text": [
            "2024-05-12 06:55:45,225\tWARNING insufficient_resources_manager.py:163 -- Ignore this message if the cluster is autoscaling. No trial is running and no new trial has been started within the last 60 seconds. This could be due to the cluster not having enough resources available. You asked for 5.0 CPUs and 1.0 GPUs per trial, but the cluster only has 2.0 CPUs and 1.0 GPUs available. Stop the tuning and adjust the required resources (e.g. via the `ScalingConfig` or `resources_per_trial`, or `num_workers` for rllib), or add more resources to your cluster.\n"
          ]
        },
        {
          "metadata": {
            "tags": null
          },
          "name": "stdout",
          "output_type": "stream",
          "text": [
            "Trial status: 1 PENDING\n",
            "Current time: 2024-05-12 06:55:58. Total running time: 3hr 0min 25s\n",
            "Logical resource usage: 0/2 CPUs, 0/1 GPUs\n",
            "+-----------------------------------+\n",
            "| Trial name               status   |\n",
            "+-----------------------------------+\n",
            "| PPO_my_env_7b7f7_00000   PENDING  |\n",
            "+-----------------------------------+\n",
            "Trial status: 1 PENDING\n",
            "Current time: 2024-05-12 06:56:28. Total running time: 3hr 0min 55s\n",
            "Logical resource usage: 0/2 CPUs, 0/1 GPUs\n",
            "+-----------------------------------+\n",
            "| Trial name               status   |\n",
            "+-----------------------------------+\n",
            "| PPO_my_env_7b7f7_00000   PENDING  |\n",
            "+-----------------------------------+\n"
          ]
        },
        {
          "metadata": {
            "tags": null
          },
          "name": "stderr",
          "output_type": "stream",
          "text": [
            "2024-05-12 06:56:45,292\tWARNING insufficient_resources_manager.py:163 -- Ignore this message if the cluster is autoscaling. No trial is running and no new trial has been started within the last 60 seconds. This could be due to the cluster not having enough resources available. You asked for 5.0 CPUs and 1.0 GPUs per trial, but the cluster only has 2.0 CPUs and 1.0 GPUs available. Stop the tuning and adjust the required resources (e.g. via the `ScalingConfig` or `resources_per_trial`, or `num_workers` for rllib), or add more resources to your cluster.\n"
          ]
        },
        {
          "metadata": {
            "tags": null
          },
          "name": "stdout",
          "output_type": "stream",
          "text": [
            "Trial status: 1 PENDING\n",
            "Current time: 2024-05-12 06:56:58. Total running time: 3hr 1min 25s\n",
            "Logical resource usage: 0/2 CPUs, 0/1 GPUs\n",
            "+-----------------------------------+\n",
            "| Trial name               status   |\n",
            "+-----------------------------------+\n",
            "| PPO_my_env_7b7f7_00000   PENDING  |\n",
            "+-----------------------------------+\n",
            "Trial status: 1 PENDING\n",
            "Current time: 2024-05-12 06:57:28. Total running time: 3hr 1min 55s\n",
            "Logical resource usage: 0/2 CPUs, 0/1 GPUs\n",
            "+-----------------------------------+\n",
            "| Trial name               status   |\n",
            "+-----------------------------------+\n",
            "| PPO_my_env_7b7f7_00000   PENDING  |\n",
            "+-----------------------------------+\n"
          ]
        },
        {
          "metadata": {
            "tags": null
          },
          "name": "stderr",
          "output_type": "stream",
          "text": [
            "2024-05-12 06:57:45,356\tWARNING insufficient_resources_manager.py:163 -- Ignore this message if the cluster is autoscaling. No trial is running and no new trial has been started within the last 60 seconds. This could be due to the cluster not having enough resources available. You asked for 5.0 CPUs and 1.0 GPUs per trial, but the cluster only has 2.0 CPUs and 1.0 GPUs available. Stop the tuning and adjust the required resources (e.g. via the `ScalingConfig` or `resources_per_trial`, or `num_workers` for rllib), or add more resources to your cluster.\n"
          ]
        },
        {
          "metadata": {
            "tags": null
          },
          "name": "stdout",
          "output_type": "stream",
          "text": [
            "Trial status: 1 PENDING\n",
            "Current time: 2024-05-12 06:57:58. Total running time: 3hr 2min 25s\n",
            "Logical resource usage: 0/2 CPUs, 0/1 GPUs\n",
            "+-----------------------------------+\n",
            "| Trial name               status   |\n",
            "+-----------------------------------+\n",
            "| PPO_my_env_7b7f7_00000   PENDING  |\n",
            "+-----------------------------------+\n",
            "Trial status: 1 PENDING\n",
            "Current time: 2024-05-12 06:58:29. Total running time: 3hr 2min 55s\n",
            "Logical resource usage: 0/2 CPUs, 0/1 GPUs\n",
            "+-----------------------------------+\n",
            "| Trial name               status   |\n",
            "+-----------------------------------+\n",
            "| PPO_my_env_7b7f7_00000   PENDING  |\n",
            "+-----------------------------------+\n"
          ]
        },
        {
          "metadata": {
            "tags": null
          },
          "name": "stderr",
          "output_type": "stream",
          "text": [
            "2024-05-12 06:58:45,415\tWARNING insufficient_resources_manager.py:163 -- Ignore this message if the cluster is autoscaling. No trial is running and no new trial has been started within the last 60 seconds. This could be due to the cluster not having enough resources available. You asked for 5.0 CPUs and 1.0 GPUs per trial, but the cluster only has 2.0 CPUs and 1.0 GPUs available. Stop the tuning and adjust the required resources (e.g. via the `ScalingConfig` or `resources_per_trial`, or `num_workers` for rllib), or add more resources to your cluster.\n"
          ]
        },
        {
          "metadata": {
            "tags": null
          },
          "name": "stdout",
          "output_type": "stream",
          "text": [
            "Trial status: 1 PENDING\n",
            "Current time: 2024-05-12 06:58:59. Total running time: 3hr 3min 25s\n",
            "Logical resource usage: 0/2 CPUs, 0/1 GPUs\n",
            "+-----------------------------------+\n",
            "| Trial name               status   |\n",
            "+-----------------------------------+\n",
            "| PPO_my_env_7b7f7_00000   PENDING  |\n",
            "+-----------------------------------+\n",
            "Trial status: 1 PENDING\n",
            "Current time: 2024-05-12 06:59:29. Total running time: 3hr 3min 55s\n",
            "Logical resource usage: 0/2 CPUs, 0/1 GPUs\n",
            "+-----------------------------------+\n",
            "| Trial name               status   |\n",
            "+-----------------------------------+\n",
            "| PPO_my_env_7b7f7_00000   PENDING  |\n",
            "+-----------------------------------+\n"
          ]
        },
        {
          "metadata": {
            "tags": null
          },
          "name": "stderr",
          "output_type": "stream",
          "text": [
            "2024-05-12 06:59:45,477\tWARNING insufficient_resources_manager.py:163 -- Ignore this message if the cluster is autoscaling. No trial is running and no new trial has been started within the last 60 seconds. This could be due to the cluster not having enough resources available. You asked for 5.0 CPUs and 1.0 GPUs per trial, but the cluster only has 2.0 CPUs and 1.0 GPUs available. Stop the tuning and adjust the required resources (e.g. via the `ScalingConfig` or `resources_per_trial`, or `num_workers` for rllib), or add more resources to your cluster.\n"
          ]
        },
        {
          "metadata": {
            "tags": null
          },
          "name": "stdout",
          "output_type": "stream",
          "text": [
            "Trial status: 1 PENDING\n",
            "Current time: 2024-05-12 06:59:59. Total running time: 3hr 4min 25s\n",
            "Logical resource usage: 0/2 CPUs, 0/1 GPUs\n",
            "+-----------------------------------+\n",
            "| Trial name               status   |\n",
            "+-----------------------------------+\n",
            "| PPO_my_env_7b7f7_00000   PENDING  |\n",
            "+-----------------------------------+\n",
            "Trial status: 1 PENDING\n",
            "Current time: 2024-05-12 07:00:29. Total running time: 3hr 4min 55s\n",
            "Logical resource usage: 0/2 CPUs, 0/1 GPUs\n",
            "+-----------------------------------+\n",
            "| Trial name               status   |\n",
            "+-----------------------------------+\n",
            "| PPO_my_env_7b7f7_00000   PENDING  |\n",
            "+-----------------------------------+\n"
          ]
        },
        {
          "metadata": {
            "tags": null
          },
          "name": "stderr",
          "output_type": "stream",
          "text": [
            "2024-05-12 07:00:45,526\tWARNING insufficient_resources_manager.py:163 -- Ignore this message if the cluster is autoscaling. No trial is running and no new trial has been started within the last 60 seconds. This could be due to the cluster not having enough resources available. You asked for 5.0 CPUs and 1.0 GPUs per trial, but the cluster only has 2.0 CPUs and 1.0 GPUs available. Stop the tuning and adjust the required resources (e.g. via the `ScalingConfig` or `resources_per_trial`, or `num_workers` for rllib), or add more resources to your cluster.\n"
          ]
        },
        {
          "metadata": {
            "tags": null
          },
          "name": "stdout",
          "output_type": "stream",
          "text": [
            "Trial status: 1 PENDING\n",
            "Current time: 2024-05-12 07:00:59. Total running time: 3hr 5min 26s\n",
            "Logical resource usage: 0/2 CPUs, 0/1 GPUs\n",
            "+-----------------------------------+\n",
            "| Trial name               status   |\n",
            "+-----------------------------------+\n",
            "| PPO_my_env_7b7f7_00000   PENDING  |\n",
            "+-----------------------------------+\n",
            "Trial status: 1 PENDING\n",
            "Current time: 2024-05-12 07:01:29. Total running time: 3hr 5min 56s\n",
            "Logical resource usage: 0/2 CPUs, 0/1 GPUs\n",
            "+-----------------------------------+\n",
            "| Trial name               status   |\n",
            "+-----------------------------------+\n",
            "| PPO_my_env_7b7f7_00000   PENDING  |\n",
            "+-----------------------------------+\n"
          ]
        },
        {
          "metadata": {
            "tags": null
          },
          "name": "stderr",
          "output_type": "stream",
          "text": [
            "2024-05-12 07:01:45,594\tWARNING insufficient_resources_manager.py:163 -- Ignore this message if the cluster is autoscaling. No trial is running and no new trial has been started within the last 60 seconds. This could be due to the cluster not having enough resources available. You asked for 5.0 CPUs and 1.0 GPUs per trial, but the cluster only has 2.0 CPUs and 1.0 GPUs available. Stop the tuning and adjust the required resources (e.g. via the `ScalingConfig` or `resources_per_trial`, or `num_workers` for rllib), or add more resources to your cluster.\n"
          ]
        },
        {
          "metadata": {
            "tags": null
          },
          "name": "stdout",
          "output_type": "stream",
          "text": [
            "Trial status: 1 PENDING\n",
            "Current time: 2024-05-12 07:01:59. Total running time: 3hr 6min 26s\n",
            "Logical resource usage: 0/2 CPUs, 0/1 GPUs\n",
            "+-----------------------------------+\n",
            "| Trial name               status   |\n",
            "+-----------------------------------+\n",
            "| PPO_my_env_7b7f7_00000   PENDING  |\n",
            "+-----------------------------------+\n",
            "Trial status: 1 PENDING\n",
            "Current time: 2024-05-12 07:02:29. Total running time: 3hr 6min 56s\n",
            "Logical resource usage: 0/2 CPUs, 0/1 GPUs\n",
            "+-----------------------------------+\n",
            "| Trial name               status   |\n",
            "+-----------------------------------+\n",
            "| PPO_my_env_7b7f7_00000   PENDING  |\n",
            "+-----------------------------------+\n"
          ]
        },
        {
          "metadata": {
            "tags": null
          },
          "name": "stderr",
          "output_type": "stream",
          "text": [
            "2024-05-12 07:02:45,655\tWARNING insufficient_resources_manager.py:163 -- Ignore this message if the cluster is autoscaling. No trial is running and no new trial has been started within the last 60 seconds. This could be due to the cluster not having enough resources available. You asked for 5.0 CPUs and 1.0 GPUs per trial, but the cluster only has 2.0 CPUs and 1.0 GPUs available. Stop the tuning and adjust the required resources (e.g. via the `ScalingConfig` or `resources_per_trial`, or `num_workers` for rllib), or add more resources to your cluster.\n"
          ]
        },
        {
          "metadata": {
            "tags": null
          },
          "name": "stdout",
          "output_type": "stream",
          "text": [
            "Trial status: 1 PENDING\n",
            "Current time: 2024-05-12 07:02:59. Total running time: 3hr 7min 26s\n",
            "Logical resource usage: 0/2 CPUs, 0/1 GPUs\n",
            "+-----------------------------------+\n",
            "| Trial name               status   |\n",
            "+-----------------------------------+\n",
            "| PPO_my_env_7b7f7_00000   PENDING  |\n",
            "+-----------------------------------+\n",
            "Trial status: 1 PENDING\n",
            "Current time: 2024-05-12 07:03:29. Total running time: 3hr 7min 56s\n",
            "Logical resource usage: 0/2 CPUs, 0/1 GPUs\n",
            "+-----------------------------------+\n",
            "| Trial name               status   |\n",
            "+-----------------------------------+\n",
            "| PPO_my_env_7b7f7_00000   PENDING  |\n",
            "+-----------------------------------+\n"
          ]
        },
        {
          "metadata": {
            "tags": null
          },
          "name": "stderr",
          "output_type": "stream",
          "text": [
            "2024-05-12 07:03:45,706\tWARNING insufficient_resources_manager.py:163 -- Ignore this message if the cluster is autoscaling. No trial is running and no new trial has been started within the last 60 seconds. This could be due to the cluster not having enough resources available. You asked for 5.0 CPUs and 1.0 GPUs per trial, but the cluster only has 2.0 CPUs and 1.0 GPUs available. Stop the tuning and adjust the required resources (e.g. via the `ScalingConfig` or `resources_per_trial`, or `num_workers` for rllib), or add more resources to your cluster.\n"
          ]
        },
        {
          "metadata": {
            "tags": null
          },
          "name": "stdout",
          "output_type": "stream",
          "text": [
            "Trial status: 1 PENDING\n",
            "Current time: 2024-05-12 07:03:59. Total running time: 3hr 8min 26s\n",
            "Logical resource usage: 0/2 CPUs, 0/1 GPUs\n",
            "+-----------------------------------+\n",
            "| Trial name               status   |\n",
            "+-----------------------------------+\n",
            "| PPO_my_env_7b7f7_00000   PENDING  |\n",
            "+-----------------------------------+\n",
            "Trial status: 1 PENDING\n",
            "Current time: 2024-05-12 07:04:30. Total running time: 3hr 8min 56s\n",
            "Logical resource usage: 0/2 CPUs, 0/1 GPUs\n",
            "+-----------------------------------+\n",
            "| Trial name               status   |\n",
            "+-----------------------------------+\n",
            "| PPO_my_env_7b7f7_00000   PENDING  |\n",
            "+-----------------------------------+\n"
          ]
        },
        {
          "metadata": {
            "tags": null
          },
          "name": "stderr",
          "output_type": "stream",
          "text": [
            "2024-05-12 07:04:45,766\tWARNING insufficient_resources_manager.py:163 -- Ignore this message if the cluster is autoscaling. No trial is running and no new trial has been started within the last 60 seconds. This could be due to the cluster not having enough resources available. You asked for 5.0 CPUs and 1.0 GPUs per trial, but the cluster only has 2.0 CPUs and 1.0 GPUs available. Stop the tuning and adjust the required resources (e.g. via the `ScalingConfig` or `resources_per_trial`, or `num_workers` for rllib), or add more resources to your cluster.\n"
          ]
        },
        {
          "metadata": {
            "tags": null
          },
          "name": "stdout",
          "output_type": "stream",
          "text": [
            "Trial status: 1 PENDING\n",
            "Current time: 2024-05-12 07:05:00. Total running time: 3hr 9min 26s\n",
            "Logical resource usage: 0/2 CPUs, 0/1 GPUs\n",
            "+-----------------------------------+\n",
            "| Trial name               status   |\n",
            "+-----------------------------------+\n",
            "| PPO_my_env_7b7f7_00000   PENDING  |\n",
            "+-----------------------------------+\n",
            "Trial status: 1 PENDING\n",
            "Current time: 2024-05-12 07:05:30. Total running time: 3hr 9min 56s\n",
            "Logical resource usage: 0/2 CPUs, 0/1 GPUs\n",
            "+-----------------------------------+\n",
            "| Trial name               status   |\n",
            "+-----------------------------------+\n",
            "| PPO_my_env_7b7f7_00000   PENDING  |\n",
            "+-----------------------------------+\n"
          ]
        },
        {
          "metadata": {
            "tags": null
          },
          "name": "stderr",
          "output_type": "stream",
          "text": [
            "2024-05-12 07:05:45,853\tWARNING insufficient_resources_manager.py:163 -- Ignore this message if the cluster is autoscaling. No trial is running and no new trial has been started within the last 60 seconds. This could be due to the cluster not having enough resources available. You asked for 5.0 CPUs and 1.0 GPUs per trial, but the cluster only has 2.0 CPUs and 1.0 GPUs available. Stop the tuning and adjust the required resources (e.g. via the `ScalingConfig` or `resources_per_trial`, or `num_workers` for rllib), or add more resources to your cluster.\n"
          ]
        },
        {
          "metadata": {
            "tags": null
          },
          "name": "stdout",
          "output_type": "stream",
          "text": [
            "Trial status: 1 PENDING\n",
            "Current time: 2024-05-12 07:06:00. Total running time: 3hr 10min 26s\n",
            "Logical resource usage: 0/2 CPUs, 0/1 GPUs\n",
            "+-----------------------------------+\n",
            "| Trial name               status   |\n",
            "+-----------------------------------+\n",
            "| PPO_my_env_7b7f7_00000   PENDING  |\n",
            "+-----------------------------------+\n",
            "Trial status: 1 PENDING\n",
            "Current time: 2024-05-12 07:06:30. Total running time: 3hr 10min 56s\n",
            "Logical resource usage: 0/2 CPUs, 0/1 GPUs\n",
            "+-----------------------------------+\n",
            "| Trial name               status   |\n",
            "+-----------------------------------+\n",
            "| PPO_my_env_7b7f7_00000   PENDING  |\n",
            "+-----------------------------------+\n"
          ]
        },
        {
          "metadata": {
            "tags": null
          },
          "name": "stderr",
          "output_type": "stream",
          "text": [
            "2024-05-12 07:06:45,898\tWARNING insufficient_resources_manager.py:163 -- Ignore this message if the cluster is autoscaling. No trial is running and no new trial has been started within the last 60 seconds. This could be due to the cluster not having enough resources available. You asked for 5.0 CPUs and 1.0 GPUs per trial, but the cluster only has 2.0 CPUs and 1.0 GPUs available. Stop the tuning and adjust the required resources (e.g. via the `ScalingConfig` or `resources_per_trial`, or `num_workers` for rllib), or add more resources to your cluster.\n"
          ]
        },
        {
          "metadata": {
            "tags": null
          },
          "name": "stdout",
          "output_type": "stream",
          "text": [
            "Trial status: 1 PENDING\n",
            "Current time: 2024-05-12 07:07:00. Total running time: 3hr 11min 27s\n",
            "Logical resource usage: 0/2 CPUs, 0/1 GPUs\n",
            "+-----------------------------------+\n",
            "| Trial name               status   |\n",
            "+-----------------------------------+\n",
            "| PPO_my_env_7b7f7_00000   PENDING  |\n",
            "+-----------------------------------+\n",
            "Trial status: 1 PENDING\n",
            "Current time: 2024-05-12 07:07:30. Total running time: 3hr 11min 57s\n",
            "Logical resource usage: 0/2 CPUs, 0/1 GPUs\n",
            "+-----------------------------------+\n",
            "| Trial name               status   |\n",
            "+-----------------------------------+\n",
            "| PPO_my_env_7b7f7_00000   PENDING  |\n",
            "+-----------------------------------+\n"
          ]
        },
        {
          "metadata": {
            "tags": null
          },
          "name": "stderr",
          "output_type": "stream",
          "text": [
            "2024-05-12 07:07:45,951\tWARNING insufficient_resources_manager.py:163 -- Ignore this message if the cluster is autoscaling. No trial is running and no new trial has been started within the last 60 seconds. This could be due to the cluster not having enough resources available. You asked for 5.0 CPUs and 1.0 GPUs per trial, but the cluster only has 2.0 CPUs and 1.0 GPUs available. Stop the tuning and adjust the required resources (e.g. via the `ScalingConfig` or `resources_per_trial`, or `num_workers` for rllib), or add more resources to your cluster.\n"
          ]
        },
        {
          "metadata": {
            "tags": null
          },
          "name": "stdout",
          "output_type": "stream",
          "text": [
            "Trial status: 1 PENDING\n",
            "Current time: 2024-05-12 07:08:00. Total running time: 3hr 12min 27s\n",
            "Logical resource usage: 0/2 CPUs, 0/1 GPUs\n",
            "+-----------------------------------+\n",
            "| Trial name               status   |\n",
            "+-----------------------------------+\n",
            "| PPO_my_env_7b7f7_00000   PENDING  |\n",
            "+-----------------------------------+\n",
            "Trial status: 1 PENDING\n",
            "Current time: 2024-05-12 07:08:30. Total running time: 3hr 12min 57s\n",
            "Logical resource usage: 0/2 CPUs, 0/1 GPUs\n",
            "+-----------------------------------+\n",
            "| Trial name               status   |\n",
            "+-----------------------------------+\n",
            "| PPO_my_env_7b7f7_00000   PENDING  |\n",
            "+-----------------------------------+\n"
          ]
        },
        {
          "metadata": {
            "tags": null
          },
          "name": "stderr",
          "output_type": "stream",
          "text": [
            "2024-05-12 07:08:46,022\tWARNING insufficient_resources_manager.py:163 -- Ignore this message if the cluster is autoscaling. No trial is running and no new trial has been started within the last 60 seconds. This could be due to the cluster not having enough resources available. You asked for 5.0 CPUs and 1.0 GPUs per trial, but the cluster only has 2.0 CPUs and 1.0 GPUs available. Stop the tuning and adjust the required resources (e.g. via the `ScalingConfig` or `resources_per_trial`, or `num_workers` for rllib), or add more resources to your cluster.\n"
          ]
        },
        {
          "metadata": {
            "tags": null
          },
          "name": "stdout",
          "output_type": "stream",
          "text": [
            "Trial status: 1 PENDING\n",
            "Current time: 2024-05-12 07:09:00. Total running time: 3hr 13min 27s\n",
            "Logical resource usage: 0/2 CPUs, 0/1 GPUs\n",
            "+-----------------------------------+\n",
            "| Trial name               status   |\n",
            "+-----------------------------------+\n",
            "| PPO_my_env_7b7f7_00000   PENDING  |\n",
            "+-----------------------------------+\n",
            "Trial status: 1 PENDING\n",
            "Current time: 2024-05-12 07:09:30. Total running time: 3hr 13min 57s\n",
            "Logical resource usage: 0/2 CPUs, 0/1 GPUs\n",
            "+-----------------------------------+\n",
            "| Trial name               status   |\n",
            "+-----------------------------------+\n",
            "| PPO_my_env_7b7f7_00000   PENDING  |\n",
            "+-----------------------------------+\n"
          ]
        },
        {
          "metadata": {
            "tags": null
          },
          "name": "stderr",
          "output_type": "stream",
          "text": [
            "2024-05-12 07:09:46,093\tWARNING insufficient_resources_manager.py:163 -- Ignore this message if the cluster is autoscaling. No trial is running and no new trial has been started within the last 60 seconds. This could be due to the cluster not having enough resources available. You asked for 5.0 CPUs and 1.0 GPUs per trial, but the cluster only has 2.0 CPUs and 1.0 GPUs available. Stop the tuning and adjust the required resources (e.g. via the `ScalingConfig` or `resources_per_trial`, or `num_workers` for rllib), or add more resources to your cluster.\n"
          ]
        },
        {
          "metadata": {
            "tags": null
          },
          "name": "stdout",
          "output_type": "stream",
          "text": [
            "Trial status: 1 PENDING\n",
            "Current time: 2024-05-12 07:10:00. Total running time: 3hr 14min 27s\n",
            "Logical resource usage: 0/2 CPUs, 0/1 GPUs\n",
            "+-----------------------------------+\n",
            "| Trial name               status   |\n",
            "+-----------------------------------+\n",
            "| PPO_my_env_7b7f7_00000   PENDING  |\n",
            "+-----------------------------------+\n",
            "Trial status: 1 PENDING\n",
            "Current time: 2024-05-12 07:10:31. Total running time: 3hr 14min 57s\n",
            "Logical resource usage: 0/2 CPUs, 0/1 GPUs\n",
            "+-----------------------------------+\n",
            "| Trial name               status   |\n",
            "+-----------------------------------+\n",
            "| PPO_my_env_7b7f7_00000   PENDING  |\n",
            "+-----------------------------------+\n"
          ]
        },
        {
          "metadata": {
            "tags": null
          },
          "name": "stderr",
          "output_type": "stream",
          "text": [
            "2024-05-12 07:10:46,152\tWARNING insufficient_resources_manager.py:163 -- Ignore this message if the cluster is autoscaling. No trial is running and no new trial has been started within the last 60 seconds. This could be due to the cluster not having enough resources available. You asked for 5.0 CPUs and 1.0 GPUs per trial, but the cluster only has 2.0 CPUs and 1.0 GPUs available. Stop the tuning and adjust the required resources (e.g. via the `ScalingConfig` or `resources_per_trial`, or `num_workers` for rllib), or add more resources to your cluster.\n"
          ]
        },
        {
          "metadata": {
            "tags": null
          },
          "name": "stdout",
          "output_type": "stream",
          "text": [
            "Trial status: 1 PENDING\n",
            "Current time: 2024-05-12 07:11:01. Total running time: 3hr 15min 27s\n",
            "Logical resource usage: 0/2 CPUs, 0/1 GPUs\n",
            "+-----------------------------------+\n",
            "| Trial name               status   |\n",
            "+-----------------------------------+\n",
            "| PPO_my_env_7b7f7_00000   PENDING  |\n",
            "+-----------------------------------+\n",
            "Trial status: 1 PENDING\n",
            "Current time: 2024-05-12 07:11:31. Total running time: 3hr 15min 57s\n",
            "Logical resource usage: 0/2 CPUs, 0/1 GPUs\n",
            "+-----------------------------------+\n",
            "| Trial name               status   |\n",
            "+-----------------------------------+\n",
            "| PPO_my_env_7b7f7_00000   PENDING  |\n",
            "+-----------------------------------+\n"
          ]
        },
        {
          "metadata": {
            "tags": null
          },
          "name": "stderr",
          "output_type": "stream",
          "text": [
            "2024-05-12 07:11:46,231\tWARNING insufficient_resources_manager.py:163 -- Ignore this message if the cluster is autoscaling. No trial is running and no new trial has been started within the last 60 seconds. This could be due to the cluster not having enough resources available. You asked for 5.0 CPUs and 1.0 GPUs per trial, but the cluster only has 2.0 CPUs and 1.0 GPUs available. Stop the tuning and adjust the required resources (e.g. via the `ScalingConfig` or `resources_per_trial`, or `num_workers` for rllib), or add more resources to your cluster.\n"
          ]
        },
        {
          "metadata": {
            "tags": null
          },
          "name": "stdout",
          "output_type": "stream",
          "text": [
            "Trial status: 1 PENDING\n",
            "Current time: 2024-05-12 07:12:01. Total running time: 3hr 16min 27s\n",
            "Logical resource usage: 0/2 CPUs, 0/1 GPUs\n",
            "+-----------------------------------+\n",
            "| Trial name               status   |\n",
            "+-----------------------------------+\n",
            "| PPO_my_env_7b7f7_00000   PENDING  |\n",
            "+-----------------------------------+\n",
            "Trial status: 1 PENDING\n",
            "Current time: 2024-05-12 07:12:31. Total running time: 3hr 16min 57s\n",
            "Logical resource usage: 0/2 CPUs, 0/1 GPUs\n",
            "+-----------------------------------+\n",
            "| Trial name               status   |\n",
            "+-----------------------------------+\n",
            "| PPO_my_env_7b7f7_00000   PENDING  |\n",
            "+-----------------------------------+\n"
          ]
        },
        {
          "metadata": {
            "tags": null
          },
          "name": "stderr",
          "output_type": "stream",
          "text": [
            "2024-05-12 07:12:46,283\tWARNING insufficient_resources_manager.py:163 -- Ignore this message if the cluster is autoscaling. No trial is running and no new trial has been started within the last 60 seconds. This could be due to the cluster not having enough resources available. You asked for 5.0 CPUs and 1.0 GPUs per trial, but the cluster only has 2.0 CPUs and 1.0 GPUs available. Stop the tuning and adjust the required resources (e.g. via the `ScalingConfig` or `resources_per_trial`, or `num_workers` for rllib), or add more resources to your cluster.\n"
          ]
        },
        {
          "metadata": {
            "tags": null
          },
          "name": "stdout",
          "output_type": "stream",
          "text": [
            "Trial status: 1 PENDING\n",
            "Current time: 2024-05-12 07:13:01. Total running time: 3hr 17min 27s\n",
            "Logical resource usage: 0/2 CPUs, 0/1 GPUs\n",
            "+-----------------------------------+\n",
            "| Trial name               status   |\n",
            "+-----------------------------------+\n",
            "| PPO_my_env_7b7f7_00000   PENDING  |\n",
            "+-----------------------------------+\n",
            "Trial status: 1 PENDING\n",
            "Current time: 2024-05-12 07:13:31. Total running time: 3hr 17min 58s\n",
            "Logical resource usage: 0/2 CPUs, 0/1 GPUs\n",
            "+-----------------------------------+\n",
            "| Trial name               status   |\n",
            "+-----------------------------------+\n",
            "| PPO_my_env_7b7f7_00000   PENDING  |\n",
            "+-----------------------------------+\n"
          ]
        },
        {
          "metadata": {
            "tags": null
          },
          "name": "stderr",
          "output_type": "stream",
          "text": [
            "2024-05-12 07:13:46,330\tWARNING insufficient_resources_manager.py:163 -- Ignore this message if the cluster is autoscaling. No trial is running and no new trial has been started within the last 60 seconds. This could be due to the cluster not having enough resources available. You asked for 5.0 CPUs and 1.0 GPUs per trial, but the cluster only has 2.0 CPUs and 1.0 GPUs available. Stop the tuning and adjust the required resources (e.g. via the `ScalingConfig` or `resources_per_trial`, or `num_workers` for rllib), or add more resources to your cluster.\n"
          ]
        },
        {
          "metadata": {
            "tags": null
          },
          "name": "stdout",
          "output_type": "stream",
          "text": [
            "Trial status: 1 PENDING\n",
            "Current time: 2024-05-12 07:14:01. Total running time: 3hr 18min 28s\n",
            "Logical resource usage: 0/2 CPUs, 0/1 GPUs\n",
            "+-----------------------------------+\n",
            "| Trial name               status   |\n",
            "+-----------------------------------+\n",
            "| PPO_my_env_7b7f7_00000   PENDING  |\n",
            "+-----------------------------------+\n",
            "Trial status: 1 PENDING\n",
            "Current time: 2024-05-12 07:14:31. Total running time: 3hr 18min 58s\n",
            "Logical resource usage: 0/2 CPUs, 0/1 GPUs\n",
            "+-----------------------------------+\n",
            "| Trial name               status   |\n",
            "+-----------------------------------+\n",
            "| PPO_my_env_7b7f7_00000   PENDING  |\n",
            "+-----------------------------------+\n"
          ]
        },
        {
          "metadata": {
            "tags": null
          },
          "name": "stderr",
          "output_type": "stream",
          "text": [
            "2024-05-12 07:14:46,396\tWARNING insufficient_resources_manager.py:163 -- Ignore this message if the cluster is autoscaling. No trial is running and no new trial has been started within the last 60 seconds. This could be due to the cluster not having enough resources available. You asked for 5.0 CPUs and 1.0 GPUs per trial, but the cluster only has 2.0 CPUs and 1.0 GPUs available. Stop the tuning and adjust the required resources (e.g. via the `ScalingConfig` or `resources_per_trial`, or `num_workers` for rllib), or add more resources to your cluster.\n"
          ]
        },
        {
          "metadata": {
            "tags": null
          },
          "name": "stdout",
          "output_type": "stream",
          "text": [
            "Trial status: 1 PENDING\n",
            "Current time: 2024-05-12 07:15:01. Total running time: 3hr 19min 28s\n",
            "Logical resource usage: 0/2 CPUs, 0/1 GPUs\n",
            "+-----------------------------------+\n",
            "| Trial name               status   |\n",
            "+-----------------------------------+\n",
            "| PPO_my_env_7b7f7_00000   PENDING  |\n",
            "+-----------------------------------+\n",
            "Trial status: 1 PENDING\n",
            "Current time: 2024-05-12 07:15:31. Total running time: 3hr 19min 58s\n",
            "Logical resource usage: 0/2 CPUs, 0/1 GPUs\n",
            "+-----------------------------------+\n",
            "| Trial name               status   |\n",
            "+-----------------------------------+\n",
            "| PPO_my_env_7b7f7_00000   PENDING  |\n",
            "+-----------------------------------+\n"
          ]
        },
        {
          "metadata": {
            "tags": null
          },
          "name": "stderr",
          "output_type": "stream",
          "text": [
            "2024-05-12 07:15:46,460\tWARNING insufficient_resources_manager.py:163 -- Ignore this message if the cluster is autoscaling. No trial is running and no new trial has been started within the last 60 seconds. This could be due to the cluster not having enough resources available. You asked for 5.0 CPUs and 1.0 GPUs per trial, but the cluster only has 2.0 CPUs and 1.0 GPUs available. Stop the tuning and adjust the required resources (e.g. via the `ScalingConfig` or `resources_per_trial`, or `num_workers` for rllib), or add more resources to your cluster.\n"
          ]
        },
        {
          "metadata": {
            "tags": null
          },
          "name": "stdout",
          "output_type": "stream",
          "text": [
            "Trial status: 1 PENDING\n",
            "Current time: 2024-05-12 07:16:01. Total running time: 3hr 20min 28s\n",
            "Logical resource usage: 0/2 CPUs, 0/1 GPUs\n",
            "+-----------------------------------+\n",
            "| Trial name               status   |\n",
            "+-----------------------------------+\n",
            "| PPO_my_env_7b7f7_00000   PENDING  |\n",
            "+-----------------------------------+\n",
            "Trial status: 1 PENDING\n",
            "Current time: 2024-05-12 07:16:31. Total running time: 3hr 20min 58s\n",
            "Logical resource usage: 0/2 CPUs, 0/1 GPUs\n",
            "+-----------------------------------+\n",
            "| Trial name               status   |\n",
            "+-----------------------------------+\n",
            "| PPO_my_env_7b7f7_00000   PENDING  |\n",
            "+-----------------------------------+\n"
          ]
        },
        {
          "metadata": {
            "tags": null
          },
          "name": "stderr",
          "output_type": "stream",
          "text": [
            "2024-05-12 07:16:46,517\tWARNING insufficient_resources_manager.py:163 -- Ignore this message if the cluster is autoscaling. No trial is running and no new trial has been started within the last 60 seconds. This could be due to the cluster not having enough resources available. You asked for 5.0 CPUs and 1.0 GPUs per trial, but the cluster only has 2.0 CPUs and 1.0 GPUs available. Stop the tuning and adjust the required resources (e.g. via the `ScalingConfig` or `resources_per_trial`, or `num_workers` for rllib), or add more resources to your cluster.\n"
          ]
        },
        {
          "metadata": {
            "tags": null
          },
          "name": "stdout",
          "output_type": "stream",
          "text": [
            "Trial status: 1 PENDING\n",
            "Current time: 2024-05-12 07:17:02. Total running time: 3hr 21min 28s\n",
            "Logical resource usage: 0/2 CPUs, 0/1 GPUs\n",
            "+-----------------------------------+\n",
            "| Trial name               status   |\n",
            "+-----------------------------------+\n",
            "| PPO_my_env_7b7f7_00000   PENDING  |\n",
            "+-----------------------------------+\n",
            "Trial status: 1 PENDING\n",
            "Current time: 2024-05-12 07:17:32. Total running time: 3hr 21min 58s\n",
            "Logical resource usage: 0/2 CPUs, 0/1 GPUs\n",
            "+-----------------------------------+\n",
            "| Trial name               status   |\n",
            "+-----------------------------------+\n",
            "| PPO_my_env_7b7f7_00000   PENDING  |\n",
            "+-----------------------------------+\n"
          ]
        },
        {
          "metadata": {
            "tags": null
          },
          "name": "stderr",
          "output_type": "stream",
          "text": [
            "2024-05-12 07:17:46,586\tWARNING insufficient_resources_manager.py:163 -- Ignore this message if the cluster is autoscaling. No trial is running and no new trial has been started within the last 60 seconds. This could be due to the cluster not having enough resources available. You asked for 5.0 CPUs and 1.0 GPUs per trial, but the cluster only has 2.0 CPUs and 1.0 GPUs available. Stop the tuning and adjust the required resources (e.g. via the `ScalingConfig` or `resources_per_trial`, or `num_workers` for rllib), or add more resources to your cluster.\n"
          ]
        },
        {
          "metadata": {
            "tags": null
          },
          "name": "stdout",
          "output_type": "stream",
          "text": [
            "Trial status: 1 PENDING\n",
            "Current time: 2024-05-12 07:18:02. Total running time: 3hr 22min 28s\n",
            "Logical resource usage: 0/2 CPUs, 0/1 GPUs\n",
            "+-----------------------------------+\n",
            "| Trial name               status   |\n",
            "+-----------------------------------+\n",
            "| PPO_my_env_7b7f7_00000   PENDING  |\n",
            "+-----------------------------------+\n",
            "Trial status: 1 PENDING\n",
            "Current time: 2024-05-12 07:18:32. Total running time: 3hr 22min 58s\n",
            "Logical resource usage: 0/2 CPUs, 0/1 GPUs\n",
            "+-----------------------------------+\n",
            "| Trial name               status   |\n",
            "+-----------------------------------+\n",
            "| PPO_my_env_7b7f7_00000   PENDING  |\n",
            "+-----------------------------------+\n"
          ]
        },
        {
          "metadata": {
            "tags": null
          },
          "name": "stderr",
          "output_type": "stream",
          "text": [
            "2024-05-12 07:18:46,664\tWARNING insufficient_resources_manager.py:163 -- Ignore this message if the cluster is autoscaling. No trial is running and no new trial has been started within the last 60 seconds. This could be due to the cluster not having enough resources available. You asked for 5.0 CPUs and 1.0 GPUs per trial, but the cluster only has 2.0 CPUs and 1.0 GPUs available. Stop the tuning and adjust the required resources (e.g. via the `ScalingConfig` or `resources_per_trial`, or `num_workers` for rllib), or add more resources to your cluster.\n"
          ]
        },
        {
          "metadata": {
            "tags": null
          },
          "name": "stdout",
          "output_type": "stream",
          "text": [
            "Trial status: 1 PENDING\n",
            "Current time: 2024-05-12 07:19:02. Total running time: 3hr 23min 28s\n",
            "Logical resource usage: 0/2 CPUs, 0/1 GPUs\n",
            "+-----------------------------------+\n",
            "| Trial name               status   |\n",
            "+-----------------------------------+\n",
            "| PPO_my_env_7b7f7_00000   PENDING  |\n",
            "+-----------------------------------+\n",
            "Trial status: 1 PENDING\n",
            "Current time: 2024-05-12 07:19:32. Total running time: 3hr 23min 58s\n",
            "Logical resource usage: 0/2 CPUs, 0/1 GPUs\n",
            "+-----------------------------------+\n",
            "| Trial name               status   |\n",
            "+-----------------------------------+\n",
            "| PPO_my_env_7b7f7_00000   PENDING  |\n",
            "+-----------------------------------+\n"
          ]
        },
        {
          "metadata": {
            "tags": null
          },
          "name": "stderr",
          "output_type": "stream",
          "text": [
            "2024-05-12 07:19:46,741\tWARNING insufficient_resources_manager.py:163 -- Ignore this message if the cluster is autoscaling. No trial is running and no new trial has been started within the last 60 seconds. This could be due to the cluster not having enough resources available. You asked for 5.0 CPUs and 1.0 GPUs per trial, but the cluster only has 2.0 CPUs and 1.0 GPUs available. Stop the tuning and adjust the required resources (e.g. via the `ScalingConfig` or `resources_per_trial`, or `num_workers` for rllib), or add more resources to your cluster.\n"
          ]
        },
        {
          "metadata": {
            "tags": null
          },
          "name": "stdout",
          "output_type": "stream",
          "text": [
            "Trial status: 1 PENDING\n",
            "Current time: 2024-05-12 07:20:02. Total running time: 3hr 24min 29s\n",
            "Logical resource usage: 0/2 CPUs, 0/1 GPUs\n",
            "+-----------------------------------+\n",
            "| Trial name               status   |\n",
            "+-----------------------------------+\n",
            "| PPO_my_env_7b7f7_00000   PENDING  |\n",
            "+-----------------------------------+\n",
            "Trial status: 1 PENDING\n",
            "Current time: 2024-05-12 07:20:32. Total running time: 3hr 24min 59s\n",
            "Logical resource usage: 0/2 CPUs, 0/1 GPUs\n",
            "+-----------------------------------+\n",
            "| Trial name               status   |\n",
            "+-----------------------------------+\n",
            "| PPO_my_env_7b7f7_00000   PENDING  |\n",
            "+-----------------------------------+\n"
          ]
        },
        {
          "metadata": {
            "tags": null
          },
          "name": "stderr",
          "output_type": "stream",
          "text": [
            "2024-05-12 07:20:46,809\tWARNING insufficient_resources_manager.py:163 -- Ignore this message if the cluster is autoscaling. No trial is running and no new trial has been started within the last 60 seconds. This could be due to the cluster not having enough resources available. You asked for 5.0 CPUs and 1.0 GPUs per trial, but the cluster only has 2.0 CPUs and 1.0 GPUs available. Stop the tuning and adjust the required resources (e.g. via the `ScalingConfig` or `resources_per_trial`, or `num_workers` for rllib), or add more resources to your cluster.\n"
          ]
        },
        {
          "metadata": {
            "tags": null
          },
          "name": "stdout",
          "output_type": "stream",
          "text": [
            "Trial status: 1 PENDING\n",
            "Current time: 2024-05-12 07:21:02. Total running time: 3hr 25min 29s\n",
            "Logical resource usage: 0/2 CPUs, 0/1 GPUs\n",
            "+-----------------------------------+\n",
            "| Trial name               status   |\n",
            "+-----------------------------------+\n",
            "| PPO_my_env_7b7f7_00000   PENDING  |\n",
            "+-----------------------------------+\n",
            "Trial status: 1 PENDING\n",
            "Current time: 2024-05-12 07:21:32. Total running time: 3hr 25min 59s\n",
            "Logical resource usage: 0/2 CPUs, 0/1 GPUs\n",
            "+-----------------------------------+\n",
            "| Trial name               status   |\n",
            "+-----------------------------------+\n",
            "| PPO_my_env_7b7f7_00000   PENDING  |\n",
            "+-----------------------------------+\n"
          ]
        },
        {
          "metadata": {
            "tags": null
          },
          "name": "stderr",
          "output_type": "stream",
          "text": [
            "2024-05-12 07:21:46,870\tWARNING insufficient_resources_manager.py:163 -- Ignore this message if the cluster is autoscaling. No trial is running and no new trial has been started within the last 60 seconds. This could be due to the cluster not having enough resources available. You asked for 5.0 CPUs and 1.0 GPUs per trial, but the cluster only has 2.0 CPUs and 1.0 GPUs available. Stop the tuning and adjust the required resources (e.g. via the `ScalingConfig` or `resources_per_trial`, or `num_workers` for rllib), or add more resources to your cluster.\n"
          ]
        },
        {
          "metadata": {
            "tags": null
          },
          "name": "stdout",
          "output_type": "stream",
          "text": [
            "Trial status: 1 PENDING\n",
            "Current time: 2024-05-12 07:22:02. Total running time: 3hr 26min 29s\n",
            "Logical resource usage: 0/2 CPUs, 0/1 GPUs\n",
            "+-----------------------------------+\n",
            "| Trial name               status   |\n",
            "+-----------------------------------+\n",
            "| PPO_my_env_7b7f7_00000   PENDING  |\n",
            "+-----------------------------------+\n",
            "Trial status: 1 PENDING\n",
            "Current time: 2024-05-12 07:22:32. Total running time: 3hr 26min 59s\n",
            "Logical resource usage: 0/2 CPUs, 0/1 GPUs\n",
            "+-----------------------------------+\n",
            "| Trial name               status   |\n",
            "+-----------------------------------+\n",
            "| PPO_my_env_7b7f7_00000   PENDING  |\n",
            "+-----------------------------------+\n"
          ]
        },
        {
          "metadata": {
            "tags": null
          },
          "name": "stderr",
          "output_type": "stream",
          "text": [
            "2024-05-12 07:22:46,944\tWARNING insufficient_resources_manager.py:163 -- Ignore this message if the cluster is autoscaling. No trial is running and no new trial has been started within the last 60 seconds. This could be due to the cluster not having enough resources available. You asked for 5.0 CPUs and 1.0 GPUs per trial, but the cluster only has 2.0 CPUs and 1.0 GPUs available. Stop the tuning and adjust the required resources (e.g. via the `ScalingConfig` or `resources_per_trial`, or `num_workers` for rllib), or add more resources to your cluster.\n"
          ]
        },
        {
          "metadata": {
            "tags": null
          },
          "name": "stdout",
          "output_type": "stream",
          "text": [
            "Trial status: 1 PENDING\n",
            "Current time: 2024-05-12 07:23:02. Total running time: 3hr 27min 29s\n",
            "Logical resource usage: 0/2 CPUs, 0/1 GPUs\n",
            "+-----------------------------------+\n",
            "| Trial name               status   |\n",
            "+-----------------------------------+\n",
            "| PPO_my_env_7b7f7_00000   PENDING  |\n",
            "+-----------------------------------+\n",
            "Trial status: 1 PENDING\n",
            "Current time: 2024-05-12 07:23:33. Total running time: 3hr 27min 59s\n",
            "Logical resource usage: 0/2 CPUs, 0/1 GPUs\n",
            "+-----------------------------------+\n",
            "| Trial name               status   |\n",
            "+-----------------------------------+\n",
            "| PPO_my_env_7b7f7_00000   PENDING  |\n",
            "+-----------------------------------+\n"
          ]
        },
        {
          "metadata": {
            "tags": null
          },
          "name": "stderr",
          "output_type": "stream",
          "text": [
            "2024-05-12 07:23:47,010\tWARNING insufficient_resources_manager.py:163 -- Ignore this message if the cluster is autoscaling. No trial is running and no new trial has been started within the last 60 seconds. This could be due to the cluster not having enough resources available. You asked for 5.0 CPUs and 1.0 GPUs per trial, but the cluster only has 2.0 CPUs and 1.0 GPUs available. Stop the tuning and adjust the required resources (e.g. via the `ScalingConfig` or `resources_per_trial`, or `num_workers` for rllib), or add more resources to your cluster.\n"
          ]
        },
        {
          "metadata": {
            "tags": null
          },
          "name": "stdout",
          "output_type": "stream",
          "text": [
            "Trial status: 1 PENDING\n",
            "Current time: 2024-05-12 07:24:03. Total running time: 3hr 28min 29s\n",
            "Logical resource usage: 0/2 CPUs, 0/1 GPUs\n",
            "+-----------------------------------+\n",
            "| Trial name               status   |\n",
            "+-----------------------------------+\n",
            "| PPO_my_env_7b7f7_00000   PENDING  |\n",
            "+-----------------------------------+\n",
            "Trial status: 1 PENDING\n",
            "Current time: 2024-05-12 07:24:33. Total running time: 3hr 28min 59s\n",
            "Logical resource usage: 0/2 CPUs, 0/1 GPUs\n",
            "+-----------------------------------+\n",
            "| Trial name               status   |\n",
            "+-----------------------------------+\n",
            "| PPO_my_env_7b7f7_00000   PENDING  |\n",
            "+-----------------------------------+\n"
          ]
        },
        {
          "metadata": {
            "tags": null
          },
          "name": "stderr",
          "output_type": "stream",
          "text": [
            "2024-05-12 07:24:47,062\tWARNING insufficient_resources_manager.py:163 -- Ignore this message if the cluster is autoscaling. No trial is running and no new trial has been started within the last 60 seconds. This could be due to the cluster not having enough resources available. You asked for 5.0 CPUs and 1.0 GPUs per trial, but the cluster only has 2.0 CPUs and 1.0 GPUs available. Stop the tuning and adjust the required resources (e.g. via the `ScalingConfig` or `resources_per_trial`, or `num_workers` for rllib), or add more resources to your cluster.\n"
          ]
        },
        {
          "metadata": {
            "tags": null
          },
          "name": "stdout",
          "output_type": "stream",
          "text": [
            "Trial status: 1 PENDING\n",
            "Current time: 2024-05-12 07:25:03. Total running time: 3hr 29min 29s\n",
            "Logical resource usage: 0/2 CPUs, 0/1 GPUs\n",
            "+-----------------------------------+\n",
            "| Trial name               status   |\n",
            "+-----------------------------------+\n",
            "| PPO_my_env_7b7f7_00000   PENDING  |\n",
            "+-----------------------------------+\n",
            "Trial status: 1 PENDING\n",
            "Current time: 2024-05-12 07:25:33. Total running time: 3hr 29min 59s\n",
            "Logical resource usage: 0/2 CPUs, 0/1 GPUs\n",
            "+-----------------------------------+\n",
            "| Trial name               status   |\n",
            "+-----------------------------------+\n",
            "| PPO_my_env_7b7f7_00000   PENDING  |\n",
            "+-----------------------------------+\n"
          ]
        },
        {
          "metadata": {
            "tags": null
          },
          "name": "stderr",
          "output_type": "stream",
          "text": [
            "2024-05-12 07:25:47,139\tWARNING insufficient_resources_manager.py:163 -- Ignore this message if the cluster is autoscaling. No trial is running and no new trial has been started within the last 60 seconds. This could be due to the cluster not having enough resources available. You asked for 5.0 CPUs and 1.0 GPUs per trial, but the cluster only has 2.0 CPUs and 1.0 GPUs available. Stop the tuning and adjust the required resources (e.g. via the `ScalingConfig` or `resources_per_trial`, or `num_workers` for rllib), or add more resources to your cluster.\n"
          ]
        },
        {
          "metadata": {
            "tags": null
          },
          "name": "stdout",
          "output_type": "stream",
          "text": [
            "Trial status: 1 PENDING\n",
            "Current time: 2024-05-12 07:26:03. Total running time: 3hr 30min 30s\n",
            "Logical resource usage: 0/2 CPUs, 0/1 GPUs\n",
            "+-----------------------------------+\n",
            "| Trial name               status   |\n",
            "+-----------------------------------+\n",
            "| PPO_my_env_7b7f7_00000   PENDING  |\n",
            "+-----------------------------------+\n",
            "Trial status: 1 PENDING\n",
            "Current time: 2024-05-12 07:26:33. Total running time: 3hr 31min 0s\n",
            "Logical resource usage: 0/2 CPUs, 0/1 GPUs\n",
            "+-----------------------------------+\n",
            "| Trial name               status   |\n",
            "+-----------------------------------+\n",
            "| PPO_my_env_7b7f7_00000   PENDING  |\n",
            "+-----------------------------------+\n"
          ]
        },
        {
          "metadata": {
            "tags": null
          },
          "name": "stderr",
          "output_type": "stream",
          "text": [
            "2024-05-12 07:26:47,186\tWARNING insufficient_resources_manager.py:163 -- Ignore this message if the cluster is autoscaling. No trial is running and no new trial has been started within the last 60 seconds. This could be due to the cluster not having enough resources available. You asked for 5.0 CPUs and 1.0 GPUs per trial, but the cluster only has 2.0 CPUs and 1.0 GPUs available. Stop the tuning and adjust the required resources (e.g. via the `ScalingConfig` or `resources_per_trial`, or `num_workers` for rllib), or add more resources to your cluster.\n"
          ]
        },
        {
          "metadata": {
            "tags": null
          },
          "name": "stdout",
          "output_type": "stream",
          "text": [
            "Trial status: 1 PENDING\n",
            "Current time: 2024-05-12 07:27:03. Total running time: 3hr 31min 30s\n",
            "Logical resource usage: 0/2 CPUs, 0/1 GPUs\n",
            "+-----------------------------------+\n",
            "| Trial name               status   |\n",
            "+-----------------------------------+\n",
            "| PPO_my_env_7b7f7_00000   PENDING  |\n",
            "+-----------------------------------+\n",
            "Trial status: 1 PENDING\n",
            "Current time: 2024-05-12 07:27:33. Total running time: 3hr 32min 0s\n",
            "Logical resource usage: 0/2 CPUs, 0/1 GPUs\n",
            "+-----------------------------------+\n",
            "| Trial name               status   |\n",
            "+-----------------------------------+\n",
            "| PPO_my_env_7b7f7_00000   PENDING  |\n",
            "+-----------------------------------+\n"
          ]
        },
        {
          "metadata": {
            "tags": null
          },
          "name": "stderr",
          "output_type": "stream",
          "text": [
            "2024-05-12 07:27:47,222\tWARNING insufficient_resources_manager.py:163 -- Ignore this message if the cluster is autoscaling. No trial is running and no new trial has been started within the last 60 seconds. This could be due to the cluster not having enough resources available. You asked for 5.0 CPUs and 1.0 GPUs per trial, but the cluster only has 2.0 CPUs and 1.0 GPUs available. Stop the tuning and adjust the required resources (e.g. via the `ScalingConfig` or `resources_per_trial`, or `num_workers` for rllib), or add more resources to your cluster.\n"
          ]
        },
        {
          "metadata": {
            "tags": null
          },
          "name": "stdout",
          "output_type": "stream",
          "text": [
            "Trial status: 1 PENDING\n",
            "Current time: 2024-05-12 07:28:03. Total running time: 3hr 32min 30s\n",
            "Logical resource usage: 0/2 CPUs, 0/1 GPUs\n",
            "+-----------------------------------+\n",
            "| Trial name               status   |\n",
            "+-----------------------------------+\n",
            "| PPO_my_env_7b7f7_00000   PENDING  |\n",
            "+-----------------------------------+\n",
            "Trial status: 1 PENDING\n",
            "Current time: 2024-05-12 07:28:33. Total running time: 3hr 33min 0s\n",
            "Logical resource usage: 0/2 CPUs, 0/1 GPUs\n",
            "+-----------------------------------+\n",
            "| Trial name               status   |\n",
            "+-----------------------------------+\n",
            "| PPO_my_env_7b7f7_00000   PENDING  |\n",
            "+-----------------------------------+\n"
          ]
        },
        {
          "metadata": {
            "tags": null
          },
          "name": "stderr",
          "output_type": "stream",
          "text": [
            "2024-05-12 07:28:47,284\tWARNING insufficient_resources_manager.py:163 -- Ignore this message if the cluster is autoscaling. No trial is running and no new trial has been started within the last 60 seconds. This could be due to the cluster not having enough resources available. You asked for 5.0 CPUs and 1.0 GPUs per trial, but the cluster only has 2.0 CPUs and 1.0 GPUs available. Stop the tuning and adjust the required resources (e.g. via the `ScalingConfig` or `resources_per_trial`, or `num_workers` for rllib), or add more resources to your cluster.\n"
          ]
        },
        {
          "metadata": {
            "tags": null
          },
          "name": "stdout",
          "output_type": "stream",
          "text": [
            "Trial status: 1 PENDING\n",
            "Current time: 2024-05-12 07:29:03. Total running time: 3hr 33min 30s\n",
            "Logical resource usage: 0/2 CPUs, 0/1 GPUs\n",
            "+-----------------------------------+\n",
            "| Trial name               status   |\n",
            "+-----------------------------------+\n",
            "| PPO_my_env_7b7f7_00000   PENDING  |\n",
            "+-----------------------------------+\n",
            "Trial status: 1 PENDING\n",
            "Current time: 2024-05-12 07:29:34. Total running time: 3hr 34min 0s\n",
            "Logical resource usage: 0/2 CPUs, 0/1 GPUs\n",
            "+-----------------------------------+\n",
            "| Trial name               status   |\n",
            "+-----------------------------------+\n",
            "| PPO_my_env_7b7f7_00000   PENDING  |\n",
            "+-----------------------------------+\n"
          ]
        },
        {
          "metadata": {
            "tags": null
          },
          "name": "stderr",
          "output_type": "stream",
          "text": [
            "2024-05-12 07:29:47,342\tWARNING insufficient_resources_manager.py:163 -- Ignore this message if the cluster is autoscaling. No trial is running and no new trial has been started within the last 60 seconds. This could be due to the cluster not having enough resources available. You asked for 5.0 CPUs and 1.0 GPUs per trial, but the cluster only has 2.0 CPUs and 1.0 GPUs available. Stop the tuning and adjust the required resources (e.g. via the `ScalingConfig` or `resources_per_trial`, or `num_workers` for rllib), or add more resources to your cluster.\n"
          ]
        },
        {
          "metadata": {
            "tags": null
          },
          "name": "stdout",
          "output_type": "stream",
          "text": [
            "Trial status: 1 PENDING\n",
            "Current time: 2024-05-12 07:30:04. Total running time: 3hr 34min 30s\n",
            "Logical resource usage: 0/2 CPUs, 0/1 GPUs\n",
            "+-----------------------------------+\n",
            "| Trial name               status   |\n",
            "+-----------------------------------+\n",
            "| PPO_my_env_7b7f7_00000   PENDING  |\n",
            "+-----------------------------------+\n",
            "Trial status: 1 PENDING\n",
            "Current time: 2024-05-12 07:30:34. Total running time: 3hr 35min 0s\n",
            "Logical resource usage: 0/2 CPUs, 0/1 GPUs\n",
            "+-----------------------------------+\n",
            "| Trial name               status   |\n",
            "+-----------------------------------+\n",
            "| PPO_my_env_7b7f7_00000   PENDING  |\n",
            "+-----------------------------------+\n"
          ]
        },
        {
          "metadata": {
            "tags": null
          },
          "name": "stderr",
          "output_type": "stream",
          "text": [
            "2024-05-12 07:30:47,364\tWARNING insufficient_resources_manager.py:163 -- Ignore this message if the cluster is autoscaling. No trial is running and no new trial has been started within the last 60 seconds. This could be due to the cluster not having enough resources available. You asked for 5.0 CPUs and 1.0 GPUs per trial, but the cluster only has 2.0 CPUs and 1.0 GPUs available. Stop the tuning and adjust the required resources (e.g. via the `ScalingConfig` or `resources_per_trial`, or `num_workers` for rllib), or add more resources to your cluster.\n"
          ]
        },
        {
          "metadata": {
            "tags": null
          },
          "name": "stdout",
          "output_type": "stream",
          "text": [
            "Trial status: 1 PENDING\n",
            "Current time: 2024-05-12 07:31:04. Total running time: 3hr 35min 30s\n",
            "Logical resource usage: 0/2 CPUs, 0/1 GPUs\n",
            "+-----------------------------------+\n",
            "| Trial name               status   |\n",
            "+-----------------------------------+\n",
            "| PPO_my_env_7b7f7_00000   PENDING  |\n",
            "+-----------------------------------+\n",
            "Trial status: 1 PENDING\n",
            "Current time: 2024-05-12 07:31:34. Total running time: 3hr 36min 0s\n",
            "Logical resource usage: 0/2 CPUs, 0/1 GPUs\n",
            "+-----------------------------------+\n",
            "| Trial name               status   |\n",
            "+-----------------------------------+\n",
            "| PPO_my_env_7b7f7_00000   PENDING  |\n",
            "+-----------------------------------+\n"
          ]
        },
        {
          "metadata": {
            "tags": null
          },
          "name": "stderr",
          "output_type": "stream",
          "text": [
            "2024-05-12 07:31:47,466\tWARNING insufficient_resources_manager.py:163 -- Ignore this message if the cluster is autoscaling. No trial is running and no new trial has been started within the last 60 seconds. This could be due to the cluster not having enough resources available. You asked for 5.0 CPUs and 1.0 GPUs per trial, but the cluster only has 2.0 CPUs and 1.0 GPUs available. Stop the tuning and adjust the required resources (e.g. via the `ScalingConfig` or `resources_per_trial`, or `num_workers` for rllib), or add more resources to your cluster.\n"
          ]
        },
        {
          "metadata": {
            "tags": null
          },
          "name": "stdout",
          "output_type": "stream",
          "text": [
            "Trial status: 1 PENDING\n",
            "Current time: 2024-05-12 07:32:04. Total running time: 3hr 36min 30s\n",
            "Logical resource usage: 0/2 CPUs, 0/1 GPUs\n",
            "+-----------------------------------+\n",
            "| Trial name               status   |\n",
            "+-----------------------------------+\n",
            "| PPO_my_env_7b7f7_00000   PENDING  |\n",
            "+-----------------------------------+\n",
            "Trial status: 1 PENDING\n",
            "Current time: 2024-05-12 07:32:34. Total running time: 3hr 37min 0s\n",
            "Logical resource usage: 0/2 CPUs, 0/1 GPUs\n",
            "+-----------------------------------+\n",
            "| Trial name               status   |\n",
            "+-----------------------------------+\n",
            "| PPO_my_env_7b7f7_00000   PENDING  |\n",
            "+-----------------------------------+\n"
          ]
        },
        {
          "metadata": {
            "tags": null
          },
          "name": "stderr",
          "output_type": "stream",
          "text": [
            "2024-05-12 07:32:47,494\tWARNING insufficient_resources_manager.py:163 -- Ignore this message if the cluster is autoscaling. No trial is running and no new trial has been started within the last 60 seconds. This could be due to the cluster not having enough resources available. You asked for 5.0 CPUs and 1.0 GPUs per trial, but the cluster only has 2.0 CPUs and 1.0 GPUs available. Stop the tuning and adjust the required resources (e.g. via the `ScalingConfig` or `resources_per_trial`, or `num_workers` for rllib), or add more resources to your cluster.\n"
          ]
        },
        {
          "metadata": {
            "tags": null
          },
          "name": "stdout",
          "output_type": "stream",
          "text": [
            "Trial status: 1 PENDING\n",
            "Current time: 2024-05-12 07:33:04. Total running time: 3hr 37min 30s\n",
            "Logical resource usage: 0/2 CPUs, 0/1 GPUs\n",
            "+-----------------------------------+\n",
            "| Trial name               status   |\n",
            "+-----------------------------------+\n",
            "| PPO_my_env_7b7f7_00000   PENDING  |\n",
            "+-----------------------------------+\n",
            "Trial status: 1 PENDING\n",
            "Current time: 2024-05-12 07:33:34. Total running time: 3hr 38min 0s\n",
            "Logical resource usage: 0/2 CPUs, 0/1 GPUs\n",
            "+-----------------------------------+\n",
            "| Trial name               status   |\n",
            "+-----------------------------------+\n",
            "| PPO_my_env_7b7f7_00000   PENDING  |\n",
            "+-----------------------------------+\n"
          ]
        },
        {
          "metadata": {
            "tags": null
          },
          "name": "stderr",
          "output_type": "stream",
          "text": [
            "2024-05-12 07:33:47,504\tWARNING insufficient_resources_manager.py:163 -- Ignore this message if the cluster is autoscaling. No trial is running and no new trial has been started within the last 60 seconds. This could be due to the cluster not having enough resources available. You asked for 5.0 CPUs and 1.0 GPUs per trial, but the cluster only has 2.0 CPUs and 1.0 GPUs available. Stop the tuning and adjust the required resources (e.g. via the `ScalingConfig` or `resources_per_trial`, or `num_workers` for rllib), or add more resources to your cluster.\n"
          ]
        },
        {
          "metadata": {
            "tags": null
          },
          "name": "stdout",
          "output_type": "stream",
          "text": [
            "Trial status: 1 PENDING\n",
            "Current time: 2024-05-12 07:34:04. Total running time: 3hr 38min 30s\n",
            "Logical resource usage: 0/2 CPUs, 0/1 GPUs\n",
            "+-----------------------------------+\n",
            "| Trial name               status   |\n",
            "+-----------------------------------+\n",
            "| PPO_my_env_7b7f7_00000   PENDING  |\n",
            "+-----------------------------------+\n",
            "Trial status: 1 PENDING\n",
            "Current time: 2024-05-12 07:34:34. Total running time: 3hr 39min 0s\n",
            "Logical resource usage: 0/2 CPUs, 0/1 GPUs\n",
            "+-----------------------------------+\n",
            "| Trial name               status   |\n",
            "+-----------------------------------+\n",
            "| PPO_my_env_7b7f7_00000   PENDING  |\n",
            "+-----------------------------------+\n"
          ]
        },
        {
          "metadata": {
            "tags": null
          },
          "name": "stderr",
          "output_type": "stream",
          "text": [
            "2024-05-12 07:34:47,526\tWARNING insufficient_resources_manager.py:163 -- Ignore this message if the cluster is autoscaling. No trial is running and no new trial has been started within the last 60 seconds. This could be due to the cluster not having enough resources available. You asked for 5.0 CPUs and 1.0 GPUs per trial, but the cluster only has 2.0 CPUs and 1.0 GPUs available. Stop the tuning and adjust the required resources (e.g. via the `ScalingConfig` or `resources_per_trial`, or `num_workers` for rllib), or add more resources to your cluster.\n"
          ]
        },
        {
          "metadata": {
            "tags": null
          },
          "name": "stdout",
          "output_type": "stream",
          "text": [
            "Trial status: 1 PENDING\n",
            "Current time: 2024-05-12 07:35:04. Total running time: 3hr 39min 30s\n",
            "Logical resource usage: 0/2 CPUs, 0/1 GPUs\n",
            "+-----------------------------------+\n",
            "| Trial name               status   |\n",
            "+-----------------------------------+\n",
            "| PPO_my_env_7b7f7_00000   PENDING  |\n",
            "+-----------------------------------+\n",
            "Trial status: 1 PENDING\n",
            "Current time: 2024-05-12 07:35:34. Total running time: 3hr 40min 0s\n",
            "Logical resource usage: 0/2 CPUs, 0/1 GPUs\n",
            "+-----------------------------------+\n",
            "| Trial name               status   |\n",
            "+-----------------------------------+\n",
            "| PPO_my_env_7b7f7_00000   PENDING  |\n",
            "+-----------------------------------+\n"
          ]
        },
        {
          "metadata": {
            "tags": null
          },
          "name": "stderr",
          "output_type": "stream",
          "text": [
            "2024-05-12 07:35:47,552\tWARNING insufficient_resources_manager.py:163 -- Ignore this message if the cluster is autoscaling. No trial is running and no new trial has been started within the last 60 seconds. This could be due to the cluster not having enough resources available. You asked for 5.0 CPUs and 1.0 GPUs per trial, but the cluster only has 2.0 CPUs and 1.0 GPUs available. Stop the tuning and adjust the required resources (e.g. via the `ScalingConfig` or `resources_per_trial`, or `num_workers` for rllib), or add more resources to your cluster.\n"
          ]
        },
        {
          "metadata": {
            "tags": null
          },
          "name": "stdout",
          "output_type": "stream",
          "text": [
            "Trial status: 1 PENDING\n",
            "Current time: 2024-05-12 07:36:04. Total running time: 3hr 40min 30s\n",
            "Logical resource usage: 0/2 CPUs, 0/1 GPUs\n",
            "+-----------------------------------+\n",
            "| Trial name               status   |\n",
            "+-----------------------------------+\n",
            "| PPO_my_env_7b7f7_00000   PENDING  |\n",
            "+-----------------------------------+\n",
            "Trial status: 1 PENDING\n",
            "Current time: 2024-05-12 07:36:34. Total running time: 3hr 41min 0s\n",
            "Logical resource usage: 0/2 CPUs, 0/1 GPUs\n",
            "+-----------------------------------+\n",
            "| Trial name               status   |\n",
            "+-----------------------------------+\n",
            "| PPO_my_env_7b7f7_00000   PENDING  |\n",
            "+-----------------------------------+\n"
          ]
        },
        {
          "metadata": {
            "tags": null
          },
          "name": "stderr",
          "output_type": "stream",
          "text": [
            "2024-05-12 07:36:47,652\tWARNING insufficient_resources_manager.py:163 -- Ignore this message if the cluster is autoscaling. No trial is running and no new trial has been started within the last 60 seconds. This could be due to the cluster not having enough resources available. You asked for 5.0 CPUs and 1.0 GPUs per trial, but the cluster only has 2.0 CPUs and 1.0 GPUs available. Stop the tuning and adjust the required resources (e.g. via the `ScalingConfig` or `resources_per_trial`, or `num_workers` for rllib), or add more resources to your cluster.\n"
          ]
        },
        {
          "metadata": {
            "tags": null
          },
          "name": "stdout",
          "output_type": "stream",
          "text": [
            "Trial status: 1 PENDING\n",
            "Current time: 2024-05-12 07:37:04. Total running time: 3hr 41min 30s\n",
            "Logical resource usage: 0/2 CPUs, 0/1 GPUs\n",
            "+-----------------------------------+\n",
            "| Trial name               status   |\n",
            "+-----------------------------------+\n",
            "| PPO_my_env_7b7f7_00000   PENDING  |\n",
            "+-----------------------------------+\n",
            "Trial status: 1 PENDING\n",
            "Current time: 2024-05-12 07:37:34. Total running time: 3hr 42min 1s\n",
            "Logical resource usage: 0/2 CPUs, 0/1 GPUs\n",
            "+-----------------------------------+\n",
            "| Trial name               status   |\n",
            "+-----------------------------------+\n",
            "| PPO_my_env_7b7f7_00000   PENDING  |\n",
            "+-----------------------------------+\n"
          ]
        },
        {
          "metadata": {
            "tags": null
          },
          "name": "stderr",
          "output_type": "stream",
          "text": [
            "2024-05-12 07:37:47,667\tWARNING insufficient_resources_manager.py:163 -- Ignore this message if the cluster is autoscaling. No trial is running and no new trial has been started within the last 60 seconds. This could be due to the cluster not having enough resources available. You asked for 5.0 CPUs and 1.0 GPUs per trial, but the cluster only has 2.0 CPUs and 1.0 GPUs available. Stop the tuning and adjust the required resources (e.g. via the `ScalingConfig` or `resources_per_trial`, or `num_workers` for rllib), or add more resources to your cluster.\n"
          ]
        },
        {
          "metadata": {
            "tags": null
          },
          "name": "stdout",
          "output_type": "stream",
          "text": [
            "Trial status: 1 PENDING\n",
            "Current time: 2024-05-12 07:38:04. Total running time: 3hr 42min 31s\n",
            "Logical resource usage: 0/2 CPUs, 0/1 GPUs\n",
            "+-----------------------------------+\n",
            "| Trial name               status   |\n",
            "+-----------------------------------+\n",
            "| PPO_my_env_7b7f7_00000   PENDING  |\n",
            "+-----------------------------------+\n",
            "Trial status: 1 PENDING\n",
            "Current time: 2024-05-12 07:38:34. Total running time: 3hr 43min 1s\n",
            "Logical resource usage: 0/2 CPUs, 0/1 GPUs\n",
            "+-----------------------------------+\n",
            "| Trial name               status   |\n",
            "+-----------------------------------+\n",
            "| PPO_my_env_7b7f7_00000   PENDING  |\n",
            "+-----------------------------------+\n"
          ]
        },
        {
          "metadata": {
            "tags": null
          },
          "name": "stderr",
          "output_type": "stream",
          "text": [
            "2024-05-12 07:38:47,771\tWARNING insufficient_resources_manager.py:163 -- Ignore this message if the cluster is autoscaling. No trial is running and no new trial has been started within the last 60 seconds. This could be due to the cluster not having enough resources available. You asked for 5.0 CPUs and 1.0 GPUs per trial, but the cluster only has 2.0 CPUs and 1.0 GPUs available. Stop the tuning and adjust the required resources (e.g. via the `ScalingConfig` or `resources_per_trial`, or `num_workers` for rllib), or add more resources to your cluster.\n"
          ]
        },
        {
          "metadata": {
            "tags": null
          },
          "name": "stdout",
          "output_type": "stream",
          "text": [
            "Trial status: 1 PENDING\n",
            "Current time: 2024-05-12 07:39:04. Total running time: 3hr 43min 31s\n",
            "Logical resource usage: 0/2 CPUs, 0/1 GPUs\n",
            "+-----------------------------------+\n",
            "| Trial name               status   |\n",
            "+-----------------------------------+\n",
            "| PPO_my_env_7b7f7_00000   PENDING  |\n",
            "+-----------------------------------+\n",
            "Trial status: 1 PENDING\n",
            "Current time: 2024-05-12 07:39:34. Total running time: 3hr 44min 1s\n",
            "Logical resource usage: 0/2 CPUs, 0/1 GPUs\n",
            "+-----------------------------------+\n",
            "| Trial name               status   |\n",
            "+-----------------------------------+\n",
            "| PPO_my_env_7b7f7_00000   PENDING  |\n",
            "+-----------------------------------+\n"
          ]
        },
        {
          "metadata": {
            "tags": null
          },
          "name": "stderr",
          "output_type": "stream",
          "text": [
            "2024-05-12 07:39:47,859\tWARNING insufficient_resources_manager.py:163 -- Ignore this message if the cluster is autoscaling. No trial is running and no new trial has been started within the last 60 seconds. This could be due to the cluster not having enough resources available. You asked for 5.0 CPUs and 1.0 GPUs per trial, but the cluster only has 2.0 CPUs and 1.0 GPUs available. Stop the tuning and adjust the required resources (e.g. via the `ScalingConfig` or `resources_per_trial`, or `num_workers` for rllib), or add more resources to your cluster.\n"
          ]
        },
        {
          "metadata": {
            "tags": null
          },
          "name": "stdout",
          "output_type": "stream",
          "text": [
            "Trial status: 1 PENDING\n",
            "Current time: 2024-05-12 07:40:04. Total running time: 3hr 44min 31s\n",
            "Logical resource usage: 0/2 CPUs, 0/1 GPUs\n",
            "+-----------------------------------+\n",
            "| Trial name               status   |\n",
            "+-----------------------------------+\n",
            "| PPO_my_env_7b7f7_00000   PENDING  |\n",
            "+-----------------------------------+\n",
            "Trial status: 1 PENDING\n",
            "Current time: 2024-05-12 07:40:34. Total running time: 3hr 45min 1s\n",
            "Logical resource usage: 0/2 CPUs, 0/1 GPUs\n",
            "+-----------------------------------+\n",
            "| Trial name               status   |\n",
            "+-----------------------------------+\n",
            "| PPO_my_env_7b7f7_00000   PENDING  |\n",
            "+-----------------------------------+\n"
          ]
        },
        {
          "metadata": {
            "tags": null
          },
          "name": "stderr",
          "output_type": "stream",
          "text": [
            "2024-05-12 07:40:47,937\tWARNING insufficient_resources_manager.py:163 -- Ignore this message if the cluster is autoscaling. No trial is running and no new trial has been started within the last 60 seconds. This could be due to the cluster not having enough resources available. You asked for 5.0 CPUs and 1.0 GPUs per trial, but the cluster only has 2.0 CPUs and 1.0 GPUs available. Stop the tuning and adjust the required resources (e.g. via the `ScalingConfig` or `resources_per_trial`, or `num_workers` for rllib), or add more resources to your cluster.\n"
          ]
        },
        {
          "metadata": {
            "tags": null
          },
          "name": "stdout",
          "output_type": "stream",
          "text": [
            "Trial status: 1 PENDING\n",
            "Current time: 2024-05-12 07:41:05. Total running time: 3hr 45min 31s\n",
            "Logical resource usage: 0/2 CPUs, 0/1 GPUs\n",
            "+-----------------------------------+\n",
            "| Trial name               status   |\n",
            "+-----------------------------------+\n",
            "| PPO_my_env_7b7f7_00000   PENDING  |\n",
            "+-----------------------------------+\n",
            "Trial status: 1 PENDING\n",
            "Current time: 2024-05-12 07:41:35. Total running time: 3hr 46min 1s\n",
            "Logical resource usage: 0/2 CPUs, 0/1 GPUs\n",
            "+-----------------------------------+\n",
            "| Trial name               status   |\n",
            "+-----------------------------------+\n",
            "| PPO_my_env_7b7f7_00000   PENDING  |\n",
            "+-----------------------------------+\n"
          ]
        },
        {
          "metadata": {
            "tags": null
          },
          "name": "stderr",
          "output_type": "stream",
          "text": [
            "2024-05-12 07:41:48,018\tWARNING insufficient_resources_manager.py:163 -- Ignore this message if the cluster is autoscaling. No trial is running and no new trial has been started within the last 60 seconds. This could be due to the cluster not having enough resources available. You asked for 5.0 CPUs and 1.0 GPUs per trial, but the cluster only has 2.0 CPUs and 1.0 GPUs available. Stop the tuning and adjust the required resources (e.g. via the `ScalingConfig` or `resources_per_trial`, or `num_workers` for rllib), or add more resources to your cluster.\n"
          ]
        },
        {
          "metadata": {
            "tags": null
          },
          "name": "stdout",
          "output_type": "stream",
          "text": [
            "Trial status: 1 PENDING\n",
            "Current time: 2024-05-12 07:42:05. Total running time: 3hr 46min 31s\n",
            "Logical resource usage: 0/2 CPUs, 0/1 GPUs\n",
            "+-----------------------------------+\n",
            "| Trial name               status   |\n",
            "+-----------------------------------+\n",
            "| PPO_my_env_7b7f7_00000   PENDING  |\n",
            "+-----------------------------------+\n",
            "Trial status: 1 PENDING\n",
            "Current time: 2024-05-12 07:42:35. Total running time: 3hr 47min 1s\n",
            "Logical resource usage: 0/2 CPUs, 0/1 GPUs\n",
            "+-----------------------------------+\n",
            "| Trial name               status   |\n",
            "+-----------------------------------+\n",
            "| PPO_my_env_7b7f7_00000   PENDING  |\n",
            "+-----------------------------------+\n"
          ]
        },
        {
          "metadata": {
            "tags": null
          },
          "name": "stderr",
          "output_type": "stream",
          "text": [
            "2024-05-12 07:42:48,087\tWARNING insufficient_resources_manager.py:163 -- Ignore this message if the cluster is autoscaling. No trial is running and no new trial has been started within the last 60 seconds. This could be due to the cluster not having enough resources available. You asked for 5.0 CPUs and 1.0 GPUs per trial, but the cluster only has 2.0 CPUs and 1.0 GPUs available. Stop the tuning and adjust the required resources (e.g. via the `ScalingConfig` or `resources_per_trial`, or `num_workers` for rllib), or add more resources to your cluster.\n"
          ]
        },
        {
          "metadata": {
            "tags": null
          },
          "name": "stdout",
          "output_type": "stream",
          "text": [
            "Trial status: 1 PENDING\n",
            "Current time: 2024-05-12 07:43:05. Total running time: 3hr 47min 31s\n",
            "Logical resource usage: 0/2 CPUs, 0/1 GPUs\n",
            "+-----------------------------------+\n",
            "| Trial name               status   |\n",
            "+-----------------------------------+\n",
            "| PPO_my_env_7b7f7_00000   PENDING  |\n",
            "+-----------------------------------+\n",
            "Trial status: 1 PENDING\n",
            "Current time: 2024-05-12 07:43:35. Total running time: 3hr 48min 2s\n",
            "Logical resource usage: 0/2 CPUs, 0/1 GPUs\n",
            "+-----------------------------------+\n",
            "| Trial name               status   |\n",
            "+-----------------------------------+\n",
            "| PPO_my_env_7b7f7_00000   PENDING  |\n",
            "+-----------------------------------+\n"
          ]
        },
        {
          "metadata": {
            "tags": null
          },
          "name": "stderr",
          "output_type": "stream",
          "text": [
            "2024-05-12 07:43:48,158\tWARNING insufficient_resources_manager.py:163 -- Ignore this message if the cluster is autoscaling. No trial is running and no new trial has been started within the last 60 seconds. This could be due to the cluster not having enough resources available. You asked for 5.0 CPUs and 1.0 GPUs per trial, but the cluster only has 2.0 CPUs and 1.0 GPUs available. Stop the tuning and adjust the required resources (e.g. via the `ScalingConfig` or `resources_per_trial`, or `num_workers` for rllib), or add more resources to your cluster.\n"
          ]
        },
        {
          "metadata": {
            "tags": null
          },
          "name": "stdout",
          "output_type": "stream",
          "text": [
            "Trial status: 1 PENDING\n",
            "Current time: 2024-05-12 07:44:05. Total running time: 3hr 48min 32s\n",
            "Logical resource usage: 0/2 CPUs, 0/1 GPUs\n",
            "+-----------------------------------+\n",
            "| Trial name               status   |\n",
            "+-----------------------------------+\n",
            "| PPO_my_env_7b7f7_00000   PENDING  |\n",
            "+-----------------------------------+\n",
            "Trial status: 1 PENDING\n",
            "Current time: 2024-05-12 07:44:35. Total running time: 3hr 49min 2s\n",
            "Logical resource usage: 0/2 CPUs, 0/1 GPUs\n",
            "+-----------------------------------+\n",
            "| Trial name               status   |\n",
            "+-----------------------------------+\n",
            "| PPO_my_env_7b7f7_00000   PENDING  |\n",
            "+-----------------------------------+\n"
          ]
        },
        {
          "metadata": {
            "tags": null
          },
          "name": "stderr",
          "output_type": "stream",
          "text": [
            "2024-05-12 07:44:48,216\tWARNING insufficient_resources_manager.py:163 -- Ignore this message if the cluster is autoscaling. No trial is running and no new trial has been started within the last 60 seconds. This could be due to the cluster not having enough resources available. You asked for 5.0 CPUs and 1.0 GPUs per trial, but the cluster only has 2.0 CPUs and 1.0 GPUs available. Stop the tuning and adjust the required resources (e.g. via the `ScalingConfig` or `resources_per_trial`, or `num_workers` for rllib), or add more resources to your cluster.\n"
          ]
        },
        {
          "metadata": {
            "tags": null
          },
          "name": "stdout",
          "output_type": "stream",
          "text": [
            "Trial status: 1 PENDING\n",
            "Current time: 2024-05-12 07:45:05. Total running time: 3hr 49min 32s\n",
            "Logical resource usage: 0/2 CPUs, 0/1 GPUs\n",
            "+-----------------------------------+\n",
            "| Trial name               status   |\n",
            "+-----------------------------------+\n",
            "| PPO_my_env_7b7f7_00000   PENDING  |\n",
            "+-----------------------------------+\n",
            "Trial status: 1 PENDING\n",
            "Current time: 2024-05-12 07:45:35. Total running time: 3hr 50min 2s\n",
            "Logical resource usage: 0/2 CPUs, 0/1 GPUs\n",
            "+-----------------------------------+\n",
            "| Trial name               status   |\n",
            "+-----------------------------------+\n",
            "| PPO_my_env_7b7f7_00000   PENDING  |\n",
            "+-----------------------------------+\n"
          ]
        },
        {
          "metadata": {
            "tags": null
          },
          "name": "stderr",
          "output_type": "stream",
          "text": [
            "2024-05-12 07:45:48,281\tWARNING insufficient_resources_manager.py:163 -- Ignore this message if the cluster is autoscaling. No trial is running and no new trial has been started within the last 60 seconds. This could be due to the cluster not having enough resources available. You asked for 5.0 CPUs and 1.0 GPUs per trial, but the cluster only has 2.0 CPUs and 1.0 GPUs available. Stop the tuning and adjust the required resources (e.g. via the `ScalingConfig` or `resources_per_trial`, or `num_workers` for rllib), or add more resources to your cluster.\n"
          ]
        },
        {
          "metadata": {
            "tags": null
          },
          "name": "stdout",
          "output_type": "stream",
          "text": [
            "Trial status: 1 PENDING\n",
            "Current time: 2024-05-12 07:46:05. Total running time: 3hr 50min 32s\n",
            "Logical resource usage: 0/2 CPUs, 0/1 GPUs\n",
            "+-----------------------------------+\n",
            "| Trial name               status   |\n",
            "+-----------------------------------+\n",
            "| PPO_my_env_7b7f7_00000   PENDING  |\n",
            "+-----------------------------------+\n",
            "Trial status: 1 PENDING\n",
            "Current time: 2024-05-12 07:46:35. Total running time: 3hr 51min 2s\n",
            "Logical resource usage: 0/2 CPUs, 0/1 GPUs\n",
            "+-----------------------------------+\n",
            "| Trial name               status   |\n",
            "+-----------------------------------+\n",
            "| PPO_my_env_7b7f7_00000   PENDING  |\n",
            "+-----------------------------------+\n"
          ]
        },
        {
          "metadata": {
            "tags": null
          },
          "name": "stderr",
          "output_type": "stream",
          "text": [
            "2024-05-12 07:46:48,346\tWARNING insufficient_resources_manager.py:163 -- Ignore this message if the cluster is autoscaling. No trial is running and no new trial has been started within the last 60 seconds. This could be due to the cluster not having enough resources available. You asked for 5.0 CPUs and 1.0 GPUs per trial, but the cluster only has 2.0 CPUs and 1.0 GPUs available. Stop the tuning and adjust the required resources (e.g. via the `ScalingConfig` or `resources_per_trial`, or `num_workers` for rllib), or add more resources to your cluster.\n"
          ]
        },
        {
          "metadata": {
            "tags": null
          },
          "name": "stdout",
          "output_type": "stream",
          "text": [
            "Trial status: 1 PENDING\n",
            "Current time: 2024-05-12 07:47:06. Total running time: 3hr 51min 32s\n",
            "Logical resource usage: 0/2 CPUs, 0/1 GPUs\n",
            "+-----------------------------------+\n",
            "| Trial name               status   |\n",
            "+-----------------------------------+\n",
            "| PPO_my_env_7b7f7_00000   PENDING  |\n",
            "+-----------------------------------+\n",
            "Trial status: 1 PENDING\n",
            "Current time: 2024-05-12 07:47:36. Total running time: 3hr 52min 2s\n",
            "Logical resource usage: 0/2 CPUs, 0/1 GPUs\n",
            "+-----------------------------------+\n",
            "| Trial name               status   |\n",
            "+-----------------------------------+\n",
            "| PPO_my_env_7b7f7_00000   PENDING  |\n",
            "+-----------------------------------+\n"
          ]
        },
        {
          "metadata": {
            "tags": null
          },
          "name": "stderr",
          "output_type": "stream",
          "text": [
            "2024-05-12 07:47:48,414\tWARNING insufficient_resources_manager.py:163 -- Ignore this message if the cluster is autoscaling. No trial is running and no new trial has been started within the last 60 seconds. This could be due to the cluster not having enough resources available. You asked for 5.0 CPUs and 1.0 GPUs per trial, but the cluster only has 2.0 CPUs and 1.0 GPUs available. Stop the tuning and adjust the required resources (e.g. via the `ScalingConfig` or `resources_per_trial`, or `num_workers` for rllib), or add more resources to your cluster.\n"
          ]
        },
        {
          "metadata": {
            "tags": null
          },
          "name": "stdout",
          "output_type": "stream",
          "text": [
            "Trial status: 1 PENDING\n",
            "Current time: 2024-05-12 07:48:06. Total running time: 3hr 52min 32s\n",
            "Logical resource usage: 0/2 CPUs, 0/1 GPUs\n",
            "+-----------------------------------+\n",
            "| Trial name               status   |\n",
            "+-----------------------------------+\n",
            "| PPO_my_env_7b7f7_00000   PENDING  |\n",
            "+-----------------------------------+\n",
            "Trial status: 1 PENDING\n",
            "Current time: 2024-05-12 07:48:36. Total running time: 3hr 53min 2s\n",
            "Logical resource usage: 0/2 CPUs, 0/1 GPUs\n",
            "+-----------------------------------+\n",
            "| Trial name               status   |\n",
            "+-----------------------------------+\n",
            "| PPO_my_env_7b7f7_00000   PENDING  |\n",
            "+-----------------------------------+\n"
          ]
        },
        {
          "metadata": {
            "tags": null
          },
          "name": "stderr",
          "output_type": "stream",
          "text": [
            "2024-05-12 07:48:48,497\tWARNING insufficient_resources_manager.py:163 -- Ignore this message if the cluster is autoscaling. No trial is running and no new trial has been started within the last 60 seconds. This could be due to the cluster not having enough resources available. You asked for 5.0 CPUs and 1.0 GPUs per trial, but the cluster only has 2.0 CPUs and 1.0 GPUs available. Stop the tuning and adjust the required resources (e.g. via the `ScalingConfig` or `resources_per_trial`, or `num_workers` for rllib), or add more resources to your cluster.\n"
          ]
        },
        {
          "metadata": {
            "tags": null
          },
          "name": "stdout",
          "output_type": "stream",
          "text": [
            "Trial status: 1 PENDING\n",
            "Current time: 2024-05-12 07:49:06. Total running time: 3hr 53min 32s\n",
            "Logical resource usage: 0/2 CPUs, 0/1 GPUs\n",
            "+-----------------------------------+\n",
            "| Trial name               status   |\n",
            "+-----------------------------------+\n",
            "| PPO_my_env_7b7f7_00000   PENDING  |\n",
            "+-----------------------------------+\n",
            "Trial status: 1 PENDING\n",
            "Current time: 2024-05-12 07:49:36. Total running time: 3hr 54min 3s\n",
            "Logical resource usage: 0/2 CPUs, 0/1 GPUs\n",
            "+-----------------------------------+\n",
            "| Trial name               status   |\n",
            "+-----------------------------------+\n",
            "| PPO_my_env_7b7f7_00000   PENDING  |\n",
            "+-----------------------------------+\n"
          ]
        },
        {
          "metadata": {
            "tags": null
          },
          "name": "stderr",
          "output_type": "stream",
          "text": [
            "2024-05-12 07:49:48,593\tWARNING insufficient_resources_manager.py:163 -- Ignore this message if the cluster is autoscaling. No trial is running and no new trial has been started within the last 60 seconds. This could be due to the cluster not having enough resources available. You asked for 5.0 CPUs and 1.0 GPUs per trial, but the cluster only has 2.0 CPUs and 1.0 GPUs available. Stop the tuning and adjust the required resources (e.g. via the `ScalingConfig` or `resources_per_trial`, or `num_workers` for rllib), or add more resources to your cluster.\n"
          ]
        },
        {
          "metadata": {
            "tags": null
          },
          "name": "stdout",
          "output_type": "stream",
          "text": [
            "Trial status: 1 PENDING\n",
            "Current time: 2024-05-12 07:50:06. Total running time: 3hr 54min 33s\n",
            "Logical resource usage: 0/2 CPUs, 0/1 GPUs\n",
            "+-----------------------------------+\n",
            "| Trial name               status   |\n",
            "+-----------------------------------+\n",
            "| PPO_my_env_7b7f7_00000   PENDING  |\n",
            "+-----------------------------------+\n",
            "Trial status: 1 PENDING\n",
            "Current time: 2024-05-12 07:50:36. Total running time: 3hr 55min 3s\n",
            "Logical resource usage: 0/2 CPUs, 0/1 GPUs\n",
            "+-----------------------------------+\n",
            "| Trial name               status   |\n",
            "+-----------------------------------+\n",
            "| PPO_my_env_7b7f7_00000   PENDING  |\n",
            "+-----------------------------------+\n"
          ]
        },
        {
          "metadata": {
            "tags": null
          },
          "name": "stderr",
          "output_type": "stream",
          "text": [
            "2024-05-12 07:50:48,622\tWARNING insufficient_resources_manager.py:163 -- Ignore this message if the cluster is autoscaling. No trial is running and no new trial has been started within the last 60 seconds. This could be due to the cluster not having enough resources available. You asked for 5.0 CPUs and 1.0 GPUs per trial, but the cluster only has 2.0 CPUs and 1.0 GPUs available. Stop the tuning and adjust the required resources (e.g. via the `ScalingConfig` or `resources_per_trial`, or `num_workers` for rllib), or add more resources to your cluster.\n"
          ]
        },
        {
          "metadata": {
            "tags": null
          },
          "name": "stdout",
          "output_type": "stream",
          "text": [
            "Trial status: 1 PENDING\n",
            "Current time: 2024-05-12 07:51:06. Total running time: 3hr 55min 33s\n",
            "Logical resource usage: 0/2 CPUs, 0/1 GPUs\n",
            "+-----------------------------------+\n",
            "| Trial name               status   |\n",
            "+-----------------------------------+\n",
            "| PPO_my_env_7b7f7_00000   PENDING  |\n",
            "+-----------------------------------+\n",
            "Trial status: 1 PENDING\n",
            "Current time: 2024-05-12 07:51:36. Total running time: 3hr 56min 3s\n",
            "Logical resource usage: 0/2 CPUs, 0/1 GPUs\n",
            "+-----------------------------------+\n",
            "| Trial name               status   |\n",
            "+-----------------------------------+\n",
            "| PPO_my_env_7b7f7_00000   PENDING  |\n",
            "+-----------------------------------+\n"
          ]
        },
        {
          "metadata": {
            "tags": null
          },
          "name": "stderr",
          "output_type": "stream",
          "text": [
            "2024-05-12 07:51:48,631\tWARNING insufficient_resources_manager.py:163 -- Ignore this message if the cluster is autoscaling. No trial is running and no new trial has been started within the last 60 seconds. This could be due to the cluster not having enough resources available. You asked for 5.0 CPUs and 1.0 GPUs per trial, but the cluster only has 2.0 CPUs and 1.0 GPUs available. Stop the tuning and adjust the required resources (e.g. via the `ScalingConfig` or `resources_per_trial`, or `num_workers` for rllib), or add more resources to your cluster.\n"
          ]
        },
        {
          "metadata": {
            "tags": null
          },
          "name": "stdout",
          "output_type": "stream",
          "text": [
            "Trial status: 1 PENDING\n",
            "Current time: 2024-05-12 07:52:06. Total running time: 3hr 56min 33s\n",
            "Logical resource usage: 0/2 CPUs, 0/1 GPUs\n",
            "+-----------------------------------+\n",
            "| Trial name               status   |\n",
            "+-----------------------------------+\n",
            "| PPO_my_env_7b7f7_00000   PENDING  |\n",
            "+-----------------------------------+\n",
            "Trial status: 1 PENDING\n",
            "Current time: 2024-05-12 07:52:36. Total running time: 3hr 57min 3s\n",
            "Logical resource usage: 0/2 CPUs, 0/1 GPUs\n",
            "+-----------------------------------+\n",
            "| Trial name               status   |\n",
            "+-----------------------------------+\n",
            "| PPO_my_env_7b7f7_00000   PENDING  |\n",
            "+-----------------------------------+\n"
          ]
        },
        {
          "metadata": {
            "tags": null
          },
          "name": "stderr",
          "output_type": "stream",
          "text": [
            "2024-05-12 07:52:48,726\tWARNING insufficient_resources_manager.py:163 -- Ignore this message if the cluster is autoscaling. No trial is running and no new trial has been started within the last 60 seconds. This could be due to the cluster not having enough resources available. You asked for 5.0 CPUs and 1.0 GPUs per trial, but the cluster only has 2.0 CPUs and 1.0 GPUs available. Stop the tuning and adjust the required resources (e.g. via the `ScalingConfig` or `resources_per_trial`, or `num_workers` for rllib), or add more resources to your cluster.\n"
          ]
        },
        {
          "metadata": {
            "tags": null
          },
          "name": "stdout",
          "output_type": "stream",
          "text": [
            "Trial status: 1 PENDING\n",
            "Current time: 2024-05-12 07:53:06. Total running time: 3hr 57min 33s\n",
            "Logical resource usage: 0/2 CPUs, 0/1 GPUs\n",
            "+-----------------------------------+\n",
            "| Trial name               status   |\n",
            "+-----------------------------------+\n",
            "| PPO_my_env_7b7f7_00000   PENDING  |\n",
            "+-----------------------------------+\n",
            "Trial status: 1 PENDING\n",
            "Current time: 2024-05-12 07:53:36. Total running time: 3hr 58min 3s\n",
            "Logical resource usage: 0/2 CPUs, 0/1 GPUs\n",
            "+-----------------------------------+\n",
            "| Trial name               status   |\n",
            "+-----------------------------------+\n",
            "| PPO_my_env_7b7f7_00000   PENDING  |\n",
            "+-----------------------------------+\n"
          ]
        },
        {
          "metadata": {
            "tags": null
          },
          "name": "stderr",
          "output_type": "stream",
          "text": [
            "2024-05-12 07:53:48,742\tWARNING insufficient_resources_manager.py:163 -- Ignore this message if the cluster is autoscaling. No trial is running and no new trial has been started within the last 60 seconds. This could be due to the cluster not having enough resources available. You asked for 5.0 CPUs and 1.0 GPUs per trial, but the cluster only has 2.0 CPUs and 1.0 GPUs available. Stop the tuning and adjust the required resources (e.g. via the `ScalingConfig` or `resources_per_trial`, or `num_workers` for rllib), or add more resources to your cluster.\n"
          ]
        },
        {
          "metadata": {
            "tags": null
          },
          "name": "stdout",
          "output_type": "stream",
          "text": [
            "Trial status: 1 PENDING\n",
            "Current time: 2024-05-12 07:54:06. Total running time: 3hr 58min 33s\n",
            "Logical resource usage: 0/2 CPUs, 0/1 GPUs\n",
            "+-----------------------------------+\n",
            "| Trial name               status   |\n",
            "+-----------------------------------+\n",
            "| PPO_my_env_7b7f7_00000   PENDING  |\n",
            "+-----------------------------------+\n",
            "Trial status: 1 PENDING\n",
            "Current time: 2024-05-12 07:54:36. Total running time: 3hr 59min 3s\n",
            "Logical resource usage: 0/2 CPUs, 0/1 GPUs\n",
            "+-----------------------------------+\n",
            "| Trial name               status   |\n",
            "+-----------------------------------+\n",
            "| PPO_my_env_7b7f7_00000   PENDING  |\n",
            "+-----------------------------------+\n"
          ]
        },
        {
          "metadata": {
            "tags": null
          },
          "name": "stderr",
          "output_type": "stream",
          "text": [
            "2024-05-12 07:54:48,759\tWARNING insufficient_resources_manager.py:163 -- Ignore this message if the cluster is autoscaling. No trial is running and no new trial has been started within the last 60 seconds. This could be due to the cluster not having enough resources available. You asked for 5.0 CPUs and 1.0 GPUs per trial, but the cluster only has 2.0 CPUs and 1.0 GPUs available. Stop the tuning and adjust the required resources (e.g. via the `ScalingConfig` or `resources_per_trial`, or `num_workers` for rllib), or add more resources to your cluster.\n"
          ]
        },
        {
          "metadata": {
            "tags": null
          },
          "name": "stdout",
          "output_type": "stream",
          "text": [
            "Trial status: 1 PENDING\n",
            "Current time: 2024-05-12 07:55:06. Total running time: 3hr 59min 33s\n",
            "Logical resource usage: 0/2 CPUs, 0/1 GPUs\n",
            "+-----------------------------------+\n",
            "| Trial name               status   |\n",
            "+-----------------------------------+\n",
            "| PPO_my_env_7b7f7_00000   PENDING  |\n",
            "+-----------------------------------+\n",
            "Trial status: 1 PENDING\n",
            "Current time: 2024-05-12 07:55:36. Total running time: 4hr 0min 3s\n",
            "Logical resource usage: 0/2 CPUs, 0/1 GPUs\n",
            "+-----------------------------------+\n",
            "| Trial name               status   |\n",
            "+-----------------------------------+\n",
            "| PPO_my_env_7b7f7_00000   PENDING  |\n",
            "+-----------------------------------+\n"
          ]
        },
        {
          "metadata": {
            "tags": null
          },
          "name": "stderr",
          "output_type": "stream",
          "text": [
            "2024-05-12 07:55:48,847\tWARNING insufficient_resources_manager.py:163 -- Ignore this message if the cluster is autoscaling. No trial is running and no new trial has been started within the last 60 seconds. This could be due to the cluster not having enough resources available. You asked for 5.0 CPUs and 1.0 GPUs per trial, but the cluster only has 2.0 CPUs and 1.0 GPUs available. Stop the tuning and adjust the required resources (e.g. via the `ScalingConfig` or `resources_per_trial`, or `num_workers` for rllib), or add more resources to your cluster.\n"
          ]
        },
        {
          "metadata": {
            "tags": null
          },
          "name": "stdout",
          "output_type": "stream",
          "text": [
            "Trial status: 1 PENDING\n",
            "Current time: 2024-05-12 07:56:07. Total running time: 4hr 0min 33s\n",
            "Logical resource usage: 0/2 CPUs, 0/1 GPUs\n",
            "+-----------------------------------+\n",
            "| Trial name               status   |\n",
            "+-----------------------------------+\n",
            "| PPO_my_env_7b7f7_00000   PENDING  |\n",
            "+-----------------------------------+\n",
            "Trial status: 1 PENDING\n",
            "Current time: 2024-05-12 07:56:37. Total running time: 4hr 1min 3s\n",
            "Logical resource usage: 0/2 CPUs, 0/1 GPUs\n",
            "+-----------------------------------+\n",
            "| Trial name               status   |\n",
            "+-----------------------------------+\n",
            "| PPO_my_env_7b7f7_00000   PENDING  |\n",
            "+-----------------------------------+\n"
          ]
        },
        {
          "metadata": {
            "tags": null
          },
          "name": "stderr",
          "output_type": "stream",
          "text": [
            "2024-05-12 07:56:48,925\tWARNING insufficient_resources_manager.py:163 -- Ignore this message if the cluster is autoscaling. No trial is running and no new trial has been started within the last 60 seconds. This could be due to the cluster not having enough resources available. You asked for 5.0 CPUs and 1.0 GPUs per trial, but the cluster only has 2.0 CPUs and 1.0 GPUs available. Stop the tuning and adjust the required resources (e.g. via the `ScalingConfig` or `resources_per_trial`, or `num_workers` for rllib), or add more resources to your cluster.\n"
          ]
        },
        {
          "metadata": {
            "tags": null
          },
          "name": "stdout",
          "output_type": "stream",
          "text": [
            "Trial status: 1 PENDING\n",
            "Current time: 2024-05-12 07:57:07. Total running time: 4hr 1min 33s\n",
            "Logical resource usage: 0/2 CPUs, 0/1 GPUs\n",
            "+-----------------------------------+\n",
            "| Trial name               status   |\n",
            "+-----------------------------------+\n",
            "| PPO_my_env_7b7f7_00000   PENDING  |\n",
            "+-----------------------------------+\n",
            "Trial status: 1 PENDING\n",
            "Current time: 2024-05-12 07:57:37. Total running time: 4hr 2min 3s\n",
            "Logical resource usage: 0/2 CPUs, 0/1 GPUs\n",
            "+-----------------------------------+\n",
            "| Trial name               status   |\n",
            "+-----------------------------------+\n",
            "| PPO_my_env_7b7f7_00000   PENDING  |\n",
            "+-----------------------------------+\n"
          ]
        },
        {
          "metadata": {
            "tags": null
          },
          "name": "stderr",
          "output_type": "stream",
          "text": [
            "2024-05-12 07:57:48,930\tWARNING insufficient_resources_manager.py:163 -- Ignore this message if the cluster is autoscaling. No trial is running and no new trial has been started within the last 60 seconds. This could be due to the cluster not having enough resources available. You asked for 5.0 CPUs and 1.0 GPUs per trial, but the cluster only has 2.0 CPUs and 1.0 GPUs available. Stop the tuning and adjust the required resources (e.g. via the `ScalingConfig` or `resources_per_trial`, or `num_workers` for rllib), or add more resources to your cluster.\n"
          ]
        },
        {
          "metadata": {
            "tags": null
          },
          "name": "stdout",
          "output_type": "stream",
          "text": [
            "Trial status: 1 PENDING\n",
            "Current time: 2024-05-12 07:58:07. Total running time: 4hr 2min 33s\n",
            "Logical resource usage: 0/2 CPUs, 0/1 GPUs\n",
            "+-----------------------------------+\n",
            "| Trial name               status   |\n",
            "+-----------------------------------+\n",
            "| PPO_my_env_7b7f7_00000   PENDING  |\n",
            "+-----------------------------------+\n",
            "Trial status: 1 PENDING\n",
            "Current time: 2024-05-12 07:58:37. Total running time: 4hr 3min 3s\n",
            "Logical resource usage: 0/2 CPUs, 0/1 GPUs\n",
            "+-----------------------------------+\n",
            "| Trial name               status   |\n",
            "+-----------------------------------+\n",
            "| PPO_my_env_7b7f7_00000   PENDING  |\n",
            "+-----------------------------------+\n"
          ]
        },
        {
          "metadata": {
            "tags": null
          },
          "name": "stderr",
          "output_type": "stream",
          "text": [
            "2024-05-12 07:58:49,031\tWARNING insufficient_resources_manager.py:163 -- Ignore this message if the cluster is autoscaling. No trial is running and no new trial has been started within the last 60 seconds. This could be due to the cluster not having enough resources available. You asked for 5.0 CPUs and 1.0 GPUs per trial, but the cluster only has 2.0 CPUs and 1.0 GPUs available. Stop the tuning and adjust the required resources (e.g. via the `ScalingConfig` or `resources_per_trial`, or `num_workers` for rllib), or add more resources to your cluster.\n"
          ]
        },
        {
          "metadata": {
            "tags": null
          },
          "name": "stdout",
          "output_type": "stream",
          "text": [
            "Trial status: 1 PENDING\n",
            "Current time: 2024-05-12 07:59:07. Total running time: 4hr 3min 33s\n",
            "Logical resource usage: 0/2 CPUs, 0/1 GPUs\n",
            "+-----------------------------------+\n",
            "| Trial name               status   |\n",
            "+-----------------------------------+\n",
            "| PPO_my_env_7b7f7_00000   PENDING  |\n",
            "+-----------------------------------+\n",
            "Trial status: 1 PENDING\n",
            "Current time: 2024-05-12 07:59:37. Total running time: 4hr 4min 4s\n",
            "Logical resource usage: 0/2 CPUs, 0/1 GPUs\n",
            "+-----------------------------------+\n",
            "| Trial name               status   |\n",
            "+-----------------------------------+\n",
            "| PPO_my_env_7b7f7_00000   PENDING  |\n",
            "+-----------------------------------+\n"
          ]
        },
        {
          "metadata": {
            "tags": null
          },
          "name": "stderr",
          "output_type": "stream",
          "text": [
            "2024-05-12 07:59:49,037\tWARNING insufficient_resources_manager.py:163 -- Ignore this message if the cluster is autoscaling. No trial is running and no new trial has been started within the last 60 seconds. This could be due to the cluster not having enough resources available. You asked for 5.0 CPUs and 1.0 GPUs per trial, but the cluster only has 2.0 CPUs and 1.0 GPUs available. Stop the tuning and adjust the required resources (e.g. via the `ScalingConfig` or `resources_per_trial`, or `num_workers` for rllib), or add more resources to your cluster.\n"
          ]
        },
        {
          "metadata": {
            "tags": null
          },
          "name": "stdout",
          "output_type": "stream",
          "text": [
            "Trial status: 1 PENDING\n",
            "Current time: 2024-05-12 08:00:07. Total running time: 4hr 4min 34s\n",
            "Logical resource usage: 0/2 CPUs, 0/1 GPUs\n",
            "+-----------------------------------+\n",
            "| Trial name               status   |\n",
            "+-----------------------------------+\n",
            "| PPO_my_env_7b7f7_00000   PENDING  |\n",
            "+-----------------------------------+\n",
            "Trial status: 1 PENDING\n",
            "Current time: 2024-05-12 08:00:37. Total running time: 4hr 5min 4s\n",
            "Logical resource usage: 0/2 CPUs, 0/1 GPUs\n",
            "+-----------------------------------+\n",
            "| Trial name               status   |\n",
            "+-----------------------------------+\n",
            "| PPO_my_env_7b7f7_00000   PENDING  |\n",
            "+-----------------------------------+\n"
          ]
        },
        {
          "metadata": {
            "tags": null
          },
          "name": "stderr",
          "output_type": "stream",
          "text": [
            "2024-05-12 08:00:49,134\tWARNING insufficient_resources_manager.py:163 -- Ignore this message if the cluster is autoscaling. No trial is running and no new trial has been started within the last 60 seconds. This could be due to the cluster not having enough resources available. You asked for 5.0 CPUs and 1.0 GPUs per trial, but the cluster only has 2.0 CPUs and 1.0 GPUs available. Stop the tuning and adjust the required resources (e.g. via the `ScalingConfig` or `resources_per_trial`, or `num_workers` for rllib), or add more resources to your cluster.\n"
          ]
        },
        {
          "metadata": {
            "tags": null
          },
          "name": "stdout",
          "output_type": "stream",
          "text": [
            "Trial status: 1 PENDING\n",
            "Current time: 2024-05-12 08:01:07. Total running time: 4hr 5min 34s\n",
            "Logical resource usage: 0/2 CPUs, 0/1 GPUs\n",
            "+-----------------------------------+\n",
            "| Trial name               status   |\n",
            "+-----------------------------------+\n",
            "| PPO_my_env_7b7f7_00000   PENDING  |\n",
            "+-----------------------------------+\n",
            "Trial status: 1 PENDING\n",
            "Current time: 2024-05-12 08:01:37. Total running time: 4hr 6min 4s\n",
            "Logical resource usage: 0/2 CPUs, 0/1 GPUs\n",
            "+-----------------------------------+\n",
            "| Trial name               status   |\n",
            "+-----------------------------------+\n",
            "| PPO_my_env_7b7f7_00000   PENDING  |\n",
            "+-----------------------------------+\n"
          ]
        },
        {
          "metadata": {
            "tags": null
          },
          "name": "stderr",
          "output_type": "stream",
          "text": [
            "2024-05-12 08:01:49,227\tWARNING insufficient_resources_manager.py:163 -- Ignore this message if the cluster is autoscaling. No trial is running and no new trial has been started within the last 60 seconds. This could be due to the cluster not having enough resources available. You asked for 5.0 CPUs and 1.0 GPUs per trial, but the cluster only has 2.0 CPUs and 1.0 GPUs available. Stop the tuning and adjust the required resources (e.g. via the `ScalingConfig` or `resources_per_trial`, or `num_workers` for rllib), or add more resources to your cluster.\n"
          ]
        },
        {
          "metadata": {
            "tags": null
          },
          "name": "stdout",
          "output_type": "stream",
          "text": [
            "Trial status: 1 PENDING\n",
            "Current time: 2024-05-12 08:02:07. Total running time: 4hr 6min 34s\n",
            "Logical resource usage: 0/2 CPUs, 0/1 GPUs\n",
            "+-----------------------------------+\n",
            "| Trial name               status   |\n",
            "+-----------------------------------+\n",
            "| PPO_my_env_7b7f7_00000   PENDING  |\n",
            "+-----------------------------------+\n",
            "Trial status: 1 PENDING\n",
            "Current time: 2024-05-12 08:02:37. Total running time: 4hr 7min 4s\n",
            "Logical resource usage: 0/2 CPUs, 0/1 GPUs\n",
            "+-----------------------------------+\n",
            "| Trial name               status   |\n",
            "+-----------------------------------+\n",
            "| PPO_my_env_7b7f7_00000   PENDING  |\n",
            "+-----------------------------------+\n"
          ]
        },
        {
          "metadata": {
            "tags": null
          },
          "name": "stderr",
          "output_type": "stream",
          "text": [
            "2024-05-12 08:02:49,250\tWARNING insufficient_resources_manager.py:163 -- Ignore this message if the cluster is autoscaling. No trial is running and no new trial has been started within the last 60 seconds. This could be due to the cluster not having enough resources available. You asked for 5.0 CPUs and 1.0 GPUs per trial, but the cluster only has 2.0 CPUs and 1.0 GPUs available. Stop the tuning and adjust the required resources (e.g. via the `ScalingConfig` or `resources_per_trial`, or `num_workers` for rllib), or add more resources to your cluster.\n"
          ]
        },
        {
          "metadata": {
            "tags": null
          },
          "name": "stdout",
          "output_type": "stream",
          "text": [
            "Trial status: 1 PENDING\n",
            "Current time: 2024-05-12 08:03:07. Total running time: 4hr 7min 34s\n",
            "Logical resource usage: 0/2 CPUs, 0/1 GPUs\n",
            "+-----------------------------------+\n",
            "| Trial name               status   |\n",
            "+-----------------------------------+\n",
            "| PPO_my_env_7b7f7_00000   PENDING  |\n",
            "+-----------------------------------+\n",
            "Trial status: 1 PENDING\n",
            "Current time: 2024-05-12 08:03:37. Total running time: 4hr 8min 4s\n",
            "Logical resource usage: 0/2 CPUs, 0/1 GPUs\n",
            "+-----------------------------------+\n",
            "| Trial name               status   |\n",
            "+-----------------------------------+\n",
            "| PPO_my_env_7b7f7_00000   PENDING  |\n",
            "+-----------------------------------+\n"
          ]
        },
        {
          "metadata": {
            "tags": null
          },
          "name": "stderr",
          "output_type": "stream",
          "text": [
            "2024-05-12 08:03:49,278\tWARNING insufficient_resources_manager.py:163 -- Ignore this message if the cluster is autoscaling. No trial is running and no new trial has been started within the last 60 seconds. This could be due to the cluster not having enough resources available. You asked for 5.0 CPUs and 1.0 GPUs per trial, but the cluster only has 2.0 CPUs and 1.0 GPUs available. Stop the tuning and adjust the required resources (e.g. via the `ScalingConfig` or `resources_per_trial`, or `num_workers` for rllib), or add more resources to your cluster.\n"
          ]
        },
        {
          "metadata": {
            "tags": null
          },
          "name": "stdout",
          "output_type": "stream",
          "text": [
            "Trial status: 1 PENDING\n",
            "Current time: 2024-05-12 08:04:07. Total running time: 4hr 8min 34s\n",
            "Logical resource usage: 0/2 CPUs, 0/1 GPUs\n",
            "+-----------------------------------+\n",
            "| Trial name               status   |\n",
            "+-----------------------------------+\n",
            "| PPO_my_env_7b7f7_00000   PENDING  |\n",
            "+-----------------------------------+\n",
            "Trial status: 1 PENDING\n",
            "Current time: 2024-05-12 08:04:37. Total running time: 4hr 9min 4s\n",
            "Logical resource usage: 0/2 CPUs, 0/1 GPUs\n",
            "+-----------------------------------+\n",
            "| Trial name               status   |\n",
            "+-----------------------------------+\n",
            "| PPO_my_env_7b7f7_00000   PENDING  |\n",
            "+-----------------------------------+\n"
          ]
        },
        {
          "metadata": {
            "tags": null
          },
          "name": "stderr",
          "output_type": "stream",
          "text": [
            "2024-05-12 08:04:49,305\tWARNING insufficient_resources_manager.py:163 -- Ignore this message if the cluster is autoscaling. No trial is running and no new trial has been started within the last 60 seconds. This could be due to the cluster not having enough resources available. You asked for 5.0 CPUs and 1.0 GPUs per trial, but the cluster only has 2.0 CPUs and 1.0 GPUs available. Stop the tuning and adjust the required resources (e.g. via the `ScalingConfig` or `resources_per_trial`, or `num_workers` for rllib), or add more resources to your cluster.\n"
          ]
        },
        {
          "metadata": {
            "tags": null
          },
          "name": "stdout",
          "output_type": "stream",
          "text": [
            "Trial status: 1 PENDING\n",
            "Current time: 2024-05-12 08:05:07. Total running time: 4hr 9min 34s\n",
            "Logical resource usage: 0/2 CPUs, 0/1 GPUs\n",
            "+-----------------------------------+\n",
            "| Trial name               status   |\n",
            "+-----------------------------------+\n",
            "| PPO_my_env_7b7f7_00000   PENDING  |\n",
            "+-----------------------------------+\n",
            "Trial status: 1 PENDING\n",
            "Current time: 2024-05-12 08:05:37. Total running time: 4hr 10min 4s\n",
            "Logical resource usage: 0/2 CPUs, 0/1 GPUs\n",
            "+-----------------------------------+\n",
            "| Trial name               status   |\n",
            "+-----------------------------------+\n",
            "| PPO_my_env_7b7f7_00000   PENDING  |\n",
            "+-----------------------------------+\n"
          ]
        },
        {
          "metadata": {
            "tags": null
          },
          "name": "stderr",
          "output_type": "stream",
          "text": [
            "2024-05-12 08:05:49,325\tWARNING insufficient_resources_manager.py:163 -- Ignore this message if the cluster is autoscaling. No trial is running and no new trial has been started within the last 60 seconds. This could be due to the cluster not having enough resources available. You asked for 5.0 CPUs and 1.0 GPUs per trial, but the cluster only has 2.0 CPUs and 1.0 GPUs available. Stop the tuning and adjust the required resources (e.g. via the `ScalingConfig` or `resources_per_trial`, or `num_workers` for rllib), or add more resources to your cluster.\n"
          ]
        },
        {
          "metadata": {
            "tags": null
          },
          "name": "stdout",
          "output_type": "stream",
          "text": [
            "Trial status: 1 PENDING\n",
            "Current time: 2024-05-12 08:06:08. Total running time: 4hr 10min 34s\n",
            "Logical resource usage: 0/2 CPUs, 0/1 GPUs\n",
            "+-----------------------------------+\n",
            "| Trial name               status   |\n",
            "+-----------------------------------+\n",
            "| PPO_my_env_7b7f7_00000   PENDING  |\n",
            "+-----------------------------------+\n",
            "Trial status: 1 PENDING\n",
            "Current time: 2024-05-12 08:06:38. Total running time: 4hr 11min 4s\n",
            "Logical resource usage: 0/2 CPUs, 0/1 GPUs\n",
            "+-----------------------------------+\n",
            "| Trial name               status   |\n",
            "+-----------------------------------+\n",
            "| PPO_my_env_7b7f7_00000   PENDING  |\n",
            "+-----------------------------------+\n"
          ]
        },
        {
          "metadata": {
            "tags": null
          },
          "name": "stderr",
          "output_type": "stream",
          "text": [
            "2024-05-12 08:06:49,332\tWARNING insufficient_resources_manager.py:163 -- Ignore this message if the cluster is autoscaling. No trial is running and no new trial has been started within the last 60 seconds. This could be due to the cluster not having enough resources available. You asked for 5.0 CPUs and 1.0 GPUs per trial, but the cluster only has 2.0 CPUs and 1.0 GPUs available. Stop the tuning and adjust the required resources (e.g. via the `ScalingConfig` or `resources_per_trial`, or `num_workers` for rllib), or add more resources to your cluster.\n"
          ]
        },
        {
          "metadata": {
            "tags": null
          },
          "name": "stdout",
          "output_type": "stream",
          "text": [
            "Trial status: 1 PENDING\n",
            "Current time: 2024-05-12 08:07:08. Total running time: 4hr 11min 34s\n",
            "Logical resource usage: 0/2 CPUs, 0/1 GPUs\n",
            "+-----------------------------------+\n",
            "| Trial name               status   |\n",
            "+-----------------------------------+\n",
            "| PPO_my_env_7b7f7_00000   PENDING  |\n",
            "+-----------------------------------+\n",
            "Trial status: 1 PENDING\n",
            "Current time: 2024-05-12 08:07:38. Total running time: 4hr 12min 4s\n",
            "Logical resource usage: 0/2 CPUs, 0/1 GPUs\n",
            "+-----------------------------------+\n",
            "| Trial name               status   |\n",
            "+-----------------------------------+\n",
            "| PPO_my_env_7b7f7_00000   PENDING  |\n",
            "+-----------------------------------+\n"
          ]
        },
        {
          "metadata": {
            "tags": null
          },
          "name": "stderr",
          "output_type": "stream",
          "text": [
            "2024-05-12 08:07:49,335\tWARNING insufficient_resources_manager.py:163 -- Ignore this message if the cluster is autoscaling. No trial is running and no new trial has been started within the last 60 seconds. This could be due to the cluster not having enough resources available. You asked for 5.0 CPUs and 1.0 GPUs per trial, but the cluster only has 2.0 CPUs and 1.0 GPUs available. Stop the tuning and adjust the required resources (e.g. via the `ScalingConfig` or `resources_per_trial`, or `num_workers` for rllib), or add more resources to your cluster.\n"
          ]
        },
        {
          "metadata": {
            "tags": null
          },
          "name": "stdout",
          "output_type": "stream",
          "text": [
            "Trial status: 1 PENDING\n",
            "Current time: 2024-05-12 08:08:08. Total running time: 4hr 12min 34s\n",
            "Logical resource usage: 0/2 CPUs, 0/1 GPUs\n",
            "+-----------------------------------+\n",
            "| Trial name               status   |\n",
            "+-----------------------------------+\n",
            "| PPO_my_env_7b7f7_00000   PENDING  |\n",
            "+-----------------------------------+\n",
            "Trial status: 1 PENDING\n",
            "Current time: 2024-05-12 08:08:38. Total running time: 4hr 13min 4s\n",
            "Logical resource usage: 0/2 CPUs, 0/1 GPUs\n",
            "+-----------------------------------+\n",
            "| Trial name               status   |\n",
            "+-----------------------------------+\n",
            "| PPO_my_env_7b7f7_00000   PENDING  |\n",
            "+-----------------------------------+\n"
          ]
        },
        {
          "metadata": {
            "tags": null
          },
          "name": "stderr",
          "output_type": "stream",
          "text": [
            "2024-05-12 08:08:49,433\tWARNING insufficient_resources_manager.py:163 -- Ignore this message if the cluster is autoscaling. No trial is running and no new trial has been started within the last 60 seconds. This could be due to the cluster not having enough resources available. You asked for 5.0 CPUs and 1.0 GPUs per trial, but the cluster only has 2.0 CPUs and 1.0 GPUs available. Stop the tuning and adjust the required resources (e.g. via the `ScalingConfig` or `resources_per_trial`, or `num_workers` for rllib), or add more resources to your cluster.\n"
          ]
        },
        {
          "metadata": {
            "tags": null
          },
          "name": "stdout",
          "output_type": "stream",
          "text": [
            "Trial status: 1 PENDING\n",
            "Current time: 2024-05-12 08:09:08. Total running time: 4hr 13min 34s\n",
            "Logical resource usage: 0/2 CPUs, 0/1 GPUs\n",
            "+-----------------------------------+\n",
            "| Trial name               status   |\n",
            "+-----------------------------------+\n",
            "| PPO_my_env_7b7f7_00000   PENDING  |\n",
            "+-----------------------------------+\n",
            "Trial status: 1 PENDING\n",
            "Current time: 2024-05-12 08:09:38. Total running time: 4hr 14min 4s\n",
            "Logical resource usage: 0/2 CPUs, 0/1 GPUs\n",
            "+-----------------------------------+\n",
            "| Trial name               status   |\n",
            "+-----------------------------------+\n",
            "| PPO_my_env_7b7f7_00000   PENDING  |\n",
            "+-----------------------------------+\n"
          ]
        },
        {
          "metadata": {
            "tags": null
          },
          "name": "stderr",
          "output_type": "stream",
          "text": [
            "2024-05-12 08:09:49,447\tWARNING insufficient_resources_manager.py:163 -- Ignore this message if the cluster is autoscaling. No trial is running and no new trial has been started within the last 60 seconds. This could be due to the cluster not having enough resources available. You asked for 5.0 CPUs and 1.0 GPUs per trial, but the cluster only has 2.0 CPUs and 1.0 GPUs available. Stop the tuning and adjust the required resources (e.g. via the `ScalingConfig` or `resources_per_trial`, or `num_workers` for rllib), or add more resources to your cluster.\n"
          ]
        },
        {
          "metadata": {
            "tags": null
          },
          "name": "stdout",
          "output_type": "stream",
          "text": [
            "Trial status: 1 PENDING\n",
            "Current time: 2024-05-12 08:10:08. Total running time: 4hr 14min 34s\n",
            "Logical resource usage: 0/2 CPUs, 0/1 GPUs\n",
            "+-----------------------------------+\n",
            "| Trial name               status   |\n",
            "+-----------------------------------+\n",
            "| PPO_my_env_7b7f7_00000   PENDING  |\n",
            "+-----------------------------------+\n",
            "Trial status: 1 PENDING\n",
            "Current time: 2024-05-12 08:10:38. Total running time: 4hr 15min 5s\n",
            "Logical resource usage: 0/2 CPUs, 0/1 GPUs\n",
            "+-----------------------------------+\n",
            "| Trial name               status   |\n",
            "+-----------------------------------+\n",
            "| PPO_my_env_7b7f7_00000   PENDING  |\n",
            "+-----------------------------------+\n"
          ]
        },
        {
          "metadata": {
            "tags": null
          },
          "name": "stderr",
          "output_type": "stream",
          "text": [
            "2024-05-12 08:10:49,543\tWARNING insufficient_resources_manager.py:163 -- Ignore this message if the cluster is autoscaling. No trial is running and no new trial has been started within the last 60 seconds. This could be due to the cluster not having enough resources available. You asked for 5.0 CPUs and 1.0 GPUs per trial, but the cluster only has 2.0 CPUs and 1.0 GPUs available. Stop the tuning and adjust the required resources (e.g. via the `ScalingConfig` or `resources_per_trial`, or `num_workers` for rllib), or add more resources to your cluster.\n"
          ]
        },
        {
          "metadata": {
            "tags": null
          },
          "name": "stdout",
          "output_type": "stream",
          "text": [
            "Trial status: 1 PENDING\n",
            "Current time: 2024-05-12 08:11:08. Total running time: 4hr 15min 35s\n",
            "Logical resource usage: 0/2 CPUs, 0/1 GPUs\n",
            "+-----------------------------------+\n",
            "| Trial name               status   |\n",
            "+-----------------------------------+\n",
            "| PPO_my_env_7b7f7_00000   PENDING  |\n",
            "+-----------------------------------+\n",
            "Trial status: 1 PENDING\n",
            "Current time: 2024-05-12 08:11:38. Total running time: 4hr 16min 5s\n",
            "Logical resource usage: 0/2 CPUs, 0/1 GPUs\n",
            "+-----------------------------------+\n",
            "| Trial name               status   |\n",
            "+-----------------------------------+\n",
            "| PPO_my_env_7b7f7_00000   PENDING  |\n",
            "+-----------------------------------+\n"
          ]
        },
        {
          "metadata": {
            "tags": null
          },
          "name": "stderr",
          "output_type": "stream",
          "text": [
            "2024-05-12 08:11:49,620\tWARNING insufficient_resources_manager.py:163 -- Ignore this message if the cluster is autoscaling. No trial is running and no new trial has been started within the last 60 seconds. This could be due to the cluster not having enough resources available. You asked for 5.0 CPUs and 1.0 GPUs per trial, but the cluster only has 2.0 CPUs and 1.0 GPUs available. Stop the tuning and adjust the required resources (e.g. via the `ScalingConfig` or `resources_per_trial`, or `num_workers` for rllib), or add more resources to your cluster.\n"
          ]
        },
        {
          "metadata": {
            "tags": null
          },
          "name": "stdout",
          "output_type": "stream",
          "text": [
            "Trial status: 1 PENDING\n",
            "Current time: 2024-05-12 08:12:08. Total running time: 4hr 16min 35s\n",
            "Logical resource usage: 0/2 CPUs, 0/1 GPUs\n",
            "+-----------------------------------+\n",
            "| Trial name               status   |\n",
            "+-----------------------------------+\n",
            "| PPO_my_env_7b7f7_00000   PENDING  |\n",
            "+-----------------------------------+\n",
            "Trial status: 1 PENDING\n",
            "Current time: 2024-05-12 08:12:38. Total running time: 4hr 17min 5s\n",
            "Logical resource usage: 0/2 CPUs, 0/1 GPUs\n",
            "+-----------------------------------+\n",
            "| Trial name               status   |\n",
            "+-----------------------------------+\n",
            "| PPO_my_env_7b7f7_00000   PENDING  |\n",
            "+-----------------------------------+\n"
          ]
        },
        {
          "metadata": {
            "tags": null
          },
          "name": "stderr",
          "output_type": "stream",
          "text": [
            "2024-05-12 08:12:49,683\tWARNING insufficient_resources_manager.py:163 -- Ignore this message if the cluster is autoscaling. No trial is running and no new trial has been started within the last 60 seconds. This could be due to the cluster not having enough resources available. You asked for 5.0 CPUs and 1.0 GPUs per trial, but the cluster only has 2.0 CPUs and 1.0 GPUs available. Stop the tuning and adjust the required resources (e.g. via the `ScalingConfig` or `resources_per_trial`, or `num_workers` for rllib), or add more resources to your cluster.\n"
          ]
        },
        {
          "metadata": {
            "tags": null
          },
          "name": "stdout",
          "output_type": "stream",
          "text": [
            "Trial status: 1 PENDING\n",
            "Current time: 2024-05-12 08:13:08. Total running time: 4hr 17min 35s\n",
            "Logical resource usage: 0/2 CPUs, 0/1 GPUs\n",
            "+-----------------------------------+\n",
            "| Trial name               status   |\n",
            "+-----------------------------------+\n",
            "| PPO_my_env_7b7f7_00000   PENDING  |\n",
            "+-----------------------------------+\n",
            "Trial status: 1 PENDING\n",
            "Current time: 2024-05-12 08:13:38. Total running time: 4hr 18min 5s\n",
            "Logical resource usage: 0/2 CPUs, 0/1 GPUs\n",
            "+-----------------------------------+\n",
            "| Trial name               status   |\n",
            "+-----------------------------------+\n",
            "| PPO_my_env_7b7f7_00000   PENDING  |\n",
            "+-----------------------------------+\n"
          ]
        },
        {
          "metadata": {
            "tags": null
          },
          "name": "stderr",
          "output_type": "stream",
          "text": [
            "2024-05-12 08:13:49,760\tWARNING insufficient_resources_manager.py:163 -- Ignore this message if the cluster is autoscaling. No trial is running and no new trial has been started within the last 60 seconds. This could be due to the cluster not having enough resources available. You asked for 5.0 CPUs and 1.0 GPUs per trial, but the cluster only has 2.0 CPUs and 1.0 GPUs available. Stop the tuning and adjust the required resources (e.g. via the `ScalingConfig` or `resources_per_trial`, or `num_workers` for rllib), or add more resources to your cluster.\n"
          ]
        },
        {
          "metadata": {
            "tags": null
          },
          "name": "stdout",
          "output_type": "stream",
          "text": [
            "Trial status: 1 PENDING\n",
            "Current time: 2024-05-12 08:14:09. Total running time: 4hr 18min 35s\n",
            "Logical resource usage: 0/2 CPUs, 0/1 GPUs\n",
            "+-----------------------------------+\n",
            "| Trial name               status   |\n",
            "+-----------------------------------+\n",
            "| PPO_my_env_7b7f7_00000   PENDING  |\n",
            "+-----------------------------------+\n",
            "Trial status: 1 PENDING\n",
            "Current time: 2024-05-12 08:14:39. Total running time: 4hr 19min 5s\n",
            "Logical resource usage: 0/2 CPUs, 0/1 GPUs\n",
            "+-----------------------------------+\n",
            "| Trial name               status   |\n",
            "+-----------------------------------+\n",
            "| PPO_my_env_7b7f7_00000   PENDING  |\n",
            "+-----------------------------------+\n"
          ]
        },
        {
          "metadata": {
            "tags": null
          },
          "name": "stderr",
          "output_type": "stream",
          "text": [
            "2024-05-12 08:14:49,812\tWARNING insufficient_resources_manager.py:163 -- Ignore this message if the cluster is autoscaling. No trial is running and no new trial has been started within the last 60 seconds. This could be due to the cluster not having enough resources available. You asked for 5.0 CPUs and 1.0 GPUs per trial, but the cluster only has 2.0 CPUs and 1.0 GPUs available. Stop the tuning and adjust the required resources (e.g. via the `ScalingConfig` or `resources_per_trial`, or `num_workers` for rllib), or add more resources to your cluster.\n"
          ]
        },
        {
          "metadata": {
            "tags": null
          },
          "name": "stdout",
          "output_type": "stream",
          "text": [
            "Trial status: 1 PENDING\n",
            "Current time: 2024-05-12 08:15:09. Total running time: 4hr 19min 35s\n",
            "Logical resource usage: 0/2 CPUs, 0/1 GPUs\n",
            "+-----------------------------------+\n",
            "| Trial name               status   |\n",
            "+-----------------------------------+\n",
            "| PPO_my_env_7b7f7_00000   PENDING  |\n",
            "+-----------------------------------+\n",
            "Trial status: 1 PENDING\n",
            "Current time: 2024-05-12 08:15:39. Total running time: 4hr 20min 5s\n",
            "Logical resource usage: 0/2 CPUs, 0/1 GPUs\n",
            "+-----------------------------------+\n",
            "| Trial name               status   |\n",
            "+-----------------------------------+\n",
            "| PPO_my_env_7b7f7_00000   PENDING  |\n",
            "+-----------------------------------+\n"
          ]
        },
        {
          "metadata": {
            "tags": null
          },
          "name": "stderr",
          "output_type": "stream",
          "text": [
            "2024-05-12 08:15:49,882\tWARNING insufficient_resources_manager.py:163 -- Ignore this message if the cluster is autoscaling. No trial is running and no new trial has been started within the last 60 seconds. This could be due to the cluster not having enough resources available. You asked for 5.0 CPUs and 1.0 GPUs per trial, but the cluster only has 2.0 CPUs and 1.0 GPUs available. Stop the tuning and adjust the required resources (e.g. via the `ScalingConfig` or `resources_per_trial`, or `num_workers` for rllib), or add more resources to your cluster.\n"
          ]
        },
        {
          "metadata": {
            "tags": null
          },
          "name": "stdout",
          "output_type": "stream",
          "text": [
            "Trial status: 1 PENDING\n",
            "Current time: 2024-05-12 08:16:09. Total running time: 4hr 20min 35s\n",
            "Logical resource usage: 0/2 CPUs, 0/1 GPUs\n",
            "+-----------------------------------+\n",
            "| Trial name               status   |\n",
            "+-----------------------------------+\n",
            "| PPO_my_env_7b7f7_00000   PENDING  |\n",
            "+-----------------------------------+\n",
            "Trial status: 1 PENDING\n",
            "Current time: 2024-05-12 08:16:39. Total running time: 4hr 21min 6s\n",
            "Logical resource usage: 0/2 CPUs, 0/1 GPUs\n",
            "+-----------------------------------+\n",
            "| Trial name               status   |\n",
            "+-----------------------------------+\n",
            "| PPO_my_env_7b7f7_00000   PENDING  |\n",
            "+-----------------------------------+\n"
          ]
        },
        {
          "metadata": {
            "tags": null
          },
          "name": "stderr",
          "output_type": "stream",
          "text": [
            "2024-05-12 08:16:49,961\tWARNING insufficient_resources_manager.py:163 -- Ignore this message if the cluster is autoscaling. No trial is running and no new trial has been started within the last 60 seconds. This could be due to the cluster not having enough resources available. You asked for 5.0 CPUs and 1.0 GPUs per trial, but the cluster only has 2.0 CPUs and 1.0 GPUs available. Stop the tuning and adjust the required resources (e.g. via the `ScalingConfig` or `resources_per_trial`, or `num_workers` for rllib), or add more resources to your cluster.\n"
          ]
        },
        {
          "metadata": {
            "tags": null
          },
          "name": "stdout",
          "output_type": "stream",
          "text": [
            "Trial status: 1 PENDING\n",
            "Current time: 2024-05-12 08:17:09. Total running time: 4hr 21min 36s\n",
            "Logical resource usage: 0/2 CPUs, 0/1 GPUs\n",
            "+-----------------------------------+\n",
            "| Trial name               status   |\n",
            "+-----------------------------------+\n",
            "| PPO_my_env_7b7f7_00000   PENDING  |\n",
            "+-----------------------------------+\n",
            "Trial status: 1 PENDING\n",
            "Current time: 2024-05-12 08:17:39. Total running time: 4hr 22min 6s\n",
            "Logical resource usage: 0/2 CPUs, 0/1 GPUs\n",
            "+-----------------------------------+\n",
            "| Trial name               status   |\n",
            "+-----------------------------------+\n",
            "| PPO_my_env_7b7f7_00000   PENDING  |\n",
            "+-----------------------------------+\n"
          ]
        },
        {
          "metadata": {
            "tags": null
          },
          "name": "stderr",
          "output_type": "stream",
          "text": [
            "2024-05-12 08:17:50,025\tWARNING insufficient_resources_manager.py:163 -- Ignore this message if the cluster is autoscaling. No trial is running and no new trial has been started within the last 60 seconds. This could be due to the cluster not having enough resources available. You asked for 5.0 CPUs and 1.0 GPUs per trial, but the cluster only has 2.0 CPUs and 1.0 GPUs available. Stop the tuning and adjust the required resources (e.g. via the `ScalingConfig` or `resources_per_trial`, or `num_workers` for rllib), or add more resources to your cluster.\n"
          ]
        },
        {
          "metadata": {
            "tags": null
          },
          "name": "stdout",
          "output_type": "stream",
          "text": [
            "Trial status: 1 PENDING\n",
            "Current time: 2024-05-12 08:18:09. Total running time: 4hr 22min 36s\n",
            "Logical resource usage: 0/2 CPUs, 0/1 GPUs\n",
            "+-----------------------------------+\n",
            "| Trial name               status   |\n",
            "+-----------------------------------+\n",
            "| PPO_my_env_7b7f7_00000   PENDING  |\n",
            "+-----------------------------------+\n",
            "Trial status: 1 PENDING\n",
            "Current time: 2024-05-12 08:18:39. Total running time: 4hr 23min 6s\n",
            "Logical resource usage: 0/2 CPUs, 0/1 GPUs\n",
            "+-----------------------------------+\n",
            "| Trial name               status   |\n",
            "+-----------------------------------+\n",
            "| PPO_my_env_7b7f7_00000   PENDING  |\n",
            "+-----------------------------------+\n"
          ]
        },
        {
          "metadata": {
            "tags": null
          },
          "name": "stderr",
          "output_type": "stream",
          "text": [
            "2024-05-12 08:18:50,094\tWARNING insufficient_resources_manager.py:163 -- Ignore this message if the cluster is autoscaling. No trial is running and no new trial has been started within the last 60 seconds. This could be due to the cluster not having enough resources available. You asked for 5.0 CPUs and 1.0 GPUs per trial, but the cluster only has 2.0 CPUs and 1.0 GPUs available. Stop the tuning and adjust the required resources (e.g. via the `ScalingConfig` or `resources_per_trial`, or `num_workers` for rllib), or add more resources to your cluster.\n"
          ]
        },
        {
          "metadata": {
            "tags": null
          },
          "name": "stdout",
          "output_type": "stream",
          "text": [
            "Trial status: 1 PENDING\n",
            "Current time: 2024-05-12 08:19:09. Total running time: 4hr 23min 36s\n",
            "Logical resource usage: 0/2 CPUs, 0/1 GPUs\n",
            "+-----------------------------------+\n",
            "| Trial name               status   |\n",
            "+-----------------------------------+\n",
            "| PPO_my_env_7b7f7_00000   PENDING  |\n",
            "+-----------------------------------+\n",
            "Trial status: 1 PENDING\n",
            "Current time: 2024-05-12 08:19:39. Total running time: 4hr 24min 6s\n",
            "Logical resource usage: 0/2 CPUs, 0/1 GPUs\n",
            "+-----------------------------------+\n",
            "| Trial name               status   |\n",
            "+-----------------------------------+\n",
            "| PPO_my_env_7b7f7_00000   PENDING  |\n",
            "+-----------------------------------+\n"
          ]
        },
        {
          "metadata": {
            "tags": null
          },
          "name": "stderr",
          "output_type": "stream",
          "text": [
            "2024-05-12 08:19:50,148\tWARNING insufficient_resources_manager.py:163 -- Ignore this message if the cluster is autoscaling. No trial is running and no new trial has been started within the last 60 seconds. This could be due to the cluster not having enough resources available. You asked for 5.0 CPUs and 1.0 GPUs per trial, but the cluster only has 2.0 CPUs and 1.0 GPUs available. Stop the tuning and adjust the required resources (e.g. via the `ScalingConfig` or `resources_per_trial`, or `num_workers` for rllib), or add more resources to your cluster.\n"
          ]
        },
        {
          "metadata": {
            "tags": null
          },
          "name": "stdout",
          "output_type": "stream",
          "text": [
            "Trial status: 1 PENDING\n",
            "Current time: 2024-05-12 08:20:10. Total running time: 4hr 24min 36s\n",
            "Logical resource usage: 0/2 CPUs, 0/1 GPUs\n",
            "+-----------------------------------+\n",
            "| Trial name               status   |\n",
            "+-----------------------------------+\n",
            "| PPO_my_env_7b7f7_00000   PENDING  |\n",
            "+-----------------------------------+\n",
            "Trial status: 1 PENDING\n",
            "Current time: 2024-05-12 08:20:40. Total running time: 4hr 25min 6s\n",
            "Logical resource usage: 0/2 CPUs, 0/1 GPUs\n",
            "+-----------------------------------+\n",
            "| Trial name               status   |\n",
            "+-----------------------------------+\n",
            "| PPO_my_env_7b7f7_00000   PENDING  |\n",
            "+-----------------------------------+\n"
          ]
        },
        {
          "metadata": {
            "tags": null
          },
          "name": "stderr",
          "output_type": "stream",
          "text": [
            "2024-05-12 08:20:50,201\tWARNING insufficient_resources_manager.py:163 -- Ignore this message if the cluster is autoscaling. No trial is running and no new trial has been started within the last 60 seconds. This could be due to the cluster not having enough resources available. You asked for 5.0 CPUs and 1.0 GPUs per trial, but the cluster only has 2.0 CPUs and 1.0 GPUs available. Stop the tuning and adjust the required resources (e.g. via the `ScalingConfig` or `resources_per_trial`, or `num_workers` for rllib), or add more resources to your cluster.\n"
          ]
        },
        {
          "metadata": {
            "tags": null
          },
          "name": "stdout",
          "output_type": "stream",
          "text": [
            "Trial status: 1 PENDING\n",
            "Current time: 2024-05-12 08:21:10. Total running time: 4hr 25min 36s\n",
            "Logical resource usage: 0/2 CPUs, 0/1 GPUs\n",
            "+-----------------------------------+\n",
            "| Trial name               status   |\n",
            "+-----------------------------------+\n",
            "| PPO_my_env_7b7f7_00000   PENDING  |\n",
            "+-----------------------------------+\n",
            "Trial status: 1 PENDING\n",
            "Current time: 2024-05-12 08:21:40. Total running time: 4hr 26min 6s\n",
            "Logical resource usage: 0/2 CPUs, 0/1 GPUs\n",
            "+-----------------------------------+\n",
            "| Trial name               status   |\n",
            "+-----------------------------------+\n",
            "| PPO_my_env_7b7f7_00000   PENDING  |\n",
            "+-----------------------------------+\n"
          ]
        },
        {
          "metadata": {
            "tags": null
          },
          "name": "stderr",
          "output_type": "stream",
          "text": [
            "2024-05-12 08:21:50,261\tWARNING insufficient_resources_manager.py:163 -- Ignore this message if the cluster is autoscaling. No trial is running and no new trial has been started within the last 60 seconds. This could be due to the cluster not having enough resources available. You asked for 5.0 CPUs and 1.0 GPUs per trial, but the cluster only has 2.0 CPUs and 1.0 GPUs available. Stop the tuning and adjust the required resources (e.g. via the `ScalingConfig` or `resources_per_trial`, or `num_workers` for rllib), or add more resources to your cluster.\n"
          ]
        },
        {
          "metadata": {
            "tags": null
          },
          "name": "stdout",
          "output_type": "stream",
          "text": [
            "Trial status: 1 PENDING\n",
            "Current time: 2024-05-12 08:22:10. Total running time: 4hr 26min 36s\n",
            "Logical resource usage: 0/2 CPUs, 0/1 GPUs\n",
            "+-----------------------------------+\n",
            "| Trial name               status   |\n",
            "+-----------------------------------+\n",
            "| PPO_my_env_7b7f7_00000   PENDING  |\n",
            "+-----------------------------------+\n",
            "Trial status: 1 PENDING\n",
            "Current time: 2024-05-12 08:22:40. Total running time: 4hr 27min 6s\n",
            "Logical resource usage: 0/2 CPUs, 0/1 GPUs\n",
            "+-----------------------------------+\n",
            "| Trial name               status   |\n",
            "+-----------------------------------+\n",
            "| PPO_my_env_7b7f7_00000   PENDING  |\n",
            "+-----------------------------------+\n"
          ]
        },
        {
          "metadata": {
            "tags": null
          },
          "name": "stderr",
          "output_type": "stream",
          "text": [
            "2024-05-12 08:22:50,324\tWARNING insufficient_resources_manager.py:163 -- Ignore this message if the cluster is autoscaling. No trial is running and no new trial has been started within the last 60 seconds. This could be due to the cluster not having enough resources available. You asked for 5.0 CPUs and 1.0 GPUs per trial, but the cluster only has 2.0 CPUs and 1.0 GPUs available. Stop the tuning and adjust the required resources (e.g. via the `ScalingConfig` or `resources_per_trial`, or `num_workers` for rllib), or add more resources to your cluster.\n"
          ]
        },
        {
          "metadata": {
            "tags": null
          },
          "name": "stdout",
          "output_type": "stream",
          "text": [
            "Trial status: 1 PENDING\n",
            "Current time: 2024-05-12 08:23:10. Total running time: 4hr 27min 37s\n",
            "Logical resource usage: 0/2 CPUs, 0/1 GPUs\n",
            "+-----------------------------------+\n",
            "| Trial name               status   |\n",
            "+-----------------------------------+\n",
            "| PPO_my_env_7b7f7_00000   PENDING  |\n",
            "+-----------------------------------+\n",
            "Trial status: 1 PENDING\n",
            "Current time: 2024-05-12 08:23:40. Total running time: 4hr 28min 7s\n",
            "Logical resource usage: 0/2 CPUs, 0/1 GPUs\n",
            "+-----------------------------------+\n",
            "| Trial name               status   |\n",
            "+-----------------------------------+\n",
            "| PPO_my_env_7b7f7_00000   PENDING  |\n",
            "+-----------------------------------+\n"
          ]
        },
        {
          "metadata": {
            "tags": null
          },
          "name": "stderr",
          "output_type": "stream",
          "text": [
            "2024-05-12 08:23:50,382\tWARNING insufficient_resources_manager.py:163 -- Ignore this message if the cluster is autoscaling. No trial is running and no new trial has been started within the last 60 seconds. This could be due to the cluster not having enough resources available. You asked for 5.0 CPUs and 1.0 GPUs per trial, but the cluster only has 2.0 CPUs and 1.0 GPUs available. Stop the tuning and adjust the required resources (e.g. via the `ScalingConfig` or `resources_per_trial`, or `num_workers` for rllib), or add more resources to your cluster.\n"
          ]
        },
        {
          "metadata": {
            "tags": null
          },
          "name": "stdout",
          "output_type": "stream",
          "text": [
            "Trial status: 1 PENDING\n",
            "Current time: 2024-05-12 08:24:10. Total running time: 4hr 28min 37s\n",
            "Logical resource usage: 0/2 CPUs, 0/1 GPUs\n",
            "+-----------------------------------+\n",
            "| Trial name               status   |\n",
            "+-----------------------------------+\n",
            "| PPO_my_env_7b7f7_00000   PENDING  |\n",
            "+-----------------------------------+\n",
            "Trial status: 1 PENDING\n",
            "Current time: 2024-05-12 08:24:40. Total running time: 4hr 29min 7s\n",
            "Logical resource usage: 0/2 CPUs, 0/1 GPUs\n",
            "+-----------------------------------+\n",
            "| Trial name               status   |\n",
            "+-----------------------------------+\n",
            "| PPO_my_env_7b7f7_00000   PENDING  |\n",
            "+-----------------------------------+\n"
          ]
        },
        {
          "metadata": {
            "tags": null
          },
          "name": "stderr",
          "output_type": "stream",
          "text": [
            "2024-05-12 08:24:50,465\tWARNING insufficient_resources_manager.py:163 -- Ignore this message if the cluster is autoscaling. No trial is running and no new trial has been started within the last 60 seconds. This could be due to the cluster not having enough resources available. You asked for 5.0 CPUs and 1.0 GPUs per trial, but the cluster only has 2.0 CPUs and 1.0 GPUs available. Stop the tuning and adjust the required resources (e.g. via the `ScalingConfig` or `resources_per_trial`, or `num_workers` for rllib), or add more resources to your cluster.\n"
          ]
        },
        {
          "metadata": {
            "tags": null
          },
          "name": "stdout",
          "output_type": "stream",
          "text": [
            "Trial status: 1 PENDING\n",
            "Current time: 2024-05-12 08:25:10. Total running time: 4hr 29min 37s\n",
            "Logical resource usage: 0/2 CPUs, 0/1 GPUs\n",
            "+-----------------------------------+\n",
            "| Trial name               status   |\n",
            "+-----------------------------------+\n",
            "| PPO_my_env_7b7f7_00000   PENDING  |\n",
            "+-----------------------------------+\n",
            "Trial status: 1 PENDING\n",
            "Current time: 2024-05-12 08:25:40. Total running time: 4hr 30min 7s\n",
            "Logical resource usage: 0/2 CPUs, 0/1 GPUs\n",
            "+-----------------------------------+\n",
            "| Trial name               status   |\n",
            "+-----------------------------------+\n",
            "| PPO_my_env_7b7f7_00000   PENDING  |\n",
            "+-----------------------------------+\n"
          ]
        },
        {
          "metadata": {
            "tags": null
          },
          "name": "stderr",
          "output_type": "stream",
          "text": [
            "2024-05-12 08:25:50,514\tWARNING insufficient_resources_manager.py:163 -- Ignore this message if the cluster is autoscaling. No trial is running and no new trial has been started within the last 60 seconds. This could be due to the cluster not having enough resources available. You asked for 5.0 CPUs and 1.0 GPUs per trial, but the cluster only has 2.0 CPUs and 1.0 GPUs available. Stop the tuning and adjust the required resources (e.g. via the `ScalingConfig` or `resources_per_trial`, or `num_workers` for rllib), or add more resources to your cluster.\n"
          ]
        },
        {
          "metadata": {
            "tags": null
          },
          "name": "stdout",
          "output_type": "stream",
          "text": [
            "Trial status: 1 PENDING\n",
            "Current time: 2024-05-12 08:26:10. Total running time: 4hr 30min 37s\n",
            "Logical resource usage: 0/2 CPUs, 0/1 GPUs\n",
            "+-----------------------------------+\n",
            "| Trial name               status   |\n",
            "+-----------------------------------+\n",
            "| PPO_my_env_7b7f7_00000   PENDING  |\n",
            "+-----------------------------------+\n",
            "Trial status: 1 PENDING\n",
            "Current time: 2024-05-12 08:26:40. Total running time: 4hr 31min 7s\n",
            "Logical resource usage: 0/2 CPUs, 0/1 GPUs\n",
            "+-----------------------------------+\n",
            "| Trial name               status   |\n",
            "+-----------------------------------+\n",
            "| PPO_my_env_7b7f7_00000   PENDING  |\n",
            "+-----------------------------------+\n"
          ]
        },
        {
          "metadata": {
            "tags": null
          },
          "name": "stderr",
          "output_type": "stream",
          "text": [
            "2024-05-12 08:26:50,526\tWARNING insufficient_resources_manager.py:163 -- Ignore this message if the cluster is autoscaling. No trial is running and no new trial has been started within the last 60 seconds. This could be due to the cluster not having enough resources available. You asked for 5.0 CPUs and 1.0 GPUs per trial, but the cluster only has 2.0 CPUs and 1.0 GPUs available. Stop the tuning and adjust the required resources (e.g. via the `ScalingConfig` or `resources_per_trial`, or `num_workers` for rllib), or add more resources to your cluster.\n"
          ]
        },
        {
          "metadata": {
            "tags": null
          },
          "name": "stdout",
          "output_type": "stream",
          "text": [
            "Trial status: 1 PENDING\n",
            "Current time: 2024-05-12 08:27:10. Total running time: 4hr 31min 37s\n",
            "Logical resource usage: 0/2 CPUs, 0/1 GPUs\n",
            "+-----------------------------------+\n",
            "| Trial name               status   |\n",
            "+-----------------------------------+\n",
            "| PPO_my_env_7b7f7_00000   PENDING  |\n",
            "+-----------------------------------+\n",
            "Trial status: 1 PENDING\n",
            "Current time: 2024-05-12 08:27:41. Total running time: 4hr 32min 7s\n",
            "Logical resource usage: 0/2 CPUs, 0/1 GPUs\n",
            "+-----------------------------------+\n",
            "| Trial name               status   |\n",
            "+-----------------------------------+\n",
            "| PPO_my_env_7b7f7_00000   PENDING  |\n",
            "+-----------------------------------+\n"
          ]
        },
        {
          "metadata": {
            "tags": null
          },
          "name": "stderr",
          "output_type": "stream",
          "text": [
            "2024-05-12 08:27:50,616\tWARNING insufficient_resources_manager.py:163 -- Ignore this message if the cluster is autoscaling. No trial is running and no new trial has been started within the last 60 seconds. This could be due to the cluster not having enough resources available. You asked for 5.0 CPUs and 1.0 GPUs per trial, but the cluster only has 2.0 CPUs and 1.0 GPUs available. Stop the tuning and adjust the required resources (e.g. via the `ScalingConfig` or `resources_per_trial`, or `num_workers` for rllib), or add more resources to your cluster.\n"
          ]
        },
        {
          "metadata": {
            "tags": null
          },
          "name": "stdout",
          "output_type": "stream",
          "text": [
            "Trial status: 1 PENDING\n",
            "Current time: 2024-05-12 08:28:11. Total running time: 4hr 32min 37s\n",
            "Logical resource usage: 0/2 CPUs, 0/1 GPUs\n",
            "+-----------------------------------+\n",
            "| Trial name               status   |\n",
            "+-----------------------------------+\n",
            "| PPO_my_env_7b7f7_00000   PENDING  |\n",
            "+-----------------------------------+\n",
            "Trial status: 1 PENDING\n",
            "Current time: 2024-05-12 08:28:41. Total running time: 4hr 33min 7s\n",
            "Logical resource usage: 0/2 CPUs, 0/1 GPUs\n",
            "+-----------------------------------+\n",
            "| Trial name               status   |\n",
            "+-----------------------------------+\n",
            "| PPO_my_env_7b7f7_00000   PENDING  |\n",
            "+-----------------------------------+\n"
          ]
        },
        {
          "metadata": {
            "tags": null
          },
          "name": "stderr",
          "output_type": "stream",
          "text": [
            "2024-05-12 08:28:50,705\tWARNING insufficient_resources_manager.py:163 -- Ignore this message if the cluster is autoscaling. No trial is running and no new trial has been started within the last 60 seconds. This could be due to the cluster not having enough resources available. You asked for 5.0 CPUs and 1.0 GPUs per trial, but the cluster only has 2.0 CPUs and 1.0 GPUs available. Stop the tuning and adjust the required resources (e.g. via the `ScalingConfig` or `resources_per_trial`, or `num_workers` for rllib), or add more resources to your cluster.\n"
          ]
        },
        {
          "metadata": {
            "tags": null
          },
          "name": "stdout",
          "output_type": "stream",
          "text": [
            "Trial status: 1 PENDING\n",
            "Current time: 2024-05-12 08:29:11. Total running time: 4hr 33min 37s\n",
            "Logical resource usage: 0/2 CPUs, 0/1 GPUs\n",
            "+-----------------------------------+\n",
            "| Trial name               status   |\n",
            "+-----------------------------------+\n",
            "| PPO_my_env_7b7f7_00000   PENDING  |\n",
            "+-----------------------------------+\n",
            "Trial status: 1 PENDING\n",
            "Current time: 2024-05-12 08:29:41. Total running time: 4hr 34min 7s\n",
            "Logical resource usage: 0/2 CPUs, 0/1 GPUs\n",
            "+-----------------------------------+\n",
            "| Trial name               status   |\n",
            "+-----------------------------------+\n",
            "| PPO_my_env_7b7f7_00000   PENDING  |\n",
            "+-----------------------------------+\n"
          ]
        },
        {
          "metadata": {
            "tags": null
          },
          "name": "stderr",
          "output_type": "stream",
          "text": [
            "2024-05-12 08:29:50,786\tWARNING insufficient_resources_manager.py:163 -- Ignore this message if the cluster is autoscaling. No trial is running and no new trial has been started within the last 60 seconds. This could be due to the cluster not having enough resources available. You asked for 5.0 CPUs and 1.0 GPUs per trial, but the cluster only has 2.0 CPUs and 1.0 GPUs available. Stop the tuning and adjust the required resources (e.g. via the `ScalingConfig` or `resources_per_trial`, or `num_workers` for rllib), or add more resources to your cluster.\n"
          ]
        },
        {
          "metadata": {
            "tags": null
          },
          "name": "stdout",
          "output_type": "stream",
          "text": [
            "Trial status: 1 PENDING\n",
            "Current time: 2024-05-12 08:30:11. Total running time: 4hr 34min 37s\n",
            "Logical resource usage: 0/2 CPUs, 0/1 GPUs\n",
            "+-----------------------------------+\n",
            "| Trial name               status   |\n",
            "+-----------------------------------+\n",
            "| PPO_my_env_7b7f7_00000   PENDING  |\n",
            "+-----------------------------------+\n",
            "Trial status: 1 PENDING\n",
            "Current time: 2024-05-12 08:30:41. Total running time: 4hr 35min 7s\n",
            "Logical resource usage: 0/2 CPUs, 0/1 GPUs\n",
            "+-----------------------------------+\n",
            "| Trial name               status   |\n",
            "+-----------------------------------+\n",
            "| PPO_my_env_7b7f7_00000   PENDING  |\n",
            "+-----------------------------------+\n"
          ]
        },
        {
          "metadata": {
            "tags": null
          },
          "name": "stderr",
          "output_type": "stream",
          "text": [
            "2024-05-12 08:30:50,796\tWARNING insufficient_resources_manager.py:163 -- Ignore this message if the cluster is autoscaling. No trial is running and no new trial has been started within the last 60 seconds. This could be due to the cluster not having enough resources available. You asked for 5.0 CPUs and 1.0 GPUs per trial, but the cluster only has 2.0 CPUs and 1.0 GPUs available. Stop the tuning and adjust the required resources (e.g. via the `ScalingConfig` or `resources_per_trial`, or `num_workers` for rllib), or add more resources to your cluster.\n"
          ]
        },
        {
          "metadata": {
            "tags": null
          },
          "name": "stdout",
          "output_type": "stream",
          "text": [
            "Trial status: 1 PENDING\n",
            "Current time: 2024-05-12 08:31:11. Total running time: 4hr 35min 38s\n",
            "Logical resource usage: 0/2 CPUs, 0/1 GPUs\n",
            "+-----------------------------------+\n",
            "| Trial name               status   |\n",
            "+-----------------------------------+\n",
            "| PPO_my_env_7b7f7_00000   PENDING  |\n",
            "+-----------------------------------+\n",
            "Trial status: 1 PENDING\n",
            "Current time: 2024-05-12 08:31:41. Total running time: 4hr 36min 8s\n",
            "Logical resource usage: 0/2 CPUs, 0/1 GPUs\n",
            "+-----------------------------------+\n",
            "| Trial name               status   |\n",
            "+-----------------------------------+\n",
            "| PPO_my_env_7b7f7_00000   PENDING  |\n",
            "+-----------------------------------+\n"
          ]
        },
        {
          "metadata": {
            "tags": null
          },
          "name": "stderr",
          "output_type": "stream",
          "text": [
            "2024-05-12 08:31:50,891\tWARNING insufficient_resources_manager.py:163 -- Ignore this message if the cluster is autoscaling. No trial is running and no new trial has been started within the last 60 seconds. This could be due to the cluster not having enough resources available. You asked for 5.0 CPUs and 1.0 GPUs per trial, but the cluster only has 2.0 CPUs and 1.0 GPUs available. Stop the tuning and adjust the required resources (e.g. via the `ScalingConfig` or `resources_per_trial`, or `num_workers` for rllib), or add more resources to your cluster.\n"
          ]
        },
        {
          "metadata": {
            "tags": null
          },
          "name": "stdout",
          "output_type": "stream",
          "text": [
            "Trial status: 1 PENDING\n",
            "Current time: 2024-05-12 08:32:11. Total running time: 4hr 36min 38s\n",
            "Logical resource usage: 0/2 CPUs, 0/1 GPUs\n",
            "+-----------------------------------+\n",
            "| Trial name               status   |\n",
            "+-----------------------------------+\n",
            "| PPO_my_env_7b7f7_00000   PENDING  |\n",
            "+-----------------------------------+\n",
            "Trial status: 1 PENDING\n",
            "Current time: 2024-05-12 08:32:41. Total running time: 4hr 37min 8s\n",
            "Logical resource usage: 0/2 CPUs, 0/1 GPUs\n",
            "+-----------------------------------+\n",
            "| Trial name               status   |\n",
            "+-----------------------------------+\n",
            "| PPO_my_env_7b7f7_00000   PENDING  |\n",
            "+-----------------------------------+\n"
          ]
        },
        {
          "metadata": {
            "tags": null
          },
          "name": "stderr",
          "output_type": "stream",
          "text": [
            "2024-05-12 08:32:50,977\tWARNING insufficient_resources_manager.py:163 -- Ignore this message if the cluster is autoscaling. No trial is running and no new trial has been started within the last 60 seconds. This could be due to the cluster not having enough resources available. You asked for 5.0 CPUs and 1.0 GPUs per trial, but the cluster only has 2.0 CPUs and 1.0 GPUs available. Stop the tuning and adjust the required resources (e.g. via the `ScalingConfig` or `resources_per_trial`, or `num_workers` for rllib), or add more resources to your cluster.\n"
          ]
        },
        {
          "metadata": {
            "tags": null
          },
          "name": "stdout",
          "output_type": "stream",
          "text": [
            "Trial status: 1 PENDING\n",
            "Current time: 2024-05-12 08:33:11. Total running time: 4hr 37min 38s\n",
            "Logical resource usage: 0/2 CPUs, 0/1 GPUs\n",
            "+-----------------------------------+\n",
            "| Trial name               status   |\n",
            "+-----------------------------------+\n",
            "| PPO_my_env_7b7f7_00000   PENDING  |\n",
            "+-----------------------------------+\n",
            "Trial status: 1 PENDING\n",
            "Current time: 2024-05-12 08:33:41. Total running time: 4hr 38min 8s\n",
            "Logical resource usage: 0/2 CPUs, 0/1 GPUs\n",
            "+-----------------------------------+\n",
            "| Trial name               status   |\n",
            "+-----------------------------------+\n",
            "| PPO_my_env_7b7f7_00000   PENDING  |\n",
            "+-----------------------------------+\n"
          ]
        },
        {
          "metadata": {
            "tags": null
          },
          "name": "stderr",
          "output_type": "stream",
          "text": [
            "2024-05-12 08:33:51,077\tWARNING insufficient_resources_manager.py:163 -- Ignore this message if the cluster is autoscaling. No trial is running and no new trial has been started within the last 60 seconds. This could be due to the cluster not having enough resources available. You asked for 5.0 CPUs and 1.0 GPUs per trial, but the cluster only has 2.0 CPUs and 1.0 GPUs available. Stop the tuning and adjust the required resources (e.g. via the `ScalingConfig` or `resources_per_trial`, or `num_workers` for rllib), or add more resources to your cluster.\n"
          ]
        },
        {
          "metadata": {
            "tags": null
          },
          "name": "stdout",
          "output_type": "stream",
          "text": [
            "Trial status: 1 PENDING\n",
            "Current time: 2024-05-12 08:34:11. Total running time: 4hr 38min 38s\n",
            "Logical resource usage: 0/2 CPUs, 0/1 GPUs\n",
            "+-----------------------------------+\n",
            "| Trial name               status   |\n",
            "+-----------------------------------+\n",
            "| PPO_my_env_7b7f7_00000   PENDING  |\n",
            "+-----------------------------------+\n",
            "Trial status: 1 PENDING\n",
            "Current time: 2024-05-12 08:34:41. Total running time: 4hr 39min 8s\n",
            "Logical resource usage: 0/2 CPUs, 0/1 GPUs\n",
            "+-----------------------------------+\n",
            "| Trial name               status   |\n",
            "+-----------------------------------+\n",
            "| PPO_my_env_7b7f7_00000   PENDING  |\n",
            "+-----------------------------------+\n"
          ]
        },
        {
          "metadata": {
            "tags": null
          },
          "name": "stderr",
          "output_type": "stream",
          "text": [
            "2024-05-12 08:34:51,094\tWARNING insufficient_resources_manager.py:163 -- Ignore this message if the cluster is autoscaling. No trial is running and no new trial has been started within the last 60 seconds. This could be due to the cluster not having enough resources available. You asked for 5.0 CPUs and 1.0 GPUs per trial, but the cluster only has 2.0 CPUs and 1.0 GPUs available. Stop the tuning and adjust the required resources (e.g. via the `ScalingConfig` or `resources_per_trial`, or `num_workers` for rllib), or add more resources to your cluster.\n"
          ]
        },
        {
          "metadata": {
            "tags": null
          },
          "name": "stdout",
          "output_type": "stream",
          "text": [
            "Trial status: 1 PENDING\n",
            "Current time: 2024-05-12 08:35:11. Total running time: 4hr 39min 38s\n",
            "Logical resource usage: 0/2 CPUs, 0/1 GPUs\n",
            "+-----------------------------------+\n",
            "| Trial name               status   |\n",
            "+-----------------------------------+\n",
            "| PPO_my_env_7b7f7_00000   PENDING  |\n",
            "+-----------------------------------+\n",
            "Trial status: 1 PENDING\n",
            "Current time: 2024-05-12 08:35:41. Total running time: 4hr 40min 8s\n",
            "Logical resource usage: 0/2 CPUs, 0/1 GPUs\n",
            "+-----------------------------------+\n",
            "| Trial name               status   |\n",
            "+-----------------------------------+\n",
            "| PPO_my_env_7b7f7_00000   PENDING  |\n",
            "+-----------------------------------+\n"
          ]
        },
        {
          "metadata": {
            "tags": null
          },
          "name": "stderr",
          "output_type": "stream",
          "text": [
            "2024-05-12 08:35:51,189\tWARNING insufficient_resources_manager.py:163 -- Ignore this message if the cluster is autoscaling. No trial is running and no new trial has been started within the last 60 seconds. This could be due to the cluster not having enough resources available. You asked for 5.0 CPUs and 1.0 GPUs per trial, but the cluster only has 2.0 CPUs and 1.0 GPUs available. Stop the tuning and adjust the required resources (e.g. via the `ScalingConfig` or `resources_per_trial`, or `num_workers` for rllib), or add more resources to your cluster.\n"
          ]
        },
        {
          "metadata": {
            "tags": null
          },
          "name": "stdout",
          "output_type": "stream",
          "text": [
            "Trial status: 1 PENDING\n",
            "Current time: 2024-05-12 08:36:12. Total running time: 4hr 40min 38s\n",
            "Logical resource usage: 0/2 CPUs, 0/1 GPUs\n",
            "+-----------------------------------+\n",
            "| Trial name               status   |\n",
            "+-----------------------------------+\n",
            "| PPO_my_env_7b7f7_00000   PENDING  |\n",
            "+-----------------------------------+\n",
            "Trial status: 1 PENDING\n",
            "Current time: 2024-05-12 08:36:42. Total running time: 4hr 41min 8s\n",
            "Logical resource usage: 0/2 CPUs, 0/1 GPUs\n",
            "+-----------------------------------+\n",
            "| Trial name               status   |\n",
            "+-----------------------------------+\n",
            "| PPO_my_env_7b7f7_00000   PENDING  |\n",
            "+-----------------------------------+\n"
          ]
        },
        {
          "metadata": {
            "tags": null
          },
          "name": "stderr",
          "output_type": "stream",
          "text": [
            "2024-05-12 08:36:51,266\tWARNING insufficient_resources_manager.py:163 -- Ignore this message if the cluster is autoscaling. No trial is running and no new trial has been started within the last 60 seconds. This could be due to the cluster not having enough resources available. You asked for 5.0 CPUs and 1.0 GPUs per trial, but the cluster only has 2.0 CPUs and 1.0 GPUs available. Stop the tuning and adjust the required resources (e.g. via the `ScalingConfig` or `resources_per_trial`, or `num_workers` for rllib), or add more resources to your cluster.\n"
          ]
        },
        {
          "metadata": {
            "tags": null
          },
          "name": "stdout",
          "output_type": "stream",
          "text": [
            "Trial status: 1 PENDING\n",
            "Current time: 2024-05-12 08:37:12. Total running time: 4hr 41min 38s\n",
            "Logical resource usage: 0/2 CPUs, 0/1 GPUs\n",
            "+-----------------------------------+\n",
            "| Trial name               status   |\n",
            "+-----------------------------------+\n",
            "| PPO_my_env_7b7f7_00000   PENDING  |\n",
            "+-----------------------------------+\n",
            "Trial status: 1 PENDING\n",
            "Current time: 2024-05-12 08:37:42. Total running time: 4hr 42min 8s\n",
            "Logical resource usage: 0/2 CPUs, 0/1 GPUs\n",
            "+-----------------------------------+\n",
            "| Trial name               status   |\n",
            "+-----------------------------------+\n",
            "| PPO_my_env_7b7f7_00000   PENDING  |\n",
            "+-----------------------------------+\n"
          ]
        },
        {
          "metadata": {
            "tags": null
          },
          "name": "stderr",
          "output_type": "stream",
          "text": [
            "2024-05-12 08:37:51,275\tWARNING insufficient_resources_manager.py:163 -- Ignore this message if the cluster is autoscaling. No trial is running and no new trial has been started within the last 60 seconds. This could be due to the cluster not having enough resources available. You asked for 5.0 CPUs and 1.0 GPUs per trial, but the cluster only has 2.0 CPUs and 1.0 GPUs available. Stop the tuning and adjust the required resources (e.g. via the `ScalingConfig` or `resources_per_trial`, or `num_workers` for rllib), or add more resources to your cluster.\n"
          ]
        },
        {
          "metadata": {
            "tags": null
          },
          "name": "stdout",
          "output_type": "stream",
          "text": [
            "Trial status: 1 PENDING\n",
            "Current time: 2024-05-12 08:38:12. Total running time: 4hr 42min 38s\n",
            "Logical resource usage: 0/2 CPUs, 0/1 GPUs\n",
            "+-----------------------------------+\n",
            "| Trial name               status   |\n",
            "+-----------------------------------+\n",
            "| PPO_my_env_7b7f7_00000   PENDING  |\n",
            "+-----------------------------------+\n",
            "Trial status: 1 PENDING\n",
            "Current time: 2024-05-12 08:38:42. Total running time: 4hr 43min 8s\n",
            "Logical resource usage: 0/2 CPUs, 0/1 GPUs\n",
            "+-----------------------------------+\n",
            "| Trial name               status   |\n",
            "+-----------------------------------+\n",
            "| PPO_my_env_7b7f7_00000   PENDING  |\n",
            "+-----------------------------------+\n"
          ]
        },
        {
          "metadata": {
            "tags": null
          },
          "name": "stderr",
          "output_type": "stream",
          "text": [
            "2024-05-12 08:38:51,367\tWARNING insufficient_resources_manager.py:163 -- Ignore this message if the cluster is autoscaling. No trial is running and no new trial has been started within the last 60 seconds. This could be due to the cluster not having enough resources available. You asked for 5.0 CPUs and 1.0 GPUs per trial, but the cluster only has 2.0 CPUs and 1.0 GPUs available. Stop the tuning and adjust the required resources (e.g. via the `ScalingConfig` or `resources_per_trial`, or `num_workers` for rllib), or add more resources to your cluster.\n"
          ]
        },
        {
          "metadata": {
            "tags": null
          },
          "name": "stdout",
          "output_type": "stream",
          "text": [
            "Trial status: 1 PENDING\n",
            "Current time: 2024-05-12 08:39:12. Total running time: 4hr 43min 39s\n",
            "Logical resource usage: 0/2 CPUs, 0/1 GPUs\n",
            "+-----------------------------------+\n",
            "| Trial name               status   |\n",
            "+-----------------------------------+\n",
            "| PPO_my_env_7b7f7_00000   PENDING  |\n",
            "+-----------------------------------+\n",
            "Trial status: 1 PENDING\n",
            "Current time: 2024-05-12 08:39:42. Total running time: 4hr 44min 9s\n",
            "Logical resource usage: 0/2 CPUs, 0/1 GPUs\n",
            "+-----------------------------------+\n",
            "| Trial name               status   |\n",
            "+-----------------------------------+\n",
            "| PPO_my_env_7b7f7_00000   PENDING  |\n",
            "+-----------------------------------+\n"
          ]
        },
        {
          "metadata": {
            "tags": null
          },
          "name": "stderr",
          "output_type": "stream",
          "text": [
            "2024-05-12 08:39:51,428\tWARNING insufficient_resources_manager.py:163 -- Ignore this message if the cluster is autoscaling. No trial is running and no new trial has been started within the last 60 seconds. This could be due to the cluster not having enough resources available. You asked for 5.0 CPUs and 1.0 GPUs per trial, but the cluster only has 2.0 CPUs and 1.0 GPUs available. Stop the tuning and adjust the required resources (e.g. via the `ScalingConfig` or `resources_per_trial`, or `num_workers` for rllib), or add more resources to your cluster.\n"
          ]
        },
        {
          "metadata": {
            "tags": null
          },
          "name": "stdout",
          "output_type": "stream",
          "text": [
            "Trial status: 1 PENDING\n",
            "Current time: 2024-05-12 08:40:12. Total running time: 4hr 44min 39s\n",
            "Logical resource usage: 0/2 CPUs, 0/1 GPUs\n",
            "+-----------------------------------+\n",
            "| Trial name               status   |\n",
            "+-----------------------------------+\n",
            "| PPO_my_env_7b7f7_00000   PENDING  |\n",
            "+-----------------------------------+\n",
            "Trial status: 1 PENDING\n",
            "Current time: 2024-05-12 08:40:42. Total running time: 4hr 45min 9s\n",
            "Logical resource usage: 0/2 CPUs, 0/1 GPUs\n",
            "+-----------------------------------+\n",
            "| Trial name               status   |\n",
            "+-----------------------------------+\n",
            "| PPO_my_env_7b7f7_00000   PENDING  |\n",
            "+-----------------------------------+\n"
          ]
        },
        {
          "metadata": {
            "tags": null
          },
          "name": "stderr",
          "output_type": "stream",
          "text": [
            "2024-05-12 08:40:51,522\tWARNING insufficient_resources_manager.py:163 -- Ignore this message if the cluster is autoscaling. No trial is running and no new trial has been started within the last 60 seconds. This could be due to the cluster not having enough resources available. You asked for 5.0 CPUs and 1.0 GPUs per trial, but the cluster only has 2.0 CPUs and 1.0 GPUs available. Stop the tuning and adjust the required resources (e.g. via the `ScalingConfig` or `resources_per_trial`, or `num_workers` for rllib), or add more resources to your cluster.\n"
          ]
        },
        {
          "metadata": {
            "tags": null
          },
          "name": "stdout",
          "output_type": "stream",
          "text": [
            "Trial status: 1 PENDING\n",
            "Current time: 2024-05-12 08:41:12. Total running time: 4hr 45min 39s\n",
            "Logical resource usage: 0/2 CPUs, 0/1 GPUs\n",
            "+-----------------------------------+\n",
            "| Trial name               status   |\n",
            "+-----------------------------------+\n",
            "| PPO_my_env_7b7f7_00000   PENDING  |\n",
            "+-----------------------------------+\n",
            "Trial status: 1 PENDING\n",
            "Current time: 2024-05-12 08:41:42. Total running time: 4hr 46min 9s\n",
            "Logical resource usage: 0/2 CPUs, 0/1 GPUs\n",
            "+-----------------------------------+\n",
            "| Trial name               status   |\n",
            "+-----------------------------------+\n",
            "| PPO_my_env_7b7f7_00000   PENDING  |\n",
            "+-----------------------------------+\n"
          ]
        },
        {
          "metadata": {
            "tags": null
          },
          "name": "stderr",
          "output_type": "stream",
          "text": [
            "2024-05-12 08:41:51,610\tWARNING insufficient_resources_manager.py:163 -- Ignore this message if the cluster is autoscaling. No trial is running and no new trial has been started within the last 60 seconds. This could be due to the cluster not having enough resources available. You asked for 5.0 CPUs and 1.0 GPUs per trial, but the cluster only has 2.0 CPUs and 1.0 GPUs available. Stop the tuning and adjust the required resources (e.g. via the `ScalingConfig` or `resources_per_trial`, or `num_workers` for rllib), or add more resources to your cluster.\n"
          ]
        },
        {
          "metadata": {
            "tags": null
          },
          "name": "stdout",
          "output_type": "stream",
          "text": [
            "Trial status: 1 PENDING\n",
            "Current time: 2024-05-12 08:42:12. Total running time: 4hr 46min 39s\n",
            "Logical resource usage: 0/2 CPUs, 0/1 GPUs\n",
            "+-----------------------------------+\n",
            "| Trial name               status   |\n",
            "+-----------------------------------+\n",
            "| PPO_my_env_7b7f7_00000   PENDING  |\n",
            "+-----------------------------------+\n",
            "Trial status: 1 PENDING\n",
            "Current time: 2024-05-12 08:42:43. Total running time: 4hr 47min 9s\n",
            "Logical resource usage: 0/2 CPUs, 0/1 GPUs\n",
            "+-----------------------------------+\n",
            "| Trial name               status   |\n",
            "+-----------------------------------+\n",
            "| PPO_my_env_7b7f7_00000   PENDING  |\n",
            "+-----------------------------------+\n"
          ]
        },
        {
          "metadata": {
            "tags": null
          },
          "name": "stderr",
          "output_type": "stream",
          "text": [
            "2024-05-12 08:42:51,686\tWARNING insufficient_resources_manager.py:163 -- Ignore this message if the cluster is autoscaling. No trial is running and no new trial has been started within the last 60 seconds. This could be due to the cluster not having enough resources available. You asked for 5.0 CPUs and 1.0 GPUs per trial, but the cluster only has 2.0 CPUs and 1.0 GPUs available. Stop the tuning and adjust the required resources (e.g. via the `ScalingConfig` or `resources_per_trial`, or `num_workers` for rllib), or add more resources to your cluster.\n"
          ]
        },
        {
          "metadata": {
            "tags": null
          },
          "name": "stdout",
          "output_type": "stream",
          "text": [
            "Trial status: 1 PENDING\n",
            "Current time: 2024-05-12 08:43:13. Total running time: 4hr 47min 39s\n",
            "Logical resource usage: 0/2 CPUs, 0/1 GPUs\n",
            "+-----------------------------------+\n",
            "| Trial name               status   |\n",
            "+-----------------------------------+\n",
            "| PPO_my_env_7b7f7_00000   PENDING  |\n",
            "+-----------------------------------+\n",
            "Trial status: 1 PENDING\n",
            "Current time: 2024-05-12 08:43:43. Total running time: 4hr 48min 9s\n",
            "Logical resource usage: 0/2 CPUs, 0/1 GPUs\n",
            "+-----------------------------------+\n",
            "| Trial name               status   |\n",
            "+-----------------------------------+\n",
            "| PPO_my_env_7b7f7_00000   PENDING  |\n",
            "+-----------------------------------+\n"
          ]
        },
        {
          "metadata": {
            "tags": null
          },
          "name": "stderr",
          "output_type": "stream",
          "text": [
            "2024-05-12 08:43:51,688\tWARNING insufficient_resources_manager.py:163 -- Ignore this message if the cluster is autoscaling. No trial is running and no new trial has been started within the last 60 seconds. This could be due to the cluster not having enough resources available. You asked for 5.0 CPUs and 1.0 GPUs per trial, but the cluster only has 2.0 CPUs and 1.0 GPUs available. Stop the tuning and adjust the required resources (e.g. via the `ScalingConfig` or `resources_per_trial`, or `num_workers` for rllib), or add more resources to your cluster.\n"
          ]
        },
        {
          "metadata": {
            "tags": null
          },
          "name": "stdout",
          "output_type": "stream",
          "text": [
            "Trial status: 1 PENDING\n",
            "Current time: 2024-05-12 08:44:13. Total running time: 4hr 48min 39s\n",
            "Logical resource usage: 0/2 CPUs, 0/1 GPUs\n",
            "+-----------------------------------+\n",
            "| Trial name               status   |\n",
            "+-----------------------------------+\n",
            "| PPO_my_env_7b7f7_00000   PENDING  |\n",
            "+-----------------------------------+\n",
            "Trial status: 1 PENDING\n",
            "Current time: 2024-05-12 08:44:43. Total running time: 4hr 49min 9s\n",
            "Logical resource usage: 0/2 CPUs, 0/1 GPUs\n",
            "+-----------------------------------+\n",
            "| Trial name               status   |\n",
            "+-----------------------------------+\n",
            "| PPO_my_env_7b7f7_00000   PENDING  |\n",
            "+-----------------------------------+\n"
          ]
        },
        {
          "metadata": {
            "tags": null
          },
          "name": "stderr",
          "output_type": "stream",
          "text": [
            "2024-05-12 08:44:51,721\tWARNING insufficient_resources_manager.py:163 -- Ignore this message if the cluster is autoscaling. No trial is running and no new trial has been started within the last 60 seconds. This could be due to the cluster not having enough resources available. You asked for 5.0 CPUs and 1.0 GPUs per trial, but the cluster only has 2.0 CPUs and 1.0 GPUs available. Stop the tuning and adjust the required resources (e.g. via the `ScalingConfig` or `resources_per_trial`, or `num_workers` for rllib), or add more resources to your cluster.\n"
          ]
        },
        {
          "metadata": {
            "tags": null
          },
          "name": "stdout",
          "output_type": "stream",
          "text": [
            "Trial status: 1 PENDING\n",
            "Current time: 2024-05-12 08:45:13. Total running time: 4hr 49min 39s\n",
            "Logical resource usage: 0/2 CPUs, 0/1 GPUs\n",
            "+-----------------------------------+\n",
            "| Trial name               status   |\n",
            "+-----------------------------------+\n",
            "| PPO_my_env_7b7f7_00000   PENDING  |\n",
            "+-----------------------------------+\n",
            "Trial status: 1 PENDING\n",
            "Current time: 2024-05-12 08:45:43. Total running time: 4hr 50min 9s\n",
            "Logical resource usage: 0/2 CPUs, 0/1 GPUs\n",
            "+-----------------------------------+\n",
            "| Trial name               status   |\n",
            "+-----------------------------------+\n",
            "| PPO_my_env_7b7f7_00000   PENDING  |\n",
            "+-----------------------------------+\n"
          ]
        },
        {
          "metadata": {
            "tags": null
          },
          "name": "stderr",
          "output_type": "stream",
          "text": [
            "2024-05-12 08:45:51,773\tWARNING insufficient_resources_manager.py:163 -- Ignore this message if the cluster is autoscaling. No trial is running and no new trial has been started within the last 60 seconds. This could be due to the cluster not having enough resources available. You asked for 5.0 CPUs and 1.0 GPUs per trial, but the cluster only has 2.0 CPUs and 1.0 GPUs available. Stop the tuning and adjust the required resources (e.g. via the `ScalingConfig` or `resources_per_trial`, or `num_workers` for rllib), or add more resources to your cluster.\n"
          ]
        },
        {
          "metadata": {
            "tags": null
          },
          "name": "stdout",
          "output_type": "stream",
          "text": [
            "Trial status: 1 PENDING\n",
            "Current time: 2024-05-12 08:46:13. Total running time: 4hr 50min 39s\n",
            "Logical resource usage: 0/2 CPUs, 0/1 GPUs\n",
            "+-----------------------------------+\n",
            "| Trial name               status   |\n",
            "+-----------------------------------+\n",
            "| PPO_my_env_7b7f7_00000   PENDING  |\n",
            "+-----------------------------------+\n",
            "Trial status: 1 PENDING\n",
            "Current time: 2024-05-12 08:46:43. Total running time: 4hr 51min 9s\n",
            "Logical resource usage: 0/2 CPUs, 0/1 GPUs\n",
            "+-----------------------------------+\n",
            "| Trial name               status   |\n",
            "+-----------------------------------+\n",
            "| PPO_my_env_7b7f7_00000   PENDING  |\n",
            "+-----------------------------------+\n"
          ]
        },
        {
          "metadata": {
            "tags": null
          },
          "name": "stderr",
          "output_type": "stream",
          "text": [
            "2024-05-12 08:46:51,800\tWARNING insufficient_resources_manager.py:163 -- Ignore this message if the cluster is autoscaling. No trial is running and no new trial has been started within the last 60 seconds. This could be due to the cluster not having enough resources available. You asked for 5.0 CPUs and 1.0 GPUs per trial, but the cluster only has 2.0 CPUs and 1.0 GPUs available. Stop the tuning and adjust the required resources (e.g. via the `ScalingConfig` or `resources_per_trial`, or `num_workers` for rllib), or add more resources to your cluster.\n"
          ]
        },
        {
          "metadata": {
            "tags": null
          },
          "name": "stdout",
          "output_type": "stream",
          "text": [
            "Trial status: 1 PENDING\n",
            "Current time: 2024-05-12 08:47:13. Total running time: 4hr 51min 39s\n",
            "Logical resource usage: 0/2 CPUs, 0/1 GPUs\n",
            "+-----------------------------------+\n",
            "| Trial name               status   |\n",
            "+-----------------------------------+\n",
            "| PPO_my_env_7b7f7_00000   PENDING  |\n",
            "+-----------------------------------+\n",
            "Trial status: 1 PENDING\n",
            "Current time: 2024-05-12 08:47:43. Total running time: 4hr 52min 9s\n",
            "Logical resource usage: 0/2 CPUs, 0/1 GPUs\n",
            "+-----------------------------------+\n",
            "| Trial name               status   |\n",
            "+-----------------------------------+\n",
            "| PPO_my_env_7b7f7_00000   PENDING  |\n",
            "+-----------------------------------+\n"
          ]
        },
        {
          "metadata": {
            "tags": null
          },
          "name": "stderr",
          "output_type": "stream",
          "text": [
            "2024-05-12 08:47:51,829\tWARNING insufficient_resources_manager.py:163 -- Ignore this message if the cluster is autoscaling. No trial is running and no new trial has been started within the last 60 seconds. This could be due to the cluster not having enough resources available. You asked for 5.0 CPUs and 1.0 GPUs per trial, but the cluster only has 2.0 CPUs and 1.0 GPUs available. Stop the tuning and adjust the required resources (e.g. via the `ScalingConfig` or `resources_per_trial`, or `num_workers` for rllib), or add more resources to your cluster.\n"
          ]
        },
        {
          "metadata": {
            "tags": null
          },
          "name": "stdout",
          "output_type": "stream",
          "text": [
            "Trial status: 1 PENDING\n",
            "Current time: 2024-05-12 08:48:13. Total running time: 4hr 52min 39s\n",
            "Logical resource usage: 0/2 CPUs, 0/1 GPUs\n",
            "+-----------------------------------+\n",
            "| Trial name               status   |\n",
            "+-----------------------------------+\n",
            "| PPO_my_env_7b7f7_00000   PENDING  |\n",
            "+-----------------------------------+\n",
            "Trial status: 1 PENDING\n",
            "Current time: 2024-05-12 08:48:43. Total running time: 4hr 53min 9s\n",
            "Logical resource usage: 0/2 CPUs, 0/1 GPUs\n",
            "+-----------------------------------+\n",
            "| Trial name               status   |\n",
            "+-----------------------------------+\n",
            "| PPO_my_env_7b7f7_00000   PENDING  |\n",
            "+-----------------------------------+\n"
          ]
        },
        {
          "metadata": {
            "tags": null
          },
          "name": "stderr",
          "output_type": "stream",
          "text": [
            "2024-05-12 08:48:51,874\tWARNING insufficient_resources_manager.py:163 -- Ignore this message if the cluster is autoscaling. No trial is running and no new trial has been started within the last 60 seconds. This could be due to the cluster not having enough resources available. You asked for 5.0 CPUs and 1.0 GPUs per trial, but the cluster only has 2.0 CPUs and 1.0 GPUs available. Stop the tuning and adjust the required resources (e.g. via the `ScalingConfig` or `resources_per_trial`, or `num_workers` for rllib), or add more resources to your cluster.\n"
          ]
        },
        {
          "metadata": {
            "tags": null
          },
          "name": "stdout",
          "output_type": "stream",
          "text": [
            "Trial status: 1 PENDING\n",
            "Current time: 2024-05-12 08:49:13. Total running time: 4hr 53min 39s\n",
            "Logical resource usage: 0/2 CPUs, 0/1 GPUs\n",
            "+-----------------------------------+\n",
            "| Trial name               status   |\n",
            "+-----------------------------------+\n",
            "| PPO_my_env_7b7f7_00000   PENDING  |\n",
            "+-----------------------------------+\n",
            "Trial status: 1 PENDING\n",
            "Current time: 2024-05-12 08:49:43. Total running time: 4hr 54min 9s\n",
            "Logical resource usage: 0/2 CPUs, 0/1 GPUs\n",
            "+-----------------------------------+\n",
            "| Trial name               status   |\n",
            "+-----------------------------------+\n",
            "| PPO_my_env_7b7f7_00000   PENDING  |\n",
            "+-----------------------------------+\n"
          ]
        },
        {
          "metadata": {
            "tags": null
          },
          "name": "stderr",
          "output_type": "stream",
          "text": [
            "2024-05-12 08:49:51,911\tWARNING insufficient_resources_manager.py:163 -- Ignore this message if the cluster is autoscaling. No trial is running and no new trial has been started within the last 60 seconds. This could be due to the cluster not having enough resources available. You asked for 5.0 CPUs and 1.0 GPUs per trial, but the cluster only has 2.0 CPUs and 1.0 GPUs available. Stop the tuning and adjust the required resources (e.g. via the `ScalingConfig` or `resources_per_trial`, or `num_workers` for rllib), or add more resources to your cluster.\n"
          ]
        },
        {
          "metadata": {
            "tags": null
          },
          "name": "stdout",
          "output_type": "stream",
          "text": [
            "Trial status: 1 PENDING\n",
            "Current time: 2024-05-12 08:50:13. Total running time: 4hr 54min 39s\n",
            "Logical resource usage: 0/2 CPUs, 0/1 GPUs\n",
            "+-----------------------------------+\n",
            "| Trial name               status   |\n",
            "+-----------------------------------+\n",
            "| PPO_my_env_7b7f7_00000   PENDING  |\n",
            "+-----------------------------------+\n",
            "Trial status: 1 PENDING\n",
            "Current time: 2024-05-12 08:50:43. Total running time: 4hr 55min 9s\n",
            "Logical resource usage: 0/2 CPUs, 0/1 GPUs\n",
            "+-----------------------------------+\n",
            "| Trial name               status   |\n",
            "+-----------------------------------+\n",
            "| PPO_my_env_7b7f7_00000   PENDING  |\n",
            "+-----------------------------------+\n"
          ]
        },
        {
          "metadata": {
            "tags": null
          },
          "name": "stderr",
          "output_type": "stream",
          "text": [
            "2024-05-12 08:50:51,958\tWARNING insufficient_resources_manager.py:163 -- Ignore this message if the cluster is autoscaling. No trial is running and no new trial has been started within the last 60 seconds. This could be due to the cluster not having enough resources available. You asked for 5.0 CPUs and 1.0 GPUs per trial, but the cluster only has 2.0 CPUs and 1.0 GPUs available. Stop the tuning and adjust the required resources (e.g. via the `ScalingConfig` or `resources_per_trial`, or `num_workers` for rllib), or add more resources to your cluster.\n"
          ]
        },
        {
          "metadata": {
            "tags": null
          },
          "name": "stdout",
          "output_type": "stream",
          "text": [
            "Trial status: 1 PENDING\n",
            "Current time: 2024-05-12 08:51:13. Total running time: 4hr 55min 39s\n",
            "Logical resource usage: 0/2 CPUs, 0/1 GPUs\n",
            "+-----------------------------------+\n",
            "| Trial name               status   |\n",
            "+-----------------------------------+\n",
            "| PPO_my_env_7b7f7_00000   PENDING  |\n",
            "+-----------------------------------+\n",
            "Trial status: 1 PENDING\n",
            "Current time: 2024-05-12 08:51:43. Total running time: 4hr 56min 10s\n",
            "Logical resource usage: 0/2 CPUs, 0/1 GPUs\n",
            "+-----------------------------------+\n",
            "| Trial name               status   |\n",
            "+-----------------------------------+\n",
            "| PPO_my_env_7b7f7_00000   PENDING  |\n",
            "+-----------------------------------+\n"
          ]
        },
        {
          "metadata": {
            "tags": null
          },
          "name": "stderr",
          "output_type": "stream",
          "text": [
            "2024-05-12 08:51:52,041\tWARNING insufficient_resources_manager.py:163 -- Ignore this message if the cluster is autoscaling. No trial is running and no new trial has been started within the last 60 seconds. This could be due to the cluster not having enough resources available. You asked for 5.0 CPUs and 1.0 GPUs per trial, but the cluster only has 2.0 CPUs and 1.0 GPUs available. Stop the tuning and adjust the required resources (e.g. via the `ScalingConfig` or `resources_per_trial`, or `num_workers` for rllib), or add more resources to your cluster.\n"
          ]
        },
        {
          "metadata": {
            "tags": null
          },
          "name": "stdout",
          "output_type": "stream",
          "text": [
            "Trial status: 1 PENDING\n",
            "Current time: 2024-05-12 08:52:13. Total running time: 4hr 56min 40s\n",
            "Logical resource usage: 0/2 CPUs, 0/1 GPUs\n",
            "+-----------------------------------+\n",
            "| Trial name               status   |\n",
            "+-----------------------------------+\n",
            "| PPO_my_env_7b7f7_00000   PENDING  |\n",
            "+-----------------------------------+\n",
            "Trial status: 1 PENDING\n",
            "Current time: 2024-05-12 08:52:43. Total running time: 4hr 57min 10s\n",
            "Logical resource usage: 0/2 CPUs, 0/1 GPUs\n",
            "+-----------------------------------+\n",
            "| Trial name               status   |\n",
            "+-----------------------------------+\n",
            "| PPO_my_env_7b7f7_00000   PENDING  |\n",
            "+-----------------------------------+\n"
          ]
        },
        {
          "metadata": {
            "tags": null
          },
          "name": "stderr",
          "output_type": "stream",
          "text": [
            "2024-05-12 08:52:52,075\tWARNING insufficient_resources_manager.py:163 -- Ignore this message if the cluster is autoscaling. No trial is running and no new trial has been started within the last 60 seconds. This could be due to the cluster not having enough resources available. You asked for 5.0 CPUs and 1.0 GPUs per trial, but the cluster only has 2.0 CPUs and 1.0 GPUs available. Stop the tuning and adjust the required resources (e.g. via the `ScalingConfig` or `resources_per_trial`, or `num_workers` for rllib), or add more resources to your cluster.\n"
          ]
        },
        {
          "metadata": {
            "tags": null
          },
          "name": "stdout",
          "output_type": "stream",
          "text": [
            "Trial status: 1 PENDING\n",
            "Current time: 2024-05-12 08:53:13. Total running time: 4hr 57min 40s\n",
            "Logical resource usage: 0/2 CPUs, 0/1 GPUs\n",
            "+-----------------------------------+\n",
            "| Trial name               status   |\n",
            "+-----------------------------------+\n",
            "| PPO_my_env_7b7f7_00000   PENDING  |\n",
            "+-----------------------------------+\n",
            "Trial status: 1 PENDING\n",
            "Current time: 2024-05-12 08:53:43. Total running time: 4hr 58min 10s\n",
            "Logical resource usage: 0/2 CPUs, 0/1 GPUs\n",
            "+-----------------------------------+\n",
            "| Trial name               status   |\n",
            "+-----------------------------------+\n",
            "| PPO_my_env_7b7f7_00000   PENDING  |\n",
            "+-----------------------------------+\n"
          ]
        },
        {
          "metadata": {
            "tags": null
          },
          "name": "stderr",
          "output_type": "stream",
          "text": [
            "2024-05-12 08:53:52,129\tWARNING insufficient_resources_manager.py:163 -- Ignore this message if the cluster is autoscaling. No trial is running and no new trial has been started within the last 60 seconds. This could be due to the cluster not having enough resources available. You asked for 5.0 CPUs and 1.0 GPUs per trial, but the cluster only has 2.0 CPUs and 1.0 GPUs available. Stop the tuning and adjust the required resources (e.g. via the `ScalingConfig` or `resources_per_trial`, or `num_workers` for rllib), or add more resources to your cluster.\n"
          ]
        },
        {
          "metadata": {
            "tags": null
          },
          "name": "stdout",
          "output_type": "stream",
          "text": [
            "Trial status: 1 PENDING\n",
            "Current time: 2024-05-12 08:54:13. Total running time: 4hr 58min 40s\n",
            "Logical resource usage: 0/2 CPUs, 0/1 GPUs\n",
            "+-----------------------------------+\n",
            "| Trial name               status   |\n",
            "+-----------------------------------+\n",
            "| PPO_my_env_7b7f7_00000   PENDING  |\n",
            "+-----------------------------------+\n",
            "Trial status: 1 PENDING\n",
            "Current time: 2024-05-12 08:54:43. Total running time: 4hr 59min 10s\n",
            "Logical resource usage: 0/2 CPUs, 0/1 GPUs\n",
            "+-----------------------------------+\n",
            "| Trial name               status   |\n",
            "+-----------------------------------+\n",
            "| PPO_my_env_7b7f7_00000   PENDING  |\n",
            "+-----------------------------------+\n"
          ]
        },
        {
          "metadata": {
            "tags": null
          },
          "name": "stderr",
          "output_type": "stream",
          "text": [
            "2024-05-12 08:54:52,191\tWARNING insufficient_resources_manager.py:163 -- Ignore this message if the cluster is autoscaling. No trial is running and no new trial has been started within the last 60 seconds. This could be due to the cluster not having enough resources available. You asked for 5.0 CPUs and 1.0 GPUs per trial, but the cluster only has 2.0 CPUs and 1.0 GPUs available. Stop the tuning and adjust the required resources (e.g. via the `ScalingConfig` or `resources_per_trial`, or `num_workers` for rllib), or add more resources to your cluster.\n"
          ]
        },
        {
          "metadata": {
            "tags": null
          },
          "name": "stdout",
          "output_type": "stream",
          "text": [
            "Trial status: 1 PENDING\n",
            "Current time: 2024-05-12 08:55:13. Total running time: 4hr 59min 40s\n",
            "Logical resource usage: 0/2 CPUs, 0/1 GPUs\n",
            "+-----------------------------------+\n",
            "| Trial name               status   |\n",
            "+-----------------------------------+\n",
            "| PPO_my_env_7b7f7_00000   PENDING  |\n",
            "+-----------------------------------+\n",
            "Trial status: 1 PENDING\n",
            "Current time: 2024-05-12 08:55:44. Total running time: 5hr 0min 10s\n",
            "Logical resource usage: 0/2 CPUs, 0/1 GPUs\n",
            "+-----------------------------------+\n",
            "| Trial name               status   |\n",
            "+-----------------------------------+\n",
            "| PPO_my_env_7b7f7_00000   PENDING  |\n",
            "+-----------------------------------+\n"
          ]
        },
        {
          "metadata": {
            "tags": null
          },
          "name": "stderr",
          "output_type": "stream",
          "text": [
            "2024-05-12 08:55:52,245\tWARNING insufficient_resources_manager.py:163 -- Ignore this message if the cluster is autoscaling. No trial is running and no new trial has been started within the last 60 seconds. This could be due to the cluster not having enough resources available. You asked for 5.0 CPUs and 1.0 GPUs per trial, but the cluster only has 2.0 CPUs and 1.0 GPUs available. Stop the tuning and adjust the required resources (e.g. via the `ScalingConfig` or `resources_per_trial`, or `num_workers` for rllib), or add more resources to your cluster.\n"
          ]
        },
        {
          "metadata": {
            "tags": null
          },
          "name": "stdout",
          "output_type": "stream",
          "text": [
            "Trial status: 1 PENDING\n",
            "Current time: 2024-05-12 08:56:14. Total running time: 5hr 0min 40s\n",
            "Logical resource usage: 0/2 CPUs, 0/1 GPUs\n",
            "+-----------------------------------+\n",
            "| Trial name               status   |\n",
            "+-----------------------------------+\n",
            "| PPO_my_env_7b7f7_00000   PENDING  |\n",
            "+-----------------------------------+\n",
            "Trial status: 1 PENDING\n",
            "Current time: 2024-05-12 08:56:44. Total running time: 5hr 1min 10s\n",
            "Logical resource usage: 0/2 CPUs, 0/1 GPUs\n",
            "+-----------------------------------+\n",
            "| Trial name               status   |\n",
            "+-----------------------------------+\n",
            "| PPO_my_env_7b7f7_00000   PENDING  |\n",
            "+-----------------------------------+\n"
          ]
        },
        {
          "metadata": {
            "tags": null
          },
          "name": "stderr",
          "output_type": "stream",
          "text": [
            "2024-05-12 08:56:52,312\tWARNING insufficient_resources_manager.py:163 -- Ignore this message if the cluster is autoscaling. No trial is running and no new trial has been started within the last 60 seconds. This could be due to the cluster not having enough resources available. You asked for 5.0 CPUs and 1.0 GPUs per trial, but the cluster only has 2.0 CPUs and 1.0 GPUs available. Stop the tuning and adjust the required resources (e.g. via the `ScalingConfig` or `resources_per_trial`, or `num_workers` for rllib), or add more resources to your cluster.\n"
          ]
        },
        {
          "metadata": {
            "tags": null
          },
          "name": "stdout",
          "output_type": "stream",
          "text": [
            "Trial status: 1 PENDING\n",
            "Current time: 2024-05-12 08:57:14. Total running time: 5hr 1min 40s\n",
            "Logical resource usage: 0/2 CPUs, 0/1 GPUs\n",
            "+-----------------------------------+\n",
            "| Trial name               status   |\n",
            "+-----------------------------------+\n",
            "| PPO_my_env_7b7f7_00000   PENDING  |\n",
            "+-----------------------------------+\n",
            "Trial status: 1 PENDING\n",
            "Current time: 2024-05-12 08:57:44. Total running time: 5hr 2min 10s\n",
            "Logical resource usage: 0/2 CPUs, 0/1 GPUs\n",
            "+-----------------------------------+\n",
            "| Trial name               status   |\n",
            "+-----------------------------------+\n",
            "| PPO_my_env_7b7f7_00000   PENDING  |\n",
            "+-----------------------------------+\n"
          ]
        },
        {
          "metadata": {
            "tags": null
          },
          "name": "stderr",
          "output_type": "stream",
          "text": [
            "2024-05-12 08:57:52,372\tWARNING insufficient_resources_manager.py:163 -- Ignore this message if the cluster is autoscaling. No trial is running and no new trial has been started within the last 60 seconds. This could be due to the cluster not having enough resources available. You asked for 5.0 CPUs and 1.0 GPUs per trial, but the cluster only has 2.0 CPUs and 1.0 GPUs available. Stop the tuning and adjust the required resources (e.g. via the `ScalingConfig` or `resources_per_trial`, or `num_workers` for rllib), or add more resources to your cluster.\n"
          ]
        },
        {
          "metadata": {
            "tags": null
          },
          "name": "stdout",
          "output_type": "stream",
          "text": [
            "Trial status: 1 PENDING\n",
            "Current time: 2024-05-12 08:58:14. Total running time: 5hr 2min 41s\n",
            "Logical resource usage: 0/2 CPUs, 0/1 GPUs\n",
            "+-----------------------------------+\n",
            "| Trial name               status   |\n",
            "+-----------------------------------+\n",
            "| PPO_my_env_7b7f7_00000   PENDING  |\n",
            "+-----------------------------------+\n",
            "Trial status: 1 PENDING\n",
            "Current time: 2024-05-12 08:58:44. Total running time: 5hr 3min 11s\n",
            "Logical resource usage: 0/2 CPUs, 0/1 GPUs\n",
            "+-----------------------------------+\n",
            "| Trial name               status   |\n",
            "+-----------------------------------+\n",
            "| PPO_my_env_7b7f7_00000   PENDING  |\n",
            "+-----------------------------------+\n"
          ]
        },
        {
          "metadata": {
            "tags": null
          },
          "name": "stderr",
          "output_type": "stream",
          "text": [
            "2024-05-12 08:58:52,451\tWARNING insufficient_resources_manager.py:163 -- Ignore this message if the cluster is autoscaling. No trial is running and no new trial has been started within the last 60 seconds. This could be due to the cluster not having enough resources available. You asked for 5.0 CPUs and 1.0 GPUs per trial, but the cluster only has 2.0 CPUs and 1.0 GPUs available. Stop the tuning and adjust the required resources (e.g. via the `ScalingConfig` or `resources_per_trial`, or `num_workers` for rllib), or add more resources to your cluster.\n"
          ]
        },
        {
          "metadata": {
            "tags": null
          },
          "name": "stdout",
          "output_type": "stream",
          "text": [
            "Trial status: 1 PENDING\n",
            "Current time: 2024-05-12 08:59:14. Total running time: 5hr 3min 41s\n",
            "Logical resource usage: 0/2 CPUs, 0/1 GPUs\n",
            "+-----------------------------------+\n",
            "| Trial name               status   |\n",
            "+-----------------------------------+\n",
            "| PPO_my_env_7b7f7_00000   PENDING  |\n",
            "+-----------------------------------+\n",
            "Trial status: 1 PENDING\n",
            "Current time: 2024-05-12 08:59:44. Total running time: 5hr 4min 11s\n",
            "Logical resource usage: 0/2 CPUs, 0/1 GPUs\n",
            "+-----------------------------------+\n",
            "| Trial name               status   |\n",
            "+-----------------------------------+\n",
            "| PPO_my_env_7b7f7_00000   PENDING  |\n",
            "+-----------------------------------+\n"
          ]
        },
        {
          "metadata": {
            "tags": null
          },
          "name": "stderr",
          "output_type": "stream",
          "text": [
            "2024-05-12 08:59:52,506\tWARNING insufficient_resources_manager.py:163 -- Ignore this message if the cluster is autoscaling. No trial is running and no new trial has been started within the last 60 seconds. This could be due to the cluster not having enough resources available. You asked for 5.0 CPUs and 1.0 GPUs per trial, but the cluster only has 2.0 CPUs and 1.0 GPUs available. Stop the tuning and adjust the required resources (e.g. via the `ScalingConfig` or `resources_per_trial`, or `num_workers` for rllib), or add more resources to your cluster.\n"
          ]
        },
        {
          "metadata": {
            "tags": null
          },
          "name": "stdout",
          "output_type": "stream",
          "text": [
            "Trial status: 1 PENDING\n",
            "Current time: 2024-05-12 09:00:14. Total running time: 5hr 4min 41s\n",
            "Logical resource usage: 0/2 CPUs, 0/1 GPUs\n",
            "+-----------------------------------+\n",
            "| Trial name               status   |\n",
            "+-----------------------------------+\n",
            "| PPO_my_env_7b7f7_00000   PENDING  |\n",
            "+-----------------------------------+\n",
            "Trial status: 1 PENDING\n",
            "Current time: 2024-05-12 09:00:44. Total running time: 5hr 5min 11s\n",
            "Logical resource usage: 0/2 CPUs, 0/1 GPUs\n",
            "+-----------------------------------+\n",
            "| Trial name               status   |\n",
            "+-----------------------------------+\n",
            "| PPO_my_env_7b7f7_00000   PENDING  |\n",
            "+-----------------------------------+\n"
          ]
        },
        {
          "metadata": {
            "tags": null
          },
          "name": "stderr",
          "output_type": "stream",
          "text": [
            "2024-05-12 09:00:52,581\tWARNING insufficient_resources_manager.py:163 -- Ignore this message if the cluster is autoscaling. No trial is running and no new trial has been started within the last 60 seconds. This could be due to the cluster not having enough resources available. You asked for 5.0 CPUs and 1.0 GPUs per trial, but the cluster only has 2.0 CPUs and 1.0 GPUs available. Stop the tuning and adjust the required resources (e.g. via the `ScalingConfig` or `resources_per_trial`, or `num_workers` for rllib), or add more resources to your cluster.\n"
          ]
        },
        {
          "metadata": {
            "tags": null
          },
          "name": "stdout",
          "output_type": "stream",
          "text": [
            "Trial status: 1 PENDING\n",
            "Current time: 2024-05-12 09:01:14. Total running time: 5hr 5min 41s\n",
            "Logical resource usage: 0/2 CPUs, 0/1 GPUs\n",
            "+-----------------------------------+\n",
            "| Trial name               status   |\n",
            "+-----------------------------------+\n",
            "| PPO_my_env_7b7f7_00000   PENDING  |\n",
            "+-----------------------------------+\n",
            "Trial status: 1 PENDING\n",
            "Current time: 2024-05-12 09:01:45. Total running time: 5hr 6min 11s\n",
            "Logical resource usage: 0/2 CPUs, 0/1 GPUs\n",
            "+-----------------------------------+\n",
            "| Trial name               status   |\n",
            "+-----------------------------------+\n",
            "| PPO_my_env_7b7f7_00000   PENDING  |\n",
            "+-----------------------------------+\n"
          ]
        },
        {
          "metadata": {
            "tags": null
          },
          "name": "stderr",
          "output_type": "stream",
          "text": [
            "2024-05-12 09:01:52,671\tWARNING insufficient_resources_manager.py:163 -- Ignore this message if the cluster is autoscaling. No trial is running and no new trial has been started within the last 60 seconds. This could be due to the cluster not having enough resources available. You asked for 5.0 CPUs and 1.0 GPUs per trial, but the cluster only has 2.0 CPUs and 1.0 GPUs available. Stop the tuning and adjust the required resources (e.g. via the `ScalingConfig` or `resources_per_trial`, or `num_workers` for rllib), or add more resources to your cluster.\n"
          ]
        },
        {
          "metadata": {
            "tags": null
          },
          "name": "stdout",
          "output_type": "stream",
          "text": [
            "Trial status: 1 PENDING\n",
            "Current time: 2024-05-12 09:02:15. Total running time: 5hr 6min 41s\n",
            "Logical resource usage: 0/2 CPUs, 0/1 GPUs\n",
            "+-----------------------------------+\n",
            "| Trial name               status   |\n",
            "+-----------------------------------+\n",
            "| PPO_my_env_7b7f7_00000   PENDING  |\n",
            "+-----------------------------------+\n",
            "Trial status: 1 PENDING\n",
            "Current time: 2024-05-12 09:02:45. Total running time: 5hr 7min 11s\n",
            "Logical resource usage: 0/2 CPUs, 0/1 GPUs\n",
            "+-----------------------------------+\n",
            "| Trial name               status   |\n",
            "+-----------------------------------+\n",
            "| PPO_my_env_7b7f7_00000   PENDING  |\n",
            "+-----------------------------------+\n"
          ]
        },
        {
          "metadata": {
            "tags": null
          },
          "name": "stderr",
          "output_type": "stream",
          "text": [
            "2024-05-12 09:02:52,674\tWARNING insufficient_resources_manager.py:163 -- Ignore this message if the cluster is autoscaling. No trial is running and no new trial has been started within the last 60 seconds. This could be due to the cluster not having enough resources available. You asked for 5.0 CPUs and 1.0 GPUs per trial, but the cluster only has 2.0 CPUs and 1.0 GPUs available. Stop the tuning and adjust the required resources (e.g. via the `ScalingConfig` or `resources_per_trial`, or `num_workers` for rllib), or add more resources to your cluster.\n"
          ]
        },
        {
          "metadata": {
            "tags": null
          },
          "name": "stdout",
          "output_type": "stream",
          "text": [
            "Trial status: 1 PENDING\n",
            "Current time: 2024-05-12 09:03:15. Total running time: 5hr 7min 41s\n",
            "Logical resource usage: 0/2 CPUs, 0/1 GPUs\n",
            "+-----------------------------------+\n",
            "| Trial name               status   |\n",
            "+-----------------------------------+\n",
            "| PPO_my_env_7b7f7_00000   PENDING  |\n",
            "+-----------------------------------+\n",
            "Trial status: 1 PENDING\n",
            "Current time: 2024-05-12 09:03:45. Total running time: 5hr 8min 11s\n",
            "Logical resource usage: 0/2 CPUs, 0/1 GPUs\n",
            "+-----------------------------------+\n",
            "| Trial name               status   |\n",
            "+-----------------------------------+\n",
            "| PPO_my_env_7b7f7_00000   PENDING  |\n",
            "+-----------------------------------+\n"
          ]
        },
        {
          "metadata": {
            "tags": null
          },
          "name": "stderr",
          "output_type": "stream",
          "text": [
            "2024-05-12 09:03:52,687\tWARNING insufficient_resources_manager.py:163 -- Ignore this message if the cluster is autoscaling. No trial is running and no new trial has been started within the last 60 seconds. This could be due to the cluster not having enough resources available. You asked for 5.0 CPUs and 1.0 GPUs per trial, but the cluster only has 2.0 CPUs and 1.0 GPUs available. Stop the tuning and adjust the required resources (e.g. via the `ScalingConfig` or `resources_per_trial`, or `num_workers` for rllib), or add more resources to your cluster.\n"
          ]
        },
        {
          "metadata": {
            "tags": null
          },
          "name": "stdout",
          "output_type": "stream",
          "text": [
            "Trial status: 1 PENDING\n",
            "Current time: 2024-05-12 09:04:15. Total running time: 5hr 8min 41s\n",
            "Logical resource usage: 0/2 CPUs, 0/1 GPUs\n",
            "+-----------------------------------+\n",
            "| Trial name               status   |\n",
            "+-----------------------------------+\n",
            "| PPO_my_env_7b7f7_00000   PENDING  |\n",
            "+-----------------------------------+\n",
            "Trial status: 1 PENDING\n",
            "Current time: 2024-05-12 09:04:45. Total running time: 5hr 9min 11s\n",
            "Logical resource usage: 0/2 CPUs, 0/1 GPUs\n",
            "+-----------------------------------+\n",
            "| Trial name               status   |\n",
            "+-----------------------------------+\n",
            "| PPO_my_env_7b7f7_00000   PENDING  |\n",
            "+-----------------------------------+\n"
          ]
        },
        {
          "metadata": {
            "tags": null
          },
          "name": "stderr",
          "output_type": "stream",
          "text": [
            "2024-05-12 09:04:52,709\tWARNING insufficient_resources_manager.py:163 -- Ignore this message if the cluster is autoscaling. No trial is running and no new trial has been started within the last 60 seconds. This could be due to the cluster not having enough resources available. You asked for 5.0 CPUs and 1.0 GPUs per trial, but the cluster only has 2.0 CPUs and 1.0 GPUs available. Stop the tuning and adjust the required resources (e.g. via the `ScalingConfig` or `resources_per_trial`, or `num_workers` for rllib), or add more resources to your cluster.\n"
          ]
        },
        {
          "metadata": {
            "tags": null
          },
          "name": "stdout",
          "output_type": "stream",
          "text": [
            "Trial status: 1 PENDING\n",
            "Current time: 2024-05-12 09:05:15. Total running time: 5hr 9min 41s\n",
            "Logical resource usage: 0/2 CPUs, 0/1 GPUs\n",
            "+-----------------------------------+\n",
            "| Trial name               status   |\n",
            "+-----------------------------------+\n",
            "| PPO_my_env_7b7f7_00000   PENDING  |\n",
            "+-----------------------------------+\n",
            "Trial status: 1 PENDING\n",
            "Current time: 2024-05-12 09:05:45. Total running time: 5hr 10min 11s\n",
            "Logical resource usage: 0/2 CPUs, 0/1 GPUs\n",
            "+-----------------------------------+\n",
            "| Trial name               status   |\n",
            "+-----------------------------------+\n",
            "| PPO_my_env_7b7f7_00000   PENDING  |\n",
            "+-----------------------------------+\n"
          ]
        },
        {
          "metadata": {
            "tags": null
          },
          "name": "stderr",
          "output_type": "stream",
          "text": [
            "2024-05-12 09:05:52,804\tWARNING insufficient_resources_manager.py:163 -- Ignore this message if the cluster is autoscaling. No trial is running and no new trial has been started within the last 60 seconds. This could be due to the cluster not having enough resources available. You asked for 5.0 CPUs and 1.0 GPUs per trial, but the cluster only has 2.0 CPUs and 1.0 GPUs available. Stop the tuning and adjust the required resources (e.g. via the `ScalingConfig` or `resources_per_trial`, or `num_workers` for rllib), or add more resources to your cluster.\n"
          ]
        },
        {
          "metadata": {
            "tags": null
          },
          "name": "stdout",
          "output_type": "stream",
          "text": [
            "Trial status: 1 PENDING\n",
            "Current time: 2024-05-12 09:06:15. Total running time: 5hr 10min 42s\n",
            "Logical resource usage: 0/2 CPUs, 0/1 GPUs\n",
            "+-----------------------------------+\n",
            "| Trial name               status   |\n",
            "+-----------------------------------+\n",
            "| PPO_my_env_7b7f7_00000   PENDING  |\n",
            "+-----------------------------------+\n",
            "Trial status: 1 PENDING\n",
            "Current time: 2024-05-12 09:06:45. Total running time: 5hr 11min 12s\n",
            "Logical resource usage: 0/2 CPUs, 0/1 GPUs\n",
            "+-----------------------------------+\n",
            "| Trial name               status   |\n",
            "+-----------------------------------+\n",
            "| PPO_my_env_7b7f7_00000   PENDING  |\n",
            "+-----------------------------------+\n"
          ]
        },
        {
          "metadata": {
            "tags": null
          },
          "name": "stderr",
          "output_type": "stream",
          "text": [
            "2024-05-12 09:06:52,883\tWARNING insufficient_resources_manager.py:163 -- Ignore this message if the cluster is autoscaling. No trial is running and no new trial has been started within the last 60 seconds. This could be due to the cluster not having enough resources available. You asked for 5.0 CPUs and 1.0 GPUs per trial, but the cluster only has 2.0 CPUs and 1.0 GPUs available. Stop the tuning and adjust the required resources (e.g. via the `ScalingConfig` or `resources_per_trial`, or `num_workers` for rllib), or add more resources to your cluster.\n"
          ]
        },
        {
          "metadata": {
            "tags": null
          },
          "name": "stdout",
          "output_type": "stream",
          "text": [
            "Trial status: 1 PENDING\n",
            "Current time: 2024-05-12 09:07:15. Total running time: 5hr 11min 42s\n",
            "Logical resource usage: 0/2 CPUs, 0/1 GPUs\n",
            "+-----------------------------------+\n",
            "| Trial name               status   |\n",
            "+-----------------------------------+\n",
            "| PPO_my_env_7b7f7_00000   PENDING  |\n",
            "+-----------------------------------+\n",
            "Trial status: 1 PENDING\n",
            "Current time: 2024-05-12 09:07:45. Total running time: 5hr 12min 12s\n",
            "Logical resource usage: 0/2 CPUs, 0/1 GPUs\n",
            "+-----------------------------------+\n",
            "| Trial name               status   |\n",
            "+-----------------------------------+\n",
            "| PPO_my_env_7b7f7_00000   PENDING  |\n",
            "+-----------------------------------+\n"
          ]
        },
        {
          "metadata": {
            "tags": null
          },
          "name": "stderr",
          "output_type": "stream",
          "text": [
            "2024-05-12 09:07:52,898\tWARNING insufficient_resources_manager.py:163 -- Ignore this message if the cluster is autoscaling. No trial is running and no new trial has been started within the last 60 seconds. This could be due to the cluster not having enough resources available. You asked for 5.0 CPUs and 1.0 GPUs per trial, but the cluster only has 2.0 CPUs and 1.0 GPUs available. Stop the tuning and adjust the required resources (e.g. via the `ScalingConfig` or `resources_per_trial`, or `num_workers` for rllib), or add more resources to your cluster.\n"
          ]
        },
        {
          "metadata": {
            "tags": null
          },
          "name": "stdout",
          "output_type": "stream",
          "text": [
            "Trial status: 1 PENDING\n",
            "Current time: 2024-05-12 09:08:15. Total running time: 5hr 12min 42s\n",
            "Logical resource usage: 0/2 CPUs, 0/1 GPUs\n",
            "+-----------------------------------+\n",
            "| Trial name               status   |\n",
            "+-----------------------------------+\n",
            "| PPO_my_env_7b7f7_00000   PENDING  |\n",
            "+-----------------------------------+\n",
            "Trial status: 1 PENDING\n",
            "Current time: 2024-05-12 09:08:45. Total running time: 5hr 13min 12s\n",
            "Logical resource usage: 0/2 CPUs, 0/1 GPUs\n",
            "+-----------------------------------+\n",
            "| Trial name               status   |\n",
            "+-----------------------------------+\n",
            "| PPO_my_env_7b7f7_00000   PENDING  |\n",
            "+-----------------------------------+\n"
          ]
        },
        {
          "metadata": {
            "tags": null
          },
          "name": "stderr",
          "output_type": "stream",
          "text": [
            "2024-05-12 09:08:52,921\tWARNING insufficient_resources_manager.py:163 -- Ignore this message if the cluster is autoscaling. No trial is running and no new trial has been started within the last 60 seconds. This could be due to the cluster not having enough resources available. You asked for 5.0 CPUs and 1.0 GPUs per trial, but the cluster only has 2.0 CPUs and 1.0 GPUs available. Stop the tuning and adjust the required resources (e.g. via the `ScalingConfig` or `resources_per_trial`, or `num_workers` for rllib), or add more resources to your cluster.\n"
          ]
        },
        {
          "metadata": {
            "tags": null
          },
          "name": "stdout",
          "output_type": "stream",
          "text": [
            "Trial status: 1 PENDING\n",
            "Current time: 2024-05-12 09:09:15. Total running time: 5hr 13min 42s\n",
            "Logical resource usage: 0/2 CPUs, 0/1 GPUs\n",
            "+-----------------------------------+\n",
            "| Trial name               status   |\n",
            "+-----------------------------------+\n",
            "| PPO_my_env_7b7f7_00000   PENDING  |\n",
            "+-----------------------------------+\n",
            "Trial status: 1 PENDING\n",
            "Current time: 2024-05-12 09:09:45. Total running time: 5hr 14min 12s\n",
            "Logical resource usage: 0/2 CPUs, 0/1 GPUs\n",
            "+-----------------------------------+\n",
            "| Trial name               status   |\n",
            "+-----------------------------------+\n",
            "| PPO_my_env_7b7f7_00000   PENDING  |\n",
            "+-----------------------------------+\n"
          ]
        },
        {
          "metadata": {
            "tags": null
          },
          "name": "stderr",
          "output_type": "stream",
          "text": [
            "2024-05-12 09:09:52,942\tWARNING insufficient_resources_manager.py:163 -- Ignore this message if the cluster is autoscaling. No trial is running and no new trial has been started within the last 60 seconds. This could be due to the cluster not having enough resources available. You asked for 5.0 CPUs and 1.0 GPUs per trial, but the cluster only has 2.0 CPUs and 1.0 GPUs available. Stop the tuning and adjust the required resources (e.g. via the `ScalingConfig` or `resources_per_trial`, or `num_workers` for rllib), or add more resources to your cluster.\n"
          ]
        },
        {
          "metadata": {
            "tags": null
          },
          "name": "stdout",
          "output_type": "stream",
          "text": [
            "Trial status: 1 PENDING\n",
            "Current time: 2024-05-12 09:10:15. Total running time: 5hr 14min 42s\n",
            "Logical resource usage: 0/2 CPUs, 0/1 GPUs\n",
            "+-----------------------------------+\n",
            "| Trial name               status   |\n",
            "+-----------------------------------+\n",
            "| PPO_my_env_7b7f7_00000   PENDING  |\n",
            "+-----------------------------------+\n",
            "Trial status: 1 PENDING\n",
            "Current time: 2024-05-12 09:10:45. Total running time: 5hr 15min 12s\n",
            "Logical resource usage: 0/2 CPUs, 0/1 GPUs\n",
            "+-----------------------------------+\n",
            "| Trial name               status   |\n",
            "+-----------------------------------+\n",
            "| PPO_my_env_7b7f7_00000   PENDING  |\n",
            "+-----------------------------------+\n"
          ]
        },
        {
          "metadata": {
            "tags": null
          },
          "name": "stderr",
          "output_type": "stream",
          "text": [
            "2024-05-12 09:10:52,981\tWARNING insufficient_resources_manager.py:163 -- Ignore this message if the cluster is autoscaling. No trial is running and no new trial has been started within the last 60 seconds. This could be due to the cluster not having enough resources available. You asked for 5.0 CPUs and 1.0 GPUs per trial, but the cluster only has 2.0 CPUs and 1.0 GPUs available. Stop the tuning and adjust the required resources (e.g. via the `ScalingConfig` or `resources_per_trial`, or `num_workers` for rllib), or add more resources to your cluster.\n"
          ]
        },
        {
          "metadata": {
            "tags": null
          },
          "name": "stdout",
          "output_type": "stream",
          "text": [
            "Trial status: 1 PENDING\n",
            "Current time: 2024-05-12 09:11:15. Total running time: 5hr 15min 42s\n",
            "Logical resource usage: 0/2 CPUs, 0/1 GPUs\n",
            "+-----------------------------------+\n",
            "| Trial name               status   |\n",
            "+-----------------------------------+\n",
            "| PPO_my_env_7b7f7_00000   PENDING  |\n",
            "+-----------------------------------+\n",
            "Trial status: 1 PENDING\n",
            "Current time: 2024-05-12 09:11:45. Total running time: 5hr 16min 12s\n",
            "Logical resource usage: 0/2 CPUs, 0/1 GPUs\n",
            "+-----------------------------------+\n",
            "| Trial name               status   |\n",
            "+-----------------------------------+\n",
            "| PPO_my_env_7b7f7_00000   PENDING  |\n",
            "+-----------------------------------+\n"
          ]
        },
        {
          "metadata": {
            "tags": null
          },
          "name": "stderr",
          "output_type": "stream",
          "text": [
            "2024-05-12 09:11:53,074\tWARNING insufficient_resources_manager.py:163 -- Ignore this message if the cluster is autoscaling. No trial is running and no new trial has been started within the last 60 seconds. This could be due to the cluster not having enough resources available. You asked for 5.0 CPUs and 1.0 GPUs per trial, but the cluster only has 2.0 CPUs and 1.0 GPUs available. Stop the tuning and adjust the required resources (e.g. via the `ScalingConfig` or `resources_per_trial`, or `num_workers` for rllib), or add more resources to your cluster.\n"
          ]
        },
        {
          "metadata": {
            "tags": null
          },
          "name": "stdout",
          "output_type": "stream",
          "text": [
            "Trial status: 1 PENDING\n",
            "Current time: 2024-05-12 09:12:15. Total running time: 5hr 16min 42s\n",
            "Logical resource usage: 0/2 CPUs, 0/1 GPUs\n",
            "+-----------------------------------+\n",
            "| Trial name               status   |\n",
            "+-----------------------------------+\n",
            "| PPO_my_env_7b7f7_00000   PENDING  |\n",
            "+-----------------------------------+\n",
            "Trial status: 1 PENDING\n",
            "Current time: 2024-05-12 09:12:45. Total running time: 5hr 17min 12s\n",
            "Logical resource usage: 0/2 CPUs, 0/1 GPUs\n",
            "+-----------------------------------+\n",
            "| Trial name               status   |\n",
            "+-----------------------------------+\n",
            "| PPO_my_env_7b7f7_00000   PENDING  |\n",
            "+-----------------------------------+\n"
          ]
        },
        {
          "metadata": {
            "tags": null
          },
          "name": "stderr",
          "output_type": "stream",
          "text": [
            "2024-05-12 09:12:53,165\tWARNING insufficient_resources_manager.py:163 -- Ignore this message if the cluster is autoscaling. No trial is running and no new trial has been started within the last 60 seconds. This could be due to the cluster not having enough resources available. You asked for 5.0 CPUs and 1.0 GPUs per trial, but the cluster only has 2.0 CPUs and 1.0 GPUs available. Stop the tuning and adjust the required resources (e.g. via the `ScalingConfig` or `resources_per_trial`, or `num_workers` for rllib), or add more resources to your cluster.\n"
          ]
        },
        {
          "metadata": {
            "tags": null
          },
          "name": "stdout",
          "output_type": "stream",
          "text": [
            "Trial status: 1 PENDING\n",
            "Current time: 2024-05-12 09:13:16. Total running time: 5hr 17min 42s\n",
            "Logical resource usage: 0/2 CPUs, 0/1 GPUs\n",
            "+-----------------------------------+\n",
            "| Trial name               status   |\n",
            "+-----------------------------------+\n",
            "| PPO_my_env_7b7f7_00000   PENDING  |\n",
            "+-----------------------------------+\n",
            "Trial status: 1 PENDING\n",
            "Current time: 2024-05-12 09:13:46. Total running time: 5hr 18min 12s\n",
            "Logical resource usage: 0/2 CPUs, 0/1 GPUs\n",
            "+-----------------------------------+\n",
            "| Trial name               status   |\n",
            "+-----------------------------------+\n",
            "| PPO_my_env_7b7f7_00000   PENDING  |\n",
            "+-----------------------------------+\n"
          ]
        },
        {
          "metadata": {
            "tags": null
          },
          "name": "stderr",
          "output_type": "stream",
          "text": [
            "2024-05-12 09:13:53,243\tWARNING insufficient_resources_manager.py:163 -- Ignore this message if the cluster is autoscaling. No trial is running and no new trial has been started within the last 60 seconds. This could be due to the cluster not having enough resources available. You asked for 5.0 CPUs and 1.0 GPUs per trial, but the cluster only has 2.0 CPUs and 1.0 GPUs available. Stop the tuning and adjust the required resources (e.g. via the `ScalingConfig` or `resources_per_trial`, or `num_workers` for rllib), or add more resources to your cluster.\n"
          ]
        },
        {
          "metadata": {
            "tags": null
          },
          "name": "stdout",
          "output_type": "stream",
          "text": [
            "Trial status: 1 PENDING\n",
            "Current time: 2024-05-12 09:14:16. Total running time: 5hr 18min 42s\n",
            "Logical resource usage: 0/2 CPUs, 0/1 GPUs\n",
            "+-----------------------------------+\n",
            "| Trial name               status   |\n",
            "+-----------------------------------+\n",
            "| PPO_my_env_7b7f7_00000   PENDING  |\n",
            "+-----------------------------------+\n",
            "Trial status: 1 PENDING\n",
            "Current time: 2024-05-12 09:14:46. Total running time: 5hr 19min 12s\n",
            "Logical resource usage: 0/2 CPUs, 0/1 GPUs\n",
            "+-----------------------------------+\n",
            "| Trial name               status   |\n",
            "+-----------------------------------+\n",
            "| PPO_my_env_7b7f7_00000   PENDING  |\n",
            "+-----------------------------------+\n"
          ]
        },
        {
          "metadata": {
            "tags": null
          },
          "name": "stderr",
          "output_type": "stream",
          "text": [
            "2024-05-12 09:14:53,324\tWARNING insufficient_resources_manager.py:163 -- Ignore this message if the cluster is autoscaling. No trial is running and no new trial has been started within the last 60 seconds. This could be due to the cluster not having enough resources available. You asked for 5.0 CPUs and 1.0 GPUs per trial, but the cluster only has 2.0 CPUs and 1.0 GPUs available. Stop the tuning and adjust the required resources (e.g. via the `ScalingConfig` or `resources_per_trial`, or `num_workers` for rllib), or add more resources to your cluster.\n"
          ]
        },
        {
          "metadata": {
            "tags": null
          },
          "name": "stdout",
          "output_type": "stream",
          "text": [
            "Trial status: 1 PENDING\n",
            "Current time: 2024-05-12 09:15:16. Total running time: 5hr 19min 42s\n",
            "Logical resource usage: 0/2 CPUs, 0/1 GPUs\n",
            "+-----------------------------------+\n",
            "| Trial name               status   |\n",
            "+-----------------------------------+\n",
            "| PPO_my_env_7b7f7_00000   PENDING  |\n",
            "+-----------------------------------+\n",
            "Trial status: 1 PENDING\n",
            "Current time: 2024-05-12 09:15:46. Total running time: 5hr 20min 12s\n",
            "Logical resource usage: 0/2 CPUs, 0/1 GPUs\n",
            "+-----------------------------------+\n",
            "| Trial name               status   |\n",
            "+-----------------------------------+\n",
            "| PPO_my_env_7b7f7_00000   PENDING  |\n",
            "+-----------------------------------+\n"
          ]
        },
        {
          "metadata": {
            "tags": null
          },
          "name": "stderr",
          "output_type": "stream",
          "text": [
            "2024-05-12 09:15:53,392\tWARNING insufficient_resources_manager.py:163 -- Ignore this message if the cluster is autoscaling. No trial is running and no new trial has been started within the last 60 seconds. This could be due to the cluster not having enough resources available. You asked for 5.0 CPUs and 1.0 GPUs per trial, but the cluster only has 2.0 CPUs and 1.0 GPUs available. Stop the tuning and adjust the required resources (e.g. via the `ScalingConfig` or `resources_per_trial`, or `num_workers` for rllib), or add more resources to your cluster.\n"
          ]
        },
        {
          "metadata": {
            "tags": null
          },
          "name": "stdout",
          "output_type": "stream",
          "text": [
            "Trial status: 1 PENDING\n",
            "Current time: 2024-05-12 09:16:16. Total running time: 5hr 20min 43s\n",
            "Logical resource usage: 0/2 CPUs, 0/1 GPUs\n",
            "+-----------------------------------+\n",
            "| Trial name               status   |\n",
            "+-----------------------------------+\n",
            "| PPO_my_env_7b7f7_00000   PENDING  |\n",
            "+-----------------------------------+\n",
            "Trial status: 1 PENDING\n",
            "Current time: 2024-05-12 09:16:46. Total running time: 5hr 21min 13s\n",
            "Logical resource usage: 0/2 CPUs, 0/1 GPUs\n",
            "+-----------------------------------+\n",
            "| Trial name               status   |\n",
            "+-----------------------------------+\n",
            "| PPO_my_env_7b7f7_00000   PENDING  |\n",
            "+-----------------------------------+\n"
          ]
        },
        {
          "metadata": {
            "tags": null
          },
          "name": "stderr",
          "output_type": "stream",
          "text": [
            "2024-05-12 09:16:53,483\tWARNING insufficient_resources_manager.py:163 -- Ignore this message if the cluster is autoscaling. No trial is running and no new trial has been started within the last 60 seconds. This could be due to the cluster not having enough resources available. You asked for 5.0 CPUs and 1.0 GPUs per trial, but the cluster only has 2.0 CPUs and 1.0 GPUs available. Stop the tuning and adjust the required resources (e.g. via the `ScalingConfig` or `resources_per_trial`, or `num_workers` for rllib), or add more resources to your cluster.\n"
          ]
        },
        {
          "metadata": {
            "tags": null
          },
          "name": "stdout",
          "output_type": "stream",
          "text": [
            "Trial status: 1 PENDING\n",
            "Current time: 2024-05-12 09:17:16. Total running time: 5hr 21min 43s\n",
            "Logical resource usage: 0/2 CPUs, 0/1 GPUs\n",
            "+-----------------------------------+\n",
            "| Trial name               status   |\n",
            "+-----------------------------------+\n",
            "| PPO_my_env_7b7f7_00000   PENDING  |\n",
            "+-----------------------------------+\n",
            "Trial status: 1 PENDING\n",
            "Current time: 2024-05-12 09:17:46. Total running time: 5hr 22min 13s\n",
            "Logical resource usage: 0/2 CPUs, 0/1 GPUs\n",
            "+-----------------------------------+\n",
            "| Trial name               status   |\n",
            "+-----------------------------------+\n",
            "| PPO_my_env_7b7f7_00000   PENDING  |\n",
            "+-----------------------------------+\n"
          ]
        },
        {
          "metadata": {
            "tags": null
          },
          "name": "stderr",
          "output_type": "stream",
          "text": [
            "2024-05-12 09:17:53,563\tWARNING insufficient_resources_manager.py:163 -- Ignore this message if the cluster is autoscaling. No trial is running and no new trial has been started within the last 60 seconds. This could be due to the cluster not having enough resources available. You asked for 5.0 CPUs and 1.0 GPUs per trial, but the cluster only has 2.0 CPUs and 1.0 GPUs available. Stop the tuning and adjust the required resources (e.g. via the `ScalingConfig` or `resources_per_trial`, or `num_workers` for rllib), or add more resources to your cluster.\n"
          ]
        },
        {
          "metadata": {
            "tags": null
          },
          "name": "stdout",
          "output_type": "stream",
          "text": [
            "Trial status: 1 PENDING\n",
            "Current time: 2024-05-12 09:18:16. Total running time: 5hr 22min 43s\n",
            "Logical resource usage: 0/2 CPUs, 0/1 GPUs\n",
            "+-----------------------------------+\n",
            "| Trial name               status   |\n",
            "+-----------------------------------+\n",
            "| PPO_my_env_7b7f7_00000   PENDING  |\n",
            "+-----------------------------------+\n",
            "Trial status: 1 PENDING\n",
            "Current time: 2024-05-12 09:18:46. Total running time: 5hr 23min 13s\n",
            "Logical resource usage: 0/2 CPUs, 0/1 GPUs\n",
            "+-----------------------------------+\n",
            "| Trial name               status   |\n",
            "+-----------------------------------+\n",
            "| PPO_my_env_7b7f7_00000   PENDING  |\n",
            "+-----------------------------------+\n"
          ]
        },
        {
          "metadata": {
            "tags": null
          },
          "name": "stderr",
          "output_type": "stream",
          "text": [
            "2024-05-12 09:18:53,654\tWARNING insufficient_resources_manager.py:163 -- Ignore this message if the cluster is autoscaling. No trial is running and no new trial has been started within the last 60 seconds. This could be due to the cluster not having enough resources available. You asked for 5.0 CPUs and 1.0 GPUs per trial, but the cluster only has 2.0 CPUs and 1.0 GPUs available. Stop the tuning and adjust the required resources (e.g. via the `ScalingConfig` or `resources_per_trial`, or `num_workers` for rllib), or add more resources to your cluster.\n"
          ]
        },
        {
          "metadata": {
            "tags": null
          },
          "name": "stdout",
          "output_type": "stream",
          "text": [
            "Trial status: 1 PENDING\n",
            "Current time: 2024-05-12 09:19:16. Total running time: 5hr 23min 43s\n",
            "Logical resource usage: 0/2 CPUs, 0/1 GPUs\n",
            "+-----------------------------------+\n",
            "| Trial name               status   |\n",
            "+-----------------------------------+\n",
            "| PPO_my_env_7b7f7_00000   PENDING  |\n",
            "+-----------------------------------+\n",
            "Trial status: 1 PENDING\n",
            "Current time: 2024-05-12 09:19:46. Total running time: 5hr 24min 13s\n",
            "Logical resource usage: 0/2 CPUs, 0/1 GPUs\n",
            "+-----------------------------------+\n",
            "| Trial name               status   |\n",
            "+-----------------------------------+\n",
            "| PPO_my_env_7b7f7_00000   PENDING  |\n",
            "+-----------------------------------+\n"
          ]
        },
        {
          "metadata": {
            "tags": null
          },
          "name": "stderr",
          "output_type": "stream",
          "text": [
            "2024-05-12 09:19:53,667\tWARNING insufficient_resources_manager.py:163 -- Ignore this message if the cluster is autoscaling. No trial is running and no new trial has been started within the last 60 seconds. This could be due to the cluster not having enough resources available. You asked for 5.0 CPUs and 1.0 GPUs per trial, but the cluster only has 2.0 CPUs and 1.0 GPUs available. Stop the tuning and adjust the required resources (e.g. via the `ScalingConfig` or `resources_per_trial`, or `num_workers` for rllib), or add more resources to your cluster.\n"
          ]
        },
        {
          "metadata": {
            "tags": null
          },
          "name": "stdout",
          "output_type": "stream",
          "text": [
            "Trial status: 1 PENDING\n",
            "Current time: 2024-05-12 09:20:16. Total running time: 5hr 24min 43s\n",
            "Logical resource usage: 0/2 CPUs, 0/1 GPUs\n",
            "+-----------------------------------+\n",
            "| Trial name               status   |\n",
            "+-----------------------------------+\n",
            "| PPO_my_env_7b7f7_00000   PENDING  |\n",
            "+-----------------------------------+\n",
            "Trial status: 1 PENDING\n",
            "Current time: 2024-05-12 09:20:46. Total running time: 5hr 25min 13s\n",
            "Logical resource usage: 0/2 CPUs, 0/1 GPUs\n",
            "+-----------------------------------+\n",
            "| Trial name               status   |\n",
            "+-----------------------------------+\n",
            "| PPO_my_env_7b7f7_00000   PENDING  |\n",
            "+-----------------------------------+\n"
          ]
        },
        {
          "metadata": {
            "tags": null
          },
          "name": "stderr",
          "output_type": "stream",
          "text": [
            "2024-05-12 09:20:53,767\tWARNING insufficient_resources_manager.py:163 -- Ignore this message if the cluster is autoscaling. No trial is running and no new trial has been started within the last 60 seconds. This could be due to the cluster not having enough resources available. You asked for 5.0 CPUs and 1.0 GPUs per trial, but the cluster only has 2.0 CPUs and 1.0 GPUs available. Stop the tuning and adjust the required resources (e.g. via the `ScalingConfig` or `resources_per_trial`, or `num_workers` for rllib), or add more resources to your cluster.\n"
          ]
        },
        {
          "metadata": {
            "tags": null
          },
          "name": "stdout",
          "output_type": "stream",
          "text": [
            "Trial status: 1 PENDING\n",
            "Current time: 2024-05-12 09:21:16. Total running time: 5hr 25min 43s\n",
            "Logical resource usage: 0/2 CPUs, 0/1 GPUs\n",
            "+-----------------------------------+\n",
            "| Trial name               status   |\n",
            "+-----------------------------------+\n",
            "| PPO_my_env_7b7f7_00000   PENDING  |\n",
            "+-----------------------------------+\n",
            "Trial status: 1 PENDING\n",
            "Current time: 2024-05-12 09:21:47. Total running time: 5hr 26min 13s\n",
            "Logical resource usage: 0/2 CPUs, 0/1 GPUs\n",
            "+-----------------------------------+\n",
            "| Trial name               status   |\n",
            "+-----------------------------------+\n",
            "| PPO_my_env_7b7f7_00000   PENDING  |\n",
            "+-----------------------------------+\n"
          ]
        },
        {
          "metadata": {
            "tags": null
          },
          "name": "stderr",
          "output_type": "stream",
          "text": [
            "2024-05-12 09:21:53,838\tWARNING insufficient_resources_manager.py:163 -- Ignore this message if the cluster is autoscaling. No trial is running and no new trial has been started within the last 60 seconds. This could be due to the cluster not having enough resources available. You asked for 5.0 CPUs and 1.0 GPUs per trial, but the cluster only has 2.0 CPUs and 1.0 GPUs available. Stop the tuning and adjust the required resources (e.g. via the `ScalingConfig` or `resources_per_trial`, or `num_workers` for rllib), or add more resources to your cluster.\n"
          ]
        },
        {
          "metadata": {
            "tags": null
          },
          "name": "stdout",
          "output_type": "stream",
          "text": [
            "Trial status: 1 PENDING\n",
            "Current time: 2024-05-12 09:22:17. Total running time: 5hr 26min 43s\n",
            "Logical resource usage: 0/2 CPUs, 0/1 GPUs\n",
            "+-----------------------------------+\n",
            "| Trial name               status   |\n",
            "+-----------------------------------+\n",
            "| PPO_my_env_7b7f7_00000   PENDING  |\n",
            "+-----------------------------------+\n",
            "Trial status: 1 PENDING\n",
            "Current time: 2024-05-12 09:22:47. Total running time: 5hr 27min 13s\n",
            "Logical resource usage: 0/2 CPUs, 0/1 GPUs\n",
            "+-----------------------------------+\n",
            "| Trial name               status   |\n",
            "+-----------------------------------+\n",
            "| PPO_my_env_7b7f7_00000   PENDING  |\n",
            "+-----------------------------------+\n"
          ]
        },
        {
          "metadata": {
            "tags": null
          },
          "name": "stderr",
          "output_type": "stream",
          "text": [
            "2024-05-12 09:22:53,848\tWARNING insufficient_resources_manager.py:163 -- Ignore this message if the cluster is autoscaling. No trial is running and no new trial has been started within the last 60 seconds. This could be due to the cluster not having enough resources available. You asked for 5.0 CPUs and 1.0 GPUs per trial, but the cluster only has 2.0 CPUs and 1.0 GPUs available. Stop the tuning and adjust the required resources (e.g. via the `ScalingConfig` or `resources_per_trial`, or `num_workers` for rllib), or add more resources to your cluster.\n"
          ]
        },
        {
          "metadata": {
            "tags": null
          },
          "name": "stdout",
          "output_type": "stream",
          "text": [
            "Trial status: 1 PENDING\n",
            "Current time: 2024-05-12 09:23:17. Total running time: 5hr 27min 43s\n",
            "Logical resource usage: 0/2 CPUs, 0/1 GPUs\n",
            "+-----------------------------------+\n",
            "| Trial name               status   |\n",
            "+-----------------------------------+\n",
            "| PPO_my_env_7b7f7_00000   PENDING  |\n",
            "+-----------------------------------+\n",
            "Trial status: 1 PENDING\n",
            "Current time: 2024-05-12 09:23:47. Total running time: 5hr 28min 13s\n",
            "Logical resource usage: 0/2 CPUs, 0/1 GPUs\n",
            "+-----------------------------------+\n",
            "| Trial name               status   |\n",
            "+-----------------------------------+\n",
            "| PPO_my_env_7b7f7_00000   PENDING  |\n",
            "+-----------------------------------+\n"
          ]
        },
        {
          "metadata": {
            "tags": null
          },
          "name": "stderr",
          "output_type": "stream",
          "text": [
            "2024-05-12 09:23:53,859\tWARNING insufficient_resources_manager.py:163 -- Ignore this message if the cluster is autoscaling. No trial is running and no new trial has been started within the last 60 seconds. This could be due to the cluster not having enough resources available. You asked for 5.0 CPUs and 1.0 GPUs per trial, but the cluster only has 2.0 CPUs and 1.0 GPUs available. Stop the tuning and adjust the required resources (e.g. via the `ScalingConfig` or `resources_per_trial`, or `num_workers` for rllib), or add more resources to your cluster.\n"
          ]
        },
        {
          "metadata": {
            "tags": null
          },
          "name": "stdout",
          "output_type": "stream",
          "text": [
            "Trial status: 1 PENDING\n",
            "Current time: 2024-05-12 09:24:17. Total running time: 5hr 28min 43s\n",
            "Logical resource usage: 0/2 CPUs, 0/1 GPUs\n",
            "+-----------------------------------+\n",
            "| Trial name               status   |\n",
            "+-----------------------------------+\n",
            "| PPO_my_env_7b7f7_00000   PENDING  |\n",
            "+-----------------------------------+\n",
            "Trial status: 1 PENDING\n",
            "Current time: 2024-05-12 09:24:47. Total running time: 5hr 29min 13s\n",
            "Logical resource usage: 0/2 CPUs, 0/1 GPUs\n",
            "+-----------------------------------+\n",
            "| Trial name               status   |\n",
            "+-----------------------------------+\n",
            "| PPO_my_env_7b7f7_00000   PENDING  |\n",
            "+-----------------------------------+\n"
          ]
        },
        {
          "metadata": {
            "tags": null
          },
          "name": "stderr",
          "output_type": "stream",
          "text": [
            "2024-05-12 09:24:53,872\tWARNING insufficient_resources_manager.py:163 -- Ignore this message if the cluster is autoscaling. No trial is running and no new trial has been started within the last 60 seconds. This could be due to the cluster not having enough resources available. You asked for 5.0 CPUs and 1.0 GPUs per trial, but the cluster only has 2.0 CPUs and 1.0 GPUs available. Stop the tuning and adjust the required resources (e.g. via the `ScalingConfig` or `resources_per_trial`, or `num_workers` for rllib), or add more resources to your cluster.\n"
          ]
        },
        {
          "metadata": {
            "tags": null
          },
          "name": "stdout",
          "output_type": "stream",
          "text": [
            "Trial status: 1 PENDING\n",
            "Current time: 2024-05-12 09:25:17. Total running time: 5hr 29min 43s\n",
            "Logical resource usage: 0/2 CPUs, 0/1 GPUs\n",
            "+-----------------------------------+\n",
            "| Trial name               status   |\n",
            "+-----------------------------------+\n",
            "| PPO_my_env_7b7f7_00000   PENDING  |\n",
            "+-----------------------------------+\n",
            "Trial status: 1 PENDING\n",
            "Current time: 2024-05-12 09:25:47. Total running time: 5hr 30min 13s\n",
            "Logical resource usage: 0/2 CPUs, 0/1 GPUs\n",
            "+-----------------------------------+\n",
            "| Trial name               status   |\n",
            "+-----------------------------------+\n",
            "| PPO_my_env_7b7f7_00000   PENDING  |\n",
            "+-----------------------------------+\n"
          ]
        },
        {
          "metadata": {
            "tags": null
          },
          "name": "stderr",
          "output_type": "stream",
          "text": [
            "2024-05-12 09:25:53,885\tWARNING insufficient_resources_manager.py:163 -- Ignore this message if the cluster is autoscaling. No trial is running and no new trial has been started within the last 60 seconds. This could be due to the cluster not having enough resources available. You asked for 5.0 CPUs and 1.0 GPUs per trial, but the cluster only has 2.0 CPUs and 1.0 GPUs available. Stop the tuning and adjust the required resources (e.g. via the `ScalingConfig` or `resources_per_trial`, or `num_workers` for rllib), or add more resources to your cluster.\n"
          ]
        },
        {
          "metadata": {
            "tags": null
          },
          "name": "stdout",
          "output_type": "stream",
          "text": [
            "Trial status: 1 PENDING\n",
            "Current time: 2024-05-12 09:26:17. Total running time: 5hr 30min 43s\n",
            "Logical resource usage: 0/2 CPUs, 0/1 GPUs\n",
            "+-----------------------------------+\n",
            "| Trial name               status   |\n",
            "+-----------------------------------+\n",
            "| PPO_my_env_7b7f7_00000   PENDING  |\n",
            "+-----------------------------------+\n",
            "Trial status: 1 PENDING\n",
            "Current time: 2024-05-12 09:26:47. Total running time: 5hr 31min 13s\n",
            "Logical resource usage: 0/2 CPUs, 0/1 GPUs\n",
            "+-----------------------------------+\n",
            "| Trial name               status   |\n",
            "+-----------------------------------+\n",
            "| PPO_my_env_7b7f7_00000   PENDING  |\n",
            "+-----------------------------------+\n"
          ]
        },
        {
          "metadata": {
            "tags": null
          },
          "name": "stderr",
          "output_type": "stream",
          "text": [
            "2024-05-12 09:26:53,894\tWARNING insufficient_resources_manager.py:163 -- Ignore this message if the cluster is autoscaling. No trial is running and no new trial has been started within the last 60 seconds. This could be due to the cluster not having enough resources available. You asked for 5.0 CPUs and 1.0 GPUs per trial, but the cluster only has 2.0 CPUs and 1.0 GPUs available. Stop the tuning and adjust the required resources (e.g. via the `ScalingConfig` or `resources_per_trial`, or `num_workers` for rllib), or add more resources to your cluster.\n"
          ]
        },
        {
          "metadata": {
            "tags": null
          },
          "name": "stdout",
          "output_type": "stream",
          "text": [
            "Trial status: 1 PENDING\n",
            "Current time: 2024-05-12 09:27:17. Total running time: 5hr 31min 43s\n",
            "Logical resource usage: 0/2 CPUs, 0/1 GPUs\n",
            "+-----------------------------------+\n",
            "| Trial name               status   |\n",
            "+-----------------------------------+\n",
            "| PPO_my_env_7b7f7_00000   PENDING  |\n",
            "+-----------------------------------+\n",
            "Trial status: 1 PENDING\n",
            "Current time: 2024-05-12 09:27:47. Total running time: 5hr 32min 14s\n",
            "Logical resource usage: 0/2 CPUs, 0/1 GPUs\n",
            "+-----------------------------------+\n",
            "| Trial name               status   |\n",
            "+-----------------------------------+\n",
            "| PPO_my_env_7b7f7_00000   PENDING  |\n",
            "+-----------------------------------+\n"
          ]
        },
        {
          "metadata": {
            "tags": null
          },
          "name": "stderr",
          "output_type": "stream",
          "text": [
            "2024-05-12 09:27:53,906\tWARNING insufficient_resources_manager.py:163 -- Ignore this message if the cluster is autoscaling. No trial is running and no new trial has been started within the last 60 seconds. This could be due to the cluster not having enough resources available. You asked for 5.0 CPUs and 1.0 GPUs per trial, but the cluster only has 2.0 CPUs and 1.0 GPUs available. Stop the tuning and adjust the required resources (e.g. via the `ScalingConfig` or `resources_per_trial`, or `num_workers` for rllib), or add more resources to your cluster.\n"
          ]
        },
        {
          "metadata": {
            "tags": null
          },
          "name": "stdout",
          "output_type": "stream",
          "text": [
            "Trial status: 1 PENDING\n",
            "Current time: 2024-05-12 09:28:17. Total running time: 5hr 32min 44s\n",
            "Logical resource usage: 0/2 CPUs, 0/1 GPUs\n",
            "+-----------------------------------+\n",
            "| Trial name               status   |\n",
            "+-----------------------------------+\n",
            "| PPO_my_env_7b7f7_00000   PENDING  |\n",
            "+-----------------------------------+\n",
            "Trial status: 1 PENDING\n",
            "Current time: 2024-05-12 09:28:47. Total running time: 5hr 33min 14s\n",
            "Logical resource usage: 0/2 CPUs, 0/1 GPUs\n",
            "+-----------------------------------+\n",
            "| Trial name               status   |\n",
            "+-----------------------------------+\n",
            "| PPO_my_env_7b7f7_00000   PENDING  |\n",
            "+-----------------------------------+\n"
          ]
        },
        {
          "metadata": {
            "tags": null
          },
          "name": "stderr",
          "output_type": "stream",
          "text": [
            "2024-05-12 09:28:54,005\tWARNING insufficient_resources_manager.py:163 -- Ignore this message if the cluster is autoscaling. No trial is running and no new trial has been started within the last 60 seconds. This could be due to the cluster not having enough resources available. You asked for 5.0 CPUs and 1.0 GPUs per trial, but the cluster only has 2.0 CPUs and 1.0 GPUs available. Stop the tuning and adjust the required resources (e.g. via the `ScalingConfig` or `resources_per_trial`, or `num_workers` for rllib), or add more resources to your cluster.\n"
          ]
        },
        {
          "metadata": {
            "tags": null
          },
          "name": "stdout",
          "output_type": "stream",
          "text": [
            "Trial status: 1 PENDING\n",
            "Current time: 2024-05-12 09:29:17. Total running time: 5hr 33min 44s\n",
            "Logical resource usage: 0/2 CPUs, 0/1 GPUs\n",
            "+-----------------------------------+\n",
            "| Trial name               status   |\n",
            "+-----------------------------------+\n",
            "| PPO_my_env_7b7f7_00000   PENDING  |\n",
            "+-----------------------------------+\n",
            "Trial status: 1 PENDING\n",
            "Current time: 2024-05-12 09:29:47. Total running time: 5hr 34min 14s\n",
            "Logical resource usage: 0/2 CPUs, 0/1 GPUs\n",
            "+-----------------------------------+\n",
            "| Trial name               status   |\n",
            "+-----------------------------------+\n",
            "| PPO_my_env_7b7f7_00000   PENDING  |\n",
            "+-----------------------------------+\n"
          ]
        },
        {
          "metadata": {
            "tags": null
          },
          "name": "stderr",
          "output_type": "stream",
          "text": [
            "2024-05-12 09:29:54,019\tWARNING insufficient_resources_manager.py:163 -- Ignore this message if the cluster is autoscaling. No trial is running and no new trial has been started within the last 60 seconds. This could be due to the cluster not having enough resources available. You asked for 5.0 CPUs and 1.0 GPUs per trial, but the cluster only has 2.0 CPUs and 1.0 GPUs available. Stop the tuning and adjust the required resources (e.g. via the `ScalingConfig` or `resources_per_trial`, or `num_workers` for rllib), or add more resources to your cluster.\n"
          ]
        },
        {
          "metadata": {
            "tags": null
          },
          "name": "stdout",
          "output_type": "stream",
          "text": [
            "Trial status: 1 PENDING\n",
            "Current time: 2024-05-12 09:30:17. Total running time: 5hr 34min 44s\n",
            "Logical resource usage: 0/2 CPUs, 0/1 GPUs\n",
            "+-----------------------------------+\n",
            "| Trial name               status   |\n",
            "+-----------------------------------+\n",
            "| PPO_my_env_7b7f7_00000   PENDING  |\n",
            "+-----------------------------------+\n",
            "Trial status: 1 PENDING\n",
            "Current time: 2024-05-12 09:30:47. Total running time: 5hr 35min 14s\n",
            "Logical resource usage: 0/2 CPUs, 0/1 GPUs\n",
            "+-----------------------------------+\n",
            "| Trial name               status   |\n",
            "+-----------------------------------+\n",
            "| PPO_my_env_7b7f7_00000   PENDING  |\n",
            "+-----------------------------------+\n"
          ]
        },
        {
          "metadata": {
            "tags": null
          },
          "name": "stderr",
          "output_type": "stream",
          "text": [
            "2024-05-12 09:30:54,029\tWARNING insufficient_resources_manager.py:163 -- Ignore this message if the cluster is autoscaling. No trial is running and no new trial has been started within the last 60 seconds. This could be due to the cluster not having enough resources available. You asked for 5.0 CPUs and 1.0 GPUs per trial, but the cluster only has 2.0 CPUs and 1.0 GPUs available. Stop the tuning and adjust the required resources (e.g. via the `ScalingConfig` or `resources_per_trial`, or `num_workers` for rllib), or add more resources to your cluster.\n"
          ]
        },
        {
          "metadata": {
            "tags": null
          },
          "name": "stdout",
          "output_type": "stream",
          "text": [
            "Trial status: 1 PENDING\n",
            "Current time: 2024-05-12 09:31:17. Total running time: 5hr 35min 44s\n",
            "Logical resource usage: 0/2 CPUs, 0/1 GPUs\n",
            "+-----------------------------------+\n",
            "| Trial name               status   |\n",
            "+-----------------------------------+\n",
            "| PPO_my_env_7b7f7_00000   PENDING  |\n",
            "+-----------------------------------+\n",
            "Trial status: 1 PENDING\n",
            "Current time: 2024-05-12 09:31:47. Total running time: 5hr 36min 14s\n",
            "Logical resource usage: 0/2 CPUs, 0/1 GPUs\n",
            "+-----------------------------------+\n",
            "| Trial name               status   |\n",
            "+-----------------------------------+\n",
            "| PPO_my_env_7b7f7_00000   PENDING  |\n",
            "+-----------------------------------+\n"
          ]
        },
        {
          "metadata": {
            "tags": null
          },
          "name": "stderr",
          "output_type": "stream",
          "text": [
            "2024-05-12 09:31:54,033\tWARNING insufficient_resources_manager.py:163 -- Ignore this message if the cluster is autoscaling. No trial is running and no new trial has been started within the last 60 seconds. This could be due to the cluster not having enough resources available. You asked for 5.0 CPUs and 1.0 GPUs per trial, but the cluster only has 2.0 CPUs and 1.0 GPUs available. Stop the tuning and adjust the required resources (e.g. via the `ScalingConfig` or `resources_per_trial`, or `num_workers` for rllib), or add more resources to your cluster.\n"
          ]
        },
        {
          "metadata": {
            "tags": null
          },
          "name": "stdout",
          "output_type": "stream",
          "text": [
            "Trial status: 1 PENDING\n",
            "Current time: 2024-05-12 09:32:17. Total running time: 5hr 36min 44s\n",
            "Logical resource usage: 0/2 CPUs, 0/1 GPUs\n",
            "+-----------------------------------+\n",
            "| Trial name               status   |\n",
            "+-----------------------------------+\n",
            "| PPO_my_env_7b7f7_00000   PENDING  |\n",
            "+-----------------------------------+\n",
            "Trial status: 1 PENDING\n",
            "Current time: 2024-05-12 09:32:48. Total running time: 5hr 37min 14s\n",
            "Logical resource usage: 0/2 CPUs, 0/1 GPUs\n",
            "+-----------------------------------+\n",
            "| Trial name               status   |\n",
            "+-----------------------------------+\n",
            "| PPO_my_env_7b7f7_00000   PENDING  |\n",
            "+-----------------------------------+\n"
          ]
        },
        {
          "metadata": {
            "tags": null
          },
          "name": "stderr",
          "output_type": "stream",
          "text": [
            "2024-05-12 09:32:54,051\tWARNING insufficient_resources_manager.py:163 -- Ignore this message if the cluster is autoscaling. No trial is running and no new trial has been started within the last 60 seconds. This could be due to the cluster not having enough resources available. You asked for 5.0 CPUs and 1.0 GPUs per trial, but the cluster only has 2.0 CPUs and 1.0 GPUs available. Stop the tuning and adjust the required resources (e.g. via the `ScalingConfig` or `resources_per_trial`, or `num_workers` for rllib), or add more resources to your cluster.\n"
          ]
        },
        {
          "metadata": {
            "tags": null
          },
          "name": "stdout",
          "output_type": "stream",
          "text": [
            "Trial status: 1 PENDING\n",
            "Current time: 2024-05-12 09:33:18. Total running time: 5hr 37min 44s\n",
            "Logical resource usage: 0/2 CPUs, 0/1 GPUs\n",
            "+-----------------------------------+\n",
            "| Trial name               status   |\n",
            "+-----------------------------------+\n",
            "| PPO_my_env_7b7f7_00000   PENDING  |\n",
            "+-----------------------------------+\n",
            "Trial status: 1 PENDING\n",
            "Current time: 2024-05-12 09:33:48. Total running time: 5hr 38min 14s\n",
            "Logical resource usage: 0/2 CPUs, 0/1 GPUs\n",
            "+-----------------------------------+\n",
            "| Trial name               status   |\n",
            "+-----------------------------------+\n",
            "| PPO_my_env_7b7f7_00000   PENDING  |\n",
            "+-----------------------------------+\n"
          ]
        },
        {
          "metadata": {
            "tags": null
          },
          "name": "stderr",
          "output_type": "stream",
          "text": [
            "2024-05-12 09:33:54,071\tWARNING insufficient_resources_manager.py:163 -- Ignore this message if the cluster is autoscaling. No trial is running and no new trial has been started within the last 60 seconds. This could be due to the cluster not having enough resources available. You asked for 5.0 CPUs and 1.0 GPUs per trial, but the cluster only has 2.0 CPUs and 1.0 GPUs available. Stop the tuning and adjust the required resources (e.g. via the `ScalingConfig` or `resources_per_trial`, or `num_workers` for rllib), or add more resources to your cluster.\n"
          ]
        },
        {
          "metadata": {
            "tags": null
          },
          "name": "stdout",
          "output_type": "stream",
          "text": [
            "Trial status: 1 PENDING\n",
            "Current time: 2024-05-12 09:34:18. Total running time: 5hr 38min 44s\n",
            "Logical resource usage: 0/2 CPUs, 0/1 GPUs\n",
            "+-----------------------------------+\n",
            "| Trial name               status   |\n",
            "+-----------------------------------+\n",
            "| PPO_my_env_7b7f7_00000   PENDING  |\n",
            "+-----------------------------------+\n",
            "Trial status: 1 PENDING\n",
            "Current time: 2024-05-12 09:34:48. Total running time: 5hr 39min 14s\n",
            "Logical resource usage: 0/2 CPUs, 0/1 GPUs\n",
            "+-----------------------------------+\n",
            "| Trial name               status   |\n",
            "+-----------------------------------+\n",
            "| PPO_my_env_7b7f7_00000   PENDING  |\n",
            "+-----------------------------------+\n"
          ]
        },
        {
          "metadata": {
            "tags": null
          },
          "name": "stderr",
          "output_type": "stream",
          "text": [
            "2024-05-12 09:34:54,080\tWARNING insufficient_resources_manager.py:163 -- Ignore this message if the cluster is autoscaling. No trial is running and no new trial has been started within the last 60 seconds. This could be due to the cluster not having enough resources available. You asked for 5.0 CPUs and 1.0 GPUs per trial, but the cluster only has 2.0 CPUs and 1.0 GPUs available. Stop the tuning and adjust the required resources (e.g. via the `ScalingConfig` or `resources_per_trial`, or `num_workers` for rllib), or add more resources to your cluster.\n"
          ]
        },
        {
          "metadata": {
            "tags": null
          },
          "name": "stdout",
          "output_type": "stream",
          "text": [
            "Trial status: 1 PENDING\n",
            "Current time: 2024-05-12 09:35:18. Total running time: 5hr 39min 44s\n",
            "Logical resource usage: 0/2 CPUs, 0/1 GPUs\n",
            "+-----------------------------------+\n",
            "| Trial name               status   |\n",
            "+-----------------------------------+\n",
            "| PPO_my_env_7b7f7_00000   PENDING  |\n",
            "+-----------------------------------+\n",
            "Trial status: 1 PENDING\n",
            "Current time: 2024-05-12 09:35:48. Total running time: 5hr 40min 14s\n",
            "Logical resource usage: 0/2 CPUs, 0/1 GPUs\n",
            "+-----------------------------------+\n",
            "| Trial name               status   |\n",
            "+-----------------------------------+\n",
            "| PPO_my_env_7b7f7_00000   PENDING  |\n",
            "+-----------------------------------+\n"
          ]
        },
        {
          "metadata": {
            "tags": null
          },
          "name": "stderr",
          "output_type": "stream",
          "text": [
            "2024-05-12 09:35:54,108\tWARNING insufficient_resources_manager.py:163 -- Ignore this message if the cluster is autoscaling. No trial is running and no new trial has been started within the last 60 seconds. This could be due to the cluster not having enough resources available. You asked for 5.0 CPUs and 1.0 GPUs per trial, but the cluster only has 2.0 CPUs and 1.0 GPUs available. Stop the tuning and adjust the required resources (e.g. via the `ScalingConfig` or `resources_per_trial`, or `num_workers` for rllib), or add more resources to your cluster.\n"
          ]
        },
        {
          "metadata": {
            "tags": null
          },
          "name": "stdout",
          "output_type": "stream",
          "text": [
            "Trial status: 1 PENDING\n",
            "Current time: 2024-05-12 09:36:18. Total running time: 5hr 40min 44s\n",
            "Logical resource usage: 0/2 CPUs, 0/1 GPUs\n",
            "+-----------------------------------+\n",
            "| Trial name               status   |\n",
            "+-----------------------------------+\n",
            "| PPO_my_env_7b7f7_00000   PENDING  |\n",
            "+-----------------------------------+\n",
            "Trial status: 1 PENDING\n",
            "Current time: 2024-05-12 09:36:48. Total running time: 5hr 41min 14s\n",
            "Logical resource usage: 0/2 CPUs, 0/1 GPUs\n",
            "+-----------------------------------+\n",
            "| Trial name               status   |\n",
            "+-----------------------------------+\n",
            "| PPO_my_env_7b7f7_00000   PENDING  |\n",
            "+-----------------------------------+\n"
          ]
        },
        {
          "metadata": {
            "tags": null
          },
          "name": "stderr",
          "output_type": "stream",
          "text": [
            "2024-05-12 09:36:54,134\tWARNING insufficient_resources_manager.py:163 -- Ignore this message if the cluster is autoscaling. No trial is running and no new trial has been started within the last 60 seconds. This could be due to the cluster not having enough resources available. You asked for 5.0 CPUs and 1.0 GPUs per trial, but the cluster only has 2.0 CPUs and 1.0 GPUs available. Stop the tuning and adjust the required resources (e.g. via the `ScalingConfig` or `resources_per_trial`, or `num_workers` for rllib), or add more resources to your cluster.\n"
          ]
        },
        {
          "metadata": {
            "tags": null
          },
          "name": "stdout",
          "output_type": "stream",
          "text": [
            "Trial status: 1 PENDING\n",
            "Current time: 2024-05-12 09:37:18. Total running time: 5hr 41min 44s\n",
            "Logical resource usage: 0/2 CPUs, 0/1 GPUs\n",
            "+-----------------------------------+\n",
            "| Trial name               status   |\n",
            "+-----------------------------------+\n",
            "| PPO_my_env_7b7f7_00000   PENDING  |\n",
            "+-----------------------------------+\n",
            "Trial status: 1 PENDING\n",
            "Current time: 2024-05-12 09:37:48. Total running time: 5hr 42min 15s\n",
            "Logical resource usage: 0/2 CPUs, 0/1 GPUs\n",
            "+-----------------------------------+\n",
            "| Trial name               status   |\n",
            "+-----------------------------------+\n",
            "| PPO_my_env_7b7f7_00000   PENDING  |\n",
            "+-----------------------------------+\n"
          ]
        },
        {
          "metadata": {
            "tags": null
          },
          "name": "stderr",
          "output_type": "stream",
          "text": [
            "2024-05-12 09:37:54,223\tWARNING insufficient_resources_manager.py:163 -- Ignore this message if the cluster is autoscaling. No trial is running and no new trial has been started within the last 60 seconds. This could be due to the cluster not having enough resources available. You asked for 5.0 CPUs and 1.0 GPUs per trial, but the cluster only has 2.0 CPUs and 1.0 GPUs available. Stop the tuning and adjust the required resources (e.g. via the `ScalingConfig` or `resources_per_trial`, or `num_workers` for rllib), or add more resources to your cluster.\n"
          ]
        },
        {
          "metadata": {
            "tags": null
          },
          "name": "stdout",
          "output_type": "stream",
          "text": [
            "Trial status: 1 PENDING\n",
            "Current time: 2024-05-12 09:38:18. Total running time: 5hr 42min 45s\n",
            "Logical resource usage: 0/2 CPUs, 0/1 GPUs\n",
            "+-----------------------------------+\n",
            "| Trial name               status   |\n",
            "+-----------------------------------+\n",
            "| PPO_my_env_7b7f7_00000   PENDING  |\n",
            "+-----------------------------------+\n",
            "Trial status: 1 PENDING\n",
            "Current time: 2024-05-12 09:38:48. Total running time: 5hr 43min 15s\n",
            "Logical resource usage: 0/2 CPUs, 0/1 GPUs\n",
            "+-----------------------------------+\n",
            "| Trial name               status   |\n",
            "+-----------------------------------+\n",
            "| PPO_my_env_7b7f7_00000   PENDING  |\n",
            "+-----------------------------------+\n"
          ]
        },
        {
          "metadata": {
            "tags": null
          },
          "name": "stderr",
          "output_type": "stream",
          "text": [
            "2024-05-12 09:38:54,242\tWARNING insufficient_resources_manager.py:163 -- Ignore this message if the cluster is autoscaling. No trial is running and no new trial has been started within the last 60 seconds. This could be due to the cluster not having enough resources available. You asked for 5.0 CPUs and 1.0 GPUs per trial, but the cluster only has 2.0 CPUs and 1.0 GPUs available. Stop the tuning and adjust the required resources (e.g. via the `ScalingConfig` or `resources_per_trial`, or `num_workers` for rllib), or add more resources to your cluster.\n"
          ]
        },
        {
          "metadata": {
            "tags": null
          },
          "name": "stdout",
          "output_type": "stream",
          "text": [
            "Trial status: 1 PENDING\n",
            "Current time: 2024-05-12 09:39:18. Total running time: 5hr 43min 45s\n",
            "Logical resource usage: 0/2 CPUs, 0/1 GPUs\n",
            "+-----------------------------------+\n",
            "| Trial name               status   |\n",
            "+-----------------------------------+\n",
            "| PPO_my_env_7b7f7_00000   PENDING  |\n",
            "+-----------------------------------+\n",
            "Trial status: 1 PENDING\n",
            "Current time: 2024-05-12 09:39:48. Total running time: 5hr 44min 15s\n",
            "Logical resource usage: 0/2 CPUs, 0/1 GPUs\n",
            "+-----------------------------------+\n",
            "| Trial name               status   |\n",
            "+-----------------------------------+\n",
            "| PPO_my_env_7b7f7_00000   PENDING  |\n",
            "+-----------------------------------+\n"
          ]
        },
        {
          "metadata": {
            "tags": null
          },
          "name": "stderr",
          "output_type": "stream",
          "text": [
            "2024-05-12 09:39:54,311\tWARNING insufficient_resources_manager.py:163 -- Ignore this message if the cluster is autoscaling. No trial is running and no new trial has been started within the last 60 seconds. This could be due to the cluster not having enough resources available. You asked for 5.0 CPUs and 1.0 GPUs per trial, but the cluster only has 2.0 CPUs and 1.0 GPUs available. Stop the tuning and adjust the required resources (e.g. via the `ScalingConfig` or `resources_per_trial`, or `num_workers` for rllib), or add more resources to your cluster.\n"
          ]
        },
        {
          "metadata": {
            "tags": null
          },
          "name": "stdout",
          "output_type": "stream",
          "text": [
            "Trial status: 1 PENDING\n",
            "Current time: 2024-05-12 09:40:18. Total running time: 5hr 44min 45s\n",
            "Logical resource usage: 0/2 CPUs, 0/1 GPUs\n",
            "+-----------------------------------+\n",
            "| Trial name               status   |\n",
            "+-----------------------------------+\n",
            "| PPO_my_env_7b7f7_00000   PENDING  |\n",
            "+-----------------------------------+\n",
            "Trial status: 1 PENDING\n",
            "Current time: 2024-05-12 09:40:48. Total running time: 5hr 45min 15s\n",
            "Logical resource usage: 0/2 CPUs, 0/1 GPUs\n",
            "+-----------------------------------+\n",
            "| Trial name               status   |\n",
            "+-----------------------------------+\n",
            "| PPO_my_env_7b7f7_00000   PENDING  |\n",
            "+-----------------------------------+\n"
          ]
        },
        {
          "metadata": {
            "tags": null
          },
          "name": "stderr",
          "output_type": "stream",
          "text": [
            "2024-05-12 09:40:54,412\tWARNING insufficient_resources_manager.py:163 -- Ignore this message if the cluster is autoscaling. No trial is running and no new trial has been started within the last 60 seconds. This could be due to the cluster not having enough resources available. You asked for 5.0 CPUs and 1.0 GPUs per trial, but the cluster only has 2.0 CPUs and 1.0 GPUs available. Stop the tuning and adjust the required resources (e.g. via the `ScalingConfig` or `resources_per_trial`, or `num_workers` for rllib), or add more resources to your cluster.\n"
          ]
        },
        {
          "metadata": {
            "tags": null
          },
          "name": "stdout",
          "output_type": "stream",
          "text": [
            "Trial status: 1 PENDING\n",
            "Current time: 2024-05-12 09:41:18. Total running time: 5hr 45min 45s\n",
            "Logical resource usage: 0/2 CPUs, 0/1 GPUs\n",
            "+-----------------------------------+\n",
            "| Trial name               status   |\n",
            "+-----------------------------------+\n",
            "| PPO_my_env_7b7f7_00000   PENDING  |\n",
            "+-----------------------------------+\n",
            "Trial status: 1 PENDING\n",
            "Current time: 2024-05-12 09:41:48. Total running time: 5hr 46min 15s\n",
            "Logical resource usage: 0/2 CPUs, 0/1 GPUs\n",
            "+-----------------------------------+\n",
            "| Trial name               status   |\n",
            "+-----------------------------------+\n",
            "| PPO_my_env_7b7f7_00000   PENDING  |\n",
            "+-----------------------------------+\n"
          ]
        },
        {
          "metadata": {
            "tags": null
          },
          "name": "stderr",
          "output_type": "stream",
          "text": [
            "2024-05-12 09:41:54,421\tWARNING insufficient_resources_manager.py:163 -- Ignore this message if the cluster is autoscaling. No trial is running and no new trial has been started within the last 60 seconds. This could be due to the cluster not having enough resources available. You asked for 5.0 CPUs and 1.0 GPUs per trial, but the cluster only has 2.0 CPUs and 1.0 GPUs available. Stop the tuning and adjust the required resources (e.g. via the `ScalingConfig` or `resources_per_trial`, or `num_workers` for rllib), or add more resources to your cluster.\n"
          ]
        },
        {
          "metadata": {
            "tags": null
          },
          "name": "stdout",
          "output_type": "stream",
          "text": [
            "Trial status: 1 PENDING\n",
            "Current time: 2024-05-12 09:42:19. Total running time: 5hr 46min 45s\n",
            "Logical resource usage: 0/2 CPUs, 0/1 GPUs\n",
            "+-----------------------------------+\n",
            "| Trial name               status   |\n",
            "+-----------------------------------+\n",
            "| PPO_my_env_7b7f7_00000   PENDING  |\n",
            "+-----------------------------------+\n",
            "Trial status: 1 PENDING\n",
            "Current time: 2024-05-12 09:42:49. Total running time: 5hr 47min 15s\n",
            "Logical resource usage: 0/2 CPUs, 0/1 GPUs\n",
            "+-----------------------------------+\n",
            "| Trial name               status   |\n",
            "+-----------------------------------+\n",
            "| PPO_my_env_7b7f7_00000   PENDING  |\n",
            "+-----------------------------------+\n"
          ]
        },
        {
          "metadata": {
            "tags": null
          },
          "name": "stderr",
          "output_type": "stream",
          "text": [
            "2024-05-12 09:42:54,499\tWARNING insufficient_resources_manager.py:163 -- Ignore this message if the cluster is autoscaling. No trial is running and no new trial has been started within the last 60 seconds. This could be due to the cluster not having enough resources available. You asked for 5.0 CPUs and 1.0 GPUs per trial, but the cluster only has 2.0 CPUs and 1.0 GPUs available. Stop the tuning and adjust the required resources (e.g. via the `ScalingConfig` or `resources_per_trial`, or `num_workers` for rllib), or add more resources to your cluster.\n"
          ]
        },
        {
          "metadata": {
            "tags": null
          },
          "name": "stdout",
          "output_type": "stream",
          "text": [
            "Trial status: 1 PENDING\n",
            "Current time: 2024-05-12 09:43:19. Total running time: 5hr 47min 45s\n",
            "Logical resource usage: 0/2 CPUs, 0/1 GPUs\n",
            "+-----------------------------------+\n",
            "| Trial name               status   |\n",
            "+-----------------------------------+\n",
            "| PPO_my_env_7b7f7_00000   PENDING  |\n",
            "+-----------------------------------+\n",
            "Trial status: 1 PENDING\n",
            "Current time: 2024-05-12 09:43:49. Total running time: 5hr 48min 15s\n",
            "Logical resource usage: 0/2 CPUs, 0/1 GPUs\n",
            "+-----------------------------------+\n",
            "| Trial name               status   |\n",
            "+-----------------------------------+\n",
            "| PPO_my_env_7b7f7_00000   PENDING  |\n",
            "+-----------------------------------+\n"
          ]
        },
        {
          "metadata": {
            "tags": null
          },
          "name": "stderr",
          "output_type": "stream",
          "text": [
            "2024-05-12 09:43:54,585\tWARNING insufficient_resources_manager.py:163 -- Ignore this message if the cluster is autoscaling. No trial is running and no new trial has been started within the last 60 seconds. This could be due to the cluster not having enough resources available. You asked for 5.0 CPUs and 1.0 GPUs per trial, but the cluster only has 2.0 CPUs and 1.0 GPUs available. Stop the tuning and adjust the required resources (e.g. via the `ScalingConfig` or `resources_per_trial`, or `num_workers` for rllib), or add more resources to your cluster.\n"
          ]
        },
        {
          "metadata": {
            "tags": null
          },
          "name": "stdout",
          "output_type": "stream",
          "text": [
            "Trial status: 1 PENDING\n",
            "Current time: 2024-05-12 09:44:19. Total running time: 5hr 48min 45s\n",
            "Logical resource usage: 0/2 CPUs, 0/1 GPUs\n",
            "+-----------------------------------+\n",
            "| Trial name               status   |\n",
            "+-----------------------------------+\n",
            "| PPO_my_env_7b7f7_00000   PENDING  |\n",
            "+-----------------------------------+\n",
            "Trial status: 1 PENDING\n",
            "Current time: 2024-05-12 09:44:49. Total running time: 5hr 49min 15s\n",
            "Logical resource usage: 0/2 CPUs, 0/1 GPUs\n",
            "+-----------------------------------+\n",
            "| Trial name               status   |\n",
            "+-----------------------------------+\n",
            "| PPO_my_env_7b7f7_00000   PENDING  |\n",
            "+-----------------------------------+\n"
          ]
        },
        {
          "metadata": {
            "tags": null
          },
          "name": "stderr",
          "output_type": "stream",
          "text": [
            "2024-05-12 09:44:54,685\tWARNING insufficient_resources_manager.py:163 -- Ignore this message if the cluster is autoscaling. No trial is running and no new trial has been started within the last 60 seconds. This could be due to the cluster not having enough resources available. You asked for 5.0 CPUs and 1.0 GPUs per trial, but the cluster only has 2.0 CPUs and 1.0 GPUs available. Stop the tuning and adjust the required resources (e.g. via the `ScalingConfig` or `resources_per_trial`, or `num_workers` for rllib), or add more resources to your cluster.\n"
          ]
        },
        {
          "metadata": {
            "tags": null
          },
          "name": "stdout",
          "output_type": "stream",
          "text": [
            "Trial status: 1 PENDING\n",
            "Current time: 2024-05-12 09:45:19. Total running time: 5hr 49min 46s\n",
            "Logical resource usage: 0/2 CPUs, 0/1 GPUs\n",
            "+-----------------------------------+\n",
            "| Trial name               status   |\n",
            "+-----------------------------------+\n",
            "| PPO_my_env_7b7f7_00000   PENDING  |\n",
            "+-----------------------------------+\n",
            "Trial status: 1 PENDING\n",
            "Current time: 2024-05-12 09:45:49. Total running time: 5hr 50min 16s\n",
            "Logical resource usage: 0/2 CPUs, 0/1 GPUs\n",
            "+-----------------------------------+\n",
            "| Trial name               status   |\n",
            "+-----------------------------------+\n",
            "| PPO_my_env_7b7f7_00000   PENDING  |\n",
            "+-----------------------------------+\n"
          ]
        },
        {
          "metadata": {
            "tags": null
          },
          "name": "stderr",
          "output_type": "stream",
          "text": [
            "2024-05-12 09:45:54,695\tWARNING insufficient_resources_manager.py:163 -- Ignore this message if the cluster is autoscaling. No trial is running and no new trial has been started within the last 60 seconds. This could be due to the cluster not having enough resources available. You asked for 5.0 CPUs and 1.0 GPUs per trial, but the cluster only has 2.0 CPUs and 1.0 GPUs available. Stop the tuning and adjust the required resources (e.g. via the `ScalingConfig` or `resources_per_trial`, or `num_workers` for rllib), or add more resources to your cluster.\n"
          ]
        },
        {
          "metadata": {
            "tags": null
          },
          "name": "stdout",
          "output_type": "stream",
          "text": [
            "Trial status: 1 PENDING\n",
            "Current time: 2024-05-12 09:46:19. Total running time: 5hr 50min 46s\n",
            "Logical resource usage: 0/2 CPUs, 0/1 GPUs\n",
            "+-----------------------------------+\n",
            "| Trial name               status   |\n",
            "+-----------------------------------+\n",
            "| PPO_my_env_7b7f7_00000   PENDING  |\n",
            "+-----------------------------------+\n",
            "Trial status: 1 PENDING\n",
            "Current time: 2024-05-12 09:46:49. Total running time: 5hr 51min 16s\n",
            "Logical resource usage: 0/2 CPUs, 0/1 GPUs\n",
            "+-----------------------------------+\n",
            "| Trial name               status   |\n",
            "+-----------------------------------+\n",
            "| PPO_my_env_7b7f7_00000   PENDING  |\n",
            "+-----------------------------------+\n"
          ]
        },
        {
          "metadata": {
            "tags": null
          },
          "name": "stderr",
          "output_type": "stream",
          "text": [
            "2024-05-12 09:46:54,789\tWARNING insufficient_resources_manager.py:163 -- Ignore this message if the cluster is autoscaling. No trial is running and no new trial has been started within the last 60 seconds. This could be due to the cluster not having enough resources available. You asked for 5.0 CPUs and 1.0 GPUs per trial, but the cluster only has 2.0 CPUs and 1.0 GPUs available. Stop the tuning and adjust the required resources (e.g. via the `ScalingConfig` or `resources_per_trial`, or `num_workers` for rllib), or add more resources to your cluster.\n"
          ]
        },
        {
          "metadata": {
            "tags": null
          },
          "name": "stdout",
          "output_type": "stream",
          "text": [
            "Trial status: 1 PENDING\n",
            "Current time: 2024-05-12 09:47:19. Total running time: 5hr 51min 46s\n",
            "Logical resource usage: 0/2 CPUs, 0/1 GPUs\n",
            "+-----------------------------------+\n",
            "| Trial name               status   |\n",
            "+-----------------------------------+\n",
            "| PPO_my_env_7b7f7_00000   PENDING  |\n",
            "+-----------------------------------+\n",
            "Trial status: 1 PENDING\n",
            "Current time: 2024-05-12 09:47:49. Total running time: 5hr 52min 16s\n",
            "Logical resource usage: 0/2 CPUs, 0/1 GPUs\n",
            "+-----------------------------------+\n",
            "| Trial name               status   |\n",
            "+-----------------------------------+\n",
            "| PPO_my_env_7b7f7_00000   PENDING  |\n",
            "+-----------------------------------+\n"
          ]
        },
        {
          "metadata": {
            "tags": null
          },
          "name": "stderr",
          "output_type": "stream",
          "text": [
            "2024-05-12 09:47:54,877\tWARNING insufficient_resources_manager.py:163 -- Ignore this message if the cluster is autoscaling. No trial is running and no new trial has been started within the last 60 seconds. This could be due to the cluster not having enough resources available. You asked for 5.0 CPUs and 1.0 GPUs per trial, but the cluster only has 2.0 CPUs and 1.0 GPUs available. Stop the tuning and adjust the required resources (e.g. via the `ScalingConfig` or `resources_per_trial`, or `num_workers` for rllib), or add more resources to your cluster.\n"
          ]
        },
        {
          "metadata": {
            "tags": null
          },
          "name": "stdout",
          "output_type": "stream",
          "text": [
            "Trial status: 1 PENDING\n",
            "Current time: 2024-05-12 09:48:19. Total running time: 5hr 52min 46s\n",
            "Logical resource usage: 0/2 CPUs, 0/1 GPUs\n",
            "+-----------------------------------+\n",
            "| Trial name               status   |\n",
            "+-----------------------------------+\n",
            "| PPO_my_env_7b7f7_00000   PENDING  |\n",
            "+-----------------------------------+\n",
            "Trial status: 1 PENDING\n",
            "Current time: 2024-05-12 09:48:50. Total running time: 5hr 53min 16s\n",
            "Logical resource usage: 0/2 CPUs, 0/1 GPUs\n",
            "+-----------------------------------+\n",
            "| Trial name               status   |\n",
            "+-----------------------------------+\n",
            "| PPO_my_env_7b7f7_00000   PENDING  |\n",
            "+-----------------------------------+\n"
          ]
        },
        {
          "metadata": {
            "tags": null
          },
          "name": "stderr",
          "output_type": "stream",
          "text": [
            "2024-05-12 09:48:54,955\tWARNING insufficient_resources_manager.py:163 -- Ignore this message if the cluster is autoscaling. No trial is running and no new trial has been started within the last 60 seconds. This could be due to the cluster not having enough resources available. You asked for 5.0 CPUs and 1.0 GPUs per trial, but the cluster only has 2.0 CPUs and 1.0 GPUs available. Stop the tuning and adjust the required resources (e.g. via the `ScalingConfig` or `resources_per_trial`, or `num_workers` for rllib), or add more resources to your cluster.\n"
          ]
        },
        {
          "metadata": {
            "tags": null
          },
          "name": "stdout",
          "output_type": "stream",
          "text": [
            "Trial status: 1 PENDING\n",
            "Current time: 2024-05-12 09:49:20. Total running time: 5hr 53min 46s\n",
            "Logical resource usage: 0/2 CPUs, 0/1 GPUs\n",
            "+-----------------------------------+\n",
            "| Trial name               status   |\n",
            "+-----------------------------------+\n",
            "| PPO_my_env_7b7f7_00000   PENDING  |\n",
            "+-----------------------------------+\n",
            "Trial status: 1 PENDING\n",
            "Current time: 2024-05-12 09:49:50. Total running time: 5hr 54min 16s\n",
            "Logical resource usage: 0/2 CPUs, 0/1 GPUs\n",
            "+-----------------------------------+\n",
            "| Trial name               status   |\n",
            "+-----------------------------------+\n",
            "| PPO_my_env_7b7f7_00000   PENDING  |\n",
            "+-----------------------------------+\n"
          ]
        },
        {
          "metadata": {
            "tags": null
          },
          "name": "stderr",
          "output_type": "stream",
          "text": [
            "2024-05-12 09:49:55,041\tWARNING insufficient_resources_manager.py:163 -- Ignore this message if the cluster is autoscaling. No trial is running and no new trial has been started within the last 60 seconds. This could be due to the cluster not having enough resources available. You asked for 5.0 CPUs and 1.0 GPUs per trial, but the cluster only has 2.0 CPUs and 1.0 GPUs available. Stop the tuning and adjust the required resources (e.g. via the `ScalingConfig` or `resources_per_trial`, or `num_workers` for rllib), or add more resources to your cluster.\n"
          ]
        },
        {
          "metadata": {
            "tags": null
          },
          "name": "stdout",
          "output_type": "stream",
          "text": [
            "Trial status: 1 PENDING\n",
            "Current time: 2024-05-12 09:50:20. Total running time: 5hr 54min 46s\n",
            "Logical resource usage: 0/2 CPUs, 0/1 GPUs\n",
            "+-----------------------------------+\n",
            "| Trial name               status   |\n",
            "+-----------------------------------+\n",
            "| PPO_my_env_7b7f7_00000   PENDING  |\n",
            "+-----------------------------------+\n",
            "Trial status: 1 PENDING\n",
            "Current time: 2024-05-12 09:50:50. Total running time: 5hr 55min 16s\n",
            "Logical resource usage: 0/2 CPUs, 0/1 GPUs\n",
            "+-----------------------------------+\n",
            "| Trial name               status   |\n",
            "+-----------------------------------+\n",
            "| PPO_my_env_7b7f7_00000   PENDING  |\n",
            "+-----------------------------------+\n"
          ]
        },
        {
          "metadata": {
            "tags": null
          },
          "name": "stderr",
          "output_type": "stream",
          "text": [
            "2024-05-12 09:50:55,121\tWARNING insufficient_resources_manager.py:163 -- Ignore this message if the cluster is autoscaling. No trial is running and no new trial has been started within the last 60 seconds. This could be due to the cluster not having enough resources available. You asked for 5.0 CPUs and 1.0 GPUs per trial, but the cluster only has 2.0 CPUs and 1.0 GPUs available. Stop the tuning and adjust the required resources (e.g. via the `ScalingConfig` or `resources_per_trial`, or `num_workers` for rllib), or add more resources to your cluster.\n"
          ]
        },
        {
          "metadata": {
            "tags": null
          },
          "name": "stdout",
          "output_type": "stream",
          "text": [
            "Trial status: 1 PENDING\n",
            "Current time: 2024-05-12 09:51:20. Total running time: 5hr 55min 47s\n",
            "Logical resource usage: 0/2 CPUs, 0/1 GPUs\n",
            "+-----------------------------------+\n",
            "| Trial name               status   |\n",
            "+-----------------------------------+\n",
            "| PPO_my_env_7b7f7_00000   PENDING  |\n",
            "+-----------------------------------+\n",
            "Trial status: 1 PENDING\n",
            "Current time: 2024-05-12 09:51:50. Total running time: 5hr 56min 17s\n",
            "Logical resource usage: 0/2 CPUs, 0/1 GPUs\n",
            "+-----------------------------------+\n",
            "| Trial name               status   |\n",
            "+-----------------------------------+\n",
            "| PPO_my_env_7b7f7_00000   PENDING  |\n",
            "+-----------------------------------+\n"
          ]
        },
        {
          "metadata": {
            "tags": null
          },
          "name": "stderr",
          "output_type": "stream",
          "text": [
            "2024-05-12 09:51:55,204\tWARNING insufficient_resources_manager.py:163 -- Ignore this message if the cluster is autoscaling. No trial is running and no new trial has been started within the last 60 seconds. This could be due to the cluster not having enough resources available. You asked for 5.0 CPUs and 1.0 GPUs per trial, but the cluster only has 2.0 CPUs and 1.0 GPUs available. Stop the tuning and adjust the required resources (e.g. via the `ScalingConfig` or `resources_per_trial`, or `num_workers` for rllib), or add more resources to your cluster.\n"
          ]
        },
        {
          "metadata": {
            "tags": null
          },
          "name": "stdout",
          "output_type": "stream",
          "text": [
            "Trial status: 1 PENDING\n",
            "Current time: 2024-05-12 09:52:20. Total running time: 5hr 56min 47s\n",
            "Logical resource usage: 0/2 CPUs, 0/1 GPUs\n",
            "+-----------------------------------+\n",
            "| Trial name               status   |\n",
            "+-----------------------------------+\n",
            "| PPO_my_env_7b7f7_00000   PENDING  |\n",
            "+-----------------------------------+\n",
            "Trial status: 1 PENDING\n",
            "Current time: 2024-05-12 09:52:50. Total running time: 5hr 57min 17s\n",
            "Logical resource usage: 0/2 CPUs, 0/1 GPUs\n",
            "+-----------------------------------+\n",
            "| Trial name               status   |\n",
            "+-----------------------------------+\n",
            "| PPO_my_env_7b7f7_00000   PENDING  |\n",
            "+-----------------------------------+\n"
          ]
        },
        {
          "metadata": {
            "tags": null
          },
          "name": "stderr",
          "output_type": "stream",
          "text": [
            "2024-05-12 09:52:55,277\tWARNING insufficient_resources_manager.py:163 -- Ignore this message if the cluster is autoscaling. No trial is running and no new trial has been started within the last 60 seconds. This could be due to the cluster not having enough resources available. You asked for 5.0 CPUs and 1.0 GPUs per trial, but the cluster only has 2.0 CPUs and 1.0 GPUs available. Stop the tuning and adjust the required resources (e.g. via the `ScalingConfig` or `resources_per_trial`, or `num_workers` for rllib), or add more resources to your cluster.\n"
          ]
        },
        {
          "metadata": {
            "tags": null
          },
          "name": "stdout",
          "output_type": "stream",
          "text": [
            "Trial status: 1 PENDING\n",
            "Current time: 2024-05-12 09:53:20. Total running time: 5hr 57min 47s\n",
            "Logical resource usage: 0/2 CPUs, 0/1 GPUs\n",
            "+-----------------------------------+\n",
            "| Trial name               status   |\n",
            "+-----------------------------------+\n",
            "| PPO_my_env_7b7f7_00000   PENDING  |\n",
            "+-----------------------------------+\n",
            "Trial status: 1 PENDING\n",
            "Current time: 2024-05-12 09:53:50. Total running time: 5hr 58min 17s\n",
            "Logical resource usage: 0/2 CPUs, 0/1 GPUs\n",
            "+-----------------------------------+\n",
            "| Trial name               status   |\n",
            "+-----------------------------------+\n",
            "| PPO_my_env_7b7f7_00000   PENDING  |\n",
            "+-----------------------------------+\n"
          ]
        },
        {
          "metadata": {
            "tags": null
          },
          "name": "stderr",
          "output_type": "stream",
          "text": [
            "2024-05-12 09:53:55,359\tWARNING insufficient_resources_manager.py:163 -- Ignore this message if the cluster is autoscaling. No trial is running and no new trial has been started within the last 60 seconds. This could be due to the cluster not having enough resources available. You asked for 5.0 CPUs and 1.0 GPUs per trial, but the cluster only has 2.0 CPUs and 1.0 GPUs available. Stop the tuning and adjust the required resources (e.g. via the `ScalingConfig` or `resources_per_trial`, or `num_workers` for rllib), or add more resources to your cluster.\n"
          ]
        },
        {
          "metadata": {
            "tags": null
          },
          "name": "stdout",
          "output_type": "stream",
          "text": [
            "Trial status: 1 PENDING\n",
            "Current time: 2024-05-12 09:54:21. Total running time: 5hr 58min 47s\n",
            "Logical resource usage: 0/2 CPUs, 0/1 GPUs\n",
            "+-----------------------------------+\n",
            "| Trial name               status   |\n",
            "+-----------------------------------+\n",
            "| PPO_my_env_7b7f7_00000   PENDING  |\n",
            "+-----------------------------------+\n",
            "Trial status: 1 PENDING\n",
            "Current time: 2024-05-12 09:54:51. Total running time: 5hr 59min 17s\n",
            "Logical resource usage: 0/2 CPUs, 0/1 GPUs\n",
            "+-----------------------------------+\n",
            "| Trial name               status   |\n",
            "+-----------------------------------+\n",
            "| PPO_my_env_7b7f7_00000   PENDING  |\n",
            "+-----------------------------------+\n"
          ]
        },
        {
          "metadata": {
            "tags": null
          },
          "name": "stderr",
          "output_type": "stream",
          "text": [
            "2024-05-12 09:54:55,436\tWARNING insufficient_resources_manager.py:163 -- Ignore this message if the cluster is autoscaling. No trial is running and no new trial has been started within the last 60 seconds. This could be due to the cluster not having enough resources available. You asked for 5.0 CPUs and 1.0 GPUs per trial, but the cluster only has 2.0 CPUs and 1.0 GPUs available. Stop the tuning and adjust the required resources (e.g. via the `ScalingConfig` or `resources_per_trial`, or `num_workers` for rllib), or add more resources to your cluster.\n"
          ]
        },
        {
          "metadata": {
            "tags": null
          },
          "name": "stdout",
          "output_type": "stream",
          "text": [
            "Trial status: 1 PENDING\n",
            "Current time: 2024-05-12 09:55:21. Total running time: 5hr 59min 47s\n",
            "Logical resource usage: 0/2 CPUs, 0/1 GPUs\n",
            "+-----------------------------------+\n",
            "| Trial name               status   |\n",
            "+-----------------------------------+\n",
            "| PPO_my_env_7b7f7_00000   PENDING  |\n",
            "+-----------------------------------+\n",
            "Trial status: 1 PENDING\n",
            "Current time: 2024-05-12 09:55:51. Total running time: 6hr 0min 17s\n",
            "Logical resource usage: 0/2 CPUs, 0/1 GPUs\n",
            "+-----------------------------------+\n",
            "| Trial name               status   |\n",
            "+-----------------------------------+\n",
            "| PPO_my_env_7b7f7_00000   PENDING  |\n",
            "+-----------------------------------+\n"
          ]
        },
        {
          "metadata": {
            "tags": null
          },
          "name": "stderr",
          "output_type": "stream",
          "text": [
            "2024-05-12 09:55:55,459\tWARNING insufficient_resources_manager.py:163 -- Ignore this message if the cluster is autoscaling. No trial is running and no new trial has been started within the last 60 seconds. This could be due to the cluster not having enough resources available. You asked for 5.0 CPUs and 1.0 GPUs per trial, but the cluster only has 2.0 CPUs and 1.0 GPUs available. Stop the tuning and adjust the required resources (e.g. via the `ScalingConfig` or `resources_per_trial`, or `num_workers` for rllib), or add more resources to your cluster.\n"
          ]
        },
        {
          "metadata": {
            "tags": null
          },
          "name": "stdout",
          "output_type": "stream",
          "text": [
            "Trial status: 1 PENDING\n",
            "Current time: 2024-05-12 09:56:21. Total running time: 6hr 0min 47s\n",
            "Logical resource usage: 0/2 CPUs, 0/1 GPUs\n",
            "+-----------------------------------+\n",
            "| Trial name               status   |\n",
            "+-----------------------------------+\n",
            "| PPO_my_env_7b7f7_00000   PENDING  |\n",
            "+-----------------------------------+\n",
            "Trial status: 1 PENDING\n",
            "Current time: 2024-05-12 09:56:51. Total running time: 6hr 1min 17s\n",
            "Logical resource usage: 0/2 CPUs, 0/1 GPUs\n",
            "+-----------------------------------+\n",
            "| Trial name               status   |\n",
            "+-----------------------------------+\n",
            "| PPO_my_env_7b7f7_00000   PENDING  |\n",
            "+-----------------------------------+\n"
          ]
        },
        {
          "metadata": {
            "tags": null
          },
          "name": "stderr",
          "output_type": "stream",
          "text": [
            "2024-05-12 09:56:55,556\tWARNING insufficient_resources_manager.py:163 -- Ignore this message if the cluster is autoscaling. No trial is running and no new trial has been started within the last 60 seconds. This could be due to the cluster not having enough resources available. You asked for 5.0 CPUs and 1.0 GPUs per trial, but the cluster only has 2.0 CPUs and 1.0 GPUs available. Stop the tuning and adjust the required resources (e.g. via the `ScalingConfig` or `resources_per_trial`, or `num_workers` for rllib), or add more resources to your cluster.\n"
          ]
        },
        {
          "metadata": {
            "tags": null
          },
          "name": "stdout",
          "output_type": "stream",
          "text": [
            "Trial status: 1 PENDING\n",
            "Current time: 2024-05-12 09:57:21. Total running time: 6hr 1min 47s\n",
            "Logical resource usage: 0/2 CPUs, 0/1 GPUs\n",
            "+-----------------------------------+\n",
            "| Trial name               status   |\n",
            "+-----------------------------------+\n",
            "| PPO_my_env_7b7f7_00000   PENDING  |\n",
            "+-----------------------------------+\n",
            "Trial status: 1 PENDING\n",
            "Current time: 2024-05-12 09:57:51. Total running time: 6hr 2min 17s\n",
            "Logical resource usage: 0/2 CPUs, 0/1 GPUs\n",
            "+-----------------------------------+\n",
            "| Trial name               status   |\n",
            "+-----------------------------------+\n",
            "| PPO_my_env_7b7f7_00000   PENDING  |\n",
            "+-----------------------------------+\n"
          ]
        },
        {
          "metadata": {
            "tags": null
          },
          "name": "stderr",
          "output_type": "stream",
          "text": [
            "2024-05-12 09:57:55,634\tWARNING insufficient_resources_manager.py:163 -- Ignore this message if the cluster is autoscaling. No trial is running and no new trial has been started within the last 60 seconds. This could be due to the cluster not having enough resources available. You asked for 5.0 CPUs and 1.0 GPUs per trial, but the cluster only has 2.0 CPUs and 1.0 GPUs available. Stop the tuning and adjust the required resources (e.g. via the `ScalingConfig` or `resources_per_trial`, or `num_workers` for rllib), or add more resources to your cluster.\n"
          ]
        },
        {
          "metadata": {
            "tags": null
          },
          "name": "stdout",
          "output_type": "stream",
          "text": [
            "Trial status: 1 PENDING\n",
            "Current time: 2024-05-12 09:58:21. Total running time: 6hr 2min 48s\n",
            "Logical resource usage: 0/2 CPUs, 0/1 GPUs\n",
            "+-----------------------------------+\n",
            "| Trial name               status   |\n",
            "+-----------------------------------+\n",
            "| PPO_my_env_7b7f7_00000   PENDING  |\n",
            "+-----------------------------------+\n",
            "Trial status: 1 PENDING\n",
            "Current time: 2024-05-12 09:58:51. Total running time: 6hr 3min 18s\n",
            "Logical resource usage: 0/2 CPUs, 0/1 GPUs\n",
            "+-----------------------------------+\n",
            "| Trial name               status   |\n",
            "+-----------------------------------+\n",
            "| PPO_my_env_7b7f7_00000   PENDING  |\n",
            "+-----------------------------------+\n"
          ]
        },
        {
          "metadata": {
            "tags": null
          },
          "name": "stderr",
          "output_type": "stream",
          "text": [
            "2024-05-12 09:58:55,734\tWARNING insufficient_resources_manager.py:163 -- Ignore this message if the cluster is autoscaling. No trial is running and no new trial has been started within the last 60 seconds. This could be due to the cluster not having enough resources available. You asked for 5.0 CPUs and 1.0 GPUs per trial, but the cluster only has 2.0 CPUs and 1.0 GPUs available. Stop the tuning and adjust the required resources (e.g. via the `ScalingConfig` or `resources_per_trial`, or `num_workers` for rllib), or add more resources to your cluster.\n"
          ]
        },
        {
          "metadata": {
            "tags": null
          },
          "name": "stdout",
          "output_type": "stream",
          "text": [
            "Trial status: 1 PENDING\n",
            "Current time: 2024-05-12 09:59:21. Total running time: 6hr 3min 48s\n",
            "Logical resource usage: 0/2 CPUs, 0/1 GPUs\n",
            "+-----------------------------------+\n",
            "| Trial name               status   |\n",
            "+-----------------------------------+\n",
            "| PPO_my_env_7b7f7_00000   PENDING  |\n",
            "+-----------------------------------+\n",
            "Trial status: 1 PENDING\n",
            "Current time: 2024-05-12 09:59:51. Total running time: 6hr 4min 18s\n",
            "Logical resource usage: 0/2 CPUs, 0/1 GPUs\n",
            "+-----------------------------------+\n",
            "| Trial name               status   |\n",
            "+-----------------------------------+\n",
            "| PPO_my_env_7b7f7_00000   PENDING  |\n",
            "+-----------------------------------+\n"
          ]
        },
        {
          "metadata": {
            "tags": null
          },
          "name": "stderr",
          "output_type": "stream",
          "text": [
            "2024-05-12 09:59:55,815\tWARNING insufficient_resources_manager.py:163 -- Ignore this message if the cluster is autoscaling. No trial is running and no new trial has been started within the last 60 seconds. This could be due to the cluster not having enough resources available. You asked for 5.0 CPUs and 1.0 GPUs per trial, but the cluster only has 2.0 CPUs and 1.0 GPUs available. Stop the tuning and adjust the required resources (e.g. via the `ScalingConfig` or `resources_per_trial`, or `num_workers` for rllib), or add more resources to your cluster.\n"
          ]
        },
        {
          "metadata": {
            "tags": null
          },
          "name": "stdout",
          "output_type": "stream",
          "text": [
            "Trial status: 1 PENDING\n",
            "Current time: 2024-05-12 10:00:21. Total running time: 6hr 4min 48s\n",
            "Logical resource usage: 0/2 CPUs, 0/1 GPUs\n",
            "+-----------------------------------+\n",
            "| Trial name               status   |\n",
            "+-----------------------------------+\n",
            "| PPO_my_env_7b7f7_00000   PENDING  |\n",
            "+-----------------------------------+\n",
            "Trial status: 1 PENDING\n",
            "Current time: 2024-05-12 10:00:51. Total running time: 6hr 5min 18s\n",
            "Logical resource usage: 0/2 CPUs, 0/1 GPUs\n",
            "+-----------------------------------+\n",
            "| Trial name               status   |\n",
            "+-----------------------------------+\n",
            "| PPO_my_env_7b7f7_00000   PENDING  |\n",
            "+-----------------------------------+\n"
          ]
        },
        {
          "metadata": {
            "tags": null
          },
          "name": "stderr",
          "output_type": "stream",
          "text": [
            "2024-05-12 10:00:55,914\tWARNING insufficient_resources_manager.py:163 -- Ignore this message if the cluster is autoscaling. No trial is running and no new trial has been started within the last 60 seconds. This could be due to the cluster not having enough resources available. You asked for 5.0 CPUs and 1.0 GPUs per trial, but the cluster only has 2.0 CPUs and 1.0 GPUs available. Stop the tuning and adjust the required resources (e.g. via the `ScalingConfig` or `resources_per_trial`, or `num_workers` for rllib), or add more resources to your cluster.\n"
          ]
        },
        {
          "metadata": {
            "tags": null
          },
          "name": "stdout",
          "output_type": "stream",
          "text": [
            "Trial status: 1 PENDING\n",
            "Current time: 2024-05-12 10:01:21. Total running time: 6hr 5min 48s\n",
            "Logical resource usage: 0/2 CPUs, 0/1 GPUs\n",
            "+-----------------------------------+\n",
            "| Trial name               status   |\n",
            "+-----------------------------------+\n",
            "| PPO_my_env_7b7f7_00000   PENDING  |\n",
            "+-----------------------------------+\n",
            "Trial status: 1 PENDING\n",
            "Current time: 2024-05-12 10:01:51. Total running time: 6hr 6min 18s\n",
            "Logical resource usage: 0/2 CPUs, 0/1 GPUs\n",
            "+-----------------------------------+\n",
            "| Trial name               status   |\n",
            "+-----------------------------------+\n",
            "| PPO_my_env_7b7f7_00000   PENDING  |\n",
            "+-----------------------------------+\n"
          ]
        },
        {
          "metadata": {
            "tags": null
          },
          "name": "stderr",
          "output_type": "stream",
          "text": [
            "2024-05-12 10:01:55,937\tWARNING insufficient_resources_manager.py:163 -- Ignore this message if the cluster is autoscaling. No trial is running and no new trial has been started within the last 60 seconds. This could be due to the cluster not having enough resources available. You asked for 5.0 CPUs and 1.0 GPUs per trial, but the cluster only has 2.0 CPUs and 1.0 GPUs available. Stop the tuning and adjust the required resources (e.g. via the `ScalingConfig` or `resources_per_trial`, or `num_workers` for rllib), or add more resources to your cluster.\n"
          ]
        },
        {
          "metadata": {
            "tags": null
          },
          "name": "stdout",
          "output_type": "stream",
          "text": [
            "Trial status: 1 PENDING\n",
            "Current time: 2024-05-12 10:02:21. Total running time: 6hr 6min 48s\n",
            "Logical resource usage: 0/2 CPUs, 0/1 GPUs\n",
            "+-----------------------------------+\n",
            "| Trial name               status   |\n",
            "+-----------------------------------+\n",
            "| PPO_my_env_7b7f7_00000   PENDING  |\n",
            "+-----------------------------------+\n",
            "Trial status: 1 PENDING\n",
            "Current time: 2024-05-12 10:02:51. Total running time: 6hr 7min 18s\n",
            "Logical resource usage: 0/2 CPUs, 0/1 GPUs\n",
            "+-----------------------------------+\n",
            "| Trial name               status   |\n",
            "+-----------------------------------+\n",
            "| PPO_my_env_7b7f7_00000   PENDING  |\n",
            "+-----------------------------------+\n"
          ]
        },
        {
          "metadata": {
            "tags": null
          },
          "name": "stderr",
          "output_type": "stream",
          "text": [
            "2024-05-12 10:02:56,034\tWARNING insufficient_resources_manager.py:163 -- Ignore this message if the cluster is autoscaling. No trial is running and no new trial has been started within the last 60 seconds. This could be due to the cluster not having enough resources available. You asked for 5.0 CPUs and 1.0 GPUs per trial, but the cluster only has 2.0 CPUs and 1.0 GPUs available. Stop the tuning and adjust the required resources (e.g. via the `ScalingConfig` or `resources_per_trial`, or `num_workers` for rllib), or add more resources to your cluster.\n"
          ]
        },
        {
          "metadata": {
            "tags": null
          },
          "name": "stdout",
          "output_type": "stream",
          "text": [
            "Trial status: 1 PENDING\n",
            "Current time: 2024-05-12 10:03:21. Total running time: 6hr 7min 48s\n",
            "Logical resource usage: 0/2 CPUs, 0/1 GPUs\n",
            "+-----------------------------------+\n",
            "| Trial name               status   |\n",
            "+-----------------------------------+\n",
            "| PPO_my_env_7b7f7_00000   PENDING  |\n",
            "+-----------------------------------+\n",
            "Trial status: 1 PENDING\n",
            "Current time: 2024-05-12 10:03:52. Total running time: 6hr 8min 18s\n",
            "Logical resource usage: 0/2 CPUs, 0/1 GPUs\n",
            "+-----------------------------------+\n",
            "| Trial name               status   |\n",
            "+-----------------------------------+\n",
            "| PPO_my_env_7b7f7_00000   PENDING  |\n",
            "+-----------------------------------+\n"
          ]
        },
        {
          "metadata": {
            "tags": null
          },
          "name": "stderr",
          "output_type": "stream",
          "text": [
            "2024-05-12 10:03:56,111\tWARNING insufficient_resources_manager.py:163 -- Ignore this message if the cluster is autoscaling. No trial is running and no new trial has been started within the last 60 seconds. This could be due to the cluster not having enough resources available. You asked for 5.0 CPUs and 1.0 GPUs per trial, but the cluster only has 2.0 CPUs and 1.0 GPUs available. Stop the tuning and adjust the required resources (e.g. via the `ScalingConfig` or `resources_per_trial`, or `num_workers` for rllib), or add more resources to your cluster.\n"
          ]
        },
        {
          "metadata": {
            "tags": null
          },
          "name": "stdout",
          "output_type": "stream",
          "text": [
            "Trial status: 1 PENDING\n",
            "Current time: 2024-05-12 10:04:22. Total running time: 6hr 8min 48s\n",
            "Logical resource usage: 0/2 CPUs, 0/1 GPUs\n",
            "+-----------------------------------+\n",
            "| Trial name               status   |\n",
            "+-----------------------------------+\n",
            "| PPO_my_env_7b7f7_00000   PENDING  |\n",
            "+-----------------------------------+\n",
            "Trial status: 1 PENDING\n",
            "Current time: 2024-05-12 10:04:52. Total running time: 6hr 9min 18s\n",
            "Logical resource usage: 0/2 CPUs, 0/1 GPUs\n",
            "+-----------------------------------+\n",
            "| Trial name               status   |\n",
            "+-----------------------------------+\n",
            "| PPO_my_env_7b7f7_00000   PENDING  |\n",
            "+-----------------------------------+\n"
          ]
        },
        {
          "metadata": {
            "tags": null
          },
          "name": "stderr",
          "output_type": "stream",
          "text": [
            "2024-05-12 10:04:56,197\tWARNING insufficient_resources_manager.py:163 -- Ignore this message if the cluster is autoscaling. No trial is running and no new trial has been started within the last 60 seconds. This could be due to the cluster not having enough resources available. You asked for 5.0 CPUs and 1.0 GPUs per trial, but the cluster only has 2.0 CPUs and 1.0 GPUs available. Stop the tuning and adjust the required resources (e.g. via the `ScalingConfig` or `resources_per_trial`, or `num_workers` for rllib), or add more resources to your cluster.\n"
          ]
        },
        {
          "metadata": {
            "tags": null
          },
          "name": "stdout",
          "output_type": "stream",
          "text": [
            "Trial status: 1 PENDING\n",
            "Current time: 2024-05-12 10:05:22. Total running time: 6hr 9min 48s\n",
            "Logical resource usage: 0/2 CPUs, 0/1 GPUs\n",
            "+-----------------------------------+\n",
            "| Trial name               status   |\n",
            "+-----------------------------------+\n",
            "| PPO_my_env_7b7f7_00000   PENDING  |\n",
            "+-----------------------------------+\n",
            "Trial status: 1 PENDING\n",
            "Current time: 2024-05-12 10:05:52. Total running time: 6hr 10min 18s\n",
            "Logical resource usage: 0/2 CPUs, 0/1 GPUs\n",
            "+-----------------------------------+\n",
            "| Trial name               status   |\n",
            "+-----------------------------------+\n",
            "| PPO_my_env_7b7f7_00000   PENDING  |\n",
            "+-----------------------------------+\n"
          ]
        },
        {
          "metadata": {
            "tags": null
          },
          "name": "stderr",
          "output_type": "stream",
          "text": [
            "2024-05-12 10:05:56,204\tWARNING insufficient_resources_manager.py:163 -- Ignore this message if the cluster is autoscaling. No trial is running and no new trial has been started within the last 60 seconds. This could be due to the cluster not having enough resources available. You asked for 5.0 CPUs and 1.0 GPUs per trial, but the cluster only has 2.0 CPUs and 1.0 GPUs available. Stop the tuning and adjust the required resources (e.g. via the `ScalingConfig` or `resources_per_trial`, or `num_workers` for rllib), or add more resources to your cluster.\n"
          ]
        },
        {
          "output_type": "stream",
          "name": "stdout",
          "text": [
            "Trial status: 1 PENDING\n",
            "Current time: 2024-05-12 10:06:22. Total running time: 6hr 10min 49s\n",
            "Logical resource usage: 0/2 CPUs, 0/1 GPUs\n",
            "+-----------------------------------+\n",
            "| Trial name               status   |\n",
            "+-----------------------------------+\n",
            "| PPO_my_env_7b7f7_00000   PENDING  |\n",
            "+-----------------------------------+\n",
            "Trial status: 1 PENDING\n",
            "Current time: 2024-05-12 10:06:52. Total running time: 6hr 11min 19s\n",
            "Logical resource usage: 0/2 CPUs, 0/1 GPUs\n",
            "+-----------------------------------+\n",
            "| Trial name               status   |\n",
            "+-----------------------------------+\n",
            "| PPO_my_env_7b7f7_00000   PENDING  |\n",
            "+-----------------------------------+\n"
          ]
        },
        {
          "output_type": "stream",
          "name": "stderr",
          "text": [
            "2024-05-12 10:06:56,292\tWARNING insufficient_resources_manager.py:163 -- Ignore this message if the cluster is autoscaling. No trial is running and no new trial has been started within the last 60 seconds. This could be due to the cluster not having enough resources available. You asked for 5.0 CPUs and 1.0 GPUs per trial, but the cluster only has 2.0 CPUs and 1.0 GPUs available. Stop the tuning and adjust the required resources (e.g. via the `ScalingConfig` or `resources_per_trial`, or `num_workers` for rllib), or add more resources to your cluster.\n"
          ]
        },
        {
          "output_type": "stream",
          "name": "stdout",
          "text": [
            "Trial status: 1 PENDING\n",
            "Current time: 2024-05-12 10:07:22. Total running time: 6hr 11min 49s\n",
            "Logical resource usage: 0/2 CPUs, 0/1 GPUs\n",
            "+-----------------------------------+\n",
            "| Trial name               status   |\n",
            "+-----------------------------------+\n",
            "| PPO_my_env_7b7f7_00000   PENDING  |\n",
            "+-----------------------------------+\n",
            "Trial status: 1 PENDING\n",
            "Current time: 2024-05-12 10:07:52. Total running time: 6hr 12min 19s\n",
            "Logical resource usage: 0/2 CPUs, 0/1 GPUs\n",
            "+-----------------------------------+\n",
            "| Trial name               status   |\n",
            "+-----------------------------------+\n",
            "| PPO_my_env_7b7f7_00000   PENDING  |\n",
            "+-----------------------------------+\n"
          ]
        },
        {
          "output_type": "stream",
          "name": "stderr",
          "text": [
            "2024-05-12 10:07:56,366\tWARNING insufficient_resources_manager.py:163 -- Ignore this message if the cluster is autoscaling. No trial is running and no new trial has been started within the last 60 seconds. This could be due to the cluster not having enough resources available. You asked for 5.0 CPUs and 1.0 GPUs per trial, but the cluster only has 2.0 CPUs and 1.0 GPUs available. Stop the tuning and adjust the required resources (e.g. via the `ScalingConfig` or `resources_per_trial`, or `num_workers` for rllib), or add more resources to your cluster.\n"
          ]
        },
        {
          "output_type": "stream",
          "name": "stdout",
          "text": [
            "Trial status: 1 PENDING\n",
            "Current time: 2024-05-12 10:08:22. Total running time: 6hr 12min 49s\n",
            "Logical resource usage: 0/2 CPUs, 0/1 GPUs\n",
            "+-----------------------------------+\n",
            "| Trial name               status   |\n",
            "+-----------------------------------+\n",
            "| PPO_my_env_7b7f7_00000   PENDING  |\n",
            "+-----------------------------------+\n",
            "Trial status: 1 PENDING\n",
            "Current time: 2024-05-12 10:08:52. Total running time: 6hr 13min 19s\n",
            "Logical resource usage: 0/2 CPUs, 0/1 GPUs\n",
            "+-----------------------------------+\n",
            "| Trial name               status   |\n",
            "+-----------------------------------+\n",
            "| PPO_my_env_7b7f7_00000   PENDING  |\n",
            "+-----------------------------------+\n"
          ]
        },
        {
          "output_type": "stream",
          "name": "stderr",
          "text": [
            "2024-05-12 10:08:56,457\tWARNING insufficient_resources_manager.py:163 -- Ignore this message if the cluster is autoscaling. No trial is running and no new trial has been started within the last 60 seconds. This could be due to the cluster not having enough resources available. You asked for 5.0 CPUs and 1.0 GPUs per trial, but the cluster only has 2.0 CPUs and 1.0 GPUs available. Stop the tuning and adjust the required resources (e.g. via the `ScalingConfig` or `resources_per_trial`, or `num_workers` for rllib), or add more resources to your cluster.\n"
          ]
        },
        {
          "output_type": "stream",
          "name": "stdout",
          "text": [
            "Trial status: 1 PENDING\n",
            "Current time: 2024-05-12 10:09:22. Total running time: 6hr 13min 49s\n",
            "Logical resource usage: 0/2 CPUs, 0/1 GPUs\n",
            "+-----------------------------------+\n",
            "| Trial name               status   |\n",
            "+-----------------------------------+\n",
            "| PPO_my_env_7b7f7_00000   PENDING  |\n",
            "+-----------------------------------+\n",
            "Trial status: 1 PENDING\n",
            "Current time: 2024-05-12 10:09:53. Total running time: 6hr 14min 19s\n",
            "Logical resource usage: 0/2 CPUs, 0/1 GPUs\n",
            "+-----------------------------------+\n",
            "| Trial name               status   |\n",
            "+-----------------------------------+\n",
            "| PPO_my_env_7b7f7_00000   PENDING  |\n",
            "+-----------------------------------+\n"
          ]
        },
        {
          "output_type": "stream",
          "name": "stderr",
          "text": [
            "2024-05-12 10:09:56,551\tWARNING insufficient_resources_manager.py:163 -- Ignore this message if the cluster is autoscaling. No trial is running and no new trial has been started within the last 60 seconds. This could be due to the cluster not having enough resources available. You asked for 5.0 CPUs and 1.0 GPUs per trial, but the cluster only has 2.0 CPUs and 1.0 GPUs available. Stop the tuning and adjust the required resources (e.g. via the `ScalingConfig` or `resources_per_trial`, or `num_workers` for rllib), or add more resources to your cluster.\n"
          ]
        },
        {
          "output_type": "stream",
          "name": "stdout",
          "text": [
            "Trial status: 1 PENDING\n",
            "Current time: 2024-05-12 10:10:23. Total running time: 6hr 14min 49s\n",
            "Logical resource usage: 0/2 CPUs, 0/1 GPUs\n",
            "+-----------------------------------+\n",
            "| Trial name               status   |\n",
            "+-----------------------------------+\n",
            "| PPO_my_env_7b7f7_00000   PENDING  |\n",
            "+-----------------------------------+\n",
            "Trial status: 1 PENDING\n",
            "Current time: 2024-05-12 10:10:53. Total running time: 6hr 15min 19s\n",
            "Logical resource usage: 0/2 CPUs, 0/1 GPUs\n",
            "+-----------------------------------+\n",
            "| Trial name               status   |\n",
            "+-----------------------------------+\n",
            "| PPO_my_env_7b7f7_00000   PENDING  |\n",
            "+-----------------------------------+\n"
          ]
        },
        {
          "output_type": "stream",
          "name": "stderr",
          "text": [
            "2024-05-12 10:10:56,644\tWARNING insufficient_resources_manager.py:163 -- Ignore this message if the cluster is autoscaling. No trial is running and no new trial has been started within the last 60 seconds. This could be due to the cluster not having enough resources available. You asked for 5.0 CPUs and 1.0 GPUs per trial, but the cluster only has 2.0 CPUs and 1.0 GPUs available. Stop the tuning and adjust the required resources (e.g. via the `ScalingConfig` or `resources_per_trial`, or `num_workers` for rllib), or add more resources to your cluster.\n"
          ]
        },
        {
          "output_type": "stream",
          "name": "stdout",
          "text": [
            "Trial status: 1 PENDING\n",
            "Current time: 2024-05-12 10:11:23. Total running time: 6hr 15min 49s\n",
            "Logical resource usage: 0/2 CPUs, 0/1 GPUs\n",
            "+-----------------------------------+\n",
            "| Trial name               status   |\n",
            "+-----------------------------------+\n",
            "| PPO_my_env_7b7f7_00000   PENDING  |\n",
            "+-----------------------------------+\n",
            "Trial status: 1 PENDING\n",
            "Current time: 2024-05-12 10:11:53. Total running time: 6hr 16min 19s\n",
            "Logical resource usage: 0/2 CPUs, 0/1 GPUs\n",
            "+-----------------------------------+\n",
            "| Trial name               status   |\n",
            "+-----------------------------------+\n",
            "| PPO_my_env_7b7f7_00000   PENDING  |\n",
            "+-----------------------------------+\n"
          ]
        },
        {
          "output_type": "stream",
          "name": "stderr",
          "text": [
            "2024-05-12 10:11:56,736\tWARNING insufficient_resources_manager.py:163 -- Ignore this message if the cluster is autoscaling. No trial is running and no new trial has been started within the last 60 seconds. This could be due to the cluster not having enough resources available. You asked for 5.0 CPUs and 1.0 GPUs per trial, but the cluster only has 2.0 CPUs and 1.0 GPUs available. Stop the tuning and adjust the required resources (e.g. via the `ScalingConfig` or `resources_per_trial`, or `num_workers` for rllib), or add more resources to your cluster.\n"
          ]
        },
        {
          "output_type": "stream",
          "name": "stdout",
          "text": [
            "Trial status: 1 PENDING\n",
            "Current time: 2024-05-12 10:12:23. Total running time: 6hr 16min 49s\n",
            "Logical resource usage: 0/2 CPUs, 0/1 GPUs\n",
            "+-----------------------------------+\n",
            "| Trial name               status   |\n",
            "+-----------------------------------+\n",
            "| PPO_my_env_7b7f7_00000   PENDING  |\n",
            "+-----------------------------------+\n",
            "Trial status: 1 PENDING\n",
            "Current time: 2024-05-12 10:12:53. Total running time: 6hr 17min 19s\n",
            "Logical resource usage: 0/2 CPUs, 0/1 GPUs\n",
            "+-----------------------------------+\n",
            "| Trial name               status   |\n",
            "+-----------------------------------+\n",
            "| PPO_my_env_7b7f7_00000   PENDING  |\n",
            "+-----------------------------------+\n"
          ]
        },
        {
          "output_type": "stream",
          "name": "stderr",
          "text": [
            "2024-05-12 10:12:56,806\tWARNING insufficient_resources_manager.py:163 -- Ignore this message if the cluster is autoscaling. No trial is running and no new trial has been started within the last 60 seconds. This could be due to the cluster not having enough resources available. You asked for 5.0 CPUs and 1.0 GPUs per trial, but the cluster only has 2.0 CPUs and 1.0 GPUs available. Stop the tuning and adjust the required resources (e.g. via the `ScalingConfig` or `resources_per_trial`, or `num_workers` for rllib), or add more resources to your cluster.\n"
          ]
        },
        {
          "output_type": "stream",
          "name": "stdout",
          "text": [
            "Trial status: 1 PENDING\n",
            "Current time: 2024-05-12 10:13:23. Total running time: 6hr 17min 50s\n",
            "Logical resource usage: 0/2 CPUs, 0/1 GPUs\n",
            "+-----------------------------------+\n",
            "| Trial name               status   |\n",
            "+-----------------------------------+\n",
            "| PPO_my_env_7b7f7_00000   PENDING  |\n",
            "+-----------------------------------+\n",
            "Trial status: 1 PENDING\n",
            "Current time: 2024-05-12 10:13:53. Total running time: 6hr 18min 20s\n",
            "Logical resource usage: 0/2 CPUs, 0/1 GPUs\n",
            "+-----------------------------------+\n",
            "| Trial name               status   |\n",
            "+-----------------------------------+\n",
            "| PPO_my_env_7b7f7_00000   PENDING  |\n",
            "+-----------------------------------+\n"
          ]
        },
        {
          "output_type": "stream",
          "name": "stderr",
          "text": [
            "2024-05-12 10:13:56,903\tWARNING insufficient_resources_manager.py:163 -- Ignore this message if the cluster is autoscaling. No trial is running and no new trial has been started within the last 60 seconds. This could be due to the cluster not having enough resources available. You asked for 5.0 CPUs and 1.0 GPUs per trial, but the cluster only has 2.0 CPUs and 1.0 GPUs available. Stop the tuning and adjust the required resources (e.g. via the `ScalingConfig` or `resources_per_trial`, or `num_workers` for rllib), or add more resources to your cluster.\n"
          ]
        },
        {
          "output_type": "stream",
          "name": "stdout",
          "text": [
            "Trial status: 1 PENDING\n",
            "Current time: 2024-05-12 10:14:23. Total running time: 6hr 18min 50s\n",
            "Logical resource usage: 0/2 CPUs, 0/1 GPUs\n",
            "+-----------------------------------+\n",
            "| Trial name               status   |\n",
            "+-----------------------------------+\n",
            "| PPO_my_env_7b7f7_00000   PENDING  |\n",
            "+-----------------------------------+\n",
            "Trial status: 1 PENDING\n",
            "Current time: 2024-05-12 10:14:53. Total running time: 6hr 19min 20s\n",
            "Logical resource usage: 0/2 CPUs, 0/1 GPUs\n",
            "+-----------------------------------+\n",
            "| Trial name               status   |\n",
            "+-----------------------------------+\n",
            "| PPO_my_env_7b7f7_00000   PENDING  |\n",
            "+-----------------------------------+\n"
          ]
        },
        {
          "output_type": "stream",
          "name": "stderr",
          "text": [
            "2024-05-12 10:14:56,906\tWARNING insufficient_resources_manager.py:163 -- Ignore this message if the cluster is autoscaling. No trial is running and no new trial has been started within the last 60 seconds. This could be due to the cluster not having enough resources available. You asked for 5.0 CPUs and 1.0 GPUs per trial, but the cluster only has 2.0 CPUs and 1.0 GPUs available. Stop the tuning and adjust the required resources (e.g. via the `ScalingConfig` or `resources_per_trial`, or `num_workers` for rllib), or add more resources to your cluster.\n"
          ]
        },
        {
          "output_type": "stream",
          "name": "stdout",
          "text": [
            "Trial status: 1 PENDING\n",
            "Current time: 2024-05-12 10:15:23. Total running time: 6hr 19min 50s\n",
            "Logical resource usage: 0/2 CPUs, 0/1 GPUs\n",
            "+-----------------------------------+\n",
            "| Trial name               status   |\n",
            "+-----------------------------------+\n",
            "| PPO_my_env_7b7f7_00000   PENDING  |\n",
            "+-----------------------------------+\n",
            "Trial status: 1 PENDING\n",
            "Current time: 2024-05-12 10:15:53. Total running time: 6hr 20min 20s\n",
            "Logical resource usage: 0/2 CPUs, 0/1 GPUs\n",
            "+-----------------------------------+\n",
            "| Trial name               status   |\n",
            "+-----------------------------------+\n",
            "| PPO_my_env_7b7f7_00000   PENDING  |\n",
            "+-----------------------------------+\n"
          ]
        },
        {
          "output_type": "stream",
          "name": "stderr",
          "text": [
            "2024-05-12 10:15:56,910\tWARNING insufficient_resources_manager.py:163 -- Ignore this message if the cluster is autoscaling. No trial is running and no new trial has been started within the last 60 seconds. This could be due to the cluster not having enough resources available. You asked for 5.0 CPUs and 1.0 GPUs per trial, but the cluster only has 2.0 CPUs and 1.0 GPUs available. Stop the tuning and adjust the required resources (e.g. via the `ScalingConfig` or `resources_per_trial`, or `num_workers` for rllib), or add more resources to your cluster.\n"
          ]
        },
        {
          "output_type": "stream",
          "name": "stdout",
          "text": [
            "Trial status: 1 PENDING\n",
            "Current time: 2024-05-12 10:16:23. Total running time: 6hr 20min 50s\n",
            "Logical resource usage: 0/2 CPUs, 0/1 GPUs\n",
            "+-----------------------------------+\n",
            "| Trial name               status   |\n",
            "+-----------------------------------+\n",
            "| PPO_my_env_7b7f7_00000   PENDING  |\n",
            "+-----------------------------------+\n",
            "Trial status: 1 PENDING\n",
            "Current time: 2024-05-12 10:16:53. Total running time: 6hr 21min 20s\n",
            "Logical resource usage: 0/2 CPUs, 0/1 GPUs\n",
            "+-----------------------------------+\n",
            "| Trial name               status   |\n",
            "+-----------------------------------+\n",
            "| PPO_my_env_7b7f7_00000   PENDING  |\n",
            "+-----------------------------------+\n"
          ]
        },
        {
          "output_type": "stream",
          "name": "stderr",
          "text": [
            "2024-05-12 10:16:56,925\tWARNING insufficient_resources_manager.py:163 -- Ignore this message if the cluster is autoscaling. No trial is running and no new trial has been started within the last 60 seconds. This could be due to the cluster not having enough resources available. You asked for 5.0 CPUs and 1.0 GPUs per trial, but the cluster only has 2.0 CPUs and 1.0 GPUs available. Stop the tuning and adjust the required resources (e.g. via the `ScalingConfig` or `resources_per_trial`, or `num_workers` for rllib), or add more resources to your cluster.\n"
          ]
        },
        {
          "output_type": "stream",
          "name": "stdout",
          "text": [
            "Trial status: 1 PENDING\n",
            "Current time: 2024-05-12 10:17:23. Total running time: 6hr 21min 50s\n",
            "Logical resource usage: 0/2 CPUs, 0/1 GPUs\n",
            "+-----------------------------------+\n",
            "| Trial name               status   |\n",
            "+-----------------------------------+\n",
            "| PPO_my_env_7b7f7_00000   PENDING  |\n",
            "+-----------------------------------+\n",
            "Trial status: 1 PENDING\n",
            "Current time: 2024-05-12 10:17:53. Total running time: 6hr 22min 20s\n",
            "Logical resource usage: 0/2 CPUs, 0/1 GPUs\n",
            "+-----------------------------------+\n",
            "| Trial name               status   |\n",
            "+-----------------------------------+\n",
            "| PPO_my_env_7b7f7_00000   PENDING  |\n",
            "+-----------------------------------+\n"
          ]
        },
        {
          "output_type": "stream",
          "name": "stderr",
          "text": [
            "2024-05-12 10:17:56,937\tWARNING insufficient_resources_manager.py:163 -- Ignore this message if the cluster is autoscaling. No trial is running and no new trial has been started within the last 60 seconds. This could be due to the cluster not having enough resources available. You asked for 5.0 CPUs and 1.0 GPUs per trial, but the cluster only has 2.0 CPUs and 1.0 GPUs available. Stop the tuning and adjust the required resources (e.g. via the `ScalingConfig` or `resources_per_trial`, or `num_workers` for rllib), or add more resources to your cluster.\n"
          ]
        },
        {
          "output_type": "stream",
          "name": "stdout",
          "text": [
            "Trial status: 1 PENDING\n",
            "Current time: 2024-05-12 10:18:23. Total running time: 6hr 22min 50s\n",
            "Logical resource usage: 0/2 CPUs, 0/1 GPUs\n",
            "+-----------------------------------+\n",
            "| Trial name               status   |\n",
            "+-----------------------------------+\n",
            "| PPO_my_env_7b7f7_00000   PENDING  |\n",
            "+-----------------------------------+\n"
          ]
        }
      ],
      "source": [
        "import ray\n",
        "from ray import tune\n",
        "from ray.tune.registry import register_env\n",
        "import gym\n",
        "import matplotlib.pyplot as plt\n",
        "\n",
        "# register the environment\n",
        "register_env(\"envUsing\", lambda config: gym.make(\"Breakout-v0\"))\n",
        "\n",
        "# define the training configuration\n",
        "config = {\n",
        "    \"env\": \"envUsing\",\n",
        "    \"num_workers\": 4,\n",
        "    \"framework\": \"torch\",\n",
        "    \"model\": {\n",
        "        \"conv_filters\": [[32, 4, 4], [64, 2, 2], [64, 2, 2]],\n",
        "    },\n",
        "    \"num_cpus_for_driver\": 1,\n",
        "    \"num_cpus_per_worker\": 1,\n",
        "    \"num_gpus\": 1,\n",
        "    \"max_episodes\": 100,\n",
        "}\n",
        "\n",
        "# initialize ray\n",
        "ray.shutdown()\n",
        "ray.init(num_gpus=1)\n",
        "\n",
        "# train the PPO\n",
        "analysis = tune.run(\"PPO\", config=config, stop={\"training_iteration\": 100})\n",
        "\n",
        "# statistics-  episode rewards and episode numbers\n",
        "episodeRewards = analysis.trial_dataframes[0][\"episode_reward_mean\"]\n",
        "episodeNumbers = range(len(episode_rewards))\n",
        "\n",
        "# plot rewards and episodes\n",
        "plt.figure(figsize=(10, 5))\n",
        "plt.plot(episodeNumbers, episodeRewards, label=\"Mean Episode Reward\")\n",
        "plt.xlabel(\"Episodes\")\n",
        "plt.ylabel(\"Mean Episode Reward\")\n",
        "plt.title(\"Training Progress\")\n",
        "plt.legend()\n",
        "plt.grid(True)\n",
        "plt.show()\n"
      ]
    }
  ],
  "metadata": {
    "colab": {
      "provenance": []
    },
    "kernelspec": {
      "display_name": "Python 3",
      "name": "python3"
    },
    "language_info": {
      "name": "python"
    }
  },
  "nbformat": 4,
  "nbformat_minor": 0
}
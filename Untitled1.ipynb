{
 "cells": [
  {
   "cell_type": "code",
   "execution_count": 1,
   "id": "9232e308",
   "metadata": {},
   "outputs": [
    {
     "name": "stderr",
     "output_type": "stream",
     "text": [
      "/Users/danielaamorim/anaconda3/lib/python3.11/site-packages/gym/utils/passive_env_checker.py:233: DeprecationWarning: `np.bool8` is a deprecated alias for `np.bool_`.  (Deprecated NumPy 1.24)\n",
      "  if not isinstance(terminated, (bool, np.bool8)):\n"
     ]
    }
   ],
   "source": [
    "import numpy as np\n",
    "import random\n",
    "import gym\n",
    "from gym import spaces\n",
    "\n",
    "env = gym.make(\"CartPole-v1\", render_mode=\"human\")\n",
    "\n",
    "observation = env.reset()\n",
    "\n",
    "done = False\n",
    "max_steps = 1000  # Set a maximum number of steps\n",
    "step_count = 0\n",
    "while not done and step_count < max_steps:\n",
    "    action = env.action_space.sample()  # Sample a random action\n",
    "    step_result = env.step(action)\n",
    "    observation, reward, done, info = step_result[:4]  # Extract first four elements\n",
    "    env.render()\n",
    "    step_count += 1\n",
    "\n",
    "env.close()  # Close the environment after the loop ends\n"
   ]
  },
  {
   "cell_type": "code",
   "execution_count": null,
   "id": "82e489a7",
   "metadata": {},
   "outputs": [],
   "source": []
  },
  {
   "cell_type": "code",
   "execution_count": null,
   "id": "65edec62",
   "metadata": {},
   "outputs": [],
   "source": []
  }
 ],
 "metadata": {
  "kernelspec": {
   "display_name": "Python 3 (ipykernel)",
   "language": "python",
   "name": "python3"
  },
  "language_info": {
   "codemirror_mode": {
    "name": "ipython",
    "version": 3
   },
   "file_extension": ".py",
   "mimetype": "text/x-python",
   "name": "python",
   "nbconvert_exporter": "python",
   "pygments_lexer": "ipython3",
   "version": "3.11.5"
  }
 },
 "nbformat": 4,
 "nbformat_minor": 5
}
